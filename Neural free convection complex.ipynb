{
 "cells": [
  {
   "cell_type": "code",
   "execution_count": 2,
   "metadata": {},
   "outputs": [],
   "source": [
    "using Printf\n",
    "using Statistics\n",
    "\n",
    "using Flux\n",
    "using DifferentialEquations\n",
    "using DiffEqFlux\n",
    "using LinearAlgebra\n",
    "using JLD2\n",
    "using Plots\n",
    "using Pkg\n",
    "\n",
    "using Flux: @epochs\n",
    "#ENV[\"GRDIR\"]=\"\"\n",
    "#Pkg.build(\"GR\")"
   ]
  },
  {
   "cell_type": "code",
   "execution_count": 3,
   "metadata": {},
   "outputs": [],
   "source": [
    "file = jldopen(\"../data/ocean_convection_profiles.jld2\");"
   ]
  },
  {
   "cell_type": "code",
   "execution_count": 4,
   "metadata": {},
   "outputs": [],
   "source": [
    "Is = keys(file[\"timeseries/t\"])\n",
    "\n",
    "Nz = file[\"grid/Nz\"]\n",
    "Nt = length(Is)\n",
    "\n",
    "t = zeros(Nt)\n",
    "T = T_data = zeros(Nt, Nz)\n",
    "\n",
    "for (i, I) in enumerate(Is)\n",
    "    t[i] = file[\"timeseries/t/$I\"]\n",
    "    T[i, :] = file[\"timeseries/T/$I\"][1, 1, 2:Nz+1]\n",
    "end"
   ]
  },
  {
   "cell_type": "code",
   "execution_count": 5,
   "metadata": {},
   "outputs": [
    {
     "data": {
      "text/plain": [
       "1×1×258 CartesianIndices{3,Tuple{Base.OneTo{Int64},Base.OneTo{Int64},Base.OneTo{Int64}}}:\n",
       "[:, :, 1] =\n",
       " CartesianIndex(1, 1, 1)\n",
       "\n",
       "[:, :, 2] =\n",
       " CartesianIndex(1, 1, 2)\n",
       "\n",
       "[:, :, 3] =\n",
       " CartesianIndex(1, 1, 3)\n",
       "\n",
       "...\n",
       "\n",
       "[:, :, 256] =\n",
       " CartesianIndex(1, 1, 256)\n",
       "\n",
       "[:, :, 257] =\n",
       " CartesianIndex(1, 1, 257)\n",
       "\n",
       "[:, :, 258] =\n",
       " CartesianIndex(1, 1, 258)"
      ]
     },
     "execution_count": 5,
     "metadata": {},
     "output_type": "execute_result"
    }
   ],
   "source": [
    "keys(file[\"timeseries/T/0\"])"
   ]
  },
  {
   "cell_type": "code",
   "execution_count": 6,
   "metadata": {},
   "outputs": [
    {
     "data": {
      "text/plain": [
       "256-element Array{Float64,1}:\n",
       " -99.8046875\n",
       " -99.4140625\n",
       " -99.0234375\n",
       " -98.6328125\n",
       " -98.2421875\n",
       " -97.8515625\n",
       " -97.4609375\n",
       " -97.0703125\n",
       " -96.6796875\n",
       " -96.2890625\n",
       " -95.8984375\n",
       " -95.5078125\n",
       " -95.1171875\n",
       "   ⋮        \n",
       "  -4.4921875\n",
       "  -4.1015625\n",
       "  -3.7109375\n",
       "  -3.3203125\n",
       "  -2.9296875\n",
       "  -2.5390625\n",
       "  -2.1484375\n",
       "  -1.7578125\n",
       "  -1.3671875\n",
       "  -0.9765625\n",
       "  -0.5859375\n",
       "  -0.1953125"
      ]
     },
     "execution_count": 6,
     "metadata": {},
     "output_type": "execute_result"
    }
   ],
   "source": [
    "z = file[\"grid/zC\"]"
   ]
  },
  {
   "cell_type": "code",
   "execution_count": 7,
   "metadata": {},
   "outputs": [
    {
     "data": {
      "text/html": [
       "<img src=\"tmp.gif\" />"
      ],
      "text/plain": [
       "Plots.AnimatedGif(\"C:\\\\Users\\\\daddyj\\\\Dropbox (MIT)\\\\6.S898\\\\6S898-climate-parameterization\\\\notebooks\\\\tmp.gif\")"
      ]
     },
     "metadata": {},
     "output_type": "display_data"
    },
    {
     "name": "stderr",
     "output_type": "stream",
     "text": [
      "┌ Info: Saved animation to \n",
      "│   fn = C:\\Users\\daddyj\\Dropbox (MIT)\\6.S898\\6S898-climate-parameterization\\notebooks\\tmp.gif\n",
      "└ @ Plots C:\\Users\\daddyj\\.julia\\packages\\Plots\\Iuc9S\\src\\animation.jl:95\n"
     ]
    }
   ],
   "source": [
    "\n",
    "anim = @gif for n=1:10:Nt\n",
    "    t_str = @sprintf(\"%.2f\", t[n] / 86400)\n",
    "    plot(T[n, :], z, linewidth=2,\n",
    "         xlim=(19, 20), ylim=(-100, 0), label=\"\",\n",
    "         xlabel=\"Temperature (C)\", ylabel=\"Depth (z)\",\n",
    "         title=\"Free convection: $t_str days\", show=false)\n",
    "end\n",
    "\n",
    "display(anim)"
   ]
  },
  {
   "cell_type": "code",
   "execution_count": 8,
   "metadata": {},
   "outputs": [
    {
     "data": {
      "text/plain": [
       "coarse_grain (generic function with 1 method)"
      ]
     },
     "execution_count": 8,
     "metadata": {},
     "output_type": "execute_result"
    }
   ],
   "source": [
    "function coarse_grain(data, resolution)\n",
    "    @assert length(data) % resolution == 0\n",
    "    s = length(data) / resolution\n",
    "    \n",
    "    data_cs = zeros(resolution)\n",
    "    for i in 1:resolution\n",
    "        t = data[Int((i-1)*s+1):Int(i*s)]\n",
    "        data_cs[i] = mean(t)\n",
    "    end\n",
    "    \n",
    "    return data_cs\n",
    "end"
   ]
  },
  {
   "cell_type": "code",
   "execution_count": 9,
   "metadata": {},
   "outputs": [],
   "source": [
    "coarse_resolution = cr = 32\n",
    "T_cs = zeros(Nt, coarse_resolution)\n",
    "for n=1:Nt\n",
    "    T_cs[n, :] = coarse_grain(T[n, :], coarse_resolution)\n",
    "end\n",
    "\n",
    "T_cs = transpose(T_cs) |> Array;\n",
    "\n",
    "w_cs = zeros(Nt, coarse_resolution)\n",
    "for n=1:Nt\n",
    "    w_cs[n,:] = coarse_grain(T[n,:],coarse_resolution)\n",
    "end\n",
    "w_cs = transpose(w_cs) |> Array;"
   ]
  },
  {
   "cell_type": "code",
   "execution_count": 10,
   "metadata": {},
   "outputs": [
    {
     "data": {
      "text/plain": [
       "0"
      ]
     },
     "execution_count": 10,
     "metadata": {},
     "output_type": "execute_result"
    }
   ],
   "source": [
    "cr_z = Nt/cr\n",
    "Dzᶠ = 1/cr_z * Tridiagonal(-ones(cr-1), ones(cr), zeros(cr-1))\n",
    "Dzᶜ = 1/cr_z * Tridiagonal(zeros(cr-1), -ones(cr), ones(cr-1))\n",
    "Dzᶠ[1, 1] = 0\n",
    "Dzᶜ[cr, cr] = 0"
   ]
  },
  {
   "cell_type": "code",
   "execution_count": 11,
   "metadata": {},
   "outputs": [
    {
     "data": {
      "text/plain": [
       "8352"
      ]
     },
     "execution_count": 11,
     "metadata": {},
     "output_type": "execute_result"
    }
   ],
   "source": [
    "ann = Chain(Dense(cr, 2cr, tanh),\n",
    "            Dense(2cr, 2cr, tanh),\n",
    "                Dense(2cr, cr))\n",
    "\n",
    "n_ann = 2*cr^2 + 2cr + 4*cr^2+2cr+2*cr^2+cr\n"
   ]
  },
  {
   "cell_type": "code",
   "execution_count": 26,
   "metadata": {},
   "outputs": [
    {
     "data": {
      "text/plain": [
       "(0.0, 3.993078849612772)"
      ]
     },
     "execution_count": 26,
     "metadata": {},
     "output_type": "execute_result"
    }
   ],
   "source": [
    "function dTdt_NN(du,u,p,t)\n",
    "    T = u\n",
    "    du = Dzᶜ*(DiffEqFlux.restructure(ann,p[1:n_ann])(u).*(Dzᶠ*u))\n",
    "end\n",
    "\n",
    "foretold(u::Array{Float64,1},p::Array{Float64,1},t) = Dzᶜ*(ann(u).*(Dzᶠ*u))\n",
    "\n",
    "p1 = Flux.data(DiffEqFlux.destructure(ann))\n",
    "T₀ = T_cs[:, 1]\n",
    "ps = Flux.params(p1,T₀)\n",
    "\n",
    "n_train = round(Int, Nt/2)\n",
    "t_train = t[1:n_train] ./ 86400\n",
    "tspan_train = (t_train[1], t_train[end])"
   ]
  },
  {
   "cell_type": "code",
   "execution_count": 27,
   "metadata": {},
   "outputs": [
    {
     "name": "stdout",
     "output_type": "stream",
     "text": [
      "Array{Float64,1}\n",
      "Array{Float32,1}\n",
      "Array{Float64,1}\n"
     ]
    }
   ],
   "source": [
    "println(typeof(T₀))\n",
    "println(typeof(p1))\n",
    "p2 = convert(Array{Float64},p1)\n",
    "println(typeof(p2))\n",
    "#foretold(T₀,p2,0.0)"
   ]
  },
  {
   "cell_type": "code",
   "execution_count": 57,
   "metadata": {},
   "outputs": [
    {
     "ename": "MethodError",
     "evalue": "MethodError: no method matching getindex(::Tracker.Params, ::UnitRange{Int64})\nClosest candidates are:\n  getindex(::Any, !Matched::AbstractTrees.ImplicitRootState) at C:\\Users\\daddyj\\.julia\\packages\\AbstractTrees\\z1wBY\\src\\AbstractTrees.jl:344",
     "output_type": "error",
     "traceback": [
      "MethodError: no method matching getindex(::Tracker.Params, ::UnitRange{Int64})\nClosest candidates are:\n  getindex(::Any, !Matched::AbstractTrees.ImplicitRootState) at C:\\Users\\daddyj\\.julia\\packages\\AbstractTrees\\z1wBY\\src\\AbstractTrees.jl:344",
      "",
      "Stacktrace:",
      " [1] dTdt_NN(::Array{Float64,1}, ::Array{Float64,1}, ::Tracker.Params, ::Float64) at .\\In[26]:3",
      " [2] ODEFunction at C:\\Users\\daddyj\\.julia\\packages\\DiffEqBase\\E16PL\\src\\diffeqfunction.jl:203 [inlined]",
      " [3] initialize!(::OrdinaryDiffEq.ODEIntegrator{Tsit5,true,Array{Float64,1},Float64,Tracker.Params,Float64,Float64,Float64,Array{Array{Float64,1},1},ODESolution{Float64,2,Array{Array{Float64,1},1},Nothing,Nothing,Array{Float64,1},Array{Array{Array{Float64,1},1},1},ODEProblem{Array{Float64,1},Tuple{Float64,Float64},true,Tracker.Params,ODEFunction{true,typeof(dTdt_NN),UniformScaling{Bool},Nothing,Nothing,Nothing,Nothing,Nothing,Nothing,Nothing,Nothing,Nothing},Base.Iterators.Pairs{Union{},Union{},Tuple{},NamedTuple{,Tuple{}}},DiffEqBase.StandardODEProblem},Tsit5,OrdinaryDiffEq.InterpolationData{ODEFunction{true,typeof(dTdt_NN),UniformScaling{Bool},Nothing,Nothing,Nothing,Nothing,Nothing,Nothing,Nothing,Nothing,Nothing},Array{Array{Float64,1},1},Array{Float64,1},Array{Array{Array{Float64,1},1},1},OrdinaryDiffEq.Tsit5Cache{Array{Float64,1},Array{Float64,1},Array{Float64,1},OrdinaryDiffEq.Tsit5ConstantCache{Float64,Float64}}},DiffEqBase.DEStats},ODEFunction{true,typeof(dTdt_NN),UniformScaling{Bool},Nothing,Nothing,Nothing,Nothing,Nothing,Nothing,Nothing,Nothing,Nothing},OrdinaryDiffEq.Tsit5Cache{Array{Float64,1},Array{Float64,1},Array{Float64,1},OrdinaryDiffEq.Tsit5ConstantCache{Float64,Float64}},OrdinaryDiffEq.DEOptions{Float64,Float64,Float64,Float64,typeof(DiffEqBase.ODE_DEFAULT_NORM),typeof(opnorm),CallbackSet{Tuple{},Tuple{}},typeof(DiffEqBase.ODE_DEFAULT_ISOUTOFDOMAIN),typeof(DiffEqBase.ODE_DEFAULT_PROG_MESSAGE),typeof(DiffEqBase.ODE_DEFAULT_UNSTABLE_CHECK),DataStructures.BinaryHeap{Float64,DataStructures.LessThan},DataStructures.BinaryHeap{Float64,DataStructures.LessThan},Nothing,Nothing,Int64,Array{Float64,1},Array{Float64,1},Array{Float64,1}},Array{Float64,1},Float64,Nothing}, ::OrdinaryDiffEq.Tsit5Cache{Array{Float64,1},Array{Float64,1},Array{Float64,1},OrdinaryDiffEq.Tsit5ConstantCache{Float64,Float64}}) at C:\\Users\\daddyj\\.julia\\packages\\OrdinaryDiffEq\\bZk7h\\src\\perform_step\\low_order_rk_perform_step.jl:623",
      " [4] #__init#329(::Array{Float64,1}, ::Array{Float64,1}, ::Array{Float64,1}, ::Nothing, ::Bool, ::Bool, ::Bool, ::Bool, ::Nothing, ::Bool, ::Bool, ::Float64, ::Float64, ::Float64, ::Bool, ::Bool, ::Rational{Int64}, ::Float64, ::Float64, ::Rational{Int64}, ::Int64, ::Int64, ::Int64, ::Rational{Int64}, ::Bool, ::Int64, ::Nothing, ::Nothing, ::Int64, ::typeof(DiffEqBase.ODE_DEFAULT_NORM), ::typeof(opnorm), ::typeof(DiffEqBase.ODE_DEFAULT_ISOUTOFDOMAIN), ::typeof(DiffEqBase.ODE_DEFAULT_UNSTABLE_CHECK), ::Bool, ::Bool, ::Bool, ::Bool, ::Bool, ::Bool, ::Bool, ::Int64, ::String, ::typeof(DiffEqBase.ODE_DEFAULT_PROG_MESSAGE), ::Nothing, ::Bool, ::Bool, ::Bool, ::Base.Iterators.Pairs{Union{},Union{},Tuple{},NamedTuple{,Tuple{}}}, ::typeof(DiffEqBase.__init), ::ODEProblem{Array{Float64,1},Tuple{Float64,Float64},true,Tracker.Params,ODEFunction{true,typeof(dTdt_NN),UniformScaling{Bool},Nothing,Nothing,Nothing,Nothing,Nothing,Nothing,Nothing,Nothing,Nothing},Base.Iterators.Pairs{Union{},Union{},Tuple{},NamedTuple{,Tuple{}}},DiffEqBase.StandardODEProblem}, ::Tsit5, ::Array{Array{Float64,1},1}, ::Array{Float64,1}, ::Array{Any,1}, ::Type{Val{true}}) at C:\\Users\\daddyj\\.julia\\packages\\OrdinaryDiffEq\\bZk7h\\src\\solve.jl:356",
      " [5] (::getfield(DiffEqBase, Symbol(\"#kw##__init\")))(::NamedTuple{(:abstol, :reltol),Tuple{Float64,Float64}}, ::typeof(DiffEqBase.__init), ::ODEProblem{Array{Float64,1},Tuple{Float64,Float64},true,Tracker.Params,ODEFunction{true,typeof(dTdt_NN),UniformScaling{Bool},Nothing,Nothing,Nothing,Nothing,Nothing,Nothing,Nothing,Nothing,Nothing},Base.Iterators.Pairs{Union{},Union{},Tuple{},NamedTuple{,Tuple{}}},DiffEqBase.StandardODEProblem}, ::Tsit5, ::Array{Array{Float64,1},1}, ::Array{Float64,1}, ::Array{Any,1}, ::Type{Val{true}}) at .\\none:0 (repeats 4 times)",
      " [6] #__solve#328 at C:\\Users\\daddyj\\.julia\\packages\\OrdinaryDiffEq\\bZk7h\\src\\solve.jl:4 [inlined]",
      " [7] #__solve at .\\none:0 [inlined]",
      " [8] #solve_call#442(::Base.Iterators.Pairs{Symbol,Float64,Tuple{Symbol,Symbol},NamedTuple{(:abstol, :reltol),Tuple{Float64,Float64}}}, ::typeof(DiffEqBase.solve_call), ::ODEProblem{Array{Float64,1},Tuple{Float64,Float64},true,Tracker.Params,ODEFunction{true,typeof(dTdt_NN),UniformScaling{Bool},Nothing,Nothing,Nothing,Nothing,Nothing,Nothing,Nothing,Nothing,Nothing},Base.Iterators.Pairs{Union{},Union{},Tuple{},NamedTuple{,Tuple{}}},DiffEqBase.StandardODEProblem}, ::Tsit5) at C:\\Users\\daddyj\\.julia\\packages\\DiffEqBase\\E16PL\\src\\solve.jl:40",
      " [9] #solve_call at .\\none:0 [inlined]",
      " [10] #solve#443 at C:\\Users\\daddyj\\.julia\\packages\\DiffEqBase\\E16PL\\src\\solve.jl:57 [inlined]",
      " [11] #solve at .\\none:0 [inlined]",
      " [12] #diffeq_adjoint#21 at C:\\Users\\daddyj\\.julia\\packages\\DiffEqFlux\\ivGnp\\src\\Flux\\layers.jl:54 [inlined]",
      " [13] (::getfield(DiffEqFlux, Symbol(\"#kw##diffeq_adjoint\")))(::NamedTuple{(:u0, :abstol, :reltol),Tuple{Array{Float64,1},Float64,Float64}}, ::typeof(diffeq_adjoint), ::Tracker.Params, ::ODEProblem{Array{Float64,1},Tuple{Float64,Float64},true,Array{Float32,1},ODEFunction{true,typeof(dTdt_NN),UniformScaling{Bool},Nothing,Nothing,Nothing,Nothing,Nothing,Nothing,Nothing,Nothing,Nothing},Base.Iterators.Pairs{Union{},Union{},Tuple{},NamedTuple{,Tuple{}}},DiffEqBase.StandardODEProblem}, ::Tsit5) at .\\none:0",
      " [14] top-level scope at In[57]:3"
     ]
    }
   ],
   "source": [
    "prob = ODEProblem(dTdt_NN,T₀,tspan_train,p1)\n",
    "prob2 = ODEProblem(f,T₀,tspan_train,p1)\n",
    "s = diffeq_adjoint(ps,prob,Tsit5(),u0=T₀,abstol=1e-8,reltol=1e-6)\n",
    "size(s)"
   ]
  },
  {
   "cell_type": "code",
   "execution_count": 52,
   "metadata": {},
   "outputs": [
    {
     "data": {
      "text/plain": [
       "predict_adjoint (generic function with 1 method)"
      ]
     },
     "execution_count": 52,
     "metadata": {},
     "output_type": "execute_result"
    }
   ],
   "source": [
    "function predict_adjoint()\n",
    "  diffeq_adjoint(ps,prob,Tsit5(),u0=T₀,saveat=t_train,reltol=1e-7, abstol=1e-9)\n",
    "end\n",
    "\n",
    "#neural_pde_prediction(T₀) = neural_ode(dTdt_NN, T₀, tspan_train, Tsit5(), saveat=t_train, reltol=1e-7, abstol=1e-9)"
   ]
  },
  {
   "cell_type": "code",
   "execution_count": 53,
   "metadata": {},
   "outputs": [
    {
     "data": {
      "text/plain": [
       "loss_function (generic function with 1 method)"
      ]
     },
     "execution_count": 53,
     "metadata": {},
     "output_type": "execute_result"
    }
   ],
   "source": [
    "opt = ADAM(0.1)\n",
    "\n",
    "data = Iterators.repeated(((T₀, T_cs[:, 1:n_train])), 1000)\n",
    "\n",
    "loss_function(T₀, T_da) = sum(abs2, T_da .- predict_adjoint())"
   ]
  },
  {
   "cell_type": "code",
   "execution_count": 54,
   "metadata": {},
   "outputs": [
    {
     "data": {
      "text/plain": [
       "32×576 Array{Float64,2}:\n",
       " 19.0156  19.0156  19.0156  19.0156  …  19.0141  19.0141  19.014   19.0141\n",
       " 19.0469  19.0469  19.0469  19.0469     19.0467  19.0469  19.0469  19.0469\n",
       " 19.0781  19.0781  19.0781  19.0781     19.0784  19.0781  19.0782  19.0783\n",
       " 19.1094  19.1094  19.1094  19.1094     19.1098  19.1099  19.1097  19.1095\n",
       " 19.1406  19.1406  19.1406  19.1406     19.1402  19.1402  19.1404  19.1404\n",
       " 19.1719  19.1719  19.1719  19.1719  …  19.1721  19.1721  19.1721  19.1722\n",
       " 19.2031  19.2031  19.2031  19.2031     19.2031  19.2032  19.2031  19.203 \n",
       " 19.2344  19.2344  19.2344  19.2344     19.2345  19.2344  19.2346  19.2347\n",
       " 19.2656  19.2656  19.2656  19.2656     19.2659  19.266   19.2657  19.2658\n",
       " 19.2969  19.2969  19.2969  19.2969     19.2971  19.2968  19.2969  19.2967\n",
       " 19.3281  19.3281  19.3281  19.3281  …  19.3281  19.3284  19.3284  19.3284\n",
       " 19.3594  19.3594  19.3594  19.3594     19.3596  19.3597  19.3597  19.3597\n",
       " 19.3906  19.3906  19.3906  19.3906     19.3908  19.3909  19.3907  19.3908\n",
       "  ⋮                                  ⋱                              ⋮     \n",
       " 19.6406  19.6406  19.6406  19.6406  …  19.5828  19.5825  19.5823  19.582 \n",
       " 19.6719  19.6719  19.6719  19.6719     19.5831  19.5828  19.5827  19.5824\n",
       " 19.7031  19.7031  19.7031  19.7031     19.5833  19.5831  19.5829  19.5826\n",
       " 19.7344  19.7344  19.7344  19.7344     19.5836  19.5833  19.583   19.5825\n",
       " 19.7656  19.7656  19.7656  19.7656     19.5837  19.5834  19.5829  19.5823\n",
       " 19.7969  19.7969  19.7969  19.7969  …  19.5837  19.5833  19.5827  19.5822\n",
       " 19.8281  19.8281  19.8281  19.8281     19.5837  19.5831  19.5826  19.582 \n",
       " 19.8594  19.8594  19.8594  19.8594     19.5834  19.5829  19.5825  19.5821\n",
       " 19.8906  19.8906  19.8906  19.8906     19.5829  19.5826  19.5823  19.582 \n",
       " 19.9219  19.9219  19.9219  19.9219     19.5826  19.5822  19.5819  19.5817\n",
       " 19.9531  19.9531  19.9531  19.9531  …  19.582   19.5816  19.5811  19.5807\n",
       " 19.9844  19.9797  19.975   19.9703     19.5784  19.5778  19.5773  19.5769"
      ]
     },
     "execution_count": 54,
     "metadata": {},
     "output_type": "execute_result"
    }
   ],
   "source": [
    "T_cs[:, 1:n_train]"
   ]
  },
  {
   "cell_type": "code",
   "execution_count": 55,
   "metadata": {},
   "outputs": [
    {
     "data": {
      "text/plain": [
       "#9 (generic function with 1 method)"
      ]
     },
     "execution_count": 55,
     "metadata": {},
     "output_type": "execute_result"
    }
   ],
   "source": [
    "# Callback function to observe training.\n",
    "cb = function ()\n",
    "    loss = loss_function(T₀, T_cs[:, 1:n_train]) # Not very generalizable...\n",
    "    println(\"loss = $loss\")\n",
    "    loss < 10 && Flux.stop()\n",
    "end"
   ]
  },
  {
   "cell_type": "code",
   "execution_count": 56,
   "metadata": {},
   "outputs": [
    {
     "ename": "MethodError",
     "evalue": "MethodError: no method matching getindex(::Tracker.Params, ::UnitRange{Int64})\nClosest candidates are:\n  getindex(::Any, !Matched::AbstractTrees.ImplicitRootState) at C:\\Users\\daddyj\\.julia\\packages\\AbstractTrees\\z1wBY\\src\\AbstractTrees.jl:344",
     "output_type": "error",
     "traceback": [
      "MethodError: no method matching getindex(::Tracker.Params, ::UnitRange{Int64})\nClosest candidates are:\n  getindex(::Any, !Matched::AbstractTrees.ImplicitRootState) at C:\\Users\\daddyj\\.julia\\packages\\AbstractTrees\\z1wBY\\src\\AbstractTrees.jl:344",
      "",
      "Stacktrace:",
      " [1] dTdt_NN(::Array{Float64,1}, ::Array{Float64,1}, ::Tracker.Params, ::Float64) at .\\In[26]:3",
      " [2] ODEFunction at C:\\Users\\daddyj\\.julia\\packages\\DiffEqBase\\E16PL\\src\\diffeqfunction.jl:203 [inlined]",
      " [3] initialize!(::OrdinaryDiffEq.ODEIntegrator{Tsit5,true,Array{Float64,1},Float64,Tracker.Params,Float64,Float64,Float64,Array{Array{Float64,1},1},ODESolution{Float64,2,Array{Array{Float64,1},1},Nothing,Nothing,Array{Float64,1},Array{Array{Array{Float64,1},1},1},ODEProblem{Array{Float64,1},Tuple{Float64,Float64},true,Tracker.Params,ODEFunction{true,typeof(dTdt_NN),UniformScaling{Bool},Nothing,Nothing,Nothing,Nothing,Nothing,Nothing,Nothing,Nothing,Nothing},Base.Iterators.Pairs{Union{},Union{},Tuple{},NamedTuple{,Tuple{}}},DiffEqBase.StandardODEProblem},Tsit5,OrdinaryDiffEq.InterpolationData{ODEFunction{true,typeof(dTdt_NN),UniformScaling{Bool},Nothing,Nothing,Nothing,Nothing,Nothing,Nothing,Nothing,Nothing,Nothing},Array{Array{Float64,1},1},Array{Float64,1},Array{Array{Array{Float64,1},1},1},OrdinaryDiffEq.Tsit5Cache{Array{Float64,1},Array{Float64,1},Array{Float64,1},OrdinaryDiffEq.Tsit5ConstantCache{Float64,Float64}}},DiffEqBase.DEStats},ODEFunction{true,typeof(dTdt_NN),UniformScaling{Bool},Nothing,Nothing,Nothing,Nothing,Nothing,Nothing,Nothing,Nothing,Nothing},OrdinaryDiffEq.Tsit5Cache{Array{Float64,1},Array{Float64,1},Array{Float64,1},OrdinaryDiffEq.Tsit5ConstantCache{Float64,Float64}},OrdinaryDiffEq.DEOptions{Float64,Float64,Float64,Float64,typeof(DiffEqBase.ODE_DEFAULT_NORM),typeof(opnorm),CallbackSet{Tuple{},Tuple{}},typeof(DiffEqBase.ODE_DEFAULT_ISOUTOFDOMAIN),typeof(DiffEqBase.ODE_DEFAULT_PROG_MESSAGE),typeof(DiffEqBase.ODE_DEFAULT_UNSTABLE_CHECK),DataStructures.BinaryHeap{Float64,DataStructures.LessThan},DataStructures.BinaryHeap{Float64,DataStructures.LessThan},Nothing,Nothing,Int64,Array{Float64,1},Array{Float64,1},Array{Float64,1}},Array{Float64,1},Float64,Nothing}, ::OrdinaryDiffEq.Tsit5Cache{Array{Float64,1},Array{Float64,1},Array{Float64,1},OrdinaryDiffEq.Tsit5ConstantCache{Float64,Float64}}) at C:\\Users\\daddyj\\.julia\\packages\\OrdinaryDiffEq\\bZk7h\\src\\perform_step\\low_order_rk_perform_step.jl:623",
      " [4] #__init#329(::Array{Float64,1}, ::Array{Float64,1}, ::Array{Float64,1}, ::Nothing, ::Bool, ::Bool, ::Bool, ::Bool, ::Nothing, ::Bool, ::Bool, ::Float64, ::Float64, ::Float64, ::Bool, ::Bool, ::Rational{Int64}, ::Float64, ::Float64, ::Rational{Int64}, ::Int64, ::Int64, ::Int64, ::Rational{Int64}, ::Bool, ::Int64, ::Nothing, ::Nothing, ::Int64, ::typeof(DiffEqBase.ODE_DEFAULT_NORM), ::typeof(opnorm), ::typeof(DiffEqBase.ODE_DEFAULT_ISOUTOFDOMAIN), ::typeof(DiffEqBase.ODE_DEFAULT_UNSTABLE_CHECK), ::Bool, ::Bool, ::Bool, ::Bool, ::Bool, ::Bool, ::Bool, ::Int64, ::String, ::typeof(DiffEqBase.ODE_DEFAULT_PROG_MESSAGE), ::Nothing, ::Bool, ::Bool, ::Bool, ::Base.Iterators.Pairs{Union{},Union{},Tuple{},NamedTuple{,Tuple{}}}, ::typeof(DiffEqBase.__init), ::ODEProblem{Array{Float64,1},Tuple{Float64,Float64},true,Tracker.Params,ODEFunction{true,typeof(dTdt_NN),UniformScaling{Bool},Nothing,Nothing,Nothing,Nothing,Nothing,Nothing,Nothing,Nothing,Nothing},Base.Iterators.Pairs{Union{},Union{},Tuple{},NamedTuple{,Tuple{}}},DiffEqBase.StandardODEProblem}, ::Tsit5, ::Array{Array{Float64,1},1}, ::Array{Float64,1}, ::Array{Any,1}, ::Type{Val{true}}) at C:\\Users\\daddyj\\.julia\\packages\\OrdinaryDiffEq\\bZk7h\\src\\solve.jl:356",
      " [5] (::getfield(DiffEqBase, Symbol(\"#kw##__init\")))(::NamedTuple{(:saveat, :reltol, :abstol),Tuple{Array{Float64,1},Float64,Float64}}, ::typeof(DiffEqBase.__init), ::ODEProblem{Array{Float64,1},Tuple{Float64,Float64},true,Tracker.Params,ODEFunction{true,typeof(dTdt_NN),UniformScaling{Bool},Nothing,Nothing,Nothing,Nothing,Nothing,Nothing,Nothing,Nothing,Nothing},Base.Iterators.Pairs{Union{},Union{},Tuple{},NamedTuple{,Tuple{}}},DiffEqBase.StandardODEProblem}, ::Tsit5, ::Array{Array{Float64,1},1}, ::Array{Float64,1}, ::Array{Any,1}, ::Type{Val{true}}) at .\\none:0 (repeats 5 times)",
      " [6] #__solve#328 at C:\\Users\\daddyj\\.julia\\packages\\OrdinaryDiffEq\\bZk7h\\src\\solve.jl:4 [inlined]",
      " [7] #__solve at .\\none:0 [inlined]",
      " [8] #solve_call#442(::Base.Iterators.Pairs{Symbol,Any,Tuple{Symbol,Symbol,Symbol},NamedTuple{(:saveat, :reltol, :abstol),Tuple{Array{Float64,1},Float64,Float64}}}, ::typeof(DiffEqBase.solve_call), ::ODEProblem{Array{Float64,1},Tuple{Float64,Float64},true,Tracker.Params,ODEFunction{true,typeof(dTdt_NN),UniformScaling{Bool},Nothing,Nothing,Nothing,Nothing,Nothing,Nothing,Nothing,Nothing,Nothing},Base.Iterators.Pairs{Union{},Union{},Tuple{},NamedTuple{,Tuple{}}},DiffEqBase.StandardODEProblem}, ::Tsit5) at C:\\Users\\daddyj\\.julia\\packages\\DiffEqBase\\E16PL\\src\\solve.jl:40",
      " [9] #solve_call at .\\none:0 [inlined]",
      " [10] #solve#443 at C:\\Users\\daddyj\\.julia\\packages\\DiffEqBase\\E16PL\\src\\solve.jl:57 [inlined]",
      " [11] #solve at .\\none:0 [inlined]",
      " [12] #diffeq_adjoint#21 at C:\\Users\\daddyj\\.julia\\packages\\DiffEqFlux\\ivGnp\\src\\Flux\\layers.jl:54 [inlined]",
      " [13] (::getfield(DiffEqFlux, Symbol(\"#kw##diffeq_adjoint\")))(::NamedTuple{(:u0, :saveat, :reltol, :abstol),Tuple{Array{Float64,1},Array{Float64,1},Float64,Float64}}, ::typeof(diffeq_adjoint), ::Tracker.Params, ::ODEProblem{Array{Float64,1},Tuple{Float64,Float64},true,Array{Float32,1},ODEFunction{true,typeof(dTdt_NN),UniformScaling{Bool},Nothing,Nothing,Nothing,Nothing,Nothing,Nothing,Nothing,Nothing,Nothing},Base.Iterators.Pairs{Union{},Union{},Tuple{},NamedTuple{,Tuple{}}},DiffEqBase.StandardODEProblem}, ::Tsit5) at .\\none:0",
      " [14] predict_adjoint() at .\\In[52]:2",
      " [15] loss_function(::Array{Float64,1}, ::Array{Float64,2}) at .\\In[53]:5",
      " [16] #15 at C:\\Users\\daddyj\\.julia\\packages\\Flux\\dkJUV\\src\\optimise\\train.jl:72 [inlined]",
      " [17] gradient_(::getfield(Flux.Optimise, Symbol(\"##15#21\")){typeof(loss_function),Tuple{Array{Float64,1},Array{Float64,2}}}, ::Tracker.Params) at C:\\Users\\daddyj\\.julia\\packages\\Tracker\\JhqMQ\\src\\back.jl:97",
      " [18] #gradient#24(::Bool, ::typeof(Tracker.gradient), ::Function, ::Tracker.Params) at C:\\Users\\daddyj\\.julia\\packages\\Tracker\\JhqMQ\\src\\back.jl:164",
      " [19] gradient at C:\\Users\\daddyj\\.julia\\packages\\Tracker\\JhqMQ\\src\\back.jl:164 [inlined]",
      " [20] macro expansion at C:\\Users\\daddyj\\.julia\\packages\\Flux\\dkJUV\\src\\optimise\\train.jl:71 [inlined]",
      " [21] macro expansion at C:\\Users\\daddyj\\.julia\\packages\\Juno\\oLB1d\\src\\progress.jl:134 [inlined]",
      " [22] #train!#12(::getfield(Main, Symbol(\"##9#10\")), ::typeof(Flux.Optimise.train!), ::Function, ::Tracker.Params, ::Base.Iterators.Take{Base.Iterators.Repeated{Tuple{Array{Float64,1},Array{Float64,2}}}}, ::ADAM) at C:\\Users\\daddyj\\.julia\\packages\\Flux\\dkJUV\\src\\optimise\\train.jl:69",
      " [23] (::getfield(Flux.Optimise, Symbol(\"#kw##train!\")))(::NamedTuple{(:cb,),Tuple{getfield(Main, Symbol(\"##9#10\"))}}, ::typeof(Flux.Optimise.train!), ::Function, ::Tracker.Params, ::Base.Iterators.Take{Base.Iterators.Repeated{Tuple{Array{Float64,1},Array{Float64,2}}}}, ::ADAM) at .\\none:0",
      " [24] top-level scope at In[56]:1"
     ]
    }
   ],
   "source": [
    "Flux.train!(loss_function, ps, data, opt, cb = cb)"
   ]
  },
  {
   "cell_type": "code",
   "execution_count": 23,
   "metadata": {},
   "outputs": [
    {
     "name": "stderr",
     "output_type": "stream",
     "text": [
      "┌ Info: Saved animation to \n",
      "│   fn = C:\\Users\\daddyj\\Dropbox (MIT)\\6.S898\\6S898-climate-parameterization\\notebooks\\tmp.gif\n",
      "└ @ Plots C:\\Users\\daddyj\\.julia\\packages\\Plots\\Iuc9S\\src\\animation.jl:95\n"
     ]
    },
    {
     "data": {
      "text/html": [
       "<img src=\"tmp.gif\" />"
      ],
      "text/plain": [
       "Plots.AnimatedGif(\"C:\\\\Users\\\\daddyj\\\\Dropbox (MIT)\\\\6.S898\\\\6S898-climate-parameterization\\\\notebooks\\\\tmp.gif\")"
      ]
     },
     "execution_count": 23,
     "metadata": {},
     "output_type": "execute_result"
    }
   ],
   "source": [
    "tspan = (t[1], t[end]) ./ 86400\n",
    "nn_pred = neural_ode(dTdt_NN, T₀, tspan, Tsit5(), saveat=t ./86400, reltol=1e-7, abstol=1e-9) |> Flux.data\n",
    "z_cs = coarse_grain(z, cr)\n",
    "\n",
    "anim = @gif for n=1:10:Nt\n",
    "    t_str = @sprintf(\"%.2f\", t[n] / 86400)\n",
    "    plot(T_cs[:, n], z_cs, linewidth=2,\n",
    "         xlim=(19, 20), ylim=(-100, 0), label=\"Data\",\n",
    "         xlabel=\"Temperature (C)\", ylabel=\"Depth (z)\",\n",
    "         title=\"Free convection: $t_str days\",\n",
    "         legend=:bottomright, show=false)\n",
    "    if n <= n_train\n",
    "        plot!(nn_pred[:, n], z_cs, linewidth=2, label=\"Neural ODE (train)\", show=false)\n",
    "    else\n",
    "        plot!(nn_pred[:, n], z_cs, linewidth=2, linestyle=:dash, label=\"Neural ODE (test)\", show=false)\n",
    "    end\n",
    "end"
   ]
  },
  {
   "cell_type": "code",
   "execution_count": null,
   "metadata": {},
   "outputs": [],
   "source": []
  }
 ],
 "metadata": {
  "kernelspec": {
   "display_name": "Julia 1.2.0",
   "language": "julia",
   "name": "julia-1.2"
  },
  "language_info": {
   "file_extension": ".jl",
   "mimetype": "application/julia",
   "name": "julia",
   "version": "1.2.0"
  }
 },
 "nbformat": 4,
 "nbformat_minor": 4
}
