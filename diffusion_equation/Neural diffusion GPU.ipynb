{
 "cells": [
  {
   "cell_type": "markdown",
   "metadata": {},
   "source": [
    "# Learning diffusion with a neural partial differential equation"
   ]
  },
  {
   "cell_type": "code",
   "execution_count": 2,
   "metadata": {},
   "outputs": [],
   "source": [
    "using LinearAlgebra\n",
    "\n",
    "using DifferentialEquations\n",
    "using Flux\n",
    "using DiffEqFlux\n",
    "using Plots\n",
    "\n",
    "using CuArrays"
   ]
  },
  {
   "cell_type": "markdown",
   "metadata": {},
   "source": [
    "We want to solve the heat (or diffusion) equation\n",
    "\n",
    "$$\\frac{\\partial u}{\\partial t} = \\kappa \\frac{\\partial^2 u}{\\partial x^2}, \\quad x \\in \\left[-\\frac{1}{2}, \\frac{1}{2}\\right], \\quad x\\left(-\\frac{1}{2}\\right) = x\\left(\\frac{1}{2}\\right)$$\n",
    "\n",
    "Let's go with $N = 16$ grid points and $\\kappa = 1$."
   ]
  },
  {
   "cell_type": "code",
   "execution_count": 3,
   "metadata": {},
   "outputs": [
    {
     "data": {
      "text/plain": [
       "1"
      ]
     },
     "execution_count": 3,
     "metadata": {},
     "output_type": "execute_result"
    }
   ],
   "source": [
    "const N = 16\n",
    "const L = 1\n",
    "const Δx = L / N\n",
    "const κ = 1"
   ]
  },
  {
   "cell_type": "markdown",
   "metadata": {},
   "source": [
    "Discretizing the spatial derivative with a second-order centered finite-difference\n",
    "\n",
    "$$\\frac{\\partial^2 u}{\\partial x^2} \\approx \\frac{u_{i-1} - 2u_i + u_{i+1}}{\\Delta x^2}$$"
   ]
  },
  {
   "cell_type": "code",
   "execution_count": 6,
   "metadata": {},
   "outputs": [
    {
     "data": {
      "text/plain": [
       "diffusion (generic function with 1 method)"
      ]
     },
     "execution_count": 6,
     "metadata": {},
     "output_type": "execute_result"
    }
   ],
   "source": [
    " d = -2 * ones(N)\n",
    "sd = ones(N-1)\n",
    "A = Array(Tridiagonal(sd, d, sd))\n",
    "A[1, N] = 1\n",
    "A[N, 1] = 1\n",
    "A_diffusion = (κ/Δx^2) .* A |> gpu\n",
    "\n",
    "function diffusion(∂u∂t, u, p, t)\n",
    "    ∂u∂t .= A_diffusion * u\n",
    "    return \n",
    "end"
   ]
  },
  {
   "cell_type": "code",
   "execution_count": 16,
   "metadata": {},
   "outputs": [
    {
     "data": {
      "text/plain": [
       "(0.0, 0.1)"
      ]
     },
     "execution_count": 16,
     "metadata": {},
     "output_type": "execute_result"
    }
   ],
   "source": [
    "x = range(-L/2, L/2, length=N)\n",
    "u₀ = (@. exp(-100*x^2)) |> gpu\n",
    "tspan = (0.0, 0.1)"
   ]
  },
  {
   "cell_type": "code",
   "execution_count": 17,
   "metadata": {},
   "outputs": [
    {
     "data": {
      "text/plain": [
       "0.0:0.0034482758620689655:0.1"
      ]
     },
     "execution_count": 17,
     "metadata": {},
     "output_type": "execute_result"
    }
   ],
   "source": [
    "datasize = 30\n",
    "t = range(tspan[1], tspan[2], length=datasize)"
   ]
  },
  {
   "cell_type": "code",
   "execution_count": 43,
   "metadata": {},
   "outputs": [
    {
     "data": {
      "text/plain": [
       "16×30 CuArray{Float32,2}:\n",
       " 1.38879e-11  0.000160344  0.00215047  …  0.158278  0.159276  0.160143\n",
       " 6.99705e-9   0.00087666   0.00636828     0.159394  0.16024   0.160985\n",
       " 1.44928e-6   0.00462848   0.0199546      0.161718  0.162283  0.162772\n",
       " 0.00012341   0.0203959    0.0546109      0.164542  0.164741  0.16492 \n",
       " 0.00432024   0.0726686    0.126828       0.167793  0.167594  0.167415\n",
       " 0.0621765    0.201762     0.245097    …  0.170616  0.170051  0.169562\n",
       " 0.367879     0.417262     0.386382       0.172943  0.172096  0.171351\n",
       " 0.894839     0.611587     0.48795        0.174057  0.173059  0.172192\n",
       " 0.894839     0.611587     0.48795        0.174151  0.173152  0.172274\n",
       " 0.367879     0.417262     0.386382       0.172848  0.172003  0.171269\n",
       " 0.0621765    0.201762     0.245097    …  0.17071   0.170144  0.169645\n",
       " 0.00432024   0.0726686    0.126828       0.167699  0.167501  0.167333\n",
       " 0.00012341   0.0203959    0.0546109      0.164635  0.164834  0.165002\n",
       " 1.44928e-6   0.00462848   0.0199546      0.161626  0.162191  0.162691\n",
       " 6.99705e-9   0.00087666   0.00636828     0.159486  0.160332  0.161066\n",
       " 1.38879e-11  0.000160344  0.00215046  …  0.158186  0.159184  0.160061"
      ]
     },
     "execution_count": 43,
     "metadata": {},
     "output_type": "execute_result"
    }
   ],
   "source": [
    "prob = ODEProblem(diffusion, u₀, tspan)\n",
    "ode_data = solve(prob, Tsit5(), saveat=t) |> gpu"
   ]
  },
  {
   "cell_type": "code",
   "execution_count": 28,
   "metadata": {},
   "outputs": [
    {
     "data": {
      "text/plain": [
       "Chain(Dense(16, 100, tanh), Dense(100, 16))"
      ]
     },
     "execution_count": 28,
     "metadata": {},
     "output_type": "execute_result"
    }
   ],
   "source": [
    "dudt = Chain(Dense(N, 100, tanh),\n",
    "             Dense(100, N)) |> gpu"
   ]
  },
  {
   "cell_type": "code",
   "execution_count": 29,
   "metadata": {},
   "outputs": [
    {
     "data": {
      "text/plain": [
       "#7 (generic function with 1 method)"
      ]
     },
     "execution_count": 29,
     "metadata": {},
     "output_type": "execute_result"
    }
   ],
   "source": [
    "ps = Flux.params(dudt)\n",
    "n_ode = x -> neural_ode(dudt, x, tspan, Tsit5(), saveat=t, reltol=1e-7, abstol=1e-9)"
   ]
  },
  {
   "cell_type": "code",
   "execution_count": 30,
   "metadata": {},
   "outputs": [
    {
     "data": {
      "text/plain": [
       "predict_n_ode (generic function with 1 method)"
      ]
     },
     "execution_count": 30,
     "metadata": {},
     "output_type": "execute_result"
    }
   ],
   "source": [
    "pred = n_ode(u₀)\n",
    "\n",
    "function predict_n_ode()\n",
    "  n_ode(u₀)\n",
    "end"
   ]
  },
  {
   "cell_type": "code",
   "execution_count": 31,
   "metadata": {},
   "outputs": [
    {
     "data": {
      "text/plain": [
       "loss_n_ode (generic function with 1 method)"
      ]
     },
     "execution_count": 31,
     "metadata": {},
     "output_type": "execute_result"
    }
   ],
   "source": [
    "loss_n_ode() = sum(abs2, ode_data .- predict_n_ode())"
   ]
  },
  {
   "cell_type": "code",
   "execution_count": 32,
   "metadata": {},
   "outputs": [
    {
     "data": {
      "text/plain": [
       "ADAM(0.1, (0.9, 0.999), IdDict{Any,Any}())"
      ]
     },
     "execution_count": 32,
     "metadata": {},
     "output_type": "execute_result"
    }
   ],
   "source": [
    "data = Iterators.repeated((), 1000)\n",
    "opt = ADAM(0.1)"
   ]
  },
  {
   "cell_type": "code",
   "execution_count": 46,
   "metadata": {},
   "outputs": [
    {
     "data": {
      "text/plain": [
       "#15 (generic function with 1 method)"
      ]
     },
     "execution_count": 46,
     "metadata": {},
     "output_type": "execute_result"
    }
   ],
   "source": [
    "cb = function ()  # callback function to observe training\n",
    "  loss = loss_n_ode()\n",
    "  println(\"loss = $loss\")\n",
    "  loss < 0.3 && Flux.stop()\n",
    "end"
   ]
  },
  {
   "cell_type": "code",
   "execution_count": 47,
   "metadata": {},
   "outputs": [
    {
     "name": "stdout",
     "output_type": "stream",
     "text": [
      "loss = 0.46809602f0 (tracked)\n",
      "loss = 0.47622025f0 (tracked)\n",
      "loss = 0.47136202f0 (tracked)\n",
      "loss = 0.48475534f0 (tracked)\n",
      "loss = 0.5023926f0 (tracked)\n",
      "loss = 0.47430715f0 (tracked)\n",
      "loss = 0.4032059f0 (tracked)\n",
      "loss = 0.3536617f0 (tracked)\n",
      "loss = 0.36590967f0 (tracked)\n",
      "loss = 0.39769518f0 (tracked)\n",
      "loss = 0.3960112f0 (tracked)\n",
      "loss = 0.3728591f0 (tracked)\n",
      "loss = 0.35423586f0 (tracked)\n",
      "loss = 0.33518186f0 (tracked)\n",
      "loss = 0.31479177f0 (tracked)\n",
      "loss = 0.3118969f0 (tracked)\n",
      "loss = 0.33061108f0 (tracked)\n",
      "loss = 0.34539747f0 (tracked)\n",
      "loss = 0.3359766f0 (tracked)\n",
      "loss = 0.31420934f0 (tracked)\n",
      "loss = 0.302181f0 (tracked)\n",
      "loss = 0.3034338f0 (tracked)\n",
      "loss = 0.3077032f0 (tracked)\n",
      "loss = 0.3095644f0 (tracked)\n",
      "loss = 0.30998874f0 (tracked)\n",
      "loss = 0.3069221f0 (tracked)\n",
      "loss = 0.29778913f0 (tracked)\n"
     ]
    }
   ],
   "source": [
    "Flux.train!(loss_n_ode, ps, data, opt, cb = cb)"
   ]
  },
  {
   "cell_type": "code",
   "execution_count": 48,
   "metadata": {},
   "outputs": [
    {
     "name": "stderr",
     "output_type": "stream",
     "text": [
      "┌ Info: Saved animation to \n",
      "│   fn = /home/gridsan/aramadhan/6S898-climate-parameterization/notebooks/tmp.gif\n",
      "└ @ Plots /home/gridsan/aramadhan/.julia/packages/Plots/Iuc9S/src/animation.jl:95\n"
     ]
    },
    {
     "data": {
      "text/html": [
       "<img src=\"tmp.gif\" />"
      ],
      "text/plain": [
       "Plots.AnimatedGif(\"/home/gridsan/aramadhan/6S898-climate-parameterization/notebooks/tmp.gif\")"
      ]
     },
     "execution_count": 48,
     "metadata": {},
     "output_type": "execute_result"
    }
   ],
   "source": [
    "nn_pred = Flux.data(n_ode(u₀))\n",
    "\n",
    "@gif for n=1:datasize\n",
    "    plot(x, ode_data[:, n], linewidth=2, ylim=(0, 1), label=\"data\", show=false)\n",
    "    plot!(x, nn_pred[:, n], linewidth=2, ylim=(0, 1), label=\"Neural ODE\", show=false)\n",
    "end"
   ]
  },
  {
   "cell_type": "code",
   "execution_count": 49,
   "metadata": {},
   "outputs": [
    {
     "name": "stderr",
     "output_type": "stream",
     "text": [
      "┌ Info: Saved animation to \n",
      "│   fn = /home/gridsan/aramadhan/6S898-climate-parameterization/notebooks/tmp.gif\n",
      "└ @ Plots /home/gridsan/aramadhan/.julia/packages/Plots/Iuc9S/src/animation.jl:95\n"
     ]
    },
    {
     "data": {
      "text/html": [
       "<img src=\"tmp.gif\" />"
      ],
      "text/plain": [
       "Plots.AnimatedGif(\"/home/gridsan/aramadhan/6S898-climate-parameterization/notebooks/tmp.gif\")"
      ]
     },
     "execution_count": 49,
     "metadata": {},
     "output_type": "execute_result"
    }
   ],
   "source": [
    "u₀_cos = (@. 1 + cos(2π * x)) |> gpu\n",
    "\n",
    "prob = ODEProblem(diffusion, u₀_cos, tspan)\n",
    "ode_data = Array(solve(prob, Tsit5(), saveat=t))\n",
    "\n",
    "nn_pred = Flux.data(n_ode(u₀_cos))\n",
    "@gif for n=1:datasize\n",
    "    plot(x, ode_data[:, n], linewidth=2, ylim=(0, 2), label=\"data\", show=false)\n",
    "    plot!(x, nn_pred[:, n], linewidth=2, ylim=(0, 2), label=\"Neural ODE\", show=false)\n",
    "end"
   ]
  },
  {
   "cell_type": "code",
   "execution_count": null,
   "metadata": {},
   "outputs": [],
   "source": []
  }
 ],
 "metadata": {
  "kernelspec": {
   "display_name": "Julia latest",
   "language": "julia",
   "name": "julia-latest"
  },
  "language_info": {
   "file_extension": ".jl",
   "mimetype": "application/julia",
   "name": "julia",
   "version": "1.1.1"
  }
 },
 "nbformat": 4,
 "nbformat_minor": 2
}
