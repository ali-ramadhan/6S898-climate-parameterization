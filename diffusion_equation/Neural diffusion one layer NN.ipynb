{
 "cells": [
  {
   "cell_type": "markdown",
   "metadata": {},
   "source": [
    "# Learning diffusion with a neural partial differential equation"
   ]
  },
  {
   "cell_type": "code",
   "execution_count": 1,
   "metadata": {},
   "outputs": [],
   "source": [
    "using LinearAlgebra\n",
    "\n",
    "using DifferentialEquations\n",
    "using Flux\n",
    "using DiffEqFlux\n",
    "\n",
    "using Plots\n",
    "default(fmt = :png)"
   ]
  },
  {
   "cell_type": "markdown",
   "metadata": {},
   "source": [
    "We want to solve the heat (or diffusion) equation\n",
    "\n",
    "$$\\frac{\\partial u}{\\partial t} = \\kappa \\frac{\\partial^2 u}{\\partial x^2}, \\quad x \\in \\left[-\\frac{1}{2}, \\frac{1}{2}\\right], \\quad x\\left(-\\frac{1}{2}\\right) = x\\left(\\frac{1}{2}\\right)$$\n",
    "\n",
    "Let's go with $N = 16$ grid points and $\\kappa = 1$."
   ]
  },
  {
   "cell_type": "code",
   "execution_count": 2,
   "metadata": {},
   "outputs": [
    {
     "data": {
      "text/plain": [
       "-0.5:0.06666666666666667:0.5"
      ]
     },
     "execution_count": 2,
     "metadata": {},
     "output_type": "execute_result"
    }
   ],
   "source": [
    "const N = 16\n",
    "const L = 1\n",
    "const Δx = L / N\n",
    "const κ = 1\n",
    "\n",
    "x = range(-L/2, L/2, length=N)"
   ]
  },
  {
   "cell_type": "markdown",
   "metadata": {},
   "source": [
    "Discretizing the spatial derivative with a second-order centered finite-difference\n",
    "\n",
    "$$\\frac{\\partial u_i}{\\partial t} = \\frac{\\partial^2 u}{\\partial x^2} \\approx \\kappa \\frac{u_{i-1} - 2u_i + u_{i+1}}{\\Delta x^2}$$\n",
    "\n",
    "we get a system of $N$ coupled ODEs which can be described as\n",
    "\n",
    "$$ \\frac{\\partial u}{\\partial t} = Au $$\n",
    "\n",
    "where $A$ is a matrix."
   ]
  },
  {
   "cell_type": "code",
   "execution_count": 3,
   "metadata": {},
   "outputs": [
    {
     "data": {
      "text/plain": [
       "diffusion (generic function with 1 method)"
      ]
     },
     "execution_count": 3,
     "metadata": {},
     "output_type": "execute_result"
    }
   ],
   "source": [
    " d = -2 * ones(N) # Diagonal\n",
    "sd = ones(N-1)    # Sub-diagonals\n",
    "A = Array(Tridiagonal(sd, d, sd))\n",
    "\n",
    "# Impose periodic boundary conditions\n",
    "A[1, N] = 1\n",
    "A[N, 1] = 1\n",
    "\n",
    "# Dimensionalize A\n",
    "A_diffusion = (κ/Δx^2) .* A\n",
    "\n",
    "function diffusion(∂u∂t, u, p, t)\n",
    "    ∂u∂t .= A_diffusion * u\n",
    "    return \n",
    "end"
   ]
  },
  {
   "cell_type": "markdown",
   "metadata": {},
   "source": [
    "Let's generate an initial condition\n",
    "\n",
    "$$ u_0(x) = e^{-100x^2} $$"
   ]
  },
  {
   "cell_type": "code",
   "execution_count": 30,
   "metadata": {},
   "outputs": [
    {
     "data": {
      "image/png": "[encoded data removed]"
     },
     "execution_count": 30,
     "metadata": {},
     "output_type": "execute_result"
    }
   ],
   "source": [
    "u₀ = @. exp(-100*x^2)\n",
    "\n",
    "plot(x, u₀, linewidth=2, label=\"\")"
   ]
  },
  {
   "cell_type": "markdown",
   "metadata": {},
   "source": [
    "We'll pick 30 equally spaced times between $t = 0$ and $t = 0.1$ to save the state of the PDE."
   ]
  },
  {
   "cell_type": "code",
   "execution_count": 31,
   "metadata": {},
   "outputs": [
    {
     "data": {
      "text/plain": [
       "0.0:0.0034482758620689655:0.1"
      ]
     },
     "execution_count": 31,
     "metadata": {},
     "output_type": "execute_result"
    }
   ],
   "source": [
    "tspan = (0.0, 0.1)\n",
    "datasize = 30\n",
    "t = range(tspan[1], tspan[2], length=datasize)"
   ]
  },
  {
   "cell_type": "markdown",
   "metadata": {},
   "source": [
    "Set up and solve the PDE."
   ]
  },
  {
   "cell_type": "code",
   "execution_count": 32,
   "metadata": {},
   "outputs": [
    {
     "data": {
      "text/plain": [
       "16×30 Array{Float64,2}:\n",
       " 1.38879e-11  0.000160344  0.00215047  …  0.158223  0.159223  0.160099\n",
       " 6.99705e-9   0.00087666   0.00636828     0.159464  0.160304  0.161033\n",
       " 1.44928e-6   0.00462848   0.0199546      0.161636  0.16221   0.16272 \n",
       " 0.00012341   0.020396     0.0546109      0.164632  0.16482   0.164975\n",
       " 0.00432024   0.0726686    0.126828       0.167703  0.167515  0.16736 \n",
       " 0.0621765    0.201762     0.245097    …  0.170699  0.170125  0.169615\n",
       " 0.367879     0.417262     0.386382       0.172871  0.172031  0.171302\n",
       " 0.894839     0.611587     0.48795        0.174112  0.173112  0.172236\n",
       " 0.894839     0.611587     0.48795        0.174112  0.173112  0.172236\n",
       " 0.367879     0.417262     0.386382       0.172871  0.172031  0.171302\n",
       " 0.0621765    0.201762     0.245097    …  0.170699  0.170125  0.169615\n",
       " 0.00432024   0.0726686    0.126828       0.167703  0.167515  0.16736 \n",
       " 0.00012341   0.020396     0.0546109      0.164632  0.16482   0.164975\n",
       " 1.44928e-6   0.00462848   0.0199546      0.161636  0.16221   0.16272 \n",
       " 6.99705e-9   0.00087666   0.00636828     0.159464  0.160304  0.161033\n",
       " 1.38879e-11  0.000160344  0.00215047  …  0.158223  0.159223  0.160099"
      ]
     },
     "execution_count": 32,
     "metadata": {},
     "output_type": "execute_result"
    }
   ],
   "source": [
    "prob = ODEProblem(diffusion, u₀, tspan)\n",
    "ode_data = Array(solve(prob, Tsit5(), saveat=t))"
   ]
  },
  {
   "cell_type": "markdown",
   "metadata": {},
   "source": [
    "Let's plot the solution"
   ]
  },
  {
   "cell_type": "code",
   "execution_count": 33,
   "metadata": {},
   "outputs": [
    {
     "name": "stderr",
     "output_type": "stream",
     "text": [
      "┌ Info: Saved animation to \n",
      "│   fn = /home/alir/6S898-climate-parameterization/notebooks/tmp.gif\n",
      "└ @ Plots /home/alir/.julia/packages/Plots/Iuc9S/src/animation.jl:95\n"
     ]
    },
    {
     "data": {
      "text/html": [
       "<img src=\"tmp.gif\" />"
      ],
      "text/plain": [
       "Plots.AnimatedGif(\"/home/alir/6S898-climate-parameterization/notebooks/tmp.gif\")"
      ]
     },
     "execution_count": 33,
     "metadata": {},
     "output_type": "execute_result"
    }
   ],
   "source": [
    "@gif for n=1:datasize\n",
    "    plot(x, ode_data[:, n], linewidth=2, ylim=(0, 1), label=\"\", show=false)\n",
    "end"
   ]
  },
  {
   "cell_type": "markdown",
   "metadata": {},
   "source": [
    "Now let's create a two-layer neural network to see if we can learn diffusion"
   ]
  },
  {
   "cell_type": "code",
   "execution_count": 34,
   "metadata": {},
   "outputs": [
    {
     "data": {
      "text/plain": [
       "Chain(Dense(16, 16))"
      ]
     },
     "execution_count": 34,
     "metadata": {},
     "output_type": "execute_result"
    }
   ],
   "source": [
    "dudt_NN = Chain(Dense(N, N))"
   ]
  },
  {
   "cell_type": "markdown",
   "metadata": {},
   "source": [
    "Set up a neural PDE that solves the system of ODEs described by\n",
    "\n",
    "$$ \\frac{\\partial u}{\\partial t} = \\text{NN}(u) $$"
   ]
  },
  {
   "cell_type": "code",
   "execution_count": 35,
   "metadata": {},
   "outputs": [
    {
     "data": {
      "text/plain": [
       "neural_pde_prediction (generic function with 1 method)"
      ]
     },
     "execution_count": 35,
     "metadata": {},
     "output_type": "execute_result"
    }
   ],
   "source": [
    "ps = Flux.params(dudt_NN)\n",
    "neural_pde_prediction(u₀) = neural_ode(dudt_NN, u₀, tspan, Tsit5(), saveat=t, reltol=1e-7, abstol=1e-9)"
   ]
  },
  {
   "cell_type": "markdown",
   "metadata": {},
   "source": [
    "Define the loss/objective function to be\n",
    "\n",
    "$$ \\left| u(x, t) - u_{NN}(x, t) \\right|^2 \\approx \\sum_{n=1}^{N_t} \\sum_{i=1}^{N_x} \\left| u_i^n - (u_{NN})_i^n \\right|^2 $$"
   ]
  },
  {
   "cell_type": "code",
   "execution_count": 36,
   "metadata": {},
   "outputs": [
    {
     "data": {
      "text/plain": [
       "loss_function (generic function with 1 method)"
      ]
     },
     "execution_count": 36,
     "metadata": {},
     "output_type": "execute_result"
    }
   ],
   "source": [
    "loss_function(u₀, u_data) = sum(abs2, u_data .- neural_pde_prediction(u₀))"
   ]
  },
  {
   "cell_type": "markdown",
   "metadata": {},
   "source": [
    "Use the Adam optimization algorithm (adaptive moment estimation?). Seems to be recommended as a good default."
   ]
  },
  {
   "cell_type": "code",
   "execution_count": 46,
   "metadata": {},
   "outputs": [
    {
     "data": {
      "text/plain": [
       "1-element Array{Tuple{Array{Float64,1},Array{Float64,2}},1}:\n",
       " ([1.3887943864964021e-11, 6.997045994265065e-9, 1.4492788871477636e-6, 0.00012340980408667956, 0.004320239474094066, 0.06217652402211632, 0.3678794411714422, 0.8948393168143698, 0.8948393168143698, 0.3678794411714422, 0.06217652402211632, 0.004320239474094066, 0.00012340980408667956, 1.4492788871477636e-6, 6.997045994265065e-9, 1.3887943864964021e-11], [1.3887943864964021e-11 0.0001603437480643901 … 0.15922318130688168 0.16009927057555876; 6.997045994265065e-9 0.0008766600900401355 … 0.16030408637417504 0.1610333109799329; … ; 6.997045994265065e-9 0.0008766600900401355 … 0.16030408637417504 0.1610333109799329; 1.3887943864964021e-11 0.0001603437480643901 … 0.15922318130688168 0.16009927057555876])"
      ]
     },
     "execution_count": 46,
     "metadata": {},
     "output_type": "execute_result"
    }
   ],
   "source": [
    "opt = ADAM(0.5)\n",
    "\n",
    "data = [(u₀, ode_data)]"
   ]
  },
  {
   "cell_type": "markdown",
   "metadata": {},
   "source": [
    "Define a callback function to observe training in progress and stop once loss is acceptable."
   ]
  },
  {
   "cell_type": "code",
   "execution_count": 47,
   "metadata": {},
   "outputs": [
    {
     "name": "stdout",
     "output_type": "stream",
     "text": [
      "loss = 0.7429576490755748 (tracked)\n"
     ]
    }
   ],
   "source": [
    "cb = function ()\n",
    "  loss = loss_function(u₀, ode_data)\n",
    "  println(\"loss = $loss\")\n",
    "end\n",
    "\n",
    "cb()"
   ]
  },
  {
   "cell_type": "markdown",
   "metadata": {},
   "source": [
    "Training!"
   ]
  },
  {
   "cell_type": "code",
   "execution_count": 48,
   "metadata": {},
   "outputs": [
    {
     "name": "stdout",
     "output_type": "stream",
     "text": [
      "loss = 1.059814068137191 (tracked)\n",
      "loss = 2.387718699703983 (tracked)\n",
      "loss = 0.7453300021054322 (tracked)\n",
      "loss = 1.1772392438691546 (tracked)\n",
      "loss = 1.5483170714634633 (tracked)\n",
      "loss = 1.1854438773572613 (tracked)\n",
      "loss = 0.6999010990587144 (tracked)\n",
      "loss = 0.6325103966013785 (tracked)\n",
      "loss = 0.9275444284828881 (tracked)\n",
      "loss = 1.0137482768928447 (tracked)\n",
      "loss = 0.7801420638420751 (tracked)\n",
      "loss = 0.5872540827480337 (tracked)\n",
      "loss = 0.5800416177935799 (tracked)\n",
      "loss = 0.6605644757856973 (tracked)\n",
      "loss = 0.707842010043042 (tracked)\n",
      "loss = 0.6690835489791722 (tracked)\n",
      "loss = 0.5690005855336869 (tracked)\n",
      "loss = 0.4800015136514653 (tracked)\n",
      "loss = 0.4613791247822881 (tracked)\n",
      "loss = 0.5052313502581905 (tracked)\n",
      "loss = 0.5461923398967733 (tracked)\n",
      "loss = 0.532701790431881 (tracked)\n",
      "loss = 0.4752610882267516 (tracked)\n",
      "loss = 0.4219150330323796 (tracked)\n",
      "loss = 0.40532353379623526 (tracked)\n",
      "loss = 0.41937761373321336 (tracked)\n",
      "loss = 0.435259658136386 (tracked)\n",
      "loss = 0.4302888088481038 (tracked)\n",
      "loss = 0.4033180729195954 (tracked)\n",
      "loss = 0.371334266274831 (tracked)\n",
      "loss = 0.35395852353008095 (tracked)\n",
      "loss = 0.35626266247733257 (tracked)\n",
      "loss = 0.36551841029345616 (tracked)\n",
      "loss = 0.36635432272545343 (tracked)\n",
      "loss = 0.35438250320563514 (tracked)\n",
      "loss = 0.33593824771317826 (tracked)\n",
      "loss = 0.3216583957858864 (tracked)\n",
      "loss = 0.31762858425606666 (tracked)\n",
      "loss = 0.31976281362776404 (tracked)\n",
      "loss = 0.31962566288790983 (tracked)\n",
      "loss = 0.31350395482439 (tracked)\n",
      "loss = 0.3032549737781081 (tracked)\n",
      "loss = 0.2935719214432747 (tracked)\n",
      "loss = 0.2892290410271694 (tracked)\n",
      "loss = 0.28993088072169154 (tracked)\n",
      "loss = 0.2899310684134916 (tracked)\n",
      "loss = 0.28565815608895967 (tracked)\n",
      "loss = 0.27878453401495956 (tracked)\n",
      "loss = 0.27239906003380204 (tracked)\n",
      "loss = 0.2687361952255811 (tracked)\n",
      "loss = 0.26774237089107983 (tracked)\n",
      "loss = 0.26671062204907314 (tracked)\n",
      "loss = 0.2636506832847516 (tracked)\n",
      "loss = 0.2592465643477479 (tracked)\n",
      "loss = 0.25510963740788034 (tracked)\n",
      "loss = 0.252464123080787 (tracked)\n",
      "loss = 0.25132659439357774 (tracked)\n",
      "loss = 0.25008706196464314 (tracked)\n",
      "loss = 0.24748144527703034 (tracked)\n",
      "loss = 0.2440867138590395 (tracked)\n",
      "loss = 0.24112918669278585 (tracked)\n",
      "loss = 0.23920873428887166 (tracked)\n",
      "loss = 0.23795058061338129 (tracked)\n",
      "loss = 0.23643966029838848 (tracked)\n",
      "loss = 0.2342830772950842 (tracked)\n",
      "loss = 0.23189007549169618 (tracked)\n",
      "loss = 0.2298575534545737 (tracked)\n",
      "loss = 0.22840951461956843 (tracked)\n",
      "loss = 0.22718700083643167 (tracked)\n",
      "loss = 0.22567528472184367 (tracked)\n",
      "loss = 0.22380129319736697 (tracked)\n",
      "loss = 0.22192851405582473 (tracked)\n",
      "loss = 0.22042062420328917 (tracked)\n",
      "loss = 0.21922938778032344 (tracked)\n",
      "loss = 0.21801107261274555 (tracked)\n",
      "loss = 0.21659313303939795 (tracked)\n",
      "loss = 0.2150758257276925 (tracked)\n",
      "loss = 0.21367776795949003 (tracked)\n",
      "loss = 0.21251072544595748 (tracked)\n",
      "loss = 0.21142684621661703 (tracked)\n",
      "loss = 0.21025214832696157 (tracked)\n",
      "loss = 0.20898201645492595 (tracked)\n",
      "loss = 0.2077281299194274 (tracked)\n",
      "loss = 0.20661960517854983 (tracked)\n",
      "loss = 0.20562446685982125 (tracked)\n",
      "loss = 0.2046051925146367 (tracked)\n",
      "loss = 0.20352839704328696 (tracked)\n",
      "loss = 0.2024462364519357 (tracked)\n",
      "loss = 0.20143298263454562 (tracked)\n",
      "loss = 0.20050581003920448 (tracked)\n",
      "loss = 0.19958719968058897 (tracked)\n",
      "loss = 0.1986350149017787 (tracked)\n",
      "loss = 0.1976746917256854 (tracked)\n",
      "loss = 0.19675010055219225 (tracked)\n",
      "loss = 0.19588748257841107 (tracked)\n",
      "loss = 0.19504879017600907 (tracked)\n",
      "loss = 0.19419385088777946 (tracked)\n",
      "loss = 0.19333366539318897 (tracked)\n",
      "loss = 0.1924963525428582 (tracked)\n",
      "loss = 0.19169768865267092 (tracked)\n",
      "loss = 0.19091965986831796 (tracked)\n",
      "loss = 0.19013648226843702 (tracked)\n",
      "loss = 0.18935084140631941 (tracked)\n",
      "loss = 0.18858094054861202 (tracked)\n",
      "loss = 0.18783802007613853 (tracked)\n",
      "loss = 0.18711237465999128 (tracked)\n",
      "loss = 0.18638740166297385 (tracked)\n",
      "loss = 0.1856633198543037 (tracked)\n",
      "loss = 0.18495138159974628 (tracked)\n",
      "loss = 0.18425816221317284 (tracked)\n",
      "loss = 0.18357719491866473 (tracked)\n",
      "loss = 0.1828987171279056 (tracked)\n",
      "loss = 0.18222286248429145 (tracked)\n",
      "loss = 0.18155708871376117 (tracked)\n",
      "loss = 0.18090503813985737 (tracked)\n",
      "loss = 0.1802622136161905 (tracked)\n",
      "loss = 0.17962307577567657 (tracked)\n",
      "loss = 0.17898769976687948 (tracked)\n",
      "loss = 0.17836091057237843 (tracked)\n",
      "loss = 0.17774422711722346 (tracked)\n",
      "loss = 0.1771341775147338 (tracked)\n",
      "loss = 0.17652785011646763 (tracked)\n",
      "loss = 0.17592559962667073 (tracked)\n",
      "loss = 0.17533059981415317 (tracked)\n",
      "loss = 0.17474327330393172 (tracked)\n",
      "loss = 0.17416105076408822 (tracked)\n",
      "loss = 0.17358255681907947 (tracked)\n",
      "loss = 0.17300831148973383 (tracked)\n",
      "loss = 0.1724402425002505 (tracked)\n",
      "loss = 0.17187786465092006 (tracked)\n",
      "loss = 0.17131952723542046 (tracked)\n",
      "loss = 0.17076461227835765 (tracked)\n",
      "loss = 0.1702137888409512 (tracked)\n",
      "loss = 0.16966802591671126 (tracked)\n",
      "loss = 0.16912665461848614 (tracked)\n",
      "loss = 0.16858867596000415 (tracked)\n",
      "loss = 0.16805395411803944 (tracked)\n",
      "loss = 0.16752301810986556 (tracked)\n",
      "loss = 0.16699620093944748 (tracked)\n",
      "loss = 0.1664727951581072 (tracked)\n",
      "loss = 0.1659523469717206 (tracked)\n",
      "loss = 0.1654348850024365 (tracked)\n",
      "loss = 0.16492075256645133 (tracked)\n",
      "loss = 0.16440997834036156 (tracked)\n",
      "loss = 0.1639019813608172 (tracked)\n",
      "loss = 0.16339657028434662 (tracked)\n",
      "loss = 0.16289395936869053 (tracked)\n",
      "loss = 0.1623942053885763 (tracked)\n",
      "loss = 0.16189717159031547 (tracked)\n",
      "loss = 0.1614024613822113 (tracked)\n",
      "loss = 0.1609101526788248 (tracked)\n",
      "loss = 0.16042031750803645 (tracked)\n",
      "loss = 0.15993287428043343 (tracked)\n",
      "loss = 0.1594477385086465 (tracked)\n",
      "loss = 0.1589646185115158 (tracked)\n",
      "loss = 0.15848369397959586 (tracked)\n",
      "loss = 0.15800488349426958 (tracked)\n",
      "loss = 0.15752818874547034 (tracked)\n",
      "loss = 0.15705337203573874 (tracked)\n",
      "loss = 0.15658045918354632 (tracked)\n",
      "loss = 0.1561094238442211 (tracked)\n",
      "loss = 0.15564033087507187 (tracked)\n",
      "loss = 0.15517302672514238 (tracked)\n",
      "loss = 0.15470737562378922 (tracked)\n",
      "loss = 0.15424345193509847 (tracked)\n",
      "loss = 0.15378122370159072 (tracked)\n",
      "loss = 0.15332065381785176 (tracked)\n",
      "loss = 0.15286161506133217 (tracked)\n",
      "loss = 0.1524041460404265 (tracked)\n",
      "loss = 0.15194819744211402 (tracked)\n",
      "loss = 0.1514937885205581 (tracked)\n",
      "loss = 0.15104082138665892 (tracked)\n",
      "loss = 0.1505892972235894 (tracked)\n",
      "loss = 0.15013916659720047 (tracked)\n",
      "loss = 0.1496904087451791 (tracked)\n",
      "loss = 0.14924308522887997 (tracked)\n",
      "loss = 0.14879703529684635 (tracked)\n",
      "loss = 0.14835228553084073 (tracked)\n",
      "loss = 0.1479088272677989 (tracked)\n",
      "loss = 0.14746666440152478 (tracked)\n",
      "loss = 0.14702573215593193 (tracked)\n",
      "loss = 0.1465860709363871 (tracked)\n",
      "loss = 0.14614755262880252 (tracked)\n",
      "loss = 0.14571027763890898 (tracked)\n",
      "loss = 0.14527415522139064 (tracked)\n",
      "loss = 0.1448392316493919 (tracked)\n",
      "loss = 0.14440540319144218 (tracked)\n",
      "loss = 0.1439727746350995 (tracked)\n",
      "loss = 0.14354122952180634 (tracked)\n",
      "loss = 0.14311079812783772 (tracked)\n",
      "loss = 0.14268147121886357 (tracked)\n",
      "loss = 0.1422532553366177 (tracked)\n",
      "loss = 0.14182606976719164 (tracked)\n",
      "loss = 0.14139998466735318 (tracked)\n",
      "loss = 0.14097496182286912 (tracked)\n",
      "loss = 0.1405509593255428 (tracked)\n",
      "loss = 0.14012807601346064 (tracked)\n",
      "loss = 0.13970618657208642 (tracked)\n",
      "loss = 0.1392852795109167 (tracked)\n",
      "loss = 0.1388654865896358 (tracked)\n",
      "loss = 0.1384466358234411 (tracked)\n",
      "loss = 0.13802883243841305 (tracked)\n",
      "loss = 0.1376120208759528 (tracked)\n",
      "loss = 0.13719620679438388 (tracked)\n",
      "loss = 0.13678144277688317 (tracked)\n",
      "loss = 0.13636760525003608 (tracked)\n",
      "loss = 0.1359548012791027 (tracked)\n",
      "loss = 0.1355429954633128 (tracked)\n",
      "loss = 0.13513214202634946 (tracked)\n",
      "loss = 0.1347223120795503 (tracked)\n",
      "loss = 0.1343134257236649 (tracked)\n",
      "loss = 0.13390554708123217 (tracked)\n",
      "loss = 0.13349860091149757 (tracked)\n",
      "loss = 0.13309268035706545 (tracked)\n",
      "loss = 0.13268772295396256 (tracked)\n",
      "loss = 0.13228371762413624 (tracked)\n",
      "loss = 0.13188071875249838 (tracked)\n",
      "loss = 0.13147870941624312 (tracked)\n",
      "loss = 0.13107762731188638 (tracked)\n",
      "loss = 0.13067753799490392 (tracked)\n",
      "loss = 0.13027844611280534 (tracked)\n",
      "loss = 0.12988029953107064 (tracked)\n",
      "loss = 0.1294831077475622 (tracked)\n",
      "loss = 0.12908697446801926 (tracked)\n",
      "loss = 0.1286917548043223 (tracked)\n",
      "loss = 0.128297526323229 (tracked)\n",
      "loss = 0.1279042948681561 (tracked)\n",
      "loss = 0.12751204244268416 (tracked)\n",
      "loss = 0.12712072108244118 (tracked)\n",
      "loss = 0.1267304166648543 (tracked)\n",
      "loss = 0.1263410769452231 (tracked)\n",
      "loss = 0.12595276939251154 (tracked)\n",
      "loss = 0.1255654530389407 (tracked)\n",
      "loss = 0.125179040919018 (tracked)\n",
      "loss = 0.12479371778908395 (tracked)\n",
      "loss = 0.12440933171584255 (tracked)\n",
      "loss = 0.12402595947855322 (tracked)\n",
      "loss = 0.12364359977956728 (tracked)\n",
      "loss = 0.12326223420436891 (tracked)\n",
      "loss = 0.12288181948096513 (tracked)\n",
      "loss = 0.12250245246627085 (tracked)\n",
      "loss = 0.12212408435796955 (tracked)\n",
      "loss = 0.12174674169897798 (tracked)\n",
      "loss = 0.1213703942331357 (tracked)\n",
      "loss = 0.12099504087713053 (tracked)\n",
      "loss = 0.12062072246274659 (tracked)\n",
      "loss = 0.12024742220649051 (tracked)\n",
      "loss = 0.11987510714895068 (tracked)\n",
      "loss = 0.1195038335078137 (tracked)\n",
      "loss = 0.11913355640694367 (tracked)\n"
     ]
    }
   ],
   "source": [
    "for _ in 1:250\n",
    "    Flux.train!(loss_function, ps, data, opt, cb = cb)\n",
    "end"
   ]
  },
  {
   "cell_type": "markdown",
   "metadata": {},
   "source": [
    "Let's see how well it fit the training data."
   ]
  },
  {
   "cell_type": "code",
   "execution_count": 51,
   "metadata": {},
   "outputs": [
    {
     "name": "stderr",
     "output_type": "stream",
     "text": [
      "┌ Info: Saved animation to \n",
      "│   fn = /home/alir/6S898-climate-parameterization/notebooks/tmp.gif\n",
      "└ @ Plots /home/alir/.julia/packages/Plots/Iuc9S/src/animation.jl:95\n"
     ]
    },
    {
     "data": {
      "text/html": [
       "<img src=\"tmp.gif\" />"
      ],
      "text/plain": [
       "Plots.AnimatedGif(\"/home/alir/6S898-climate-parameterization/notebooks/tmp.gif\")"
      ]
     },
     "execution_count": 51,
     "metadata": {},
     "output_type": "execute_result"
    }
   ],
   "source": [
    "nn_pred = Flux.data(neural_pde_prediction(u₀))\n",
    "\n",
    "@gif for n=1:datasize\n",
    "    plot(x, ode_data[:, n], linewidth=2, ylim=(0, 1), label=\"data\", show=false)\n",
    "    plot!(x, nn_pred[:, n], linewidth=2, ylim=(0, 1), label=\"Neural PDE\", show=false)\n",
    "end"
   ]
  },
  {
   "cell_type": "markdown",
   "metadata": {},
   "source": [
    "Let's see how well it fits\n",
    "\n",
    "$$ u_0(x) = 1 - cos(2\\pi x) $$"
   ]
  },
  {
   "cell_type": "code",
   "execution_count": 52,
   "metadata": {},
   "outputs": [
    {
     "name": "stderr",
     "output_type": "stream",
     "text": [
      "┌ Info: Saved animation to \n",
      "│   fn = /home/alir/6S898-climate-parameterization/notebooks/tmp.gif\n",
      "└ @ Plots /home/alir/.julia/packages/Plots/Iuc9S/src/animation.jl:95\n"
     ]
    },
    {
     "data": {
      "text/html": [
       "<img src=\"tmp.gif\" />"
      ],
      "text/plain": [
       "Plots.AnimatedGif(\"/home/alir/6S898-climate-parameterization/notebooks/tmp.gif\")"
      ]
     },
     "execution_count": 52,
     "metadata": {},
     "output_type": "execute_result"
    }
   ],
   "source": [
    "u₀_cos = @. 1 - cos(2π * x)\n",
    "\n",
    "prob = ODEProblem(diffusion, u₀_cos, tspan)\n",
    "ode_data = Array(solve(prob, Tsit5(), saveat=t))\n",
    "\n",
    "nn_pred = Flux.data(neural_pde_prediction(u₀_cos))\n",
    "@gif for n=1:datasize\n",
    "    plot(x, ode_data[:, n], linewidth=2, ylim=(0, 2), label=\"data\", show=false)\n",
    "    plot!(x, nn_pred[:, n], linewidth=2, ylim=(0, 2), label=\"Neural ODE\", show=false)\n",
    "end"
   ]
  },
  {
   "cell_type": "code",
   "execution_count": null,
   "metadata": {},
   "outputs": [],
   "source": []
  }
 ],
 "metadata": {
  "kernelspec": {
   "display_name": "Julia 1.3.0",
   "language": "julia",
   "name": "julia-1.3"
  },
  "language_info": {
   "file_extension": ".jl",
   "mimetype": "application/julia",
   "name": "julia",
   "version": "1.3.0"
  }
 },
 "nbformat": 4,
 "nbformat_minor": 4
}
