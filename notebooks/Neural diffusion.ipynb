{
 "cells": [
  {
   "cell_type": "markdown",
   "metadata": {},
   "source": [
    "# Learning diffusion with a neural partial differential equation"
   ]
  },
  {
   "cell_type": "code",
   "execution_count": 1,
   "metadata": {},
   "outputs": [
    {
     "name": "stderr",
     "output_type": "stream",
     "text": [
      "┌ Info: Precompiling DiffEqFlux [aae7a2af-3d4f-5e19-a356-7da93b79d9d0]\n",
      "└ @ Base loading.jl:1273\n",
      "┌ Info: Precompiling Plots [91a5bcdd-55d7-5caf-9e0b-520d859cae80]\n",
      "└ @ Base loading.jl:1273\n"
     ]
    }
   ],
   "source": [
    "using LinearAlgebra\n",
    "\n",
    "using DifferentialEquations\n",
    "using Flux\n",
    "using DiffEqFlux\n",
    "\n",
    "using Plots\n",
    "default(fmt = :png)"
   ]
  },
  {
   "cell_type": "markdown",
   "metadata": {},
   "source": [
    "We want to solve the heat (or diffusion) equation\n",
    "\n",
    "$$\\frac{\\partial u}{\\partial t} = \\kappa \\frac{\\partial^2 u}{\\partial x^2}, \\quad x \\in \\left[-\\frac{1}{2}, \\frac{1}{2}\\right], \\quad x\\left(-\\frac{1}{2}\\right) = x\\left(\\frac{1}{2}\\right)$$\n",
    "\n",
    "Let's go with $N = 16$ grid points and $\\kappa = 1$."
   ]
  },
  {
   "cell_type": "code",
   "execution_count": 2,
   "metadata": {},
   "outputs": [
    {
     "data": {
      "text/plain": [
       "-0.5:0.06666666666666667:0.5"
      ]
     },
     "execution_count": 2,
     "metadata": {},
     "output_type": "execute_result"
    }
   ],
   "source": [
    "const N = 16\n",
    "const L = 1\n",
    "const Δx = L / N\n",
    "const κ = 1\n",
    "\n",
    "x = range(-L/2, L/2, length=N)"
   ]
  },
  {
   "cell_type": "markdown",
   "metadata": {},
   "source": [
    "Discretizing the spatial derivative with a second-order centered finite-difference\n",
    "\n",
    "$$\\frac{\\partial u_i}{\\partial t} = \\frac{\\partial^2 u}{\\partial x^2} \\approx \\kappa \\frac{u_{i-1} - 2u_i + u_{i+1}}{\\Delta x^2}$$\n",
    "\n",
    "we get a system of $N$ coupled ODEs which can be described as\n",
    "\n",
    "$$ \\frac{\\partial u}{\\partial t} = Au $$\n",
    "\n",
    "where $A$ is a matrix."
   ]
  },
  {
   "cell_type": "code",
   "execution_count": 3,
   "metadata": {},
   "outputs": [
    {
     "data": {
      "text/plain": [
       "diffusion (generic function with 1 method)"
      ]
     },
     "execution_count": 3,
     "metadata": {},
     "output_type": "execute_result"
    }
   ],
   "source": [
    " d = -2 * ones(N) # Diagonal\n",
    "sd = ones(N-1)    # Sub-diagonals\n",
    "A = Array(Tridiagonal(sd, d, sd))\n",
    "\n",
    "# Impose periodic boundary conditions\n",
    "A[1, N] = 1\n",
    "A[N, 1] = 1\n",
    "\n",
    "# Dimensionalize A\n",
    "A_diffusion = (κ/Δx^2) .* A\n",
    "\n",
    "function diffusion(∂u∂t, u, p, t)\n",
    "    ∂u∂t .= A_diffusion * u\n",
    "    return \n",
    "end"
   ]
  },
  {
   "cell_type": "markdown",
   "metadata": {},
   "source": [
    "Let's generate an initial condition\n",
    "\n",
    "$$ u_0(x) = e^{-100x^2} $$"
   ]
  },
  {
   "cell_type": "code",
   "execution_count": 4,
   "metadata": {},
   "outputs": [
    {
     "data": {
      "image/png": "[encoded data removed]"
     },
     "execution_count": 4,
     "metadata": {},
     "output_type": "execute_result"
    }
   ],
   "source": [
    "u₀ = @. exp(-100*x^2)\n",
    "\n",
    "plot(x, u₀, linewidth=2, label=\"\")"
   ]
  },
  {
   "cell_type": "markdown",
   "metadata": {},
   "source": [
    "We'll pick 30 equally spaced times between $t = 0$ and $t = 0.1$ to save the state of the PDE."
   ]
  },
  {
   "cell_type": "code",
   "execution_count": 5,
   "metadata": {},
   "outputs": [
    {
     "data": {
      "text/plain": [
       "0.0:0.0034482758620689655:0.1"
      ]
     },
     "execution_count": 5,
     "metadata": {},
     "output_type": "execute_result"
    }
   ],
   "source": [
    "tspan = (0.0, 0.1)\n",
    "datasize = 30\n",
    "t = range(tspan[1], tspan[2], length=datasize)"
   ]
  },
  {
   "cell_type": "markdown",
   "metadata": {},
   "source": [
    "Set up and solve the PDE."
   ]
  },
  {
   "cell_type": "code",
   "execution_count": 6,
   "metadata": {},
   "outputs": [
    {
     "data": {
      "text/plain": [
       "16×30 Array{Float64,2}:\n",
       " 1.38879e-11  0.000160344  0.00215047  …  0.158223  0.159223  0.160099\n",
       " 6.99705e-9   0.00087666   0.00636828     0.159464  0.160304  0.161033\n",
       " 1.44928e-6   0.00462848   0.0199546      0.161636  0.16221   0.16272 \n",
       " 0.00012341   0.020396     0.0546109      0.164632  0.16482   0.164975\n",
       " 0.00432024   0.0726686    0.126828       0.167703  0.167515  0.16736 \n",
       " 0.0621765    0.201762     0.245097    …  0.170699  0.170125  0.169615\n",
       " 0.367879     0.417262     0.386382       0.172871  0.172031  0.171302\n",
       " 0.894839     0.611587     0.48795        0.174112  0.173112  0.172236\n",
       " 0.894839     0.611587     0.48795        0.174112  0.173112  0.172236\n",
       " 0.367879     0.417262     0.386382       0.172871  0.172031  0.171302\n",
       " 0.0621765    0.201762     0.245097    …  0.170699  0.170125  0.169615\n",
       " 0.00432024   0.0726686    0.126828       0.167703  0.167515  0.16736 \n",
       " 0.00012341   0.020396     0.0546109      0.164632  0.16482   0.164975\n",
       " 1.44928e-6   0.00462848   0.0199546      0.161636  0.16221   0.16272 \n",
       " 6.99705e-9   0.00087666   0.00636828     0.159464  0.160304  0.161033\n",
       " 1.38879e-11  0.000160344  0.00215047  …  0.158223  0.159223  0.160099"
      ]
     },
     "execution_count": 6,
     "metadata": {},
     "output_type": "execute_result"
    }
   ],
   "source": [
    "prob = ODEProblem(diffusion, u₀, tspan)\n",
    "ode_data = Array(solve(prob, Tsit5(), saveat=t))"
   ]
  },
  {
   "cell_type": "markdown",
   "metadata": {},
   "source": [
    "Let's plot the solution"
   ]
  },
  {
   "cell_type": "code",
   "execution_count": 7,
   "metadata": {},
   "outputs": [
    {
     "name": "stderr",
     "output_type": "stream",
     "text": [
      "┌ Info: Saved animation to \n",
      "│   fn = /home/alir/6S898-climate-parameterization/notebooks/tmp.gif\n",
      "└ @ Plots /home/alir/.julia/packages/Plots/Iuc9S/src/animation.jl:95\n"
     ]
    },
    {
     "data": {
      "text/html": [
       "<img src=\"tmp.gif\" />"
      ],
      "text/plain": [
       "Plots.AnimatedGif(\"/home/alir/6S898-climate-parameterization/notebooks/tmp.gif\")"
      ]
     },
     "execution_count": 7,
     "metadata": {},
     "output_type": "execute_result"
    }
   ],
   "source": [
    "@gif for n=1:datasize\n",
    "    plot(x, ode_data[:, n], linewidth=2, ylim=(0, 1), label=\"\", show=false)\n",
    "end"
   ]
  },
  {
   "cell_type": "markdown",
   "metadata": {},
   "source": [
    "Now let's create a two-layer neural network to see if we can learn diffusion"
   ]
  },
  {
   "cell_type": "code",
   "execution_count": 9,
   "metadata": {},
   "outputs": [
    {
     "data": {
      "text/plain": [
       "Chain(Dense(16, 100, tanh), Dense(100, 16))"
      ]
     },
     "execution_count": 9,
     "metadata": {},
     "output_type": "execute_result"
    }
   ],
   "source": [
    "dudt_NN = Chain(Dense(N, 100, tanh),\n",
    "             Dense(100, N))"
   ]
  },
  {
   "cell_type": "markdown",
   "metadata": {},
   "source": [
    "Set up a neural PDE that solves the system of ODEs described by\n",
    "\n",
    "$$ \\frac{\\partial u}{\\partial t} = \\text{NN}(u) $$"
   ]
  },
  {
   "cell_type": "code",
   "execution_count": 10,
   "metadata": {},
   "outputs": [
    {
     "data": {
      "text/plain": [
       "#3 (generic function with 1 method)"
      ]
     },
     "execution_count": 10,
     "metadata": {},
     "output_type": "execute_result"
    }
   ],
   "source": [
    "ps = Flux.params(dudt_NN)\n",
    "neural_pde_prediction = u₀ -> neural_ode(dudt_NN, u₀, tspan, Tsit5(), saveat=t, reltol=1e-7, abstol=1e-9)"
   ]
  },
  {
   "cell_type": "markdown",
   "metadata": {},
   "source": [
    "Define the loss/objective function to be\n",
    "\n",
    "$$ \\left| u(x, t) - u_{NN}(x, t) \\right|^2 \\approx \\sum_{n=1}^{N_t} \\sum_{i=1}^{N_x} \\left| u_i^n - (u_{NN})_i^n \\right|^2 $$"
   ]
  },
  {
   "cell_type": "code",
   "execution_count": 11,
   "metadata": {},
   "outputs": [
    {
     "data": {
      "text/plain": [
       "loss_function (generic function with 1 method)"
      ]
     },
     "execution_count": 11,
     "metadata": {},
     "output_type": "execute_result"
    }
   ],
   "source": [
    "loss_function() = sum(abs2, ode_data .- neural_pde_prediction(u₀))"
   ]
  },
  {
   "cell_type": "markdown",
   "metadata": {},
   "source": [
    "Use the Adam optimization algorithm (adaptive moment estimation?). Seems to be recommended as a good default."
   ]
  },
  {
   "cell_type": "code",
   "execution_count": 12,
   "metadata": {},
   "outputs": [
    {
     "data": {
      "text/plain": [
       "ADAM(0.1, (0.9, 0.999), IdDict{Any,Any}())"
      ]
     },
     "execution_count": 12,
     "metadata": {},
     "output_type": "execute_result"
    }
   ],
   "source": [
    "data = Iterators.repeated((), 1000)  # Not sure what this does...\n",
    "opt = ADAM(0.1)"
   ]
  },
  {
   "cell_type": "markdown",
   "metadata": {},
   "source": [
    "Define a callback function to observe training in progress and stop once loss is acceptable."
   ]
  },
  {
   "cell_type": "code",
   "execution_count": 13,
   "metadata": {},
   "outputs": [
    {
     "name": "stdout",
     "output_type": "stream",
     "text": [
      "loss = 32.34260936947984 (tracked)\n"
     ]
    },
    {
     "data": {
      "text/plain": [
       "false"
      ]
     },
     "execution_count": 13,
     "metadata": {},
     "output_type": "execute_result"
    }
   ],
   "source": [
    "cb = function ()\n",
    "  loss = loss_function()\n",
    "  println(\"loss = $loss\")\n",
    "  loss < 1 && Flux.stop()\n",
    "end\n",
    "\n",
    "cb()"
   ]
  },
  {
   "cell_type": "markdown",
   "metadata": {},
   "source": [
    "Training!"
   ]
  },
  {
   "cell_type": "code",
   "execution_count": 14,
   "metadata": {},
   "outputs": [
    {
     "name": "stdout",
     "output_type": "stream",
     "text": [
      "loss = 14.919439710673615 (tracked)\n",
      "loss = 29.43840212493854 (tracked)\n",
      "loss = 4.11740918686134 (tracked)\n",
      "loss = 9.929919102616548 (tracked)\n",
      "loss = 10.536211872158448 (tracked)\n",
      "loss = 7.220399984504038 (tracked)\n",
      "loss = 3.5378539584470605 (tracked)\n",
      "loss = 4.638787663833674 (tracked)\n",
      "loss = 5.605911115709756 (tracked)\n",
      "loss = 2.4427266255905082 (tracked)\n",
      "loss = 3.167196352029581 (tracked)\n",
      "loss = 3.694500168316627 (tracked)\n",
      "loss = 2.9192209946715058 (tracked)\n",
      "loss = 2.0629625699244163 (tracked)\n",
      "loss = 1.8976163582212253 (tracked)\n",
      "loss = 2.0788178960977373 (tracked)\n",
      "loss = 1.740703197393812 (tracked)\n",
      "loss = 1.4114189681933784 (tracked)\n",
      "loss = 1.4670395636395468 (tracked)\n",
      "loss = 1.3379414659127655 (tracked)\n",
      "loss = 0.989221998026173 (tracked)\n",
      "loss = 0.8703405019288393 (tracked)\n",
      "loss = 1.06083268231298 (tracked)\n",
      "loss = 1.1374308945047216 (tracked)\n",
      "loss = 0.91323723645981 (tracked)\n",
      "loss = 0.6695254507263718 (tracked)\n",
      "loss = 0.6177383354146027 (tracked)\n",
      "loss = 0.6682703279556362 (tracked)\n",
      "loss = 0.6735403399777883 (tracked)\n",
      "loss = 0.6330885312036253 (tracked)\n",
      "loss = 0.6104873108519533 (tracked)\n",
      "loss = 0.5797272010534199 (tracked)\n",
      "loss = 0.4928631154969075 (tracked)\n",
      "loss = 0.40444993177157396 (tracked)\n",
      "loss = 0.39235299812262103 (tracked)\n",
      "loss = 0.442186157263713 (tracked)\n",
      "loss = 0.4782085990128543 (tracked)\n",
      "loss = 0.4566203990416001 (tracked)\n",
      "loss = 0.401369113529543 (tracked)\n",
      "loss = 0.36378750226626505 (tracked)\n",
      "loss = 0.36142310513264087 (tracked)\n",
      "loss = 0.3682334063465041 (tracked)\n",
      "loss = 0.36216838397771045 (tracked)\n",
      "loss = 0.3523871042552221 (tracked)\n",
      "loss = 0.3518519386645676 (tracked)\n",
      "loss = 0.35384537437810054 (tracked)\n",
      "loss = 0.346447665766754 (tracked)\n",
      "loss = 0.3318784603836243 (tracked)\n",
      "loss = 0.32186090593307354 (tracked)\n",
      "loss = 0.32113990952564636 (tracked)\n",
      "loss = 0.32355824749122447 (tracked)\n",
      "loss = 0.3230351033954785 (tracked)\n",
      "loss = 0.3209662105211674 (tracked)\n",
      "loss = 0.3203932191925213 (tracked)\n",
      "loss = 0.3191031526620173 (tracked)\n",
      "loss = 0.3132591434093299 (tracked)\n",
      "loss = 0.30483848304800604 (tracked)\n",
      "loss = 0.3005774660815174 (tracked)\n",
      "loss = 0.303266419856119 (tracked)\n",
      "loss = 0.3076032612540495 (tracked)\n",
      "loss = 0.30670803899598276 (tracked)\n",
      "loss = 0.30039111824184866 (tracked)\n",
      "loss = 0.29422295947255056 (tracked)\n",
      "loss = 0.2920851368952372 (tracked)\n",
      "loss = 0.2927109966174411 (tracked)\n",
      "loss = 0.2929765423854059 (tracked)\n",
      "loss = 0.2917547494800872 (tracked)\n",
      "loss = 0.28975712011871596 (tracked)\n",
      "loss = 0.28750128816179554 (tracked)\n",
      "loss = 0.2850360585432234 (tracked)\n",
      "loss = 0.2828802964418532 (tracked)\n",
      "loss = 0.2816893291778839 (tracked)\n",
      "loss = 0.28110860445922536 (tracked)\n",
      "loss = 0.2800479709835465 (tracked)\n",
      "loss = 0.2781613202674409 (tracked)\n",
      "loss = 0.2762457888469317 (tracked)\n",
      "loss = 0.27498017206469616 (tracked)\n",
      "loss = 0.2739848123425632 (tracked)\n",
      "loss = 0.2725809940294138 (tracked)\n",
      "loss = 0.2708996287784425 (tracked)\n",
      "loss = 0.2695742164848477 (tracked)\n",
      "loss = 0.26867393931982303 (tracked)\n",
      "loss = 0.267628163131084 (tracked)\n",
      "loss = 0.2661182970023202 (tracked)\n",
      "loss = 0.2644769157450988 (tracked)\n",
      "loss = 0.2631154254670397 (tracked)\n",
      "loss = 0.2619908879899629 (tracked)\n",
      "loss = 0.2608367850287279 (tracked)\n",
      "loss = 0.2595915393485098 (tracked)\n",
      "loss = 0.25833713063211833 (tracked)\n",
      "loss = 0.2570438810901358 (tracked)\n",
      "loss = 0.2556521582065044 (tracked)\n",
      "loss = 0.25427131135465986 (tracked)\n",
      "loss = 0.2530521403818541 (tracked)\n",
      "loss = 0.2519282678238995 (tracked)\n",
      "loss = 0.25069310995655625 (tracked)\n",
      "loss = 0.2493044477700548 (tracked)\n",
      "loss = 0.24792301341639306 (tracked)\n",
      "loss = 0.2466548486308736 (tracked)\n",
      "loss = 0.2454294458503 (tracked)\n",
      "loss = 0.24415798699193447 (tracked)\n",
      "loss = 0.2428603430309996 (tracked)\n",
      "loss = 0.24158252325595625 (tracked)\n",
      "loss = 0.2403030984309062 (tracked)\n",
      "loss = 0.23899045105928352 (tracked)\n",
      "loss = 0.2376741629418933 (tracked)\n",
      "loss = 0.23639335995042307 (tracked)\n",
      "loss = 0.23512846652612324 (tracked)\n",
      "loss = 0.2338381258238642 (tracked)\n",
      "loss = 0.23252385106646525 (tracked)\n",
      "loss = 0.2312137455373876 (tracked)\n",
      "loss = 0.2299134163462252 (tracked)\n",
      "loss = 0.22861226435513501 (tracked)\n",
      "loss = 0.2273120798559068 (tracked)\n",
      "loss = 0.2260157847728145 (tracked)\n",
      "loss = 0.22470935795765715 (tracked)\n",
      "loss = 0.22338409942373988 (tracked)\n",
      "loss = 0.22205638143643028 (tracked)\n",
      "loss = 0.2207430749420662 (tracked)\n",
      "loss = 0.21943464995207868 (tracked)\n",
      "loss = 0.21811292605309276 (tracked)\n",
      "loss = 0.21677899670236256 (tracked)\n",
      "loss = 0.21544518120133993 (tracked)\n",
      "loss = 0.21411353032321156 (tracked)\n",
      "loss = 0.2127787157145396 (tracked)\n",
      "loss = 0.2114401375340875 (tracked)\n",
      "loss = 0.21009875953406643 (tracked)\n",
      "loss = 0.20875143177967584 (tracked)\n",
      "loss = 0.20739751428388875 (tracked)\n",
      "loss = 0.20604189288347055 (tracked)\n",
      "loss = 0.2046861568410811 (tracked)\n",
      "loss = 0.20332602757572332 (tracked)\n",
      "loss = 0.2019595241474062 (tracked)\n",
      "loss = 0.20058931636847488 (tracked)\n",
      "loss = 0.19921599251251326 (tracked)\n",
      "loss = 0.1978374366820627 (tracked)\n",
      "loss = 0.19645442153319048 (tracked)\n",
      "loss = 0.1950689693393599 (tracked)\n",
      "loss = 0.1936794398726906 (tracked)\n",
      "loss = 0.1922832484848907 (tracked)\n",
      "loss = 0.19088177462278025 (tracked)\n",
      "loss = 0.18947763615219484 (tracked)\n",
      "loss = 0.1880699448335394 (tracked)\n",
      "loss = 0.186656410742231 (tracked)\n",
      "loss = 0.18523719544967038 (tracked)\n",
      "loss = 0.18381345804453175 (tracked)\n",
      "loss = 0.18238515548847492 (tracked)\n",
      "loss = 0.1809519654697883 (tracked)\n",
      "loss = 0.17951411305327855 (tracked)\n",
      "loss = 0.17807107370216615 (tracked)\n",
      "loss = 0.1766225884800488 (tracked)\n",
      "loss = 0.17516920327900246 (tracked)\n",
      "loss = 0.17371128055555182 (tracked)\n",
      "loss = 0.17224832702355217 (tracked)\n",
      "loss = 0.17078013183994328 (tracked)\n",
      "loss = 0.16930701467914153 (tracked)\n",
      "loss = 0.1678290169717584 (tracked)\n",
      "loss = 0.16634613545642532 (tracked)\n",
      "loss = 0.16485862861834205 (tracked)\n",
      "loss = 0.16336663693971848 (tracked)\n",
      "loss = 0.1618697082117707 (tracked)\n",
      "loss = 0.1603679922209226 (tracked)\n",
      "loss = 0.15886212121670187 (tracked)\n",
      "loss = 0.1573521792726441 (tracked)\n",
      "loss = 0.15583798782571603 (tracked)\n",
      "loss = 0.15431972953245007 (tracked)\n",
      "loss = 0.15279777283772158 (tracked)\n",
      "loss = 0.15127234826564198 (tracked)\n",
      "loss = 0.14974348911073176 (tracked)\n",
      "loss = 0.14821149157284305 (tracked)\n",
      "loss = 0.14667649196859706 (tracked)\n",
      "loss = 0.1451388564748753 (tracked)\n",
      "loss = 0.14359903126574838 (tracked)\n",
      "loss = 0.14205708667453468 (tracked)\n",
      "loss = 0.14051351087368819 (tracked)\n",
      "loss = 0.13896865886774318 (tracked)\n",
      "loss = 0.13742285320841985 (tracked)\n",
      "loss = 0.13587641126371244 (tracked)\n",
      "loss = 0.13432982128840634 (tracked)\n",
      "loss = 0.13278347355990716 (tracked)\n",
      "loss = 0.1312377971890636 (tracked)\n",
      "loss = 0.12969323060816487 (tracked)\n",
      "loss = 0.1281500974897932 (tracked)\n",
      "loss = 0.12660898966707848 (tracked)\n",
      "loss = 0.12507041293554166 (tracked)\n",
      "loss = 0.12353486195102338 (tracked)\n",
      "loss = 0.12200279305886466 (tracked)\n",
      "loss = 0.12047457497643768 (tracked)\n",
      "loss = 0.11895095594367777 (tracked)\n",
      "loss = 0.11743239159823331 (tracked)\n",
      "loss = 0.11591936740930556 (tracked)\n",
      "loss = 0.11441243100407876 (tracked)\n",
      "loss = 0.11291233252082929 (tracked)\n",
      "loss = 0.11141943451138941 (tracked)\n",
      "loss = 0.10993443552770472 (tracked)\n",
      "loss = 0.1084576712799966 (tracked)\n",
      "loss = 0.1069898578193549 (tracked)\n",
      "loss = 0.10553149246655666 (tracked)\n",
      "loss = 0.10408298869606306 (tracked)\n",
      "loss = 0.10264493009448482 (tracked)\n",
      "loss = 0.10121774125803315 (tracked)\n",
      "loss = 0.09980221869770597 (tracked)\n"
     ]
    }
   ],
   "source": [
    "Flux.train!(loss_function, ps, data, opt, cb = cb)"
   ]
  },
  {
   "cell_type": "markdown",
   "metadata": {},
   "source": [
    "Let's see how well it fit the training data."
   ]
  },
  {
   "cell_type": "code",
   "execution_count": 16,
   "metadata": {},
   "outputs": [
    {
     "name": "stderr",
     "output_type": "stream",
     "text": [
      "┌ Info: Saved animation to \n",
      "│   fn = /home/alir/6S898-climate-parameterization/notebooks/tmp.gif\n",
      "└ @ Plots /home/alir/.julia/packages/Plots/Iuc9S/src/animation.jl:95\n"
     ]
    },
    {
     "data": {
      "text/html": [
       "<img src=\"tmp.gif\" />"
      ],
      "text/plain": [
       "Plots.AnimatedGif(\"/home/alir/6S898-climate-parameterization/notebooks/tmp.gif\")"
      ]
     },
     "execution_count": 16,
     "metadata": {},
     "output_type": "execute_result"
    }
   ],
   "source": [
    "nn_pred = Flux.data(neural_pde_prediction(u₀))\n",
    "\n",
    "@gif for n=1:datasize\n",
    "    plot(x, ode_data[:, n], linewidth=2, ylim=(0, 1), label=\"data\", show=false)\n",
    "    plot!(x, nn_pred[:, n], linewidth=2, ylim=(0, 1), label=\"Neural PDE\", show=false)\n",
    "end"
   ]
  },
  {
   "cell_type": "markdown",
   "metadata": {},
   "source": [
    "Let's see how well it fits\n",
    "\n",
    "$$ u_0(x) = 1 - cos(2\\pi x) $$"
   ]
  },
  {
   "cell_type": "code",
   "execution_count": 18,
   "metadata": {},
   "outputs": [
    {
     "name": "stderr",
     "output_type": "stream",
     "text": [
      "┌ Info: Saved animation to \n",
      "│   fn = /home/alir/6S898-climate-parameterization/notebooks/tmp.gif\n",
      "└ @ Plots /home/alir/.julia/packages/Plots/Iuc9S/src/animation.jl:95\n"
     ]
    },
    {
     "data": {
      "text/html": [
       "<img src=\"tmp.gif\" />"
      ],
      "text/plain": [
       "Plots.AnimatedGif(\"/home/alir/6S898-climate-parameterization/notebooks/tmp.gif\")"
      ]
     },
     "execution_count": 18,
     "metadata": {},
     "output_type": "execute_result"
    }
   ],
   "source": [
    "u₀_cos = @. 1 - cos(2π * x)\n",
    "\n",
    "prob = ODEProblem(diffusion, u₀_cos, tspan)\n",
    "ode_data = Array(solve(prob, Tsit5(), saveat=t))\n",
    "\n",
    "nn_pred = Flux.data(neural_pde_prediction(u₀_cos))\n",
    "@gif for n=1:datasize\n",
    "    plot(x, ode_data[:, n], linewidth=2, ylim=(0, 2), label=\"data\", show=false)\n",
    "    plot!(x, nn_pred[:, n], linewidth=2, ylim=(0, 2), label=\"Neural ODE\", show=false)\n",
    "end"
   ]
  },
  {
   "cell_type": "code",
   "execution_count": null,
   "metadata": {},
   "outputs": [],
   "source": []
  }
 ],
 "metadata": {
  "kernelspec": {
   "display_name": "Julia 1.3.0",
   "language": "julia",
   "name": "julia-1.3"
  },
  "language_info": {
   "file_extension": ".jl",
   "mimetype": "application/julia",
   "name": "julia",
   "version": "1.3.0"
  }
 },
 "nbformat": 4,
 "nbformat_minor": 4
}
