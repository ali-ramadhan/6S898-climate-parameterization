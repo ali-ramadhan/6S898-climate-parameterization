{
 "cells": [
  {
   "cell_type": "markdown",
   "metadata": {},
   "source": [
    "# Learning diffusion with a neural partial differential equation"
   ]
  },
  {
   "cell_type": "code",
   "execution_count": 6,
   "metadata": {},
   "outputs": [],
   "source": [
    "using LinearAlgebra\n",
    "\n",
    "using DifferentialEquations\n",
    "using Flux\n",
    "using DiffEqFlux\n",
    "\n",
    "using Plots\n",
    "default(fmt = :png)"
   ]
  },
  {
   "cell_type": "markdown",
   "metadata": {},
   "source": [
    "We want to solve the heat (or diffusion) equation\n",
    "\n",
    "$$\\frac{\\partial u}{\\partial t} = \\kappa \\frac{\\partial^2 u}{\\partial x^2}, \\quad x \\in \\left[-\\frac{1}{2}, \\frac{1}{2}\\right], \\quad x\\left(-\\frac{1}{2}\\right) = x\\left(\\frac{1}{2}\\right)$$\n",
    "\n",
    "Let's go with $N = 16$ grid points and $\\kappa = 1$."
   ]
  },
  {
   "cell_type": "code",
   "execution_count": 4,
   "metadata": {},
   "outputs": [
    {
     "data": {
      "text/plain": [
       "-0.5:0.06666666666666667:0.5"
      ]
     },
     "execution_count": 4,
     "metadata": {},
     "output_type": "execute_result"
    }
   ],
   "source": [
    "const N = 16\n",
    "const L = 1\n",
    "const Δx = L / N\n",
    "const κ = 1\n",
    "\n",
    "x = range(-L/2, L/2, length=N)"
   ]
  },
  {
   "cell_type": "markdown",
   "metadata": {},
   "source": [
    "Discretizing the spatial derivative with a second-order centered finite-difference\n",
    "\n",
    "$$\\frac{\\partial u_i}{\\partial t} = \\frac{\\partial^2 u}{\\partial x^2} \\approx \\kappa \\frac{u_{i-1} - 2u_i + u_{i+1}}{\\Delta x^2}$$\n",
    "\n",
    "we get a system of $N$ coupled ODEs which can be described as\n",
    "\n",
    "$$ \\frac{\\partial u}{\\partial t} = Au $$\n",
    "\n",
    "where $A$ is a matrix."
   ]
  },
  {
   "cell_type": "code",
   "execution_count": 3,
   "metadata": {},
   "outputs": [
    {
     "data": {
      "text/plain": [
       "diffusion (generic function with 1 method)"
      ]
     },
     "execution_count": 3,
     "metadata": {},
     "output_type": "execute_result"
    }
   ],
   "source": [
    " d = -2 * ones(N) # Diagonal\n",
    "sd = ones(N-1)    # Sub-diagonals\n",
    "A = Array(Tridiagonal(sd, d, sd))\n",
    "\n",
    "# Impose periodic boundary conditions\n",
    "A[1, N] = 1\n",
    "A[N, 1] = 1\n",
    "\n",
    "# Dimensionalize A\n",
    "A_diffusion = (κ/Δx^2) .* A\n",
    "\n",
    "function diffusion(∂u∂t, u, p, t)\n",
    "    ∂u∂t .= A_diffusion * u\n",
    "    return \n",
    "end"
   ]
  },
  {
   "cell_type": "markdown",
   "metadata": {},
   "source": [
    "Let's generate an initial condition\n",
    "\n",
    "$$ u_0(x) = e^{-100x^2} $$"
   ]
  },
  {
   "cell_type": "code",
   "execution_count": 9,
   "metadata": {},
   "outputs": [
    {
     "data": {
      "image/png": "[encoded data removed]"
     },
     "execution_count": 9,
     "metadata": {},
     "output_type": "execute_result"
    }
   ],
   "source": [
    "u₀ = @. exp(-100*x^2)\n",
    "\n",
    "plot(x, u₀, linewidth=2, label=\"\")"
   ]
  },
  {
   "cell_type": "markdown",
   "metadata": {},
   "source": [
    "We'll pick 30 equally spaced times between $t = 0$ and $t = 0.1$ to save the state of the PDE."
   ]
  },
  {
   "cell_type": "code",
   "execution_count": 10,
   "metadata": {},
   "outputs": [
    {
     "data": {
      "text/plain": [
       "0.0:0.0034482758620689655:0.1"
      ]
     },
     "execution_count": 10,
     "metadata": {},
     "output_type": "execute_result"
    }
   ],
   "source": [
    "tspan = (0.0, 0.1)\n",
    "datasize = 30\n",
    "t = range(tspan[1], tspan[2], length=datasize)"
   ]
  },
  {
   "cell_type": "markdown",
   "metadata": {},
   "source": [
    "Set up and solve the PDE."
   ]
  },
  {
   "cell_type": "code",
   "execution_count": 11,
   "metadata": {},
   "outputs": [
    {
     "data": {
      "text/plain": [
       "16×30 Array{Float64,2}:\n",
       " 1.38879e-11  0.000160344  0.00215047  …  0.158223  0.159223  0.160099\n",
       " 6.99705e-9   0.00087666   0.00636828     0.159464  0.160304  0.161033\n",
       " 1.44928e-6   0.00462848   0.0199546      0.161636  0.16221   0.16272 \n",
       " 0.00012341   0.020396     0.0546109      0.164632  0.16482   0.164975\n",
       " 0.00432024   0.0726686    0.126828       0.167703  0.167515  0.16736 \n",
       " 0.0621765    0.201762     0.245097    …  0.170699  0.170125  0.169615\n",
       " 0.367879     0.417262     0.386382       0.172871  0.172031  0.171302\n",
       " 0.894839     0.611587     0.48795        0.174112  0.173112  0.172236\n",
       " 0.894839     0.611587     0.48795        0.174112  0.173112  0.172236\n",
       " 0.367879     0.417262     0.386382       0.172871  0.172031  0.171302\n",
       " 0.0621765    0.201762     0.245097    …  0.170699  0.170125  0.169615\n",
       " 0.00432024   0.0726686    0.126828       0.167703  0.167515  0.16736 \n",
       " 0.00012341   0.020396     0.0546109      0.164632  0.16482   0.164975\n",
       " 1.44928e-6   0.00462848   0.0199546      0.161636  0.16221   0.16272 \n",
       " 6.99705e-9   0.00087666   0.00636828     0.159464  0.160304  0.161033\n",
       " 1.38879e-11  0.000160344  0.00215047  …  0.158223  0.159223  0.160099"
      ]
     },
     "execution_count": 11,
     "metadata": {},
     "output_type": "execute_result"
    }
   ],
   "source": [
    "prob = ODEProblem(diffusion, u₀, tspan)\n",
    "ode_data = Array(solve(prob, Tsit5(), saveat=t))"
   ]
  },
  {
   "cell_type": "markdown",
   "metadata": {},
   "source": [
    "Let's plot the solution"
   ]
  },
  {
   "cell_type": "code",
   "execution_count": 13,
   "metadata": {},
   "outputs": [
    {
     "name": "stderr",
     "output_type": "stream",
     "text": [
      "┌ Info: Saved animation to \n",
      "│   fn = /home/gridsan/aramadhan/6S898-climate-parameterization/notebooks/tmp.gif\n",
      "└ @ Plots /home/gridsan/aramadhan/.julia/packages/Plots/Iuc9S/src/animation.jl:95\n"
     ]
    },
    {
     "data": {
      "text/html": [
       "<img src=\"tmp.gif\" />"
      ],
      "text/plain": [
       "Plots.AnimatedGif(\"/home/gridsan/aramadhan/6S898-climate-parameterization/notebooks/tmp.gif\")"
      ]
     },
     "execution_count": 13,
     "metadata": {},
     "output_type": "execute_result"
    }
   ],
   "source": [
    "@gif for n=1:datasize\n",
    "    plot(x, ode_data[:, n], linewidth=2, ylim=(0, 1), label=\"\", show=false)\n",
    "end"
   ]
  },
  {
   "cell_type": "markdown",
   "metadata": {},
   "source": [
    "Now let's create a two-layer neural network to see if we can learn diffusion"
   ]
  },
  {
   "cell_type": "code",
   "execution_count": 16,
   "metadata": {},
   "outputs": [
    {
     "data": {
      "text/plain": [
       "Chain(Dense(16, 100, tanh), Dense(100, 16))"
      ]
     },
     "execution_count": 16,
     "metadata": {},
     "output_type": "execute_result"
    }
   ],
   "source": [
    "dudt_NN = Chain(Dense(N, 100, tanh),\n",
    "             Dense(100, N))"
   ]
  },
  {
   "cell_type": "markdown",
   "metadata": {},
   "source": [
    "Set up a neural PDE that solves the system of ODEs described by\n",
    "\n",
    "$$ \\frac{\\partial u}{\\partial t} = \\text{NN}(u) $$"
   ]
  },
  {
   "cell_type": "code",
   "execution_count": 18,
   "metadata": {},
   "outputs": [
    {
     "data": {
      "text/plain": [
       "#5 (generic function with 1 method)"
      ]
     },
     "execution_count": 18,
     "metadata": {},
     "output_type": "execute_result"
    }
   ],
   "source": [
    "ps = Flux.params(dudt_NN)\n",
    "neural_pde_prediction = u₀ -> neural_ode(dudt_NN, u₀, tspan, Tsit5(), saveat=t, reltol=1e-7, abstol=1e-9)"
   ]
  },
  {
   "cell_type": "markdown",
   "metadata": {},
   "source": [
    "Define the loss/objective function to be\n",
    "\n",
    "$$ \\left| u(x, t) - u_{NN}(x, t) \\right|^2 \\approx \\sum_{n=1}^{N_t} \\sum_{i=1}^{N_x} \\left| u_i^n - (u_{NN})_i^n \\right|^2 $$"
   ]
  },
  {
   "cell_type": "code",
   "execution_count": 19,
   "metadata": {},
   "outputs": [
    {
     "data": {
      "text/plain": [
       "loss_function (generic function with 1 method)"
      ]
     },
     "execution_count": 19,
     "metadata": {},
     "output_type": "execute_result"
    }
   ],
   "source": [
    "loss_function() = sum(abs2, ode_data .- neural_pde_prediction(u₀))"
   ]
  },
  {
   "cell_type": "markdown",
   "metadata": {},
   "source": [
    "Use the Adam optimization algorithm (adaptive moment estimation?). Seems to be recommended as a good default."
   ]
  },
  {
   "cell_type": "code",
   "execution_count": 20,
   "metadata": {},
   "outputs": [
    {
     "data": {
      "text/plain": [
       "ADAM(0.1, (0.9, 0.999), IdDict{Any,Any}())"
      ]
     },
     "execution_count": 20,
     "metadata": {},
     "output_type": "execute_result"
    }
   ],
   "source": [
    "data = Iterators.repeated((), 1000)  # Not sure what this does...\n",
    "opt = ADAM(0.1)"
   ]
  },
  {
   "cell_type": "markdown",
   "metadata": {},
   "source": [
    "Define a callback function to observe training in progress and stop once loss is acceptable."
   ]
  },
  {
   "cell_type": "code",
   "execution_count": 21,
   "metadata": {},
   "outputs": [
    {
     "name": "stdout",
     "output_type": "stream",
     "text": [
      "loss = 34.273596938328204 (tracked)\n"
     ]
    },
    {
     "data": {
      "text/plain": [
       "false"
      ]
     },
     "execution_count": 21,
     "metadata": {},
     "output_type": "execute_result"
    }
   ],
   "source": [
    "cb = function ()\n",
    "  loss = loss_function()\n",
    "  println(\"loss = $loss\")\n",
    "  loss < 0.1 && Flux.stop()\n",
    "end\n",
    "\n",
    "cb()"
   ]
  },
  {
   "cell_type": "markdown",
   "metadata": {},
   "source": [
    "Training!"
   ]
  },
  {
   "cell_type": "code",
   "execution_count": 24,
   "metadata": {},
   "outputs": [
    {
     "name": "stdout",
     "output_type": "stream",
     "text": [
      "loss = 18.11951469735577 (tracked)\n",
      "loss = 28.107671508293638 (tracked)\n",
      "loss = 4.328431063850267 (tracked)\n",
      "loss = 8.28430574317708 (tracked)\n",
      "loss = 6.924196766144397 (tracked)\n",
      "loss = 3.019241189654479 (tracked)\n",
      "loss = 4.008298484794201 (tracked)\n",
      "loss = 5.840403337656129 (tracked)\n",
      "loss = 2.338185429252329 (tracked)\n",
      "loss = 4.0677154012769705 (tracked)\n",
      "loss = 4.62279976064551 (tracked)\n",
      "loss = 2.41761599420033 (tracked)\n",
      "loss = 1.780022118343593 (tracked)\n",
      "loss = 3.6248358952887774 (tracked)\n",
      "loss = 1.6584211104351354 (tracked)\n",
      "loss = 1.2845198290747533 (tracked)\n",
      "loss = 1.9849795902505512 (tracked)\n",
      "loss = 1.8358079209649756 (tracked)\n",
      "loss = 1.2754690851043986 (tracked)\n",
      "loss = 1.2967433712916776 (tracked)\n",
      "loss = 1.387559426876048 (tracked)\n",
      "loss = 0.9566162729755848 (tracked)\n",
      "loss = 0.9292443423576888 (tracked)\n",
      "loss = 1.2079394158540124 (tracked)\n",
      "loss = 1.1041354502751142 (tracked)\n",
      "loss = 0.724862934435269 (tracked)\n",
      "loss = 0.5951120771249366 (tracked)\n",
      "loss = 0.7425156464279931 (tracked)\n",
      "loss = 0.7208437301954547 (tracked)\n",
      "loss = 0.5446485282831168 (tracked)\n",
      "loss = 0.5003982786014733 (tracked)\n",
      "loss = 0.5228359931446408 (tracked)\n",
      "loss = 0.47553564692146016 (tracked)\n",
      "loss = 0.4321955244062677 (tracked)\n",
      "loss = 0.4614823828664539 (tracked)\n",
      "loss = 0.4711170115097193 (tracked)\n",
      "loss = 0.4190507361013491 (tracked)\n",
      "loss = 0.3900994494364533 (tracked)\n",
      "loss = 0.3977258445682004 (tracked)\n",
      "loss = 0.40118290049982586 (tracked)\n",
      "loss = 0.39539649110329816 (tracked)\n",
      "loss = 0.3733957838703494 (tracked)\n",
      "loss = 0.34005929658588757 (tracked)\n",
      "loss = 0.3329397582834172 (tracked)\n",
      "loss = 0.35081754767971013 (tracked)\n",
      "loss = 0.34794682367951196 (tracked)\n",
      "loss = 0.32840276874139 (tracked)\n",
      "loss = 0.3266983494332019 (tracked)\n",
      "loss = 0.3321202267645877 (tracked)\n",
      "loss = 0.3263298686904552 (tracked)\n",
      "loss = 0.3235393703950738 (tracked)\n",
      "loss = 0.3285563256896705 (tracked)\n",
      "loss = 0.32321824286457085 (tracked)\n",
      "loss = 0.3093907979931395 (tracked)\n",
      "loss = 0.30651271017838844 (tracked)\n",
      "loss = 0.3108925855277727 (tracked)\n",
      "loss = 0.3070153092710275 (tracked)\n",
      "loss = 0.2988214342357765 (tracked)\n",
      "loss = 0.29575167969323213 (tracked)\n",
      "loss = 0.29528785875951924 (tracked)\n",
      "loss = 0.29443531080045204 (tracked)\n",
      "loss = 0.29369921758829787 (tracked)\n",
      "loss = 0.2913913437392774 (tracked)\n",
      "loss = 0.28825362036211616 (tracked)\n",
      "loss = 0.2870926823298899 (tracked)\n",
      "loss = 0.28597956709854966 (tracked)\n",
      "loss = 0.28329108037279177 (tracked)\n",
      "loss = 0.281525829104436 (tracked)\n",
      "loss = 0.2798855825394609 (tracked)\n",
      "loss = 0.2764284868712562 (tracked)\n",
      "loss = 0.27442764663619024 (tracked)\n",
      "loss = 0.27490167397665316 (tracked)\n",
      "loss = 0.27343882067241976 (tracked)\n",
      "loss = 0.2699893683179811 (tracked)\n",
      "loss = 0.2687600233188626 (tracked)\n",
      "loss = 0.2688762841064943 (tracked)\n",
      "loss = 0.2671407595978284 (tracked)\n",
      "loss = 0.26482614861589415 (tracked)\n",
      "loss = 0.26353402435494305 (tracked)\n",
      "loss = 0.2621045018963058 (tracked)\n",
      "loss = 0.26036725857530846 (tracked)\n",
      "loss = 0.2590621879534175 (tracked)\n",
      "loss = 0.2576312447168015 (tracked)\n",
      "loss = 0.2558551994169186 (tracked)\n",
      "loss = 0.2544457900333822 (tracked)\n",
      "loss = 0.2533479879337489 (tracked)\n",
      "loss = 0.2520569517419864 (tracked)\n",
      "loss = 0.2505071816393855 (tracked)\n",
      "loss = 0.2489096435606434 (tracked)\n",
      "loss = 0.24760333262715625 (tracked)\n",
      "loss = 0.24641236402283728 (tracked)\n",
      "loss = 0.24478927459468644 (tracked)\n",
      "loss = 0.2430894530678877 (tracked)\n",
      "loss = 0.2418283147477925 (tracked)\n",
      "loss = 0.24050265339740787 (tracked)\n",
      "loss = 0.23889015216194023 (tracked)\n",
      "loss = 0.23746499881973424 (tracked)\n",
      "loss = 0.23611950360412448 (tracked)\n",
      "loss = 0.23459474976082725 (tracked)\n",
      "loss = 0.23314116122676387 (tracked)\n",
      "loss = 0.23174096401774535 (tracked)\n",
      "loss = 0.23019592065193212 (tracked)\n",
      "loss = 0.22866862875371638 (tracked)\n",
      "loss = 0.22722489319963057 (tracked)\n",
      "loss = 0.22573218724393693 (tracked)\n",
      "loss = 0.22420748631468795 (tracked)\n",
      "loss = 0.22268986404663796 (tracked)\n",
      "loss = 0.22118627189863432 (tracked)\n",
      "loss = 0.21970005811792992 (tracked)\n",
      "loss = 0.21816501185938442 (tracked)\n",
      "loss = 0.21659850606511372 (tracked)\n",
      "loss = 0.21506459066057335 (tracked)\n",
      "loss = 0.2135149691116706 (tracked)\n",
      "loss = 0.21193254075383813 (tracked)\n",
      "loss = 0.21034563883374263 (tracked)\n",
      "loss = 0.20874666289590726 (tracked)\n",
      "loss = 0.20715501833453046 (tracked)\n",
      "loss = 0.20555414257198895 (tracked)\n",
      "loss = 0.20391289568532373 (tracked)\n",
      "loss = 0.20227965882637752 (tracked)\n",
      "loss = 0.20065152910907802 (tracked)\n",
      "loss = 0.19898570454121994 (tracked)\n",
      "loss = 0.19731348196282766 (tracked)\n",
      "loss = 0.19564307633136035 (tracked)\n",
      "loss = 0.19395349829936945 (tracked)\n",
      "loss = 0.19225946359675217 (tracked)\n",
      "loss = 0.19055961975456936 (tracked)\n",
      "loss = 0.18884707799105072 (tracked)\n",
      "loss = 0.1871315386894165 (tracked)\n",
      "loss = 0.1854111726591656 (tracked)\n",
      "loss = 0.18368155716274884 (tracked)\n",
      "loss = 0.1819424114811747 (tracked)\n",
      "loss = 0.1802000768464836 (tracked)\n",
      "loss = 0.17845576644512745 (tracked)\n",
      "loss = 0.1766997827479267 (tracked)\n",
      "loss = 0.17493923391992597 (tracked)\n",
      "loss = 0.1731783843375746 (tracked)\n",
      "loss = 0.1714080720583869 (tracked)\n",
      "loss = 0.16963247013239213 (tracked)\n",
      "loss = 0.16785204363232775 (tracked)\n",
      "loss = 0.16606399375936853 (tracked)\n",
      "loss = 0.16427174334059805 (tracked)\n",
      "loss = 0.16247209341235158 (tracked)\n",
      "loss = 0.16066582792932999 (tracked)\n",
      "loss = 0.15885576750694783 (tracked)\n",
      "loss = 0.1570398002578671 (tracked)\n",
      "loss = 0.15521883949363843 (tracked)\n",
      "loss = 0.15339354103569505 (tracked)\n",
      "loss = 0.15156531634402812 (tracked)\n",
      "loss = 0.149734624810227 (tracked)\n",
      "loss = 0.1479008009084682 (tracked)\n",
      "loss = 0.14606671624555823 (tracked)\n",
      "loss = 0.14423287913582647 (tracked)\n",
      "loss = 0.14239978374828652 (tracked)\n",
      "loss = 0.1405691011670103 (tracked)\n",
      "loss = 0.13874151823232436 (tracked)\n",
      "loss = 0.1369186297318641 (tracked)\n",
      "loss = 0.13510065294029408 (tracked)\n",
      "loss = 0.1332887282854299 (tracked)\n",
      "loss = 0.13148459023645265 (tracked)\n",
      "loss = 0.12968813888001055 (tracked)\n",
      "loss = 0.12790081355256067 (tracked)\n",
      "loss = 0.12612340824257412 (tracked)\n",
      "loss = 0.12435658590554798 (tracked)\n",
      "loss = 0.12260131608006636 (tracked)\n",
      "loss = 0.12085824978436742 (tracked)\n",
      "loss = 0.11912818557482883 (tracked)\n",
      "loss = 0.11741185924610734 (tracked)\n",
      "loss = 0.11571008595299363 (tracked)\n",
      "loss = 0.11402327875771795 (tracked)\n",
      "loss = 0.11235230780986205 (tracked)\n",
      "loss = 0.1106979235431892 (tracked)\n",
      "loss = 0.10906043714366892 (tracked)\n",
      "loss = 0.10744073112333519 (tracked)\n",
      "loss = 0.10583922158486027 (tracked)\n",
      "loss = 0.10425647914318725 (tracked)\n",
      "loss = 0.10269305404126489 (tracked)\n",
      "loss = 0.10114936859666435 (tracked)\n",
      "loss = 0.09962591930895916 (tracked)\n"
     ]
    }
   ],
   "source": [
    "Flux.train!(loss_function, ps, data, opt, cb = cb)"
   ]
  },
  {
   "cell_type": "markdown",
   "metadata": {},
   "source": [
    "Let's see how well it fit the training data."
   ]
  },
  {
   "cell_type": "code",
   "execution_count": 25,
   "metadata": {},
   "outputs": [
    {
     "name": "stderr",
     "output_type": "stream",
     "text": [
      "┌ Info: Saved animation to \n",
      "│   fn = /home/gridsan/aramadhan/6S898-climate-parameterization/notebooks/tmp.gif\n",
      "└ @ Plots /home/gridsan/aramadhan/.julia/packages/Plots/Iuc9S/src/animation.jl:95\n"
     ]
    },
    {
     "data": {
      "text/html": [
       "<img src=\"tmp.gif\" />"
      ],
      "text/plain": [
       "Plots.AnimatedGif(\"/home/gridsan/aramadhan/6S898-climate-parameterization/notebooks/tmp.gif\")"
      ]
     },
     "execution_count": 25,
     "metadata": {},
     "output_type": "execute_result"
    }
   ],
   "source": [
    "nn_pred = Flux.data(n_ode(u₀))\n",
    "\n",
    "@gif for n=1:datasize\n",
    "    plot(x, ode_data[:, n], linewidth=2, ylim=(0, 1), label=\"data\", show=false)\n",
    "    plot!(x, nn_pred[:, n], linewidth=2, ylim=(0, 1), label=\"Neural PDE\", show=false)\n",
    "end"
   ]
  },
  {
   "cell_type": "markdown",
   "metadata": {},
   "source": [
    "Let's see how well it fits\n",
    "\n",
    "$$ u_0(x) = 1 - cos(2\\pi x) $$"
   ]
  },
  {
   "cell_type": "code",
   "execution_count": 31,
   "metadata": {},
   "outputs": [
    {
     "name": "stderr",
     "output_type": "stream",
     "text": [
      "┌ Info: Saved animation to \n",
      "│   fn = /home/gridsan/aramadhan/6S898-climate-parameterization/notebooks/tmp.gif\n",
      "└ @ Plots /home/gridsan/aramadhan/.julia/packages/Plots/Iuc9S/src/animation.jl:95\n"
     ]
    },
    {
     "data": {
      "text/html": [
       "<img src=\"tmp.gif\" />"
      ],
      "text/plain": [
       "Plots.AnimatedGif(\"/home/gridsan/aramadhan/6S898-climate-parameterization/notebooks/tmp.gif\")"
      ]
     },
     "execution_count": 31,
     "metadata": {},
     "output_type": "execute_result"
    }
   ],
   "source": [
    "u₀_cos = @. 1 - cos(2π * x)\n",
    "\n",
    "prob = ODEProblem(diffusion, u₀_cos, tspan)\n",
    "ode_data = Array(solve(prob, Tsit5(), saveat=t))\n",
    "\n",
    "nn_pred = Flux.data(n_ode(u₀_cos))\n",
    "@gif for n=1:datasize\n",
    "    plot(x, ode_data[:, n], linewidth=2, ylim=(0, 2), label=\"data\", show=false)\n",
    "    plot!(x, nn_pred[:, n], linewidth=2, ylim=(0, 2), label=\"Neural ODE\", show=false)\n",
    "end"
   ]
  },
  {
   "cell_type": "code",
   "execution_count": null,
   "metadata": {},
   "outputs": [],
   "source": [
    "plot(1:10)"
   ]
  },
  {
   "cell_type": "code",
   "execution_count": null,
   "metadata": {},
   "outputs": [],
   "source": []
  }
 ],
 "metadata": {
  "kernelspec": {
   "display_name": "Julia latest",
   "language": "julia",
   "name": "julia-latest"
  },
  "language_info": {
   "file_extension": ".jl",
   "mimetype": "application/julia",
   "name": "julia",
   "version": "1.1.1"
  }
 },
 "nbformat": 4,
 "nbformat_minor": 2
}
