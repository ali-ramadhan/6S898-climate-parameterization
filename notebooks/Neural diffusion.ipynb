{
 "cells": [
  {
   "cell_type": "markdown",
   "metadata": {},
   "source": [
    "# Learning diffusion with a neural partial differential equation"
   ]
  },
  {
   "cell_type": "code",
   "execution_count": null,
   "metadata": {},
   "outputs": [],
   "source": [
    "using LinearAlgebra\n",
    "\n",
    "using DifferentialEquations\n",
    "using Flux\n",
    "using DiffEqFlux\n",
    "using Plots"
   ]
  },
  {
   "cell_type": "markdown",
   "metadata": {},
   "source": [
    "We want to solve the heat (or diffusion) equation\n",
    "\n",
    "$$\\frac{\\partial u}{\\partial t} = \\kappa \\frac{\\partial^2 u}{\\partial x^2}, \\quad x \\in \\left[-\\frac{1}{2}, \\frac{1}{2}\\right], \\quad x\\left(-\\frac{1}{2}\\right) = x\\left(\\frac{1}{2}\\right)$$\n",
    "\n",
    "Let's go with $N = 16$ grid points and $\\kappa = 1$."
   ]
  },
  {
   "cell_type": "code",
   "execution_count": null,
   "metadata": {},
   "outputs": [],
   "source": [
    "const N = 16\n",
    "const L = 1\n",
    "const Δx = L / N\n",
    "const κ = 1"
   ]
  },
  {
   "cell_type": "markdown",
   "metadata": {},
   "source": [
    "Discretizing the spatial derivative with a second-order centered finite-difference\n",
    "\n",
    "$$\\frac{\\partial^2 u}{\\partial x^2} \\approx \\frac{u_{i-1} - 2u_i + u_{i+1}}{\\Delta x^2}$$"
   ]
  },
  {
   "cell_type": "code",
   "execution_count": null,
   "metadata": {},
   "outputs": [],
   "source": [
    " d = -2 * ones(N)\n",
    "sd = ones(N-1)\n",
    "A = Array(Tridiagonal(sd, d, sd))\n",
    "A[1, N] = 1\n",
    "A[N, 1] = 1\n",
    "A_diffusion = (κ/Δx^2) .* A\n",
    "\n",
    "function diffusion(∂u∂t, u, p, t)\n",
    "    ∂u∂t .= A_diffusion * u\n",
    "    return \n",
    "end"
   ]
  },
  {
   "cell_type": "code",
   "execution_count": null,
   "metadata": {},
   "outputs": [],
   "source": [
    "x = range(-L/2, L/2, length=N)\n",
    "u₀ = @. exp(-100*x^2)\n",
    "tspan = (0.0, 0.1)"
   ]
  },
  {
   "cell_type": "code",
   "execution_count": null,
   "metadata": {},
   "outputs": [],
   "source": [
    "datasize = 30\n",
    "t = range(tspan[1], tspan[2], length=datasize)"
   ]
  },
  {
   "cell_type": "code",
   "execution_count": null,
   "metadata": {},
   "outputs": [],
   "source": [
    "prob = ODEProblem(diffusion, u₀, tspan)\n",
    "ode_data = Array(solve(prob, Tsit5(), saveat=t))"
   ]
  },
  {
   "cell_type": "code",
   "execution_count": null,
   "metadata": {},
   "outputs": [],
   "source": [
    "dudt = Chain(Dense(N, 100, tanh),\n",
    "             Dense(100, N))"
   ]
  },
  {
   "cell_type": "code",
   "execution_count": null,
   "metadata": {},
   "outputs": [],
   "source": [
    "ps = Flux.params(dudt)\n",
    "n_ode = x -> neural_ode(dudt, x, tspan, Tsit5(), saveat=t, reltol=1e-7, abstol=1e-9)"
   ]
  },
  {
   "cell_type": "code",
   "execution_count": null,
   "metadata": {},
   "outputs": [],
   "source": [
    "pred = n_ode(u₀)\n",
    "\n",
    "function predict_n_ode()\n",
    "  n_ode(u₀)\n",
    "end"
   ]
  },
  {
   "cell_type": "code",
   "execution_count": null,
   "metadata": {},
   "outputs": [],
   "source": [
    "loss_n_ode() = sum(abs2, ode_data .- predict_n_ode())"
   ]
  },
  {
   "cell_type": "code",
   "execution_count": null,
   "metadata": {},
   "outputs": [],
   "source": [
    "data = Iterators.repeated((), 1000)\n",
    "opt = ADAM(0.1)"
   ]
  },
  {
   "cell_type": "code",
   "execution_count": null,
   "metadata": {},
   "outputs": [],
   "source": [
    "cb = function ()  # callback function to observe training\n",
    "  loss = loss_n_ode()\n",
    "  println(\"loss = $loss\")\n",
    "  loss < 0.1 && Flux.stop()\n",
    "end\n",
    "\n",
    "cb()"
   ]
  },
  {
   "cell_type": "code",
   "execution_count": null,
   "metadata": {},
   "outputs": [],
   "source": [
    "Flux.train!(loss_n_ode, ps, data, opt, cb = cb)"
   ]
  },
  {
   "cell_type": "code",
   "execution_count": null,
   "metadata": {},
   "outputs": [],
   "source": [
    "nn_pred = Flux.data(n_ode(u₀))\n",
    "\n",
    "@gif for n=1:datasize\n",
    "    plot(x, ode_data[:, n], linewidth=2, ylim=(0, 1), label=\"data\", show=false)\n",
    "    plot!(x, nn_pred[:, n], linewidth=2, ylim=(0, 1), label=\"Neural ODE\", show=false)\n",
    "end"
   ]
  },
  {
   "cell_type": "code",
   "execution_count": null,
   "metadata": {},
   "outputs": [],
   "source": [
    "u₀_cos = @. 1 + cos(2π * x)\n",
    "\n",
    "prob = ODEProblem(diffusion, u₀_cos, tspan)\n",
    "ode_data = Array(solve(prob, Tsit5(), saveat=t))\n",
    "\n",
    "nn_pred = Flux.data(n_ode(u₀_cos))\n",
    "@gif for n=1:datasize\n",
    "    plot(x, ode_data[:, n], ylim=(0, 2), label=\"data\", show=false)\n",
    "    plot!(x, nn_pred[:, n], ylim=(0, 2), label=\"Neural ODE\", show=false)\n",
    "end"
   ]
  },
  {
   "cell_type": "code",
   "execution_count": null,
   "metadata": {},
   "outputs": [],
   "source": [
    "plot(1:10)"
   ]
  },
  {
   "cell_type": "code",
   "execution_count": null,
   "metadata": {},
   "outputs": [],
   "source": []
  }
 ],
 "metadata": {
  "kernelspec": {
   "display_name": "Julia latest",
   "language": "julia",
   "name": "julia-latest"
  },
  "language_info": {
   "file_extension": ".jl",
   "mimetype": "application/julia",
   "name": "julia",
   "version": "1.1.1"
  }
 },
 "nbformat": 4,
 "nbformat_minor": 2
}
