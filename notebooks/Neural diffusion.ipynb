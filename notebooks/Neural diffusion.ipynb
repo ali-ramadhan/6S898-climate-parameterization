{
 "cells": [
  {
   "cell_type": "markdown",
   "metadata": {},
   "source": [
    "# Learning diffusion with a neural partial differential equation"
   ]
  },
  {
   "cell_type": "code",
   "execution_count": 47,
   "metadata": {},
   "outputs": [],
   "source": [
    "using LinearAlgebra\n",
    "\n",
    "using DifferentialEquations\n",
    "using Flux\n",
    "using DiffEqFlux\n",
    "\n",
    "using Plots\n",
    "default(fmt = :png)"
   ]
  },
  {
   "cell_type": "markdown",
   "metadata": {},
   "source": [
    "We want to solve the heat (or diffusion) equation\n",
    "\n",
    "$$\\frac{\\partial u}{\\partial t} = \\kappa \\frac{\\partial^2 u}{\\partial x^2}, \\quad x \\in \\left[-\\frac{1}{2}, \\frac{1}{2}\\right], \\quad x\\left(-\\frac{1}{2}\\right) = x\\left(\\frac{1}{2}\\right)$$\n",
    "\n",
    "Let's go with $N = 16$ grid points and $\\kappa = 1$."
   ]
  },
  {
   "cell_type": "code",
   "execution_count": 48,
   "metadata": {},
   "outputs": [
    {
     "data": {
      "text/plain": [
       "-0.5:0.06666666666666667:0.5"
      ]
     },
     "execution_count": 48,
     "metadata": {},
     "output_type": "execute_result"
    }
   ],
   "source": [
    "const N = 16\n",
    "const L = 1\n",
    "const Δx = L / N\n",
    "const κ = 1\n",
    "\n",
    "x = range(-L/2, L/2, length=N)"
   ]
  },
  {
   "cell_type": "markdown",
   "metadata": {},
   "source": [
    "Discretizing the spatial derivative with a second-order centered finite-difference\n",
    "\n",
    "$$\\frac{\\partial u_i}{\\partial t} = \\frac{\\partial^2 u}{\\partial x^2} \\approx \\kappa \\frac{u_{i-1} - 2u_i + u_{i+1}}{\\Delta x^2}$$\n",
    "\n",
    "we get a system of $N$ coupled ODEs which can be described as\n",
    "\n",
    "$$ \\frac{\\partial u}{\\partial t} = Au $$\n",
    "\n",
    "where $A$ is a matrix."
   ]
  },
  {
   "cell_type": "code",
   "execution_count": 49,
   "metadata": {},
   "outputs": [
    {
     "data": {
      "text/plain": [
       "diffusion (generic function with 1 method)"
      ]
     },
     "execution_count": 49,
     "metadata": {},
     "output_type": "execute_result"
    }
   ],
   "source": [
    " d = -2 * ones(N) # Diagonal\n",
    "sd = ones(N-1)    # Sub-diagonals\n",
    "A = Array(Tridiagonal(sd, d, sd))\n",
    "\n",
    "# Impose periodic boundary conditions\n",
    "A[1, N] = 1\n",
    "A[N, 1] = 1\n",
    "\n",
    "# Dimensionalize A\n",
    "A_diffusion = (κ/Δx^2) .* A\n",
    "\n",
    "function diffusion(∂u∂t, u, p, t)\n",
    "    ∂u∂t .= A_diffusion * u\n",
    "    return \n",
    "end"
   ]
  },
  {
   "cell_type": "markdown",
   "metadata": {},
   "source": [
    "Let's generate an initial condition\n",
    "\n",
    "$$ u_0(x) = e^{-100x^2} $$"
   ]
  },
  {
   "cell_type": "code",
   "execution_count": 50,
   "metadata": {},
   "outputs": [
    {
     "data": {
      "image/png": "[encoded data removed]"
     },
     "execution_count": 50,
     "metadata": {},
     "output_type": "execute_result"
    }
   ],
   "source": [
    "u₀ = @. exp(-100*x^2)\n",
    "\n",
    "plot(x, u₀, linewidth=2, label=\"\")"
   ]
  },
  {
   "cell_type": "markdown",
   "metadata": {},
   "source": [
    "We'll pick 30 equally spaced times between $t = 0$ and $t = 0.1$ to save the state of the PDE."
   ]
  },
  {
   "cell_type": "code",
   "execution_count": 51,
   "metadata": {},
   "outputs": [
    {
     "data": {
      "text/plain": [
       "0.0:0.0034482758620689655:0.1"
      ]
     },
     "execution_count": 51,
     "metadata": {},
     "output_type": "execute_result"
    }
   ],
   "source": [
    "tspan = (0.0, 0.1)\n",
    "datasize = 30\n",
    "t = range(tspan[1], tspan[2], length=datasize)"
   ]
  },
  {
   "cell_type": "markdown",
   "metadata": {},
   "source": [
    "Set up and solve the PDE."
   ]
  },
  {
   "cell_type": "code",
   "execution_count": 37,
   "metadata": {},
   "outputs": [
    {
     "data": {
      "text/plain": [
       "16×30 Array{Float64,2}:\n",
       " 1.38879e-11  0.000160344  0.00215047  …  0.158223  0.159223  0.160099\n",
       " 6.99705e-9   0.00087666   0.00636828     0.159464  0.160304  0.161033\n",
       " 1.44928e-6   0.00462848   0.0199546      0.161636  0.16221   0.16272 \n",
       " 0.00012341   0.020396     0.0546109      0.164632  0.16482   0.164975\n",
       " 0.00432024   0.0726686    0.126828       0.167703  0.167515  0.16736 \n",
       " 0.0621765    0.201762     0.245097    …  0.170699  0.170125  0.169615\n",
       " 0.367879     0.417262     0.386382       0.172871  0.172031  0.171302\n",
       " 0.894839     0.611587     0.48795        0.174112  0.173112  0.172236\n",
       " 0.894839     0.611587     0.48795        0.174112  0.173112  0.172236\n",
       " 0.367879     0.417262     0.386382       0.172871  0.172031  0.171302\n",
       " 0.0621765    0.201762     0.245097    …  0.170699  0.170125  0.169615\n",
       " 0.00432024   0.0726686    0.126828       0.167703  0.167515  0.16736 \n",
       " 0.00012341   0.020396     0.0546109      0.164632  0.16482   0.164975\n",
       " 1.44928e-6   0.00462848   0.0199546      0.161636  0.16221   0.16272 \n",
       " 6.99705e-9   0.00087666   0.00636828     0.159464  0.160304  0.161033\n",
       " 1.38879e-11  0.000160344  0.00215047  …  0.158223  0.159223  0.160099"
      ]
     },
     "execution_count": 37,
     "metadata": {},
     "output_type": "execute_result"
    }
   ],
   "source": [
    "prob = ODEProblem(diffusion, u₀, tspan)\n",
    "ode_data = Array(solve(prob, Tsit5(), saveat=t))"
   ]
  },
  {
   "cell_type": "markdown",
   "metadata": {},
   "source": [
    "Let's plot the solution"
   ]
  },
  {
   "cell_type": "code",
   "execution_count": 38,
   "metadata": {},
   "outputs": [
    {
     "name": "stderr",
     "output_type": "stream",
     "text": [
      "┌ Info: Saved animation to \n",
      "│   fn = /home/gridsan/aramadhan/6S898-climate-parameterization/notebooks/tmp.gif\n",
      "└ @ Plots /home/gridsan/aramadhan/.julia/packages/Plots/Iuc9S/src/animation.jl:95\n"
     ]
    },
    {
     "data": {
      "text/html": [
       "<img src=\"tmp.gif\" />"
      ],
      "text/plain": [
       "Plots.AnimatedGif(\"/home/gridsan/aramadhan/6S898-climate-parameterization/notebooks/tmp.gif\")"
      ]
     },
     "execution_count": 38,
     "metadata": {},
     "output_type": "execute_result"
    }
   ],
   "source": [
    "@gif for n=1:datasize\n",
    "    plot(x, ode_data[:, n], linewidth=2, ylim=(0, 1), label=\"\", show=false)\n",
    "end"
   ]
  },
  {
   "cell_type": "markdown",
   "metadata": {},
   "source": [
    "Now let's create a two-layer neural network to see if we can learn diffusion"
   ]
  },
  {
   "cell_type": "code",
   "execution_count": 39,
   "metadata": {},
   "outputs": [
    {
     "data": {
      "text/plain": [
       "Chain(Dense(16, 100, tanh), Dense(100, 16))"
      ]
     },
     "execution_count": 39,
     "metadata": {},
     "output_type": "execute_result"
    }
   ],
   "source": [
    "dudt_NN = Chain(Dense(N, 100, tanh),\n",
    "             Dense(100, N))"
   ]
  },
  {
   "cell_type": "markdown",
   "metadata": {},
   "source": [
    "Set up a neural PDE that solves the system of ODEs described by\n",
    "\n",
    "$$ \\frac{\\partial u}{\\partial t} = \\text{NN}(u) $$"
   ]
  },
  {
   "cell_type": "code",
   "execution_count": 40,
   "metadata": {},
   "outputs": [
    {
     "data": {
      "text/plain": [
       "#9 (generic function with 1 method)"
      ]
     },
     "execution_count": 40,
     "metadata": {},
     "output_type": "execute_result"
    }
   ],
   "source": [
    "ps = Flux.params(dudt_NN)\n",
    "neural_pde_prediction = u₀ -> neural_ode(dudt_NN, u₀, tspan, Tsit5(), saveat=t, reltol=1e-7, abstol=1e-9)"
   ]
  },
  {
   "cell_type": "markdown",
   "metadata": {},
   "source": [
    "Define the loss/objective function to be\n",
    "\n",
    "$$ \\left| u(x, t) - u_{NN}(x, t) \\right|^2 \\approx \\sum_{n=1}^{N_t} \\sum_{i=1}^{N_x} \\left| u_i^n - (u_{NN})_i^n \\right|^2 $$"
   ]
  },
  {
   "cell_type": "code",
   "execution_count": 41,
   "metadata": {},
   "outputs": [
    {
     "data": {
      "text/plain": [
       "loss_function (generic function with 1 method)"
      ]
     },
     "execution_count": 41,
     "metadata": {},
     "output_type": "execute_result"
    }
   ],
   "source": [
    "loss_function() = sum(abs2, ode_data .- neural_pde_prediction(u₀))"
   ]
  },
  {
   "cell_type": "markdown",
   "metadata": {},
   "source": [
    "Use the Adam optimization algorithm (adaptive moment estimation?). Seems to be recommended as a good default."
   ]
  },
  {
   "cell_type": "code",
   "execution_count": 42,
   "metadata": {},
   "outputs": [
    {
     "data": {
      "text/plain": [
       "ADAM(0.1, (0.9, 0.999), IdDict{Any,Any}())"
      ]
     },
     "execution_count": 42,
     "metadata": {},
     "output_type": "execute_result"
    }
   ],
   "source": [
    "data = Iterators.repeated((), 1000)  # Not sure what this does...\n",
    "opt = ADAM(0.1)"
   ]
  },
  {
   "cell_type": "markdown",
   "metadata": {},
   "source": [
    "Define a callback function to observe training in progress and stop once loss is acceptable."
   ]
  },
  {
   "cell_type": "code",
   "execution_count": 43,
   "metadata": {},
   "outputs": [
    {
     "name": "stdout",
     "output_type": "stream",
     "text": [
      "loss = 33.34197700750369 (tracked)\n"
     ]
    },
    {
     "data": {
      "text/plain": [
       "false"
      ]
     },
     "execution_count": 43,
     "metadata": {},
     "output_type": "execute_result"
    }
   ],
   "source": [
    "cb = function ()\n",
    "  loss = loss_function()\n",
    "  println(\"loss = $loss\")\n",
    "  loss < 0.1 && Flux.stop()\n",
    "end\n",
    "\n",
    "cb()"
   ]
  },
  {
   "cell_type": "markdown",
   "metadata": {},
   "source": [
    "Training!"
   ]
  },
  {
   "cell_type": "code",
   "execution_count": 44,
   "metadata": {},
   "outputs": [
    {
     "name": "stdout",
     "output_type": "stream",
     "text": [
      "loss = 17.926888820571254 (tracked)\n",
      "loss = 27.58392192924655 (tracked)\n",
      "loss = 4.436096059577981 (tracked)\n",
      "loss = 6.365652274791027 (tracked)\n",
      "loss = 7.003767163722985 (tracked)\n",
      "loss = 3.8501797654292975 (tracked)\n",
      "loss = 3.055316832798639 (tracked)\n",
      "loss = 5.676762604427069 (tracked)\n",
      "loss = 2.007060492276225 (tracked)\n",
      "loss = 2.9923201047338392 (tracked)\n",
      "loss = 4.2384230532738165 (tracked)\n",
      "loss = 2.9403674301173166 (tracked)\n",
      "loss = 1.3137571196611575 (tracked)\n",
      "loss = 2.449985871602671 (tracked)\n",
      "loss = 2.242163375376426 (tracked)\n",
      "loss = 1.0974804215049425 (tracked)\n",
      "loss = 1.5856040901229822 (tracked)\n",
      "loss = 1.6517605265877797 (tracked)\n",
      "loss = 1.1129404412665935 (tracked)\n",
      "loss = 1.0620493158750177 (tracked)\n",
      "loss = 1.2708736906998115 (tracked)\n",
      "loss = 0.9078674495090876 (tracked)\n",
      "loss = 0.6803745510520981 (tracked)\n",
      "loss = 0.882927405756382 (tracked)\n",
      "loss = 0.9201543841247705 (tracked)\n",
      "loss = 0.6962289506645373 (tracked)\n",
      "loss = 0.6003081858911798 (tracked)\n",
      "loss = 0.6349523441755545 (tracked)\n",
      "loss = 0.5337925134414652 (tracked)\n",
      "loss = 0.4732382839925096 (tracked)\n",
      "loss = 0.5620364311085241 (tracked)\n",
      "loss = 0.5936360939642474 (tracked)\n",
      "loss = 0.47093758812112674 (tracked)\n",
      "loss = 0.3579823901928769 (tracked)\n",
      "loss = 0.41369952200217575 (tracked)\n",
      "loss = 0.4964792013504111 (tracked)\n",
      "loss = 0.4460082971580592 (tracked)\n",
      "loss = 0.38504734967455295 (tracked)\n",
      "loss = 0.38964785039699434 (tracked)\n",
      "loss = 0.3943949889343664 (tracked)\n",
      "loss = 0.3780693837399368 (tracked)\n",
      "loss = 0.37771489249585055 (tracked)\n",
      "loss = 0.388080344646598 (tracked)\n",
      "loss = 0.36498320228567127 (tracked)\n",
      "loss = 0.3275043209005542 (tracked)\n",
      "loss = 0.33139879254539434 (tracked)\n",
      "loss = 0.3606144508547286 (tracked)\n",
      "loss = 0.3609996290400307 (tracked)\n",
      "loss = 0.33126362137052173 (tracked)\n",
      "loss = 0.31412524685728394 (tracked)\n",
      "loss = 0.3236428669547559 (tracked)\n",
      "loss = 0.33252348175776464 (tracked)\n",
      "loss = 0.32593538342541767 (tracked)\n",
      "loss = 0.3153340011344286 (tracked)\n",
      "loss = 0.3088705108396401 (tracked)\n",
      "loss = 0.3056959145073913 (tracked)\n",
      "loss = 0.3062979164532129 (tracked)\n",
      "loss = 0.3084297183320039 (tracked)\n",
      "loss = 0.3042653940617779 (tracked)\n",
      "loss = 0.29545724461087275 (tracked)\n",
      "loss = 0.29305473243714564 (tracked)\n",
      "loss = 0.29662290119491685 (tracked)\n",
      "loss = 0.2961500268946816 (tracked)\n",
      "loss = 0.29035878425342104 (tracked)\n",
      "loss = 0.28634103098081953 (tracked)\n",
      "loss = 0.2858737514036608 (tracked)\n",
      "loss = 0.28454935364636624 (tracked)\n",
      "loss = 0.28173382965137933 (tracked)\n",
      "loss = 0.2797580558210095 (tracked)\n",
      "loss = 0.2778185088491452 (tracked)\n",
      "loss = 0.2750537508796994 (tracked)\n",
      "loss = 0.2732000524855504 (tracked)\n",
      "loss = 0.27244927245370215 (tracked)\n",
      "loss = 0.27068223644656964 (tracked)\n",
      "loss = 0.2679163647716907 (tracked)\n",
      "loss = 0.26602316959343736 (tracked)\n",
      "loss = 0.26484496119727796 (tracked)\n",
      "loss = 0.26312286208499214 (tracked)\n",
      "loss = 0.2610723087863831 (tracked)\n",
      "loss = 0.25927466762332196 (tracked)\n",
      "loss = 0.25750541721202846 (tracked)\n",
      "loss = 0.2557713957733455 (tracked)\n",
      "loss = 0.2542808318155874 (tracked)\n",
      "loss = 0.2526714030066966 (tracked)\n",
      "loss = 0.25079611850212524 (tracked)\n",
      "loss = 0.24908325854850724 (tracked)\n",
      "loss = 0.24756948677338356 (tracked)\n",
      "loss = 0.24592425237942372 (tracked)\n",
      "loss = 0.2441877966943962 (tracked)\n",
      "loss = 0.2424832400341751 (tracked)\n",
      "loss = 0.24076070813119166 (tracked)\n",
      "loss = 0.23913048741120937 (tracked)\n",
      "loss = 0.23759233471183136 (tracked)\n",
      "loss = 0.2358901245215952 (tracked)\n",
      "loss = 0.2341229030770862 (tracked)\n",
      "loss = 0.23257576954948678 (tracked)\n",
      "loss = 0.23104934986451897 (tracked)\n",
      "loss = 0.2293278786163455 (tracked)\n",
      "loss = 0.22764647807362312 (tracked)\n",
      "loss = 0.22609154430974385 (tracked)\n",
      "loss = 0.22446892338506935 (tracked)\n",
      "loss = 0.2228096161495839 (tracked)\n",
      "loss = 0.22120961254301413 (tracked)\n",
      "loss = 0.21958527400488226 (tracked)\n",
      "loss = 0.21795172320279144 (tracked)\n",
      "loss = 0.21636673435297132 (tracked)\n",
      "loss = 0.21473997885054727 (tracked)\n",
      "loss = 0.21308129812780616 (tracked)\n",
      "loss = 0.21148223573529246 (tracked)\n",
      "loss = 0.20986573515597498 (tracked)\n",
      "loss = 0.20819261813486958 (tracked)\n",
      "loss = 0.20656186914688096 (tracked)\n",
      "loss = 0.20494826616699854 (tracked)\n",
      "loss = 0.20328088603540087 (tracked)\n",
      "loss = 0.2016214290610309 (tracked)\n",
      "loss = 0.19999024659249995 (tracked)\n",
      "loss = 0.19833064125204533 (tracked)\n",
      "loss = 0.19665502811421487 (tracked)\n",
      "loss = 0.19498829899547762 (tracked)\n",
      "loss = 0.19331641937857846 (tracked)\n",
      "loss = 0.19163787693833464 (tracked)\n",
      "loss = 0.18994764547109386 (tracked)\n",
      "loss = 0.18824730532263972 (tracked)\n",
      "loss = 0.18655583332668332 (tracked)\n",
      "loss = 0.18485656762049466 (tracked)\n",
      "loss = 0.18313452446469938 (tracked)\n",
      "loss = 0.18141496478775393 (tracked)\n",
      "loss = 0.1796973580372349 (tracked)\n",
      "loss = 0.17796260481032586 (tracked)\n",
      "loss = 0.17621987865214117 (tracked)\n",
      "loss = 0.1744747155223249 (tracked)\n",
      "loss = 0.17272287522424698 (tracked)\n",
      "loss = 0.17096578184038022 (tracked)\n",
      "loss = 0.1691984596844315 (tracked)\n",
      "loss = 0.16742421571680963 (tracked)\n",
      "loss = 0.16565027414831535 (tracked)\n",
      "loss = 0.16386731650407033 (tracked)\n",
      "loss = 0.1620744779234293 (tracked)\n",
      "loss = 0.16028095551182014 (tracked)\n",
      "loss = 0.15848272935184085 (tracked)\n",
      "loss = 0.1566775947752794 (tracked)\n",
      "loss = 0.15486896323970717 (tracked)\n",
      "loss = 0.1530565122758354 (tracked)\n",
      "loss = 0.1512416333888744 (tracked)\n",
      "loss = 0.14942419622510866 (tracked)\n",
      "loss = 0.14760260622821456 (tracked)\n",
      "loss = 0.1457805137642117 (tracked)\n",
      "loss = 0.1439583303823942 (tracked)\n",
      "loss = 0.14213436273005892 (tracked)\n",
      "loss = 0.14031078896585972 (tracked)\n",
      "loss = 0.13848861063696535 (tracked)\n",
      "loss = 0.13666827783073182 (tracked)\n",
      "loss = 0.13485029568918552 (tracked)\n",
      "loss = 0.13303478885744205 (tracked)\n",
      "loss = 0.1312241055177326 (tracked)\n",
      "loss = 0.12941861611906738 (tracked)\n",
      "loss = 0.12761773587794945 (tracked)\n",
      "loss = 0.12582386753684283 (tracked)\n",
      "loss = 0.1240376900624873 (tracked)\n",
      "loss = 0.12225910959711507 (tracked)\n",
      "loss = 0.12048949381254011 (tracked)\n",
      "loss = 0.11872987176989515 (tracked)\n",
      "loss = 0.11698100394044775 (tracked)\n",
      "loss = 0.11524355254493725 (tracked)\n",
      "loss = 0.11351825005812309 (tracked)\n",
      "loss = 0.11180628321624107 (tracked)\n",
      "loss = 0.11010821636699593 (tracked)\n",
      "loss = 0.10842454068825777 (tracked)\n",
      "loss = 0.10675619620757902 (tracked)\n",
      "loss = 0.10510391772295881 (tracked)\n",
      "loss = 0.10346816020779975 (tracked)\n",
      "loss = 0.10184987052692572 (tracked)\n",
      "loss = 0.1002494859306382 (tracked)\n",
      "loss = 0.09866791020366092 (tracked)\n"
     ]
    }
   ],
   "source": [
    "Flux.train!(loss_function, ps, data, opt, cb = cb)"
   ]
  },
  {
   "cell_type": "markdown",
   "metadata": {},
   "source": [
    "Let's see how well it fit the training data."
   ]
  },
  {
   "cell_type": "code",
   "execution_count": 45,
   "metadata": {},
   "outputs": [
    {
     "name": "stderr",
     "output_type": "stream",
     "text": [
      "┌ Info: Saved animation to \n",
      "│   fn = /home/gridsan/aramadhan/6S898-climate-parameterization/notebooks/tmp.gif\n",
      "└ @ Plots /home/gridsan/aramadhan/.julia/packages/Plots/Iuc9S/src/animation.jl:95\n"
     ]
    },
    {
     "data": {
      "text/html": [
       "<img src=\"tmp.gif\" />"
      ],
      "text/plain": [
       "Plots.AnimatedGif(\"/home/gridsan/aramadhan/6S898-climate-parameterization/notebooks/tmp.gif\")"
      ]
     },
     "execution_count": 45,
     "metadata": {},
     "output_type": "execute_result"
    }
   ],
   "source": [
    "nn_pred = Flux.data(n_ode(u₀))\n",
    "\n",
    "@gif for n=1:datasize\n",
    "    plot(x, ode_data[:, n], linewidth=2, ylim=(0, 1), label=\"data\", show=false)\n",
    "    plot!(x, nn_pred[:, n], linewidth=2, ylim=(0, 1), label=\"Neural PDE\", show=false)\n",
    "end"
   ]
  },
  {
   "cell_type": "markdown",
   "metadata": {},
   "source": [
    "Let's see how well it fits\n",
    "\n",
    "$$ u_0(x) = 1 - cos(2\\pi x) $$"
   ]
  },
  {
   "cell_type": "code",
   "execution_count": 46,
   "metadata": {},
   "outputs": [
    {
     "name": "stderr",
     "output_type": "stream",
     "text": [
      "┌ Info: Saved animation to \n",
      "│   fn = /home/gridsan/aramadhan/6S898-climate-parameterization/notebooks/tmp.gif\n",
      "└ @ Plots /home/gridsan/aramadhan/.julia/packages/Plots/Iuc9S/src/animation.jl:95\n"
     ]
    },
    {
     "data": {
      "text/html": [
       "<img src=\"tmp.gif\" />"
      ],
      "text/plain": [
       "Plots.AnimatedGif(\"/home/gridsan/aramadhan/6S898-climate-parameterization/notebooks/tmp.gif\")"
      ]
     },
     "execution_count": 46,
     "metadata": {},
     "output_type": "execute_result"
    }
   ],
   "source": [
    "u₀_cos = @. 1 - cos(2π * x)\n",
    "\n",
    "prob = ODEProblem(diffusion, u₀_cos, tspan)\n",
    "ode_data = Array(solve(prob, Tsit5(), saveat=t))\n",
    "\n",
    "nn_pred = Flux.data(n_ode(u₀_cos))\n",
    "@gif for n=1:datasize\n",
    "    plot(x, ode_data[:, n], linewidth=2, ylim=(0, 2), label=\"data\", show=false)\n",
    "    plot!(x, nn_pred[:, n], linewidth=2, ylim=(0, 2), label=\"Neural ODE\", show=false)\n",
    "end"
   ]
  },
  {
   "cell_type": "code",
   "execution_count": null,
   "metadata": {},
   "outputs": [],
   "source": [
    "plot(1:10)"
   ]
  },
  {
   "cell_type": "code",
   "execution_count": null,
   "metadata": {},
   "outputs": [],
   "source": []
  }
 ],
 "metadata": {
  "kernelspec": {
   "display_name": "Julia latest",
   "language": "julia",
   "name": "julia-latest"
  },
  "language_info": {
   "file_extension": ".jl",
   "mimetype": "application/julia",
   "name": "julia",
   "version": "1.1.1"
  }
 },
 "nbformat": 4,
 "nbformat_minor": 2
}
