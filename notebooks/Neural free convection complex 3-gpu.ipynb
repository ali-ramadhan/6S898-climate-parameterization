{
 "cells": [
  {
   "cell_type": "code",
   "execution_count": 4,
   "metadata": {},
   "outputs": [
    {
     "data": {
      "text/plain": [
       "\"GeForce GTX 960\""
      ]
     },
     "execution_count": 4,
     "metadata": {},
     "output_type": "execute_result"
    }
   ],
   "source": [
    "using Flux\n",
    "using DifferentialEquations\n",
    "using DiffEqFlux\n",
    "using LinearAlgebra\n",
    "using JLD2\n",
    "using Plots\n",
    "using Statistics\n",
    "\n",
    "using Flux: @epochs\n",
    "\n",
    "using CuArrays\n",
    "using CUDAdrv; CUDAdrv.name(CuDevice(0))"
   ]
  },
  {
   "cell_type": "code",
   "execution_count": 5,
   "metadata": {},
   "outputs": [],
   "source": [
    "file = jldopen(\"../data/ocean_convection_profiles.jld2\");"
   ]
  },
  {
   "cell_type": "code",
   "execution_count": 6,
   "metadata": {},
   "outputs": [],
   "source": [
    "Is = keys(file[\"timeseries/t\"])\n",
    "\n",
    "Nz = file[\"grid/Nz\"]\n",
    "Nt = length(Is)\n",
    "\n",
    "t = zeros(Nt)\n",
    "T = T_data = zeros(Nt, Nz)\n",
    "\n",
    "for (i, I) in enumerate(Is)\n",
    "    t[i] = file[\"timeseries/t/$I\"]\n",
    "    T[i, :] = file[\"timeseries/T/$I\"][1, 1, 2:Nz+1]\n",
    "end"
   ]
  },
  {
   "cell_type": "code",
   "execution_count": 7,
   "metadata": {},
   "outputs": [
    {
     "data": {
      "text/plain": [
       "256-element Array{Float64,1}:\n",
       " -99.8046875\n",
       " -99.4140625\n",
       " -99.0234375\n",
       " -98.6328125\n",
       " -98.2421875\n",
       " -97.8515625\n",
       " -97.4609375\n",
       " -97.0703125\n",
       " -96.6796875\n",
       " -96.2890625\n",
       " -95.8984375\n",
       " -95.5078125\n",
       " -95.1171875\n",
       "   ⋮        \n",
       "  -4.4921875\n",
       "  -4.1015625\n",
       "  -3.7109375\n",
       "  -3.3203125\n",
       "  -2.9296875\n",
       "  -2.5390625\n",
       "  -2.1484375\n",
       "  -1.7578125\n",
       "  -1.3671875\n",
       "  -0.9765625\n",
       "  -0.5859375\n",
       "  -0.1953125"
      ]
     },
     "execution_count": 7,
     "metadata": {},
     "output_type": "execute_result"
    }
   ],
   "source": [
    "z = file[\"grid/zC\"]"
   ]
  },
  {
   "cell_type": "code",
   "execution_count": 8,
   "metadata": {},
   "outputs": [
    {
     "data": {
      "text/plain": [
       "coarse_grain (generic function with 1 method)"
      ]
     },
     "execution_count": 8,
     "metadata": {},
     "output_type": "execute_result"
    }
   ],
   "source": [
    "function coarse_grain(data, resolution)\n",
    "    @assert length(data) % resolution == 0\n",
    "    s = length(data) / resolution\n",
    "    \n",
    "    data_cs = zeros(resolution)\n",
    "    for i in 1:resolution\n",
    "        t = data[Int((i-1)*s+1):Int(i*s)]\n",
    "        data_cs[i] = mean(t)\n",
    "    end\n",
    "    \n",
    "    return data_cs\n",
    "end"
   ]
  },
  {
   "cell_type": "code",
   "execution_count": 9,
   "metadata": {},
   "outputs": [],
   "source": [
    "coarse_resolution = cr = 32\n",
    "T_cs = zeros(Nt, coarse_resolution)\n",
    "for n=1:Nt\n",
    "    T_cs[n, :] = coarse_grain(T[n, :], coarse_resolution)\n",
    "end\n",
    "\n",
    "T_cs = transpose(T_cs) |> gpu;"
   ]
  },
  {
   "cell_type": "code",
   "execution_count": 10,
   "metadata": {},
   "outputs": [
    {
     "name": "stderr",
     "output_type": "stream",
     "text": [
      "┌ Warning: Performing scalar operations on GPU arrays: This is very slow, consider disallowing these operations with `allowscalar(false)`\n",
      "└ @ GPUArrays C:\\Users\\daddyj\\.julia\\packages\\GPUArrays\\tIMl5\\src\\indexing.jl:16\n"
     ]
    },
    {
     "data": {
      "text/plain": [
       "(0.0, 3.993078849612772)"
      ]
     },
     "execution_count": 10,
     "metadata": {},
     "output_type": "execute_result"
    }
   ],
   "source": [
    "T₀ = T_cs[:, 1]\n",
    "n_train = round(Int, Nt/2)\n",
    "t_train = t[1:n_train] ./ 86400\n",
    "tspan_train = (t_train[1], t_train[end])"
   ]
  },
  {
   "cell_type": "code",
   "execution_count": 11,
   "metadata": {},
   "outputs": [
    {
     "data": {
      "text/plain": [
       "4192"
      ]
     },
     "execution_count": 11,
     "metadata": {},
     "output_type": "execute_result"
    }
   ],
   "source": [
    "#dTdt_NN = Chain(Dense(cr, 2cr, tanh),\n",
    "#                Dense(2cr, cr))\n",
    "#cr = 33\n",
    "ann = Chain(Dense(cr, 2cr, tanh),\n",
    "            Dense(2cr, 4cr, tanh),\n",
    "            Dense(4cr, 2cr, tanh),\n",
    "                Dense(2cr, cr)) |> gpu\n",
    "\n",
    "n_ann = 2*cr^2 + 2cr + 2*cr^2+cr\n",
    "\n",
    "#function dTdt_NN(du,u,p,t)\n",
    "#    du = DiffEqFlux.restructure(ann,p[1:n_ann])(u)\n",
    "#end"
   ]
  },
  {
   "cell_type": "code",
   "execution_count": 12,
   "metadata": {},
   "outputs": [
    {
     "data": {
      "text/plain": [
       "Params([Float32[-0.19673109, -0.105196595, 0.2448945, 0.18395615, 0.027187467, 0.013831139, -0.025221705, 0.15300018, 0.17175686, 0.13892204  …  0.0, 0.0, 0.0, 0.0, 0.0, 0.0, 0.0, 0.0, 0.0, 0.0] (tracked)])"
      ]
     },
     "execution_count": 12,
     "metadata": {},
     "output_type": "execute_result"
    }
   ],
   "source": [
    "p1 = Flux.data(DiffEqFlux.destructure(ann))\n",
    "p2 = Float64[1,1]\n",
    "p3 = param(p1)\n",
    "ps = Flux.params(p3,T₀)"
   ]
  },
  {
   "cell_type": "code",
   "execution_count": 13,
   "metadata": {},
   "outputs": [
    {
     "data": {
      "text/plain": [
       "32×32 Tridiagonal{Float32,Array{Float32,1}}:\n",
       " -1.0   1.0    ⋅     ⋅     ⋅     ⋅   …    ⋅     ⋅     ⋅     ⋅     ⋅    ⋅ \n",
       "  0.0  -1.0   1.0    ⋅     ⋅     ⋅        ⋅     ⋅     ⋅     ⋅     ⋅    ⋅ \n",
       "   ⋅    0.0  -1.0   1.0    ⋅     ⋅        ⋅     ⋅     ⋅     ⋅     ⋅    ⋅ \n",
       "   ⋅     ⋅    0.0  -1.0   1.0    ⋅        ⋅     ⋅     ⋅     ⋅     ⋅    ⋅ \n",
       "   ⋅     ⋅     ⋅    0.0  -1.0   1.0       ⋅     ⋅     ⋅     ⋅     ⋅    ⋅ \n",
       "   ⋅     ⋅     ⋅     ⋅    0.0  -1.0  …    ⋅     ⋅     ⋅     ⋅     ⋅    ⋅ \n",
       "   ⋅     ⋅     ⋅     ⋅     ⋅    0.0       ⋅     ⋅     ⋅     ⋅     ⋅    ⋅ \n",
       "   ⋅     ⋅     ⋅     ⋅     ⋅     ⋅        ⋅     ⋅     ⋅     ⋅     ⋅    ⋅ \n",
       "   ⋅     ⋅     ⋅     ⋅     ⋅     ⋅        ⋅     ⋅     ⋅     ⋅     ⋅    ⋅ \n",
       "   ⋅     ⋅     ⋅     ⋅     ⋅     ⋅        ⋅     ⋅     ⋅     ⋅     ⋅    ⋅ \n",
       "   ⋅     ⋅     ⋅     ⋅     ⋅     ⋅   …    ⋅     ⋅     ⋅     ⋅     ⋅    ⋅ \n",
       "   ⋅     ⋅     ⋅     ⋅     ⋅     ⋅        ⋅     ⋅     ⋅     ⋅     ⋅    ⋅ \n",
       "   ⋅     ⋅     ⋅     ⋅     ⋅     ⋅        ⋅     ⋅     ⋅     ⋅     ⋅    ⋅ \n",
       "  ⋮                             ⋮    ⋱                           ⋮       \n",
       "   ⋅     ⋅     ⋅     ⋅     ⋅     ⋅   …    ⋅     ⋅     ⋅     ⋅     ⋅    ⋅ \n",
       "   ⋅     ⋅     ⋅     ⋅     ⋅     ⋅        ⋅     ⋅     ⋅     ⋅     ⋅    ⋅ \n",
       "   ⋅     ⋅     ⋅     ⋅     ⋅     ⋅        ⋅     ⋅     ⋅     ⋅     ⋅    ⋅ \n",
       "   ⋅     ⋅     ⋅     ⋅     ⋅     ⋅        ⋅     ⋅     ⋅     ⋅     ⋅    ⋅ \n",
       "   ⋅     ⋅     ⋅     ⋅     ⋅     ⋅        ⋅     ⋅     ⋅     ⋅     ⋅    ⋅ \n",
       "   ⋅     ⋅     ⋅     ⋅     ⋅     ⋅   …   1.0    ⋅     ⋅     ⋅     ⋅    ⋅ \n",
       "   ⋅     ⋅     ⋅     ⋅     ⋅     ⋅      -1.0   1.0    ⋅     ⋅     ⋅    ⋅ \n",
       "   ⋅     ⋅     ⋅     ⋅     ⋅     ⋅       0.0  -1.0   1.0    ⋅     ⋅    ⋅ \n",
       "   ⋅     ⋅     ⋅     ⋅     ⋅     ⋅        ⋅    0.0  -1.0   1.0    ⋅    ⋅ \n",
       "   ⋅     ⋅     ⋅     ⋅     ⋅     ⋅        ⋅     ⋅    0.0  -1.0   1.0   ⋅ \n",
       "   ⋅     ⋅     ⋅     ⋅     ⋅     ⋅   …    ⋅     ⋅     ⋅    0.0  -1.0  1.0\n",
       "   ⋅     ⋅     ⋅     ⋅     ⋅     ⋅        ⋅     ⋅     ⋅     ⋅    0.0  0.0"
      ]
     },
     "execution_count": 13,
     "metadata": {},
     "output_type": "execute_result"
    }
   ],
   "source": [
    "cr_z = Nt/cr\n",
    "#Dzᶠ = 1/cr_z * Tridiagonal(zeros(cr-1), -ones(cr),ones(cr-1))\n",
    "#Dzᶜ = 1/cr_z * Tridiagonal( -ones(cr-1), ones(cr),zeros(cr-1))\n",
    "Dzᶠ = Tridiagonal(zeros(cr-1), -ones(cr),ones(cr-1)) |> Array{Float32}\n",
    "Dzᶠ = Tridiagonal(Dzᶠ)\n",
    "Dzᶜ = 1/cr_z*Tridiagonal( -ones(cr-1), ones(cr),zeros(cr-1)) |> Array{Float32}\n",
    "Dzᶜ = Tridiagonal(Dzᶜ)\n",
    "Dzᶠ[cr, cr] = 0\n",
    "Dzᶜ[1, 1] = 0\n",
    "Dzᶠ"
   ]
  },
  {
   "cell_type": "code",
   "execution_count": 17,
   "metadata": {},
   "outputs": [
    {
     "data": {
      "text/plain": [
       "dudt_ (generic function with 1 method)"
      ]
     },
     "execution_count": 17,
     "metadata": {},
     "output_type": "execute_result"
    }
   ],
   "source": [
    "#neural_pde_prediction(T₀) = neural_ode(dudt_, T₀, tspan_train, Tsit5(), saveat=t_train, reltol=1e-7, abstol=1e-9)\n",
    "function dudt_(du,u,p,t)\n",
    "    x = (Dzᶜ*(DiffEqFlux.restructure(ann,p[1:length(p)])(u).*(Dzᶠ*u)))\n",
    "    for i in 1:length(u)\n",
    "        du[i] = x[i]\n",
    "    end\n",
    "    #du[length(u)] = p[end-1]*u[end] + p[end]*u[end]\n",
    "    #println(\"du\",du)\n",
    "end"
   ]
  },
  {
   "cell_type": "code",
   "execution_count": 18,
   "metadata": {},
   "outputs": [],
   "source": [
    "#foretold(u,p,t) = DiffEqFlux.restructure(ann,p[1:n_ann])(u)"
   ]
  },
  {
   "cell_type": "code",
   "execution_count": 19,
   "metadata": {},
   "outputs": [
    {
     "data": {
      "text/plain": [
       "Tracked 32×7 CuArray{Float32,2}:\n",
       " 19.0156  19.0156  19.0156  19.0156  19.0156  19.0156  19.0156\n",
       " 19.0469  19.0469  19.047   19.047   19.0471  19.0473  19.0474\n",
       " 19.0781  19.0784  19.0787  19.0792  19.08    19.081   19.0824\n",
       " 19.1094  19.1092  19.1089  19.1084  19.1077  19.1068  19.1055\n",
       " 19.1406  19.1407  19.1408  19.141   19.1412  19.1416  19.1422\n",
       " 19.1719  19.1718  19.1717  19.1715  19.1711  19.1707  19.17  \n",
       " 19.2031  19.2033  19.2036  19.2039  19.2045  19.2054  19.2065\n",
       " 19.2344  19.2343  19.2343  19.2342  19.234   19.2338  19.2336\n",
       " 19.2656  19.2656  19.2657  19.2657  19.2657  19.2658  19.2659\n",
       " 19.2969  19.2969  19.297   19.2971  19.2973  19.2976  19.2979\n",
       " 19.3281  19.328   19.3278  19.3275  19.3271  19.3265  19.3257\n",
       " 19.3594  19.3594  19.3595  19.3596  19.3598  19.36    19.3603\n",
       " 19.3906  19.3907  19.3909  19.3911  19.3914  19.3919  19.3925\n",
       "  ⋮                                            ⋮              \n",
       " 19.6406  19.6406  19.6407  19.6407  19.6408  19.6409  19.641 \n",
       " 19.6719  19.672   19.6721  19.6724  19.6727  19.6732  19.6738\n",
       " 19.7031  19.7031  19.703   19.703   19.7029  19.7027  19.7026\n",
       " 19.7344  19.7344  19.7345  19.7345  19.7346  19.7348  19.735 \n",
       " 19.7656  19.7655  19.7654  19.7652  19.765   19.7646  19.7641\n",
       " 19.7969  19.7969  19.7971  19.7972  19.7975  19.7978  19.7982\n",
       " 19.8281  19.8281  19.8281  19.8281  19.828   19.828   19.8279\n",
       " 19.8594  19.8593  19.8592  19.859   19.8587  19.8583  19.8578\n",
       " 19.8906  19.8906  19.8905  19.8905  19.8904  19.8902  19.89  \n",
       " 19.9219  19.9219  19.9219  19.9219  19.9219  19.922   19.922 \n",
       " 19.9531  19.9533  19.9535  19.9538  19.9543  19.955   19.9558\n",
       " 19.9844  19.9843  19.9841  19.9839  19.9835  19.9831  19.9825"
      ]
     },
     "execution_count": 19,
     "metadata": {},
     "output_type": "execute_result"
    }
   ],
   "source": [
    "prob = ODEProblem(dudt_,T₀,tspan_train,p3)\n",
    "diffeq_adjoint(p3,prob,Tsit5(),u0=T₀,abstol=1e-8,reltol=1e-6)\n",
    "#solve(prob)"
   ]
  },
  {
   "cell_type": "code",
   "execution_count": 20,
   "metadata": {},
   "outputs": [
    {
     "data": {
      "text/plain": [
       "predict_adjoint (generic function with 1 method)"
      ]
     },
     "execution_count": 20,
     "metadata": {},
     "output_type": "execute_result"
    }
   ],
   "source": [
    "function predict_adjoint()\n",
    "  diffeq_adjoint(p3,prob,Tsit5(),u0=T₀,saveat=t_train,reltol=1e-6, abstol=1e-8)\n",
    "end"
   ]
  },
  {
   "cell_type": "code",
   "execution_count": 21,
   "metadata": {},
   "outputs": [
    {
     "data": {
      "text/plain": [
       "loss_function (generic function with 1 method)"
      ]
     },
     "execution_count": 21,
     "metadata": {},
     "output_type": "execute_result"
    }
   ],
   "source": [
    "opt = ADAM(0.1)\n",
    "\n",
    "#data = [(T₀, T_cs[:, 1:n_train])]\n",
    "data = Iterators.repeated((T₀, T_cs[:, 1:n_train]), 1000)\n",
    "\n",
    "loss_function(T₀, T_data) = sum(abs2, T_data .- predict_adjoint())"
   ]
  },
  {
   "cell_type": "code",
   "execution_count": 22,
   "metadata": {},
   "outputs": [
    {
     "data": {
      "text/plain": [
       "#3 (generic function with 1 method)"
      ]
     },
     "execution_count": 22,
     "metadata": {},
     "output_type": "execute_result"
    }
   ],
   "source": [
    "# Callback function to observe training.\n",
    "cb = function ()\n",
    "    #println(DiffEqFlux.destructure(ann)[1:10])\n",
    "    loss = loss_function(T₀, T_cs[:, 1:n_train]) # Not very generalizable...\n",
    "    println(\"loss = $loss\")\n",
    "    loss < 100 && Flux.stop()\n",
    "end"
   ]
  },
  {
   "cell_type": "code",
   "execution_count": null,
   "metadata": {},
   "outputs": [],
   "source": [
    "Flux.train!(loss_function, ps, data, opt, cb = cb)"
   ]
  },
  {
   "cell_type": "code",
   "execution_count": 47,
   "metadata": {},
   "outputs": [
    {
     "data": {
      "text/plain": [
       "Chain(Dense(32, 64, tanh), Dense(64, 128, tanh), Dense(128, 64, tanh), Dense(64, 32))"
      ]
     },
     "execution_count": 47,
     "metadata": {},
     "output_type": "execute_result"
    }
   ],
   "source": [
    "#for _ in 1:20\n",
    "#    Flux.train!(loss_function, ps, data, opt, cb = cb)\n",
    "#end"
   ]
  },
  {
   "cell_type": "code",
   "execution_count": 18,
   "metadata": {},
   "outputs": [
    {
     "name": "stderr",
     "output_type": "stream",
     "text": [
      "┌ Info: Saved animation to \n",
      "│   fn = C:\\Users\\daddyj\\Documents\\6S898-climate-parameterization\\notebooks\\tmp.gif\n",
      "└ @ Plots C:\\Users\\daddyj\\.julia\\packages\\Plots\\Iuc9S\\src\\animation.jl:95\n"
     ]
    },
    {
     "data": {
      "text/html": [
       "<img src=\"tmp.gif\" />"
      ],
      "text/plain": [
       "Plots.AnimatedGif(\"C:\\\\Users\\\\daddyj\\\\Documents\\\\6S898-climate-parameterization\\\\notebooks\\\\tmp.gif\")"
      ]
     },
     "execution_count": 18,
     "metadata": {},
     "output_type": "execute_result"
    }
   ],
   "source": [
    "tspan = (t[1], t[end]) ./ 86400\n",
    "#nn_pred = neural_ode(dudt_, T₀, tspan, Tsit5(), saveat=t ./86400, reltol=1e-7, abstol=1e-9) |> Flux.data\n",
    "prob2 = ODEProblem(dudt_,T₀,tspan,p3)\n",
    "nn_pred = diffeq_adjoint(p3,prob2,Tsit5(),u0=T₀,abstol=1e-8,reltol=1e-6,saveat=t ./86400) |> Flux.data\n",
    "z_cs = coarse_grain(z, cr)\n",
    "\n",
    "anim = @gif for n=1:10:Nt\n",
    "    t_str = @sprintf(\"%.2f\", t[n] / 86400)\n",
    "    #println(\"here1\")\n",
    "    plot(T_cs[:, n], z_cs, linewidth=2,\n",
    "         xlim=(19, 20), ylim=(-100, 0), label=\"Data\",\n",
    "         xlabel=\"Temperature (C)\", ylabel=\"Depth (z)\",\n",
    "         title=\"Free convection: $t_str days\",\n",
    "         legend=:bottomright, show=false)\n",
    "    #println(\"here2\")\n",
    "    if n <= n_train\n",
    "        plot!(nn_pred[:, n], z_cs, linewidth=2, label=\"Neural ODE (train)\", show=false)\n",
    "    else\n",
    "        plot!(nn_pred[:, n], z_cs, linewidth=2, linestyle=:dash, label=\"Neural ODE (test)\", show=false)\n",
    "    end\n",
    "end"
   ]
  },
  {
   "cell_type": "code",
   "execution_count": 135,
   "metadata": {},
   "outputs": [
    {
     "data": {
      "text/plain": [
       "32×1153 Array{Float64,2}:\n",
       " 19.0156  19.0153  19.015   19.0147  …  18.6447  18.6444  18.6441  18.6438\n",
       " 19.0469  19.0471  19.0472  19.0474     19.2497  19.2498  19.25    19.2502\n",
       " 19.0781  19.0776  19.0771  19.0766     18.512   18.5115  18.511   18.5106\n",
       " 19.1094  19.1084  19.1074  19.1065     17.9969  17.9959  17.9949  17.994 \n",
       " 19.1406  19.1412  19.1418  19.1423     19.7957  19.7962  19.7968  19.7974\n",
       " 19.1719  19.1724  19.1729  19.1734  …  19.7699  19.7704  19.7709  19.7714\n",
       " 19.2031  19.2022  19.2013  19.2004     18.166   18.1651  18.1642  18.1633\n",
       " 19.2344  19.2343  19.2343  19.2342     19.1856  19.1856  19.1856  19.1855\n",
       " 19.2656  19.2656  19.2655  19.2655     19.1993  19.1992  19.1992  19.1991\n",
       " 19.2969  19.2973  19.2978  19.2982     19.7993  19.7997  19.8002  19.8006\n",
       " 19.3281  19.3284  19.3287  19.3289  …  19.6353  19.6356  19.6358  19.6361\n",
       " 19.3594  19.3586  19.3579  19.3572     18.5278  18.5271  18.5264  18.5256\n",
       " 19.3906  19.3911  19.3917  19.3922     19.984   19.9845  19.985   19.9856\n",
       "  ⋮                                  ⋱            ⋮                       \n",
       " 19.6406  19.6412  19.6418  19.6424  …  20.3043  20.3049  20.3054  20.306 \n",
       " 19.6719  19.6725  19.6732  19.6739     20.4372  20.4379  20.4386  20.4392\n",
       " 19.7031  19.7029  19.7027  19.7026     19.4881  19.4879  19.4877  19.4875\n",
       " 19.7344  19.7348  19.7351  19.7355     20.1664  20.1668  20.1671  20.1675\n",
       " 19.7656  19.765   19.7643  19.7636     18.9993  18.9986  18.998   18.9973\n",
       " 19.7969  19.7963  19.7958  19.7953  …  19.1939  19.1933  19.1928  19.1923\n",
       " 19.8281  19.8268  19.8255  19.8242     18.3196  18.3183  18.317   18.3157\n",
       " 19.8594  19.8587  19.858   19.8574     19.0961  19.0954  19.0947  19.0941\n",
       " 19.8906  19.8904  19.8902  19.89       19.6562  19.656   19.6558  19.6556\n",
       " 19.9219  19.921   19.9201  19.9192     18.913   18.9121  18.9113  18.9104\n",
       " 19.9531  19.9528  19.9524  19.9521  …  19.5552  19.5548  19.5545  19.5541\n",
       " 19.9844  19.9839  19.9834  19.9829     19.4254  19.4249  19.4244  19.424 "
      ]
     },
     "execution_count": 135,
     "metadata": {},
     "output_type": "execute_result"
    }
   ],
   "source": [
    "nn_pred = diffeq_adjoint(p3,prob2,Tsit5(),u0=T₀,abstol=1e-8,reltol=1e-6,saveat=t ./86400) |> Flux.data\n"
   ]
  },
  {
   "cell_type": "code",
   "execution_count": null,
   "metadata": {},
   "outputs": [],
   "source": []
  }
 ],
 "metadata": {
  "kernelspec": {
   "display_name": "Julia 1.2.0",
   "language": "julia",
   "name": "julia-1.2"
  },
  "language_info": {
   "file_extension": ".jl",
   "mimetype": "application/julia",
   "name": "julia",
   "version": "1.2.0"
  }
 },
 "nbformat": 4,
 "nbformat_minor": 4
}
