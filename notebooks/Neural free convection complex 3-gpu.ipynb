{
 "cells": [
  {
   "cell_type": "code",
   "execution_count": 1,
   "metadata": {},
   "outputs": [],
   "source": [
    "using Printf\n",
    "using Statistics\n",
    "\n",
    "using Flux\n",
    "using DifferentialEquations\n",
    "using DiffEqFlux\n",
    "using LinearAlgebra\n",
    "using JLD2\n",
    "using Plots\n",
    "\n",
    "using Flux: @epochs"
   ]
  },
  {
   "cell_type": "code",
   "execution_count": 2,
   "metadata": {},
   "outputs": [],
   "source": [
    "file = jldopen(\"../data/ocean_convection_profiles.jld2\");"
   ]
  },
  {
   "cell_type": "code",
   "execution_count": 3,
   "metadata": {},
   "outputs": [],
   "source": [
    "Is = keys(file[\"timeseries/t\"])\n",
    "\n",
    "Nz = file[\"grid/Nz\"]\n",
    "Nt = length(Is)\n",
    "\n",
    "t = zeros(Nt)\n",
    "T = T_data = zeros(Nt, Nz)\n",
    "\n",
    "for (i, I) in enumerate(Is)\n",
    "    t[i] = file[\"timeseries/t/$I\"]\n",
    "    T[i, :] = file[\"timeseries/T/$I\"][1, 1, 2:Nz+1]\n",
    "end"
   ]
  },
  {
   "cell_type": "code",
   "execution_count": 4,
   "metadata": {},
   "outputs": [
    {
     "data": {
      "text/html": [
       "<img src=\"tmp.gif\" />"
      ],
      "text/plain": [
       "Plots.AnimatedGif(\"C:\\\\Users\\\\daddyj\\\\Documents\\\\6S898-climate-parameterization\\\\notebooks\\\\tmp.gif\")"
      ]
     },
     "metadata": {},
     "output_type": "display_data"
    },
    {
     "name": "stderr",
     "output_type": "stream",
     "text": [
      "┌ Info: Saved animation to \n",
      "│   fn = C:\\Users\\daddyj\\Documents\\6S898-climate-parameterization\\notebooks\\tmp.gif\n",
      "└ @ Plots C:\\Users\\daddyj\\.julia\\packages\\Plots\\Iuc9S\\src\\animation.jl:95\n"
     ]
    },
    {
     "data": {
      "text/plain": [
       "'\\'': ASCII/Unicode U+0027 (category Po: Punctuation, other)"
      ]
     },
     "execution_count": 4,
     "metadata": {},
     "output_type": "execute_result"
    }
   ],
   "source": [
    "z = file[\"grid/zC\"]\n",
    "'''\n",
    "anim = @gif for n=1:10:Nt\n",
    "    t_str = @sprintf(\"%.2f\", t[n] / 86400)\n",
    "    plot(T[n, :], z, linewidth=2,\n",
    "         xlim=(19, 20), ylim=(-100, 0), label=\"\",\n",
    "         xlabel=\"Temperature (C)\", ylabel=\"Depth (z)\",\n",
    "         title=\"Free convection: $t_str days\", show=false)\n",
    "end\n",
    "\n",
    "display(anim)\n",
    "'''"
   ]
  },
  {
   "cell_type": "code",
   "execution_count": 5,
   "metadata": {},
   "outputs": [
    {
     "data": {
      "text/plain": [
       "coarse_grain (generic function with 1 method)"
      ]
     },
     "execution_count": 5,
     "metadata": {},
     "output_type": "execute_result"
    }
   ],
   "source": [
    "function coarse_grain(data, resolution)\n",
    "    @assert length(data) % resolution == 0\n",
    "    s = length(data) / resolution\n",
    "    \n",
    "    data_cs = zeros(resolution)\n",
    "    for i in 1:resolution\n",
    "        t = data[Int((i-1)*s+1):Int(i*s)]\n",
    "        data_cs[i] = mean(t)\n",
    "    end\n",
    "    \n",
    "    return data_cs\n",
    "end"
   ]
  },
  {
   "cell_type": "code",
   "execution_count": 6,
   "metadata": {},
   "outputs": [],
   "source": [
    "coarse_resolution = cr = 32\n",
    "T_cs = zeros(Nt, coarse_resolution)\n",
    "for n=1:Nt\n",
    "    T_cs[n, :] = coarse_grain(T[n, :], coarse_resolution)\n",
    "end\n",
    "\n",
    "T_cs = transpose(T_cs) |> Array;"
   ]
  },
  {
   "cell_type": "code",
   "execution_count": 7,
   "metadata": {},
   "outputs": [
    {
     "data": {
      "text/plain": [
       "(0.0, 3.993078849612772)"
      ]
     },
     "execution_count": 7,
     "metadata": {},
     "output_type": "execute_result"
    }
   ],
   "source": [
    "T₀ = T_cs[:, 1]\n",
    "n_train = round(Int, Nt/2)\n",
    "t_train = t[1:n_train] ./ 86400\n",
    "tspan_train = (t_train[1], t_train[end])"
   ]
  },
  {
   "cell_type": "code",
   "execution_count": 8,
   "metadata": {},
   "outputs": [
    {
     "data": {
      "text/plain": [
       "4192"
      ]
     },
     "execution_count": 8,
     "metadata": {},
     "output_type": "execute_result"
    }
   ],
   "source": [
    "#dTdt_NN = Chain(Dense(cr, 2cr, tanh),\n",
    "#                Dense(2cr, cr))\n",
    "#cr = 33\n",
    "ann = Chain(Dense(cr, 2cr, tanh),\n",
    "            Dense(2cr, 4cr, tanh),\n",
    "            Dense(4cr, 2cr, tanh),\n",
    "                Dense(2cr, cr))\n",
    "\n",
    "n_ann = 2*cr^2 + 2cr + 2*cr^2+cr\n",
    "\n",
    "#function dTdt_NN(du,u,p,t)\n",
    "#    du = DiffEqFlux.restructure(ann,p[1:n_ann])(u)\n",
    "#end"
   ]
  },
  {
   "cell_type": "code",
   "execution_count": 9,
   "metadata": {},
   "outputs": [
    {
     "data": {
      "text/plain": [
       "Params([[-0.23029476404190063, -0.06634944677352905, 0.03485292196273804, 0.1414080262184143, 0.21903347969055176, 0.020103812217712402, 0.005270600318908691, 0.10784345865249634, 0.10896903276443481, 0.20171856880187988  …  0.0, 0.0, 0.0, 0.0, 0.0, 0.0, 0.0, 0.0, 1.0, 1.0] (tracked)])"
      ]
     },
     "execution_count": 9,
     "metadata": {},
     "output_type": "execute_result"
    }
   ],
   "source": [
    "p1 = Flux.data(DiffEqFlux.destructure(ann))\n",
    "p2 = Float64[1,1]\n",
    "p3 = param([p1;p2])\n",
    "ps = Flux.params(p3,T₀)"
   ]
  },
  {
   "cell_type": "code",
   "execution_count": 10,
   "metadata": {},
   "outputs": [
    {
     "data": {
      "text/plain": [
       "32×32 Tridiagonal{Float64,Array{Float64,1}}:\n",
       " -1.0   1.0    ⋅     ⋅     ⋅     ⋅   …    ⋅     ⋅     ⋅     ⋅     ⋅    ⋅ \n",
       "  0.0  -1.0   1.0    ⋅     ⋅     ⋅        ⋅     ⋅     ⋅     ⋅     ⋅    ⋅ \n",
       "   ⋅    0.0  -1.0   1.0    ⋅     ⋅        ⋅     ⋅     ⋅     ⋅     ⋅    ⋅ \n",
       "   ⋅     ⋅    0.0  -1.0   1.0    ⋅        ⋅     ⋅     ⋅     ⋅     ⋅    ⋅ \n",
       "   ⋅     ⋅     ⋅    0.0  -1.0   1.0       ⋅     ⋅     ⋅     ⋅     ⋅    ⋅ \n",
       "   ⋅     ⋅     ⋅     ⋅    0.0  -1.0  …    ⋅     ⋅     ⋅     ⋅     ⋅    ⋅ \n",
       "   ⋅     ⋅     ⋅     ⋅     ⋅    0.0       ⋅     ⋅     ⋅     ⋅     ⋅    ⋅ \n",
       "   ⋅     ⋅     ⋅     ⋅     ⋅     ⋅        ⋅     ⋅     ⋅     ⋅     ⋅    ⋅ \n",
       "   ⋅     ⋅     ⋅     ⋅     ⋅     ⋅        ⋅     ⋅     ⋅     ⋅     ⋅    ⋅ \n",
       "   ⋅     ⋅     ⋅     ⋅     ⋅     ⋅        ⋅     ⋅     ⋅     ⋅     ⋅    ⋅ \n",
       "   ⋅     ⋅     ⋅     ⋅     ⋅     ⋅   …    ⋅     ⋅     ⋅     ⋅     ⋅    ⋅ \n",
       "   ⋅     ⋅     ⋅     ⋅     ⋅     ⋅        ⋅     ⋅     ⋅     ⋅     ⋅    ⋅ \n",
       "   ⋅     ⋅     ⋅     ⋅     ⋅     ⋅        ⋅     ⋅     ⋅     ⋅     ⋅    ⋅ \n",
       "  ⋮                             ⋮    ⋱                           ⋮       \n",
       "   ⋅     ⋅     ⋅     ⋅     ⋅     ⋅   …    ⋅     ⋅     ⋅     ⋅     ⋅    ⋅ \n",
       "   ⋅     ⋅     ⋅     ⋅     ⋅     ⋅        ⋅     ⋅     ⋅     ⋅     ⋅    ⋅ \n",
       "   ⋅     ⋅     ⋅     ⋅     ⋅     ⋅        ⋅     ⋅     ⋅     ⋅     ⋅    ⋅ \n",
       "   ⋅     ⋅     ⋅     ⋅     ⋅     ⋅        ⋅     ⋅     ⋅     ⋅     ⋅    ⋅ \n",
       "   ⋅     ⋅     ⋅     ⋅     ⋅     ⋅        ⋅     ⋅     ⋅     ⋅     ⋅    ⋅ \n",
       "   ⋅     ⋅     ⋅     ⋅     ⋅     ⋅   …   1.0    ⋅     ⋅     ⋅     ⋅    ⋅ \n",
       "   ⋅     ⋅     ⋅     ⋅     ⋅     ⋅      -1.0   1.0    ⋅     ⋅     ⋅    ⋅ \n",
       "   ⋅     ⋅     ⋅     ⋅     ⋅     ⋅       0.0  -1.0   1.0    ⋅     ⋅    ⋅ \n",
       "   ⋅     ⋅     ⋅     ⋅     ⋅     ⋅        ⋅    0.0  -1.0   1.0    ⋅    ⋅ \n",
       "   ⋅     ⋅     ⋅     ⋅     ⋅     ⋅        ⋅     ⋅    0.0  -1.0   1.0   ⋅ \n",
       "   ⋅     ⋅     ⋅     ⋅     ⋅     ⋅   …    ⋅     ⋅     ⋅    0.0  -1.0  1.0\n",
       "   ⋅     ⋅     ⋅     ⋅     ⋅     ⋅        ⋅     ⋅     ⋅     ⋅    0.0  0.0"
      ]
     },
     "execution_count": 10,
     "metadata": {},
     "output_type": "execute_result"
    }
   ],
   "source": [
    "cr_z = Nt/cr\n",
    "#Dzᶠ = 1/cr_z * Tridiagonal(zeros(cr-1), -ones(cr),ones(cr-1))\n",
    "#Dzᶜ = 1/cr_z * Tridiagonal( -ones(cr-1), ones(cr),zeros(cr-1))\n",
    "Dzᶠ = Tridiagonal(zeros(cr-1), -ones(cr),ones(cr-1))\n",
    "Dzᶜ = 1/cr_z*Tridiagonal( -ones(cr-1), ones(cr),zeros(cr-1))\n",
    "Dzᶠ[cr, cr] = 0\n",
    "Dzᶜ[1, 1] = 0\n",
    "Dzᶠ"
   ]
  },
  {
   "cell_type": "code",
   "execution_count": 11,
   "metadata": {},
   "outputs": [
    {
     "data": {
      "text/plain": [
       "dudt_ (generic function with 1 method)"
      ]
     },
     "execution_count": 11,
     "metadata": {},
     "output_type": "execute_result"
    }
   ],
   "source": [
    "#neural_pde_prediction(T₀) = neural_ode(dudt_, T₀, tspan_train, Tsit5(), saveat=t_train, reltol=1e-7, abstol=1e-9)\n",
    "function dudt_(du,u,p,t)\n",
    "    x = (Dzᶜ*(DiffEqFlux.restructure(ann,p[1:length(p)-2])(u).*(Dzᶠ*u)))\n",
    "    for i in 1:length(u)\n",
    "        du[i] = x[i]\n",
    "    end\n",
    "    #du[length(u)] = p[end-1]*u[end] + p[end]*u[end]\n",
    "    #println(\"du\",du)\n",
    "end"
   ]
  },
  {
   "cell_type": "code",
   "execution_count": 12,
   "metadata": {},
   "outputs": [],
   "source": [
    "#foretold(u,p,t) = DiffEqFlux.restructure(ann,p[1:n_ann])(u)"
   ]
  },
  {
   "cell_type": "code",
   "execution_count": 13,
   "metadata": {},
   "outputs": [
    {
     "data": {
      "text/plain": [
       "Tracked 32×4 Array{Float64,2}:\n",
       " 19.0156  19.0156  19.0156  19.0156\n",
       " 19.0469  19.0468  19.0459  19.0451\n",
       " 19.0781  19.0782  19.079   19.0798\n",
       " 19.1094  19.1092  19.1074  19.1054\n",
       " 19.1406  19.1408  19.1422  19.1437\n",
       " 19.1719  19.1717  19.1704  19.1691\n",
       " 19.2031  19.203   19.202   19.2005\n",
       " 19.2344  19.2347  19.2383  19.242 \n",
       " 19.2656  19.2656  19.2651  19.2648\n",
       " 19.2969  19.2968  19.2957  19.2946\n",
       " 19.3281  19.3281  19.3281  19.3281\n",
       " 19.3594  19.3594  19.3601  19.3608\n",
       " 19.3906  19.3906  19.3907  19.3907\n",
       "  ⋮                                \n",
       " 19.6406  19.6406  19.6408  19.641 \n",
       " 19.6719  19.6719  19.6722  19.6725\n",
       " 19.7031  19.703   19.7022  19.7013\n",
       " 19.7344  19.7344  19.7346  19.7348\n",
       " 19.7656  19.7654  19.7628  19.76  \n",
       " 19.7969  19.797   19.7983  19.8   \n",
       " 19.8281  19.8284  19.8311  19.8337\n",
       " 19.8594  19.8593  19.8583  19.8575\n",
       " 19.8906  19.8904  19.8876  19.8845\n",
       " 19.9219  19.9221  19.9248  19.9278\n",
       " 19.9531  19.9532  19.9536  19.954 \n",
       " 19.9844  19.9843  19.9831  19.9819"
      ]
     },
     "execution_count": 13,
     "metadata": {},
     "output_type": "execute_result"
    }
   ],
   "source": [
    "prob = ODEProblem(dudt_,T₀,tspan_train,p3)\n",
    "diffeq_adjoint(p3,gpu(prob),Tsit5(),u0=gpu(T₀),abstol=1e-8,reltol=1e-6)\n",
    "#solve(prob)"
   ]
  },
  {
   "cell_type": "code",
   "execution_count": 14,
   "metadata": {},
   "outputs": [
    {
     "data": {
      "text/plain": [
       "predict_adjoint (generic function with 1 method)"
      ]
     },
     "execution_count": 14,
     "metadata": {},
     "output_type": "execute_result"
    }
   ],
   "source": [
    "function predict_adjoint()\n",
    "  diffeq_adjoint(p3,gpu(prob),Tsit5(),u0=gpu(T₀),saveat=t_train,reltol=1e-6, abstol=1e-8)\n",
    "end"
   ]
  },
  {
   "cell_type": "code",
   "execution_count": 15,
   "metadata": {},
   "outputs": [
    {
     "data": {
      "text/plain": [
       "loss_function (generic function with 1 method)"
      ]
     },
     "execution_count": 15,
     "metadata": {},
     "output_type": "execute_result"
    }
   ],
   "source": [
    "opt = ADAM(0.1)\n",
    "\n",
    "#data = [(T₀, T_cs[:, 1:n_train])]\n",
    "data = Iterators.repeated((gpu(T₀), gpu(T_cs[:, 1:n_train])), 1000)\n",
    "\n",
    "loss_function(T₀, T_data) = sum(abs2, gpu(T_data) .- predict_adjoint())"
   ]
  },
  {
   "cell_type": "code",
   "execution_count": 16,
   "metadata": {},
   "outputs": [
    {
     "data": {
      "text/plain": [
       "#3 (generic function with 1 method)"
      ]
     },
     "execution_count": 16,
     "metadata": {},
     "output_type": "execute_result"
    }
   ],
   "source": [
    "# Callback function to observe training.\n",
    "cb = function ()\n",
    "    #println(DiffEqFlux.destructure(ann)[1:10])\n",
    "    loss = loss_function(T₀, T_cs[:, 1:n_train]) # Not very generalizable...\n",
    "    println(\"loss = $loss\")\n",
    "    loss < 100 && Flux.stop()\n",
    "end"
   ]
  },
  {
   "cell_type": "code",
   "execution_count": null,
   "metadata": {},
   "outputs": [
    {
     "name": "stdout",
     "output_type": "stream",
     "text": [
      "loss = 179.71609112700816 (tracked)\n",
      "loss = 178.64590654025687 (tracked)\n",
      "loss = 174.4296263144533 (tracked)\n",
      "loss = 170.3160594338408 (tracked)\n",
      "loss = 168.06691547614838 (tracked)\n"
     ]
    },
    {
     "ename": "InterruptException",
     "evalue": "InterruptException:",
     "output_type": "error",
     "traceback": [
      "InterruptException:",
      "",
      "Stacktrace:",
      " [1] try_yieldto(::typeof(Base.ensure_rescheduled), ::Base.RefValue{Task}) at .\\task.jl:517",
      " [2] wait() at .\\task.jl:592",
      " [3] uv_write(::Base.PipeEndpoint, ::Ptr{UInt8}, ::UInt64) at .\\stream.jl:883",
      " [4] unsafe_write(::Base.PipeEndpoint, ::Ptr{UInt8}, ::UInt64) at .\\stream.jl:931",
      " [5] unsafe_write at .\\io.jl:522 [inlined]",
      " [6] unsafe_write(::Base.PipeEndpoint, ::Base.RefValue{UInt8}, ::Int64) at .\\io.jl:520",
      " [7] write at .\\io.jl:523 [inlined]",
      " [8] write(::Base.PipeEndpoint, ::UInt8) at .\\stream.jl:973",
      " [9] write at .\\io.jl:237 [inlined]",
      " [10] write at .\\io.jl:576 [inlined]",
      " [11] print at .\\char.jl:229 [inlined]",
      " [12] print(::IJulia.IJuliaStdio{Base.PipeEndpoint}, ::String, ::Char) at .\\strings\\io.jl:48",
      " [13] println(::IJulia.IJuliaStdio{Base.PipeEndpoint}, ::String) at .\\strings\\io.jl:75",
      " [14] println(::String) at .\\coreio.jl:4",
      " [15] (::getfield(Main, Symbol(\"##3#4\")))() at .\\In[16]:5",
      " [16] macro expansion at C:\\Users\\daddyj\\.julia\\packages\\Flux\\dkJUV\\src\\optimise\\train.jl:75 [inlined]",
      " [17] macro expansion at C:\\Users\\daddyj\\.julia\\packages\\Juno\\oLB1d\\src\\progress.jl:134 [inlined]",
      " [18] #train!#12(::getfield(Main, Symbol(\"##3#4\")), ::typeof(Flux.Optimise.train!), ::Function, ::Tracker.Params, ::Base.Iterators.Take{Base.Iterators.Repeated{Tuple{Array{Float64,1},Array{Float64,2}}}}, ::ADAM) at C:\\Users\\daddyj\\.julia\\packages\\Flux\\dkJUV\\src\\optimise\\train.jl:69",
      " [19] (::getfield(Flux.Optimise, Symbol(\"#kw##train!\")))(::NamedTuple{(:cb,),Tuple{getfield(Main, Symbol(\"##3#4\"))}}, ::typeof(Flux.Optimise.train!), ::Function, ::Tracker.Params, ::Base.Iterators.Take{Base.Iterators.Repeated{Tuple{Array{Float64,1},Array{Float64,2}}}}, ::ADAM) at .\\none:0",
      " [20] top-level scope at In[17]:1"
     ]
    },
    {
     "name": "stderr",
     "output_type": "stream",
     "text": [
      "\n",
      "WARNING: Workqueue inconsistency detected: popfirst!(Workqueue).state != :runnable\n"
     ]
    }
   ],
   "source": [
    "Flux.train!(loss_function, ps, data, opt, cb = cb)"
   ]
  },
  {
   "cell_type": "code",
   "execution_count": 47,
   "metadata": {},
   "outputs": [
    {
     "data": {
      "text/plain": [
       "Chain(Dense(32, 64, tanh), Dense(64, 128, tanh), Dense(128, 64, tanh), Dense(64, 32))"
      ]
     },
     "execution_count": 47,
     "metadata": {},
     "output_type": "execute_result"
    }
   ],
   "source": [
    "#for _ in 1:20\n",
    "#    Flux.train!(loss_function, ps, data, opt, cb = cb)\n",
    "#end"
   ]
  },
  {
   "cell_type": "code",
   "execution_count": 18,
   "metadata": {},
   "outputs": [
    {
     "name": "stderr",
     "output_type": "stream",
     "text": [
      "┌ Info: Saved animation to \n",
      "│   fn = C:\\Users\\daddyj\\Documents\\6S898-climate-parameterization\\notebooks\\tmp.gif\n",
      "└ @ Plots C:\\Users\\daddyj\\.julia\\packages\\Plots\\Iuc9S\\src\\animation.jl:95\n"
     ]
    },
    {
     "data": {
      "text/html": [
       "<img src=\"tmp.gif\" />"
      ],
      "text/plain": [
       "Plots.AnimatedGif(\"C:\\\\Users\\\\daddyj\\\\Documents\\\\6S898-climate-parameterization\\\\notebooks\\\\tmp.gif\")"
      ]
     },
     "execution_count": 18,
     "metadata": {},
     "output_type": "execute_result"
    }
   ],
   "source": [
    "tspan = (t[1], t[end]) ./ 86400\n",
    "#nn_pred = neural_ode(dudt_, T₀, tspan, Tsit5(), saveat=t ./86400, reltol=1e-7, abstol=1e-9) |> Flux.data\n",
    "prob2 = ODEProblem(dudt_,T₀,tspan,p3)\n",
    "nn_pred = diffeq_adjoint(p3,prob2,Tsit5(),u0=T₀,abstol=1e-8,reltol=1e-6,saveat=t ./86400) |> Flux.data\n",
    "z_cs = coarse_grain(z, cr)\n",
    "\n",
    "anim = @gif for n=1:10:Nt\n",
    "    t_str = @sprintf(\"%.2f\", t[n] / 86400)\n",
    "    #println(\"here1\")\n",
    "    plot(T_cs[:, n], z_cs, linewidth=2,\n",
    "         xlim=(19, 20), ylim=(-100, 0), label=\"Data\",\n",
    "         xlabel=\"Temperature (C)\", ylabel=\"Depth (z)\",\n",
    "         title=\"Free convection: $t_str days\",\n",
    "         legend=:bottomright, show=false)\n",
    "    #println(\"here2\")\n",
    "    if n <= n_train\n",
    "        plot!(nn_pred[:, n], z_cs, linewidth=2, label=\"Neural ODE (train)\", show=false)\n",
    "    else\n",
    "        plot!(nn_pred[:, n], z_cs, linewidth=2, linestyle=:dash, label=\"Neural ODE (test)\", show=false)\n",
    "    end\n",
    "end"
   ]
  },
  {
   "cell_type": "code",
   "execution_count": 135,
   "metadata": {},
   "outputs": [
    {
     "data": {
      "text/plain": [
       "32×1153 Array{Float64,2}:\n",
       " 19.0156  19.0153  19.015   19.0147  …  18.6447  18.6444  18.6441  18.6438\n",
       " 19.0469  19.0471  19.0472  19.0474     19.2497  19.2498  19.25    19.2502\n",
       " 19.0781  19.0776  19.0771  19.0766     18.512   18.5115  18.511   18.5106\n",
       " 19.1094  19.1084  19.1074  19.1065     17.9969  17.9959  17.9949  17.994 \n",
       " 19.1406  19.1412  19.1418  19.1423     19.7957  19.7962  19.7968  19.7974\n",
       " 19.1719  19.1724  19.1729  19.1734  …  19.7699  19.7704  19.7709  19.7714\n",
       " 19.2031  19.2022  19.2013  19.2004     18.166   18.1651  18.1642  18.1633\n",
       " 19.2344  19.2343  19.2343  19.2342     19.1856  19.1856  19.1856  19.1855\n",
       " 19.2656  19.2656  19.2655  19.2655     19.1993  19.1992  19.1992  19.1991\n",
       " 19.2969  19.2973  19.2978  19.2982     19.7993  19.7997  19.8002  19.8006\n",
       " 19.3281  19.3284  19.3287  19.3289  …  19.6353  19.6356  19.6358  19.6361\n",
       " 19.3594  19.3586  19.3579  19.3572     18.5278  18.5271  18.5264  18.5256\n",
       " 19.3906  19.3911  19.3917  19.3922     19.984   19.9845  19.985   19.9856\n",
       "  ⋮                                  ⋱            ⋮                       \n",
       " 19.6406  19.6412  19.6418  19.6424  …  20.3043  20.3049  20.3054  20.306 \n",
       " 19.6719  19.6725  19.6732  19.6739     20.4372  20.4379  20.4386  20.4392\n",
       " 19.7031  19.7029  19.7027  19.7026     19.4881  19.4879  19.4877  19.4875\n",
       " 19.7344  19.7348  19.7351  19.7355     20.1664  20.1668  20.1671  20.1675\n",
       " 19.7656  19.765   19.7643  19.7636     18.9993  18.9986  18.998   18.9973\n",
       " 19.7969  19.7963  19.7958  19.7953  …  19.1939  19.1933  19.1928  19.1923\n",
       " 19.8281  19.8268  19.8255  19.8242     18.3196  18.3183  18.317   18.3157\n",
       " 19.8594  19.8587  19.858   19.8574     19.0961  19.0954  19.0947  19.0941\n",
       " 19.8906  19.8904  19.8902  19.89       19.6562  19.656   19.6558  19.6556\n",
       " 19.9219  19.921   19.9201  19.9192     18.913   18.9121  18.9113  18.9104\n",
       " 19.9531  19.9528  19.9524  19.9521  …  19.5552  19.5548  19.5545  19.5541\n",
       " 19.9844  19.9839  19.9834  19.9829     19.4254  19.4249  19.4244  19.424 "
      ]
     },
     "execution_count": 135,
     "metadata": {},
     "output_type": "execute_result"
    }
   ],
   "source": [
    "nn_pred = diffeq_adjoint(p3,prob2,Tsit5(),u0=T₀,abstol=1e-8,reltol=1e-6,saveat=t ./86400) |> Flux.data\n"
   ]
  },
  {
   "cell_type": "code",
   "execution_count": null,
   "metadata": {},
   "outputs": [],
   "source": []
  }
 ],
 "metadata": {
  "kernelspec": {
   "display_name": "Julia 1.2.0",
   "language": "julia",
   "name": "julia-1.2"
  },
  "language_info": {
   "file_extension": ".jl",
   "mimetype": "application/julia",
   "name": "julia",
   "version": "1.2.0"
  }
 },
 "nbformat": 4,
 "nbformat_minor": 4
}
