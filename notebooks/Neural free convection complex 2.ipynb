{
 "cells": [
  {
   "cell_type": "code",
   "execution_count": 25,
   "metadata": {},
   "outputs": [],
   "source": [
    "using Printf\n",
    "using Statistics\n",
    "\n",
    "using Flux\n",
    "using DifferentialEquations\n",
    "using DiffEqFlux\n",
    "using LinearAlgebra\n",
    "using JLD2\n",
    "using Plots\n",
    "\n",
    "using Flux: @epochs"
   ]
  },
  {
   "cell_type": "code",
   "execution_count": 2,
   "metadata": {},
   "outputs": [],
   "source": [
    "file = jldopen(\"../data/ocean_convection_profiles.jld2\");"
   ]
  },
  {
   "cell_type": "code",
   "execution_count": 3,
   "metadata": {},
   "outputs": [],
   "source": [
    "Is = keys(file[\"timeseries/t\"])\n",
    "\n",
    "Nz = file[\"grid/Nz\"]\n",
    "Nt = length(Is)\n",
    "\n",
    "t = zeros(Nt)\n",
    "T = T_data = zeros(Nt, Nz)\n",
    "\n",
    "for (i, I) in enumerate(Is)\n",
    "    t[i] = file[\"timeseries/t/$I\"]\n",
    "    T[i, :] = file[\"timeseries/T/$I\"][1, 1, 2:Nz+1]\n",
    "end"
   ]
  },
  {
   "cell_type": "code",
   "execution_count": 4,
   "metadata": {},
   "outputs": [
    {
     "data": {
      "text/html": [
       "<img src=\"tmp.gif\" />"
      ],
      "text/plain": [
       "Plots.AnimatedGif(\"C:\\\\Users\\\\daddyj\\\\Documents\\\\6S898-climate-parameterization\\\\notebooks\\\\tmp.gif\")"
      ]
     },
     "metadata": {},
     "output_type": "display_data"
    },
    {
     "name": "stderr",
     "output_type": "stream",
     "text": [
      "┌ Info: Saved animation to \n",
      "│   fn = C:\\Users\\daddyj\\Documents\\6S898-climate-parameterization\\notebooks\\tmp.gif\n",
      "└ @ Plots C:\\Users\\daddyj\\.julia\\packages\\Plots\\Iuc9S\\src\\animation.jl:95\n"
     ]
    }
   ],
   "source": [
    "z = file[\"grid/zC\"]\n",
    "\n",
    "anim = @gif for n=1:10:Nt\n",
    "    t_str = @sprintf(\"%.2f\", t[n] / 86400)\n",
    "    plot(T[n, :], z, linewidth=2,\n",
    "         xlim=(19, 20), ylim=(-100, 0), label=\"\",\n",
    "         xlabel=\"Temperature (C)\", ylabel=\"Depth (z)\",\n",
    "         title=\"Free convection: $t_str days\", show=false)\n",
    "end\n",
    "\n",
    "display(anim)"
   ]
  },
  {
   "cell_type": "code",
   "execution_count": 5,
   "metadata": {},
   "outputs": [
    {
     "data": {
      "text/plain": [
       "coarse_grain (generic function with 1 method)"
      ]
     },
     "execution_count": 5,
     "metadata": {},
     "output_type": "execute_result"
    }
   ],
   "source": [
    "function coarse_grain(data, resolution)\n",
    "    @assert length(data) % resolution == 0\n",
    "    s = length(data) / resolution\n",
    "    \n",
    "    data_cs = zeros(resolution)\n",
    "    for i in 1:resolution\n",
    "        t = data[Int((i-1)*s+1):Int(i*s)]\n",
    "        data_cs[i] = mean(t)\n",
    "    end\n",
    "    \n",
    "    return data_cs\n",
    "end"
   ]
  },
  {
   "cell_type": "code",
   "execution_count": 6,
   "metadata": {},
   "outputs": [],
   "source": [
    "coarse_resolution = cr = 32\n",
    "T_cs = zeros(Nt, coarse_resolution)\n",
    "for n=1:Nt\n",
    "    T_cs[n, :] = coarse_grain(T[n, :], coarse_resolution)\n",
    "end\n",
    "\n",
    "T_cs = transpose(T_cs) |> Array;"
   ]
  },
  {
   "cell_type": "code",
   "execution_count": 7,
   "metadata": {},
   "outputs": [
    {
     "data": {
      "text/plain": [
       "(0.0, 3.993078849612772)"
      ]
     },
     "execution_count": 7,
     "metadata": {},
     "output_type": "execute_result"
    }
   ],
   "source": [
    "T₀ = T_cs[:, 1]\n",
    "n_train = round(Int, Nt/2)\n",
    "t_train = t[1:n_train] ./ 86400\n",
    "tspan_train = (t_train[1], t_train[end])"
   ]
  },
  {
   "cell_type": "code",
   "execution_count": 80,
   "metadata": {},
   "outputs": [
    {
     "data": {
      "text/plain": [
       "4192"
      ]
     },
     "execution_count": 80,
     "metadata": {},
     "output_type": "execute_result"
    }
   ],
   "source": [
    "#dTdt_NN = Chain(Dense(cr, 2cr, tanh),\n",
    "#                Dense(2cr, cr))\n",
    "\n",
    "ann = Chain(Dense(cr, 2cr, tanh),\n",
    "                Dense(2cr, cr))\n",
    "\n",
    "n_ann = 2*cr^2 + 2cr + 2*cr^2+cr\n",
    "\n",
    "#function dTdt_NN(du,u,p,t)\n",
    "#    du = DiffEqFlux.restructure(ann,p[1:n_ann])(u)\n",
    "#end"
   ]
  },
  {
   "cell_type": "code",
   "execution_count": 81,
   "metadata": {},
   "outputs": [
    {
     "data": {
      "text/plain": [
       "Params([Float32[-0.2003274 0.08194095 … -0.1919033 -0.053825617; 0.24139124 -0.23989993 … -0.18962204 -0.17265826; … ; 0.16427964 0.19293076 … -0.0038294792 -0.11314386; -0.1969539 0.09005076 … -0.1270439 0.04919845] (tracked), Float32[0.0, 0.0, 0.0, 0.0, 0.0, 0.0, 0.0, 0.0, 0.0, 0.0  …  0.0, 0.0, 0.0, 0.0, 0.0, 0.0, 0.0, 0.0, 0.0, 0.0] (tracked), Float32[0.22591776 -0.08994216 … -0.16212755 -0.08436048; 0.22652137 -0.051735282 … -0.22390294 -0.024571836; … ; 0.24483758 0.24031246 … -0.17377567 -0.14136171; -0.07514995 -0.08042383 … 0.113624394 0.20905578] (tracked), Float32[0.0, 0.0, 0.0, 0.0, 0.0, 0.0, 0.0, 0.0, 0.0, 0.0  …  0.0, 0.0, 0.0, 0.0, 0.0, 0.0, 0.0, 0.0, 0.0, 0.0] (tracked)])"
      ]
     },
     "execution_count": 81,
     "metadata": {},
     "output_type": "execute_result"
    }
   ],
   "source": [
    "p1 = Flux.data(DiffEqFlux.destructure(ann))\n",
    "ps = Flux.params(ann)"
   ]
  },
  {
   "cell_type": "code",
   "execution_count": 82,
   "metadata": {},
   "outputs": [
    {
     "data": {
      "text/plain": [
       "32×32 Tridiagonal{Float64,Array{Float64,1}}:\n",
       " -0.0277537   0.0277537    ⋅         …    ⋅           ⋅          ⋅       \n",
       "  0.0        -0.0277537   0.0277537       ⋅           ⋅          ⋅       \n",
       "   ⋅          0.0        -0.0277537       ⋅           ⋅          ⋅       \n",
       "   ⋅           ⋅          0.0             ⋅           ⋅          ⋅       \n",
       "   ⋅           ⋅           ⋅              ⋅           ⋅          ⋅       \n",
       "   ⋅           ⋅           ⋅         …    ⋅           ⋅          ⋅       \n",
       "   ⋅           ⋅           ⋅              ⋅           ⋅          ⋅       \n",
       "   ⋅           ⋅           ⋅              ⋅           ⋅          ⋅       \n",
       "   ⋅           ⋅           ⋅              ⋅           ⋅          ⋅       \n",
       "   ⋅           ⋅           ⋅              ⋅           ⋅          ⋅       \n",
       "   ⋅           ⋅           ⋅         …    ⋅           ⋅          ⋅       \n",
       "   ⋅           ⋅           ⋅              ⋅           ⋅          ⋅       \n",
       "   ⋅           ⋅           ⋅              ⋅           ⋅          ⋅       \n",
       "  ⋮                                  ⋱               ⋮                   \n",
       "   ⋅           ⋅           ⋅         …    ⋅           ⋅          ⋅       \n",
       "   ⋅           ⋅           ⋅              ⋅           ⋅          ⋅       \n",
       "   ⋅           ⋅           ⋅              ⋅           ⋅          ⋅       \n",
       "   ⋅           ⋅           ⋅              ⋅           ⋅          ⋅       \n",
       "   ⋅           ⋅           ⋅              ⋅           ⋅          ⋅       \n",
       "   ⋅           ⋅           ⋅         …    ⋅           ⋅          ⋅       \n",
       "   ⋅           ⋅           ⋅              ⋅           ⋅          ⋅       \n",
       "   ⋅           ⋅           ⋅              ⋅           ⋅          ⋅       \n",
       "   ⋅           ⋅           ⋅             0.0277537    ⋅          ⋅       \n",
       "   ⋅           ⋅           ⋅            -0.0277537   0.0277537   ⋅       \n",
       "   ⋅           ⋅           ⋅         …   0.0        -0.0277537  0.0277537\n",
       "   ⋅           ⋅           ⋅              ⋅          0.0        0.0      "
      ]
     },
     "execution_count": 82,
     "metadata": {},
     "output_type": "execute_result"
    }
   ],
   "source": [
    "cr_z = Nt/cr\n",
    "Dzᶠ = 1/cr_z * Tridiagonal(-ones(cr-1), ones(cr), zeros(cr-1))\n",
    "Dzᶜ = 1/cr_z * Tridiagonal(zeros(cr-1), -ones(cr), ones(cr-1))\n",
    "Dzᶠ[1, 1] = 0\n",
    "Dzᶜ[cr, cr] = 0\n",
    "Dzᶜ"
   ]
  },
  {
   "cell_type": "code",
   "execution_count": 83,
   "metadata": {},
   "outputs": [],
   "source": [
    "#neural_pde_prediction(T₀) = neural_ode(dudt_, T₀, tspan_train, Tsit5(), saveat=t_train, reltol=1e-7, abstol=1e-9)\n",
    "#function dudt_(du,u,p,t)\n",
    "#    du = Flux.data(DiffEqFlux.restructure(ann,p[1:n_ann])(u))\n",
    "#    println(\"du\",du)\n",
    "#end"
   ]
  },
  {
   "cell_type": "code",
   "execution_count": 84,
   "metadata": {},
   "outputs": [
    {
     "data": {
      "text/plain": [
       "foretold (generic function with 1 method)"
      ]
     },
     "execution_count": 84,
     "metadata": {},
     "output_type": "execute_result"
    }
   ],
   "source": [
    "foretold(u,p,t) = Dzᶜ*((DiffEqFlux.restructure(ann,p[1:n_ann])(u)).*(Dzᶠ*u))"
   ]
  },
  {
   "cell_type": "code",
   "execution_count": 85,
   "metadata": {},
   "outputs": [
    {
     "data": {
      "text/plain": [
       "Tracked 32×5 Array{Float64,2}:\n",
       " 19.0156  19.0156  19.0156  19.0155  19.0155\n",
       " 19.0469  19.0469  19.0469  19.047   19.047 \n",
       " 19.0781  19.0781  19.078   19.0775  19.0772\n",
       " 19.1094  19.1094  19.1095  19.1099  19.1102\n",
       " 19.1406  19.1406  19.1406  19.1407  19.1407\n",
       " 19.1719  19.1719  19.172   19.1722  19.1724\n",
       " 19.2031  19.2031  19.203   19.2027  19.2026\n",
       " 19.2344  19.2344  19.2344  19.2343  19.2343\n",
       " 19.2656  19.2656  19.2657  19.2658  19.2659\n",
       " 19.2969  19.2969  19.2969  19.2969  19.2969\n",
       " 19.3281  19.3281  19.3282  19.3285  19.3287\n",
       " 19.3594  19.3593  19.3592  19.3587  19.3584\n",
       " 19.3906  19.3906  19.3907  19.391   19.3912\n",
       "  ⋮                                         \n",
       " 19.6406  19.6406  19.6407  19.641   19.6412\n",
       " 19.6719  19.6719  19.6718  19.6717  19.6716\n",
       " 19.7031  19.7031  19.7031  19.703   19.703 \n",
       " 19.7344  19.7344  19.7344  19.7343  19.7342\n",
       " 19.7656  19.7656  19.7657  19.7658  19.7659\n",
       " 19.7969  19.7969  19.7969  19.7971  19.7972\n",
       " 19.8281  19.8281  19.828   19.8277  19.8275\n",
       " 19.8594  19.8594  19.8595  19.8598  19.86  \n",
       " 19.8906  19.8906  19.8905  19.8901  19.8899\n",
       " 19.9219  19.9219  19.9219  19.922   19.922 \n",
       " 19.9531  19.9531  19.9531  19.9532  19.9533\n",
       " 19.9844  19.9844  19.9844  19.9844  19.9844"
      ]
     },
     "execution_count": 85,
     "metadata": {},
     "output_type": "execute_result"
    }
   ],
   "source": [
    "prob = ODEProblem(foretold,T₀,tspan_train,p1)\n",
    "Flux.Tracker.collect(diffeq_adjoint(p1,prob,Tsit5(),u0=T₀,abstol=1e-8,reltol=1e-6))"
   ]
  },
  {
   "cell_type": "code",
   "execution_count": 86,
   "metadata": {},
   "outputs": [
    {
     "data": {
      "text/plain": [
       "predict_adjoint (generic function with 1 method)"
      ]
     },
     "execution_count": 86,
     "metadata": {},
     "output_type": "execute_result"
    }
   ],
   "source": [
    "function predict_adjoint()\n",
    "  Flux.Tracker.collect(diffeq_adjoint(p1,prob,Tsit5(),u0=T₀,saveat=t_train,reltol=1e-6, abstol=1e-8))\n",
    "end"
   ]
  },
  {
   "cell_type": "code",
   "execution_count": 87,
   "metadata": {},
   "outputs": [
    {
     "data": {
      "text/plain": [
       "loss_function (generic function with 1 method)"
      ]
     },
     "execution_count": 87,
     "metadata": {},
     "output_type": "execute_result"
    }
   ],
   "source": [
    "opt = ADAM(1)\n",
    "\n",
    "data = [(T₀, T_cs[:, 1:n_train])]\n",
    "\n",
    "loss_function(T₀, T_data) = sum(abs2, T_data .- predict_adjoint())"
   ]
  },
  {
   "cell_type": "code",
   "execution_count": 90,
   "metadata": {},
   "outputs": [
    {
     "data": {
      "text/plain": [
       "#21 (generic function with 1 method)"
      ]
     },
     "execution_count": 90,
     "metadata": {},
     "output_type": "execute_result"
    }
   ],
   "source": [
    "# Callback function to observe training.\n",
    "cb = function ()\n",
    "    #println(DiffEqFlux.destructure(ann)[1:10])\n",
    "    loss = loss_function(T₀, T_cs[:, 1:n_train]) # Not very generalizable...\n",
    "    println(\"loss = $loss\")\n",
    "end"
   ]
  },
  {
   "cell_type": "code",
   "execution_count": 91,
   "metadata": {},
   "outputs": [
    {
     "name": "stdout",
     "output_type": "stream",
     "text": [
      "loss = 180.21029942863254 (tracked)\n",
      "loss = 180.21029942863254 (tracked)\n",
      "loss = 180.21029942863254 (tracked)\n",
      "loss = 180.21029942863254 (tracked)\n",
      "loss = 180.21029942863254 (tracked)\n",
      "loss = 180.21029942863254 (tracked)\n",
      "loss = 180.21029942863254 (tracked)\n",
      "loss = 180.21029942863254 (tracked)\n",
      "loss = 180.21029942863254 (tracked)\n",
      "loss = 180.21029942863254 (tracked)\n",
      "loss = 180.21029942863254 (tracked)\n",
      "loss = 180.21029942863254 (tracked)\n",
      "loss = 180.21029942863254 (tracked)\n",
      "loss = 180.21029942863254 (tracked)\n",
      "loss = 180.21029942863254 (tracked)\n",
      "loss = 180.21029942863254 (tracked)\n",
      "loss = 180.21029942863254 (tracked)\n",
      "loss = 180.21029942863254 (tracked)\n",
      "loss = 180.21029942863254 (tracked)\n",
      "loss = 180.21029942863254 (tracked)\n",
      "loss = 180.21029942863254 (tracked)\n",
      "loss = 180.21029942863254 (tracked)\n",
      "loss = 180.21029942863254 (tracked)\n",
      "loss = 180.21029942863254 (tracked)\n",
      "loss = 180.21029942863254 (tracked)\n",
      "loss = 180.21029942863254 (tracked)\n",
      "loss = 180.21029942863254 (tracked)\n",
      "loss = 180.21029942863254 (tracked)\n",
      "loss = 180.21029942863254 (tracked)\n",
      "loss = 180.21029942863254 (tracked)\n",
      "loss = 180.21029942863254 (tracked)\n",
      "loss = 180.21029942863254 (tracked)\n",
      "loss = 180.21029942863254 (tracked)\n",
      "loss = 180.21029942863254 (tracked)\n",
      "loss = 180.21029942863254 (tracked)\n",
      "loss = 180.21029942863254 (tracked)\n",
      "loss = 180.21029942863254 (tracked)\n",
      "loss = 180.21029942863254 (tracked)\n",
      "loss = 180.21029942863254 (tracked)\n",
      "loss = 180.21029942863254 (tracked)\n",
      "loss = 180.21029942863254 (tracked)\n",
      "loss = 180.21029942863254 (tracked)\n",
      "loss = 180.21029942863254 (tracked)\n",
      "loss = 180.21029942863254 (tracked)\n",
      "loss = 180.21029942863254 (tracked)\n",
      "loss = 180.21029942863254 (tracked)\n",
      "loss = 180.21029942863254 (tracked)\n",
      "loss = 180.21029942863254 (tracked)\n",
      "loss = 180.21029942863254 (tracked)\n",
      "loss = 180.21029942863254 (tracked)\n",
      "loss = 180.21029942863254 (tracked)\n",
      "loss = 180.21029942863254 (tracked)\n",
      "loss = 180.21029942863254 (tracked)\n",
      "loss = 180.21029942863254 (tracked)\n",
      "loss = 180.21029942863254 (tracked)\n",
      "loss = 180.21029942863254 (tracked)\n",
      "loss = 180.21029942863254 (tracked)\n",
      "loss = 180.21029942863254 (tracked)\n",
      "loss = 180.21029942863254 (tracked)\n",
      "loss = 180.21029942863254 (tracked)\n",
      "loss = 180.21029942863254 (tracked)\n",
      "loss = 180.21029942863254 (tracked)\n",
      "loss = 180.21029942863254 (tracked)\n",
      "loss = 180.21029942863254 (tracked)\n",
      "loss = 180.21029942863254 (tracked)\n",
      "loss = 180.21029942863254 (tracked)\n",
      "loss = 180.21029942863254 (tracked)\n",
      "loss = 180.21029942863254 (tracked)\n",
      "loss = 180.21029942863254 (tracked)\n",
      "loss = 180.21029942863254 (tracked)\n",
      "loss = 180.21029942863254 (tracked)\n",
      "loss = 180.21029942863254 (tracked)\n",
      "loss = 180.21029942863254 (tracked)\n",
      "loss = 180.21029942863254 (tracked)\n",
      "loss = 180.21029942863254 (tracked)\n",
      "loss = 180.21029942863254 (tracked)\n",
      "loss = 180.21029942863254 (tracked)\n",
      "loss = 180.21029942863254 (tracked)\n",
      "loss = 180.21029942863254 (tracked)\n",
      "loss = 180.21029942863254 (tracked)\n",
      "loss = 180.21029942863254 (tracked)\n",
      "loss = 180.21029942863254 (tracked)\n",
      "loss = 180.21029942863254 (tracked)\n",
      "loss = 180.21029942863254 (tracked)\n",
      "loss = 180.21029942863254 (tracked)\n",
      "loss = 180.21029942863254 (tracked)\n",
      "loss = 180.21029942863254 (tracked)\n",
      "loss = 180.21029942863254 (tracked)\n",
      "loss = 180.21029942863254 (tracked)\n",
      "loss = 180.21029942863254 (tracked)\n",
      "loss = 180.21029942863254 (tracked)\n",
      "loss = 180.21029942863254 (tracked)\n",
      "loss = 180.21029942863254 (tracked)\n",
      "loss = 180.21029942863254 (tracked)\n",
      "loss = 180.21029942863254 (tracked)\n",
      "loss = 180.21029942863254 (tracked)\n",
      "loss = 180.21029942863254 (tracked)\n",
      "loss = 180.21029942863254 (tracked)\n",
      "loss = 180.21029942863254 (tracked)\n",
      "loss = 180.21029942863254 (tracked)\n"
     ]
    }
   ],
   "source": [
    "for _ in 1:100\n",
    "    Flux.train!(loss_function, ps, data, opt, cb = cb)\n",
    "end"
   ]
  },
  {
   "cell_type": "code",
   "execution_count": 25,
   "metadata": {},
   "outputs": [
    {
     "name": "stderr",
     "output_type": "stream",
     "text": [
      "┌ Info: Saved animation to \n",
      "│   fn = C:\\Users\\daddyj\\Documents\\6S898-climate-parameterization\\notebooks\\tmp.gif\n",
      "└ @ Plots C:\\Users\\daddyj\\.julia\\packages\\Plots\\Iuc9S\\src\\animation.jl:95\n"
     ]
    },
    {
     "data": {
      "text/html": [
       "<img src=\"tmp.gif\" />"
      ],
      "text/plain": [
       "Plots.AnimatedGif(\"C:\\\\Users\\\\daddyj\\\\Documents\\\\6S898-climate-parameterization\\\\notebooks\\\\tmp.gif\")"
      ]
     },
     "execution_count": 25,
     "metadata": {},
     "output_type": "execute_result"
    }
   ],
   "source": [
    "tspan = (t[1], t[end]) ./ 86400\n",
    "nn_pred = neural_ode(dudt_, T₀, tspan, Tsit5(), saveat=t ./86400, reltol=1e-7, abstol=1e-9) |> Flux.data\n",
    "\n",
    "z_cs = coarse_grain(z, cr)\n",
    "\n",
    "anim = @gif for n=1:10:Nt\n",
    "    t_str = @sprintf(\"%.2f\", t[n] / 86400)\n",
    "    plot(T_cs[:, n], z_cs, linewidth=2,\n",
    "         xlim=(19, 20), ylim=(-100, 0), label=\"Data\",\n",
    "         xlabel=\"Temperature (C)\", ylabel=\"Depth (z)\",\n",
    "         title=\"Free convection: $t_str days\",\n",
    "         legend=:bottomright, show=false)\n",
    "    if n <= n_train\n",
    "        plot!(nn_pred[:, n], z_cs, linewidth=2, label=\"Neural ODE (train)\", show=false)\n",
    "    else\n",
    "        plot!(nn_pred[:, n], z_cs, linewidth=2, linestyle=:dash, label=\"Neural ODE (test)\", show=false)\n",
    "    end\n",
    "end"
   ]
  },
  {
   "cell_type": "code",
   "execution_count": null,
   "metadata": {},
   "outputs": [],
   "source": []
  }
 ],
 "metadata": {
  "kernelspec": {
   "display_name": "Julia 1.2.0",
   "language": "julia",
   "name": "julia-1.2"
  },
  "language_info": {
   "file_extension": ".jl",
   "mimetype": "application/julia",
   "name": "julia",
   "version": "1.2.0"
  }
 },
 "nbformat": 4,
 "nbformat_minor": 4
}
