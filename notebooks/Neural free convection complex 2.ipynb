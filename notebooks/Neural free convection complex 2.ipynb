{
 "cells": [
  {
   "cell_type": "code",
   "execution_count": 1,
   "metadata": {},
   "outputs": [],
   "source": [
    "using Printf\n",
    "using Statistics\n",
    "\n",
    "using Flux\n",
    "using DifferentialEquations\n",
    "using DiffEqFlux\n",
    "using LinearAlgebra\n",
    "using JLD2\n",
    "using Plots\n",
    "\n",
    "using Flux: @epochs"
   ]
  },
  {
   "cell_type": "code",
   "execution_count": 2,
   "metadata": {},
   "outputs": [],
   "source": [
    "file = jldopen(\"../data/ocean_convection_profiles.jld2\");"
   ]
  },
  {
   "cell_type": "code",
   "execution_count": 3,
   "metadata": {},
   "outputs": [],
   "source": [
    "Is = keys(file[\"timeseries/t\"])\n",
    "\n",
    "Nz = file[\"grid/Nz\"]\n",
    "Nt = length(Is)\n",
    "\n",
    "t = zeros(Nt)\n",
    "T = T_data = zeros(Nt, Nz)\n",
    "\n",
    "for (i, I) in enumerate(Is)\n",
    "    t[i] = file[\"timeseries/t/$I\"]\n",
    "    T[i, :] = file[\"timeseries/T/$I\"][1, 1, 2:Nz+1]\n",
    "end"
   ]
  },
  {
   "cell_type": "code",
   "execution_count": 4,
   "metadata": {},
   "outputs": [
    {
     "data": {
      "text/html": [
       "<img src=\"tmp.gif\" />"
      ],
      "text/plain": [
       "Plots.AnimatedGif(\"C:\\\\Users\\\\daddyj\\\\Documents\\\\6S898-climate-parameterization\\\\notebooks\\\\tmp.gif\")"
      ]
     },
     "metadata": {},
     "output_type": "display_data"
    },
    {
     "name": "stderr",
     "output_type": "stream",
     "text": [
      "┌ Info: Saved animation to \n",
      "│   fn = C:\\Users\\daddyj\\Documents\\6S898-climate-parameterization\\notebooks\\tmp.gif\n",
      "└ @ Plots C:\\Users\\daddyj\\.julia\\packages\\Plots\\Iuc9S\\src\\animation.jl:95\n"
     ]
    }
   ],
   "source": [
    "z = file[\"grid/zC\"]\n",
    "\n",
    "anim = @gif for n=1:10:Nt\n",
    "    t_str = @sprintf(\"%.2f\", t[n] / 86400)\n",
    "    plot(T[n, :], z, linewidth=2,\n",
    "         xlim=(19, 20), ylim=(-100, 0), label=\"\",\n",
    "         xlabel=\"Temperature (C)\", ylabel=\"Depth (z)\",\n",
    "         title=\"Free convection: $t_str days\", show=false)\n",
    "end\n",
    "\n",
    "display(anim)"
   ]
  },
  {
   "cell_type": "code",
   "execution_count": 5,
   "metadata": {},
   "outputs": [
    {
     "data": {
      "text/plain": [
       "coarse_grain (generic function with 1 method)"
      ]
     },
     "execution_count": 5,
     "metadata": {},
     "output_type": "execute_result"
    }
   ],
   "source": [
    "function coarse_grain(data, resolution)\n",
    "    @assert length(data) % resolution == 0\n",
    "    s = length(data) / resolution\n",
    "    \n",
    "    data_cs = zeros(resolution)\n",
    "    for i in 1:resolution\n",
    "        t = data[Int((i-1)*s+1):Int(i*s)]\n",
    "        data_cs[i] = mean(t)\n",
    "    end\n",
    "    \n",
    "    return data_cs\n",
    "end"
   ]
  },
  {
   "cell_type": "code",
   "execution_count": 6,
   "metadata": {},
   "outputs": [],
   "source": [
    "coarse_resolution = cr = 32\n",
    "T_cs = zeros(Nt, coarse_resolution)\n",
    "for n=1:Nt\n",
    "    T_cs[n, :] = coarse_grain(T[n, :], coarse_resolution)\n",
    "end\n",
    "\n",
    "T_cs = transpose(T_cs) |> Array;"
   ]
  },
  {
   "cell_type": "code",
   "execution_count": 7,
   "metadata": {},
   "outputs": [
    {
     "data": {
      "text/plain": [
       "(0.0, 3.993078849612772)"
      ]
     },
     "execution_count": 7,
     "metadata": {},
     "output_type": "execute_result"
    }
   ],
   "source": [
    "T₀ = T_cs[:, 1]\n",
    "n_train = round(Int, Nt/2)\n",
    "t_train = t[1:n_train] ./ 86400\n",
    "tspan_train = (t_train[1], t_train[end])"
   ]
  },
  {
   "cell_type": "code",
   "execution_count": 8,
   "metadata": {},
   "outputs": [
    {
     "data": {
      "text/plain": [
       "4192"
      ]
     },
     "execution_count": 8,
     "metadata": {},
     "output_type": "execute_result"
    }
   ],
   "source": [
    "#dTdt_NN = Chain(Dense(cr, 2cr, tanh),\n",
    "#                Dense(2cr, cr))\n",
    "\n",
    "ann = Chain(Dense(cr, 2cr, tanh),\n",
    "                Dense(2cr, cr))\n",
    "\n",
    "n_ann = 2*cr^2 + 2cr + 2*cr^2+cr\n",
    "\n",
    "#function dTdt_NN(du,u,p,t)\n",
    "#    du = DiffEqFlux.restructure(ann,p[1:n_ann])(u)\n",
    "#end"
   ]
  },
  {
   "cell_type": "code",
   "execution_count": 60,
   "metadata": {},
   "outputs": [
    {
     "data": {
      "text/plain": [
       "Params([Float32[0.07075596 -0.11194432 … -0.098255575 0.037179112; -0.017896652 0.050411344 … -0.04322982 0.2449969; … ; -0.24679124 0.20533681 … 0.21790558 0.06270504; -0.083367825 -0.1452614 … 0.09139168 -0.0508523] (tracked), Float32[0.0, 0.0, 0.0, 0.0, 0.0, 0.0, 0.0, 0.0, 0.0, 0.0  …  0.0, 0.0, 0.0, 0.0, 0.0, 0.0, 0.0, 0.0, 0.0, 0.0] (tracked), Float32[-0.052592814 0.050476134 … -0.17914873 0.030118942; 0.09448749 -0.07606655 … 0.21055168 0.24841237; … ; 0.2272628 -0.13822407 … 0.11296004 -0.10701066; 0.17436433 0.20521313 … 0.15868717 0.23479712] (tracked), Float32[0.0, 0.0, 0.0, 0.0, 0.0, 0.0, 0.0, 0.0, 0.0, 0.0  …  0.0, 0.0, 0.0, 0.0, 0.0, 0.0, 0.0, 0.0, 0.0, 0.0] (tracked)])"
      ]
     },
     "execution_count": 60,
     "metadata": {},
     "output_type": "execute_result"
    }
   ],
   "source": [
    "p1 = Flux.data(DiffEqFlux.destructure(ann))\n",
    "ps = Flux.params(ann)"
   ]
  },
  {
   "cell_type": "code",
   "execution_count": 61,
   "metadata": {},
   "outputs": [
    {
     "data": {
      "text/plain": [
       "32×32 Tridiagonal{Float64,Array{Float64,1}}:\n",
       " -0.0277537   0.0277537    ⋅         …    ⋅           ⋅          ⋅       \n",
       "  0.0        -0.0277537   0.0277537       ⋅           ⋅          ⋅       \n",
       "   ⋅          0.0        -0.0277537       ⋅           ⋅          ⋅       \n",
       "   ⋅           ⋅          0.0             ⋅           ⋅          ⋅       \n",
       "   ⋅           ⋅           ⋅              ⋅           ⋅          ⋅       \n",
       "   ⋅           ⋅           ⋅         …    ⋅           ⋅          ⋅       \n",
       "   ⋅           ⋅           ⋅              ⋅           ⋅          ⋅       \n",
       "   ⋅           ⋅           ⋅              ⋅           ⋅          ⋅       \n",
       "   ⋅           ⋅           ⋅              ⋅           ⋅          ⋅       \n",
       "   ⋅           ⋅           ⋅              ⋅           ⋅          ⋅       \n",
       "   ⋅           ⋅           ⋅         …    ⋅           ⋅          ⋅       \n",
       "   ⋅           ⋅           ⋅              ⋅           ⋅          ⋅       \n",
       "   ⋅           ⋅           ⋅              ⋅           ⋅          ⋅       \n",
       "  ⋮                                  ⋱               ⋮                   \n",
       "   ⋅           ⋅           ⋅         …    ⋅           ⋅          ⋅       \n",
       "   ⋅           ⋅           ⋅              ⋅           ⋅          ⋅       \n",
       "   ⋅           ⋅           ⋅              ⋅           ⋅          ⋅       \n",
       "   ⋅           ⋅           ⋅              ⋅           ⋅          ⋅       \n",
       "   ⋅           ⋅           ⋅              ⋅           ⋅          ⋅       \n",
       "   ⋅           ⋅           ⋅         …    ⋅           ⋅          ⋅       \n",
       "   ⋅           ⋅           ⋅              ⋅           ⋅          ⋅       \n",
       "   ⋅           ⋅           ⋅              ⋅           ⋅          ⋅       \n",
       "   ⋅           ⋅           ⋅             0.0277537    ⋅          ⋅       \n",
       "   ⋅           ⋅           ⋅            -0.0277537   0.0277537   ⋅       \n",
       "   ⋅           ⋅           ⋅         …   0.0        -0.0277537  0.0277537\n",
       "   ⋅           ⋅           ⋅              ⋅          0.0        0.0      "
      ]
     },
     "execution_count": 61,
     "metadata": {},
     "output_type": "execute_result"
    }
   ],
   "source": [
    "cr_z = Nt/cr\n",
    "Dzᶠ = 1/cr_z * Tridiagonal(-ones(cr-1), ones(cr), zeros(cr-1))\n",
    "Dzᶜ = 1/cr_z * Tridiagonal(zeros(cr-1), -ones(cr), ones(cr-1))\n",
    "Dzᶠ[1, 1] = 0\n",
    "Dzᶜ[cr, cr] = 0\n",
    "Dzᶜ"
   ]
  },
  {
   "cell_type": "code",
   "execution_count": 62,
   "metadata": {},
   "outputs": [],
   "source": [
    "#neural_pde_prediction(T₀) = neural_ode(dudt_, T₀, tspan_train, Tsit5(), saveat=t_train, reltol=1e-7, abstol=1e-9)\n",
    "#function dudt_(du,u,p,t)\n",
    "#    du = Flux.data(DiffEqFlux.restructure(ann,p[1:n_ann])(u))\n",
    "#    println(\"du\",du)\n",
    "#end"
   ]
  },
  {
   "cell_type": "code",
   "execution_count": 63,
   "metadata": {},
   "outputs": [
    {
     "data": {
      "text/plain": [
       "foretold (generic function with 1 method)"
      ]
     },
     "execution_count": 63,
     "metadata": {},
     "output_type": "execute_result"
    }
   ],
   "source": [
    "foretold(u,p,t) = DiffEqFlux.restructure(ann,p[1:n_ann])(u)"
   ]
  },
  {
   "cell_type": "code",
   "execution_count": 64,
   "metadata": {},
   "outputs": [
    {
     "data": {
      "text/plain": [
       "Tracked 32×16 Array{Float64,2}:\n",
       " 19.0156  18.971   18.918   18.8491  …  16.9809  16.7607  16.6239  16.5437\n",
       " 19.0469  18.9734  18.8836  18.7631     13.9446  13.1631  12.3825  11.5755\n",
       " 19.0781  19.0817  19.0859  19.0912     19.526   19.6403  19.731   19.8042\n",
       " 19.1094  19.1927  19.2942  19.4297     24.9482  25.993   26.9685  27.9093\n",
       " 19.1406  19.1162  19.0864  19.0465     17.6889  17.5517  17.4831  17.4576\n",
       " 19.1719  19.1929  19.2193  19.2558  …  21.1593  21.4233  21.6363  21.8242\n",
       " 19.2031  19.1639  19.1156  19.0503     16.6969  16.3482  16.0168  15.6905\n",
       " 19.2344  19.2319  19.2277  19.2203     17.9394  17.7074  17.5383  17.402 \n",
       " 19.2656  19.2489  19.2293  19.2043     18.8467  19.0163  19.251   19.5254\n",
       " 19.2969  19.2051  19.0938  18.9461     13.2622  12.4415  11.7417  11.0982\n",
       " 19.3281  19.3193  19.3074  19.2897  …  17.883   17.4894  17.1068  16.7291\n",
       " 19.3594  19.4373  19.5323  19.6593     24.7985  25.6569  26.4273  27.1576\n",
       " 19.3906  19.4242  19.4647  19.5181     20.9213  20.9984  21.1001  21.2278\n",
       "  ⋮                                  ⋱                              ⋮     \n",
       " 19.6406  19.6788  19.7258  19.7895  …  22.2735  22.7157  23.1211  23.5051\n",
       " 19.6719  19.6369  19.5938  19.5353     16.6376  15.9692  15.3485  14.7594\n",
       " 19.7031  19.6741  19.6388  19.5916     18.0904  18.042   18.066   18.1363\n",
       " 19.7344  19.6951  19.6476  19.5849     17.8539  17.7438  17.6216  17.4799\n",
       " 19.7656  19.7755  19.787   19.8015     19.8767  19.8199  19.7166  19.5771\n",
       " 19.7969  19.7403  19.6708  19.5766  …  15.7564  15.0995  14.5411  14.0455\n",
       " 19.8281  19.8609  19.8999  19.9506     21.1014  21.1079  21.0631  20.988 \n",
       " 19.8594  19.9518  20.0638  20.2128     25.7997  26.6542  27.4561  28.2462\n",
       " 19.8906  19.8818  19.8707  19.8551     18.5845  18.2763  18.0146  17.7811\n",
       " 19.9219  19.8817  19.8329  19.7677     17.1708  16.7464  16.4113  16.1346\n",
       " 19.9531  19.8903  19.815   19.7161  …  16.3333  15.7085  15.1275  14.5705\n",
       " 19.9844  19.9227  19.8478  19.7482     16.7872  16.6037  16.5327  16.5309"
      ]
     },
     "execution_count": 64,
     "metadata": {},
     "output_type": "execute_result"
    }
   ],
   "source": [
    "prob = ODEProblem(foretold,T₀,tspan_train,p1)\n",
    "Flux.Tracker.collect(diffeq_adjoint(p1,prob,Tsit5(),u0=T₀,abstol=1e-8,reltol=1e-6))"
   ]
  },
  {
   "cell_type": "code",
   "execution_count": 87,
   "metadata": {},
   "outputs": [
    {
     "data": {
      "text/plain": [
       "predict_adjoint (generic function with 1 method)"
      ]
     },
     "execution_count": 87,
     "metadata": {},
     "output_type": "execute_result"
    }
   ],
   "source": [
    "function predict_adjoint()\n",
    "  diffeq_adjoint(p1,prob,Tsit5(),u0=T₀,saveat=t_train,reltol=1e-6, abstol=1e-8)\n",
    "end"
   ]
  },
  {
   "cell_type": "code",
   "execution_count": 105,
   "metadata": {},
   "outputs": [
    {
     "data": {
      "text/plain": [
       "loss_function (generic function with 1 method)"
      ]
     },
     "execution_count": 105,
     "metadata": {},
     "output_type": "execute_result"
    }
   ],
   "source": [
    "opt = ADAM(1)\n",
    "\n",
    "data = [(T₀, T_cs[:, 1:n_train])]\n",
    "#data = Iterators.repeated((T₀, T_cs[:, 1:n_train]), 1000)\n",
    "\n",
    "loss_function(T₀, T_data) = sum(abs2, T_data .- predict_adjoint())"
   ]
  },
  {
   "cell_type": "code",
   "execution_count": 106,
   "metadata": {},
   "outputs": [
    {
     "name": "stdout",
     "output_type": "stream",
     "text": [
      "[0.9287829131549417, 0.27911308713942073, 0.4503168752776665]\n"
     ]
    },
    {
     "data": {
      "text/plain": [
       "1.1433271033409191"
      ]
     },
     "execution_count": 106,
     "metadata": {},
     "output_type": "execute_result"
    }
   ],
   "source": [
    "x = rand(3)\n",
    "println(x)\n",
    "sum(abs2,x)"
   ]
  },
  {
   "cell_type": "code",
   "execution_count": 107,
   "metadata": {},
   "outputs": [
    {
     "data": {
      "text/plain": [
       "#35 (generic function with 1 method)"
      ]
     },
     "execution_count": 107,
     "metadata": {},
     "output_type": "execute_result"
    }
   ],
   "source": [
    "# Callback function to observe training.\n",
    "cb = function ()\n",
    "    #println(DiffEqFlux.destructure(ann)[1:10])\n",
    "    loss = loss_function(T₀, T_cs[:, 1:n_train]) # Not very generalizable...\n",
    "    println(\"loss = $loss\")\n",
    "end"
   ]
  },
  {
   "cell_type": "code",
   "execution_count": 108,
   "metadata": {},
   "outputs": [
    {
     "ename": "MethodError",
     "evalue": "MethodError: no method matching back!(::Float64)\nClosest candidates are:\n  back!(::Any, !Matched::Any; once) at C:\\Users\\daddyj\\.julia\\packages\\Tracker\\JhqMQ\\src\\back.jl:75\n  back!(!Matched::Tracker.TrackedReal; once) at C:\\Users\\daddyj\\.julia\\packages\\Tracker\\JhqMQ\\src\\lib\\real.jl:14\n  back!(!Matched::TrackedArray) at C:\\Users\\daddyj\\.julia\\packages\\Tracker\\JhqMQ\\src\\lib\\array.jl:68",
     "output_type": "error",
     "traceback": [
      "MethodError: no method matching back!(::Float64)\nClosest candidates are:\n  back!(::Any, !Matched::Any; once) at C:\\Users\\daddyj\\.julia\\packages\\Tracker\\JhqMQ\\src\\back.jl:75\n  back!(!Matched::Tracker.TrackedReal; once) at C:\\Users\\daddyj\\.julia\\packages\\Tracker\\JhqMQ\\src\\lib\\real.jl:14\n  back!(!Matched::TrackedArray) at C:\\Users\\daddyj\\.julia\\packages\\Tracker\\JhqMQ\\src\\lib\\array.jl:68",
      "",
      "Stacktrace:",
      " [1] gradient_(::getfield(Flux.Optimise, Symbol(\"##15#21\")){typeof(loss_function),Tuple{Array{Float64,1},Array{Float64,2}}}, ::Tracker.Params) at C:\\Users\\daddyj\\.julia\\packages\\Tracker\\JhqMQ\\src\\back.jl:4",
      " [2] #gradient#24(::Bool, ::typeof(Tracker.gradient), ::Function, ::Tracker.Params) at C:\\Users\\daddyj\\.julia\\packages\\Tracker\\JhqMQ\\src\\back.jl:164",
      " [3] gradient at C:\\Users\\daddyj\\.julia\\packages\\Tracker\\JhqMQ\\src\\back.jl:164 [inlined]",
      " [4] macro expansion at C:\\Users\\daddyj\\.julia\\packages\\Flux\\dkJUV\\src\\optimise\\train.jl:71 [inlined]",
      " [5] macro expansion at C:\\Users\\daddyj\\.julia\\packages\\Juno\\oLB1d\\src\\progress.jl:134 [inlined]",
      " [6] #train!#12(::getfield(Main, Symbol(\"##35#36\")), ::typeof(Flux.Optimise.train!), ::Function, ::Tracker.Params, ::Array{Tuple{Array{Float64,1},Array{Float64,2}},1}, ::ADAM) at C:\\Users\\daddyj\\.julia\\packages\\Flux\\dkJUV\\src\\optimise\\train.jl:69",
      " [7] (::getfield(Flux.Optimise, Symbol(\"#kw##train!\")))(::NamedTuple{(:cb,),Tuple{getfield(Main, Symbol(\"##35#36\"))}}, ::typeof(Flux.Optimise.train!), ::Function, ::Tracker.Params, ::Array{Tuple{Array{Float64,1},Array{Float64,2}},1}, ::ADAM) at .\\none:0",
      " [8] top-level scope at .\\In[108]:2"
     ]
    }
   ],
   "source": [
    "for _ in 1:100\n",
    "    Flux.train!(loss_function, ps, data, opt, cb = cb)\n",
    "end"
   ]
  },
  {
   "cell_type": "code",
   "execution_count": 74,
   "metadata": {},
   "outputs": [
    {
     "ename": "UndefVarError",
     "evalue": "UndefVarError: dudt_ not defined",
     "output_type": "error",
     "traceback": [
      "UndefVarError: dudt_ not defined",
      "",
      "Stacktrace:",
      " [1] top-level scope at In[74]:2"
     ]
    }
   ],
   "source": [
    "tspan = (t[1], t[end]) ./ 86400\n",
    "nn_pred = neural_ode(dudt_, T₀, tspan, Tsit5(), saveat=t ./86400, reltol=1e-7, abstol=1e-9) |> Flux.data\n",
    "\n",
    "z_cs = coarse_grain(z, cr)\n",
    "\n",
    "anim = @gif for n=1:10:Nt\n",
    "    t_str = @sprintf(\"%.2f\", t[n] / 86400)\n",
    "    plot(T_cs[:, n], z_cs, linewidth=2,\n",
    "         xlim=(19, 20), ylim=(-100, 0), label=\"Data\",\n",
    "         xlabel=\"Temperature (C)\", ylabel=\"Depth (z)\",\n",
    "         title=\"Free convection: $t_str days\",\n",
    "         legend=:bottomright, show=false)\n",
    "    if n <= n_train\n",
    "        plot!(nn_pred[:, n], z_cs, linewidth=2, label=\"Neural ODE (train)\", show=false)\n",
    "    else\n",
    "        plot!(nn_pred[:, n], z_cs, linewidth=2, linestyle=:dash, label=\"Neural ODE (test)\", show=false)\n",
    "    end\n",
    "end"
   ]
  },
  {
   "cell_type": "code",
   "execution_count": null,
   "metadata": {},
   "outputs": [],
   "source": []
  }
 ],
 "metadata": {
  "kernelspec": {
   "display_name": "Julia 1.2.0",
   "language": "julia",
   "name": "julia-1.2"
  },
  "language_info": {
   "file_extension": ".jl",
   "mimetype": "application/julia",
   "name": "julia",
   "version": "1.2.0"
  }
 },
 "nbformat": 4,
 "nbformat_minor": 4
}
