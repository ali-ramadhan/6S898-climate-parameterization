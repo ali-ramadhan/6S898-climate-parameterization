{
 "cells": [
  {
   "cell_type": "code",
   "execution_count": 1,
   "metadata": {},
   "outputs": [
    {
     "data": {
      "text/plain": [
       "\"GeForce GTX 960\""
      ]
     },
     "execution_count": 1,
     "metadata": {},
     "output_type": "execute_result"
    }
   ],
   "source": [
    "using Printf\n",
    "using Statistics\n",
    "\n",
    "using Flux\n",
    "using DifferentialEquations\n",
    "using DiffEqFlux\n",
    "\n",
    "using JLD2\n",
    "using Plots\n",
    "\n",
    "using Flux: @epochs\n",
    "using CuArrays\n",
    "using CUDAdrv; CUDAdrv.name(CuDevice(0))"
   ]
  },
  {
   "cell_type": "code",
   "execution_count": 2,
   "metadata": {},
   "outputs": [],
   "source": [
    "file = jldopen(\"../data/ocean_convection_profiles.jld2\");"
   ]
  },
  {
   "cell_type": "code",
   "execution_count": 3,
   "metadata": {},
   "outputs": [],
   "source": [
    "Is = keys(file[\"timeseries/t\"])\n",
    "\n",
    "Nz = file[\"grid/Nz\"]\n",
    "Nt = length(Is)\n",
    "\n",
    "t = zeros(Nt)\n",
    "T = T_data = zeros(Nt, Nz)\n",
    "\n",
    "for (i, I) in enumerate(Is)\n",
    "    t[i] = file[\"timeseries/t/$I\"]\n",
    "    T[i, :] = file[\"timeseries/T/$I\"][1, 1, 2:Nz+1]\n",
    "end"
   ]
  },
  {
   "cell_type": "code",
   "execution_count": 4,
   "metadata": {},
   "outputs": [
    {
     "data": {
      "text/plain": [
       "256-element Array{Float64,1}:\n",
       " -99.8046875\n",
       " -99.4140625\n",
       " -99.0234375\n",
       " -98.6328125\n",
       " -98.2421875\n",
       " -97.8515625\n",
       " -97.4609375\n",
       " -97.0703125\n",
       " -96.6796875\n",
       " -96.2890625\n",
       " -95.8984375\n",
       " -95.5078125\n",
       " -95.1171875\n",
       "   ⋮        \n",
       "  -4.4921875\n",
       "  -4.1015625\n",
       "  -3.7109375\n",
       "  -3.3203125\n",
       "  -2.9296875\n",
       "  -2.5390625\n",
       "  -2.1484375\n",
       "  -1.7578125\n",
       "  -1.3671875\n",
       "  -0.9765625\n",
       "  -0.5859375\n",
       "  -0.1953125"
      ]
     },
     "execution_count": 4,
     "metadata": {},
     "output_type": "execute_result"
    }
   ],
   "source": [
    "z = file[\"grid/zC\"]"
   ]
  },
  {
   "cell_type": "code",
   "execution_count": 5,
   "metadata": {},
   "outputs": [
    {
     "data": {
      "text/plain": [
       "coarse_grain (generic function with 1 method)"
      ]
     },
     "execution_count": 5,
     "metadata": {},
     "output_type": "execute_result"
    }
   ],
   "source": [
    "function coarse_grain(data, resolution)\n",
    "    @assert length(data) % resolution == 0\n",
    "    s = length(data) / resolution\n",
    "    \n",
    "    data_cs = zeros(resolution)\n",
    "    for i in 1:resolution\n",
    "        t = data[Int((i-1)*s+1):Int(i*s)]\n",
    "        data_cs[i] = mean(t)\n",
    "    end\n",
    "    \n",
    "    return data_cs\n",
    "end"
   ]
  },
  {
   "cell_type": "code",
   "execution_count": 9,
   "metadata": {},
   "outputs": [],
   "source": [
    "coarse_resolution = cr = 32\n",
    "T_cs = zeros(Nt, coarse_resolution)\n",
    "for n=1:Nt\n",
    "    T_cs[n, :] = coarse_grain(T[n, :], coarse_resolution)\n",
    "end\n",
    "\n",
    "T_cs = transpose(T_cs) |> gpu;"
   ]
  },
  {
   "cell_type": "code",
   "execution_count": 10,
   "metadata": {},
   "outputs": [
    {
     "data": {
      "text/plain": [
       "neural_pde_prediction (generic function with 1 method)"
      ]
     },
     "execution_count": 10,
     "metadata": {},
     "output_type": "execute_result"
    }
   ],
   "source": [
    "dTdt_NN = Chain(Dense(cr, 2cr, tanh),\n",
    "                Dense(2cr, cr)) |> gpu\n",
    "\n",
    "ps = Flux.params(dTdt_NN)\n",
    "\n",
    "T₀ = T_cs[:, 1]\n",
    "n_train = round(Int, Nt/2)\n",
    "t_train = t[1:n_train] ./ 86400\n",
    "tspan_train = (t_train[1], t_train[end])\n",
    "\n",
    "neural_pde_prediction(T₀) = neural_ode(dTdt_NN, T₀, tspan_train, Tsit5(), saveat=t_train, reltol=1e-7, abstol=1e-9)"
   ]
  },
  {
   "cell_type": "code",
   "execution_count": 11,
   "metadata": {},
   "outputs": [
    {
     "data": {
      "text/plain": [
       "loss_function (generic function with 1 method)"
      ]
     },
     "execution_count": 11,
     "metadata": {},
     "output_type": "execute_result"
    }
   ],
   "source": [
    "opt = ADAM(0.1)\n",
    "\n",
    "#data = [(T₀, T_cs[:, 1:n_train])]\n",
    "data = Iterators.repeated((T₀, T_cs[:, 1:n_train]), 100)\n",
    "\n",
    "loss_function(T₀, T_data) = sum(abs2, T_data .- neural_pde_prediction(T₀))"
   ]
  },
  {
   "cell_type": "code",
   "execution_count": 12,
   "metadata": {},
   "outputs": [
    {
     "data": {
      "text/plain": [
       "#3 (generic function with 1 method)"
      ]
     },
     "execution_count": 12,
     "metadata": {},
     "output_type": "execute_result"
    }
   ],
   "source": [
    "# Callback function to observe training.\n",
    "cb = function ()\n",
    "    loss = loss_function(T₀, T_cs[:, 1:n_train]) # Not very generalizable...\n",
    "    println(\"loss = $loss\")\n",
    "end"
   ]
  },
  {
   "cell_type": "code",
   "execution_count": null,
   "metadata": {},
   "outputs": [
    {
     "name": "stdout",
     "output_type": "stream",
     "text": [
      "loss = 1.03841244f6 (tracked)\n"
     ]
    },
    {
     "ename": "InterruptException",
     "evalue": "InterruptException:",
     "output_type": "error",
     "traceback": [
      "InterruptException:",
      "",
      "Stacktrace:",
      " [1] try_yieldto(::typeof(Base.ensure_rescheduled), ::Base.RefValue{Task}) at .\\task.jl:517",
      " [2] wait() at .\\task.jl:592",
      " [3] uv_write(::Base.PipeEndpoint, ::Ptr{UInt8}, ::UInt64) at .\\stream.jl:883",
      " [4] unsafe_write(::Base.PipeEndpoint, ::Ptr{UInt8}, ::UInt64) at .\\stream.jl:931",
      " [5] unsafe_write at .\\io.jl:522 [inlined]",
      " [6] unsafe_write(::Base.PipeEndpoint, ::Base.RefValue{UInt8}, ::Int64) at .\\io.jl:520",
      " [7] write at .\\io.jl:523 [inlined]",
      " [8] write(::Base.PipeEndpoint, ::UInt8) at .\\stream.jl:973",
      " [9] write at .\\io.jl:237 [inlined]",
      " [10] write at .\\io.jl:576 [inlined]",
      " [11] print at .\\char.jl:229 [inlined]",
      " [12] print(::IJulia.IJuliaStdio{Base.PipeEndpoint}, ::String, ::Char) at .\\strings\\io.jl:48",
      " [13] println(::IJulia.IJuliaStdio{Base.PipeEndpoint}, ::String) at .\\strings\\io.jl:75",
      " [14] println(::String) at .\\coreio.jl:4",
      " [15] (::getfield(Main, Symbol(\"##3#4\")))() at .\\In[12]:4",
      " [16] macro expansion at C:\\Users\\daddyj\\.julia\\packages\\Flux\\dkJUV\\src\\optimise\\train.jl:75 [inlined]",
      " [17] macro expansion at C:\\Users\\daddyj\\.julia\\packages\\Juno\\oLB1d\\src\\progress.jl:134 [inlined]",
      " [18] #train!#12(::getfield(Main, Symbol(\"##3#4\")), ::typeof(Flux.Optimise.train!), ::Function, ::Tracker.Params, ::Base.Iterators.Take{Base.Iterators.Repeated{Tuple{CuArray{Float32,1},CuArray{Float32,2}}}}, ::ADAM) at C:\\Users\\daddyj\\.julia\\packages\\Flux\\dkJUV\\src\\optimise\\train.jl:69",
      " [19] (::getfield(Flux.Optimise, Symbol(\"#kw##train!\")))(::NamedTuple{(:cb,),Tuple{getfield(Main, Symbol(\"##3#4\"))}}, ::typeof(Flux.Optimise.train!), ::Function, ::Tracker.Params, ::Base.Iterators.Take{Base.Iterators.Repeated{Tuple{CuArray{Float32,1},CuArray{Float32,2}}}}, ::ADAM) at .\\none:0",
      " [20] top-level scope at In[13]:1"
     ]
    },
    {
     "name": "stderr",
     "output_type": "stream",
     "text": [
      "\n",
      "WARNING: Workqueue inconsistency detected: popfirst!(Workqueue).state != :runnable\n"
     ]
    }
   ],
   "source": [
    "Flux.train!(loss_function, ps, data, opt, cb = cb)\n",
    "#for _ in 1:10\n",
    "#    Flux.train!(loss_function, ps, data, opt, cb = cb)\n",
    "#end"
   ]
  },
  {
   "cell_type": "code",
   "execution_count": null,
   "metadata": {},
   "outputs": [],
   "source": [
    "tspan = (t[1], t[end]) ./ 86400\n",
    "nn_pred = neural_ode(dTdt_NN, T₀, tspan, Tsit5(), saveat=t ./86400, reltol=1e-7, abstol=1e-9) |> Flux.data\n",
    "\n",
    "z_cs = coarse_grain(z, cr)\n",
    "\n",
    "anim = @gif for n=1:10:Nt\n",
    "    t_str = @sprintf(\"%.2f\", t[n] / 86400)\n",
    "    plot(T_cs[:, n], z_cs, linewidth=2,\n",
    "         xlim=(19, 20), ylim=(-100, 0), label=\"Data\",\n",
    "         xlabel=\"Temperature (C)\", ylabel=\"Depth (z)\",\n",
    "         title=\"Free convection: $t_str days\",\n",
    "         legend=:bottomright, show=false)\n",
    "    if n <= n_train\n",
    "        plot!(nn_pred[:, n], z_cs, linewidth=2, label=\"Neural ODE (train)\", show=false)\n",
    "    else\n",
    "        plot!(nn_pred[:, n], z_cs, linewidth=2, linestyle=:dash, label=\"Neural ODE (test)\", show=false)\n",
    "    end\n",
    "end"
   ]
  },
  {
   "cell_type": "code",
   "execution_count": null,
   "metadata": {},
   "outputs": [],
   "source": []
  }
 ],
 "metadata": {
  "kernelspec": {
   "display_name": "Julia 1.2.0",
   "language": "julia",
   "name": "julia-1.2"
  },
  "language_info": {
   "file_extension": ".jl",
   "mimetype": "application/julia",
   "name": "julia",
   "version": "1.2.0"
  }
 },
 "nbformat": 4,
 "nbformat_minor": 4
}
