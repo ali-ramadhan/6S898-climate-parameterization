{
 "cells": [
  {
   "cell_type": "code",
   "execution_count": 1,
   "metadata": {},
   "outputs": [
    {
     "name": "stderr",
     "output_type": "stream",
     "text": [
      "┌ Info: Precompiling DiffEqFlux [aae7a2af-3d4f-5e19-a356-7da93b79d9d0]\n",
      "└ @ Base loading.jl:1242\n"
     ]
    }
   ],
   "source": [
    "using Flux, DiffEqFlux\n",
    "using JLD2, FileIO\n",
    "using Statistics, Core\n",
    "using Base.Iterators: repeated"
   ]
  },
  {
   "cell_type": "code",
   "execution_count": 8,
   "metadata": {},
   "outputs": [
    {
     "name": "stdout",
     "output_type": "stream",
     "text": [
      "Any[\"v\", \"nu\", \"kappaT\", \"wT\", \"T\", \"w\", \"uw\", \"dTdt\", \"vv\", \"uu\", \"S\", \"uv\", \"ww\", \"t\", \"vw\", \"u\", \"kappaS\", \"wS\"]\n",
      "149 32\n"
     ]
    },
    {
     "data": {
      "text/plain": [
       "149×32 Array{Float32,2}:\n",
       " 19.0156  19.0469  19.0781  19.1094  …  19.8906  19.9219  19.9531  20.0172\n",
       " 19.0156  19.0469  19.0781  19.1094     19.8908  19.9223  19.9702  20.3495\n",
       " 19.0156  19.0469  19.0781  19.1094     19.8908  19.9224  19.978   20.3883\n",
       " 19.0156  19.0469  19.0781  19.1094     19.8908  19.9222  19.9675  20.3336\n",
       " 19.0156  19.0469  19.0781  19.1094     19.8906  19.9219  19.9531  20.0125\n",
       " 19.0156  19.0469  19.0781  19.1094  …  19.8907  19.922   19.9538  20.1377\n",
       " 19.0156  19.0469  19.0781  19.1094     19.8909  19.9234  20.0137  20.51  \n",
       " 19.0156  19.0469  19.0781  19.1094     19.8906  19.9219  19.9531  19.9984\n",
       " 19.0156  19.0469  19.0781  19.1094     19.8906  19.9219  19.9531  20.0218\n",
       " 19.0156  19.0469  19.0781  19.1094     19.8906  19.9219  19.9533  20.045 \n",
       " 19.0156  19.0469  19.0781  19.1094  …  19.8908  19.9224  19.979   20.3919\n",
       " 19.0156  19.0469  19.0781  19.1094     19.8907  19.9221  19.9563  20.2284\n",
       " 19.0156  19.0469  19.0781  19.1094     19.8909  19.9237  20.0227  20.5332\n",
       "  ⋮                                  ⋱                     ⋮              \n",
       " 19.0156  19.0469  19.0781  19.1094     19.891   19.9242  20.0302  20.5533\n",
       " 19.0156  19.0469  19.0781  19.1094     19.891   19.9243  20.0328  20.5599\n",
       " 19.0156  19.0469  19.0781  19.1094     19.891   19.9244  20.0342  20.5629\n",
       " 19.0156  19.0469  19.0781  19.1094  …  19.8908  19.9227  19.9945  20.4506\n",
       " 19.0156  19.0469  19.0781  19.1094     19.8907  19.9222  19.9613  20.2887\n",
       " 19.0156  19.0469  19.0781  19.1094     19.891   19.9246  20.0383  20.5726\n",
       " 19.0156  19.0469  19.0781  19.1094     19.8908  19.9223  19.9709  20.3535\n",
       " 19.0156  19.0469  19.0781  19.1094     19.8906  19.9219  19.9531  19.9938\n",
       " 19.0156  19.0469  19.0781  19.1094  …  19.8906  19.9219  19.9533  20.0357\n",
       " 19.0156  19.0469  19.0781  19.1094     19.8907  19.9221  19.9595  20.2718\n",
       " 19.0156  19.0469  19.0781  19.1094     19.8909  19.9228  19.9987  20.4649\n",
       " 19.0156  19.0469  19.0781  19.1094     19.8907  19.922   19.9542  20.1607"
      ]
     },
     "execution_count": 8,
     "metadata": {},
     "output_type": "execute_result"
    }
   ],
   "source": [
    "f = jldopen(\"../data/32xres_data_with_dTdt.jld2\",\"r+\")\n",
    "timeseries_keys = keys(f[\"timeseries\"])\n",
    "no_of_timestamps = length(f[\"timeseries\"][\"T\"])\n",
    "size_of_timestamp = length(f[\"timeseries\"][\"T\"][\"0\"])\n",
    "println(timeseries_keys)\n",
    "println(no_of_timestamps,\" \", size_of_timestamp)\n",
    "\n",
    "X = zeros(no_of_timestamps,2,size_of_timestamp)\n",
    "Y = rand(Float32,(no_of_timestamps,size_of_timestamp))\n",
    "\n",
    "train_term1 = \"w\"\n",
    "train_term2 = \"wT\"\n",
    "label_term = \"T\"\n",
    "\n",
    "ode_term1 = \"w\"\n",
    "ode_term2 = \"wT\"\n",
    "ode_term3 = Chain(Dense(2,10,tanh), Dense(10,1))\n",
    "\n",
    "count = 1\n",
    "for t_stamp in keys(f[\"timeseries\"][train_term1])\n",
    "    X[count,1,:]=  f[\"timeseries\"][train_term1][t_stamp][:] \n",
    "    X[count,2,:] = f[\"timeseries\"][train_term2][t_stamp][:]\n",
    "    Y[count,:] = f[\"timeseries\"][label_term][t_stamp][:]  \n",
    "    count += 1\n",
    "end\n",
    "\n",
    "X = reshape(X,(no_of_timestamps,2*size_of_timestamp))\n",
    "Y"
   ]
  },
  {
   "cell_type": "code",
   "execution_count": null,
   "metadata": {},
   "outputs": [],
   "source": []
  }
 ],
 "metadata": {
  "kernelspec": {
   "display_name": "Julia 1.2.0",
   "language": "julia",
   "name": "julia-1.2"
  },
  "language_info": {
   "file_extension": ".jl",
   "mimetype": "application/julia",
   "name": "julia",
   "version": "1.2.0"
  }
 },
 "nbformat": 4,
 "nbformat_minor": 2
}
