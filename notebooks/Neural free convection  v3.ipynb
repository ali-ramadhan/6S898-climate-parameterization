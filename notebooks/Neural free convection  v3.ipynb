{
 "cells": [
  {
   "cell_type": "code",
   "execution_count": 66,
   "metadata": {},
   "outputs": [],
   "source": [
    "using Printf\n",
    "using Random\n",
    "using Statistics\n",
    "using LinearAlgebra\n",
    "\n",
    "using Flux\n",
    "using DifferentialEquations\n",
    "using DiffEqFlux\n",
    "\n",
    "using JLD2\n",
    "using BSON\n",
    "using Plots\n",
    "\n",
    "using Flux: @epochs"
   ]
  },
  {
   "cell_type": "code",
   "execution_count": 67,
   "metadata": {},
   "outputs": [],
   "source": [
    "#####\n",
    "##### Load data from JLD2 file\n",
    "#####\n",
    "\n",
    "file = jldopen(\"../data/ocean_convection_profiles.jld2\")\n",
    "\n",
    "Is = keys(file[\"timeseries/t\"])\n",
    "\n",
    "Nz = file[\"grid/Nz\"]\n",
    "Lz = file[\"grid/Lz\"]\n",
    "Nt = length(Is)\n",
    "\n",
    "t = zeros(Nt)\n",
    "T = T_data = zeros(Nt, Nz)\n",
    "wT = zeros(Nt, Nz)\n",
    "\n",
    "for (i, I) in enumerate(Is)\n",
    "    t[i] = file[\"timeseries/t/$I\"]\n",
    "    T[i, :] = file[\"timeseries/T/$I\"][1, 1, 2:Nz+1]\n",
    "    wT[i, :] = file[\"timeseries/wT/$I\"][1, 1, 2:Nz+1]\n",
    "end"
   ]
  },
  {
   "cell_type": "code",
   "execution_count": 68,
   "metadata": {},
   "outputs": [
    {
     "name": "stderr",
     "output_type": "stream",
     "text": [
      "┌ Info: Saved animation to \n",
      "│   fn = /home/alir/6S898-climate-parameterization/notebooks/deepening_mixed_layer.gif\n",
      "└ @ Plots /home/alir/.julia/packages/Plots/Iuc9S/src/animation.jl:95\n"
     ]
    },
    {
     "data": {
      "text/html": [
       "<img src=\"deepening_mixed_layer.gif\" />"
      ],
      "text/plain": [
       "Plots.AnimatedGif(\"/home/alir/6S898-climate-parameterization/notebooks/deepening_mixed_layer.gif\")"
      ]
     },
     "execution_count": 68,
     "metadata": {},
     "output_type": "execute_result"
    }
   ],
   "source": [
    "#####\n",
    "##### Plot animation of T(z,t) from data\n",
    "#####\n",
    "\n",
    "z = file[\"grid/zC\"]\n",
    "\n",
    "anim = @animate for n=1:10:Nt\n",
    "    t_str = @sprintf(\"%.2f\", t[n] / 86400)\n",
    "    plot(T[n, :], z, linewidth=2,\n",
    "         xlim=(19, 20), ylim=(-100, 0), label=\"\",\n",
    "         xlabel=\"Temperature (C)\", ylabel=\"Depth (z)\",\n",
    "         title=\"Deepening mixed layer: $t_str days\", show=false)\n",
    "end\n",
    "\n",
    "gif(anim, \"deepening_mixed_layer.gif\", fps=15)"
   ]
  },
  {
   "cell_type": "code",
   "execution_count": 69,
   "metadata": {},
   "outputs": [
    {
     "data": {
      "text/plain": [
       "coarse_grain (generic function with 1 method)"
      ]
     },
     "execution_count": 69,
     "metadata": {},
     "output_type": "execute_result"
    }
   ],
   "source": [
    "#####\n",
    "##### Coarse grain data to 32 vertical levels (plus halo regions)\n",
    "#####\n",
    "\n",
    "function coarse_grain(data, resolution)\n",
    "    @assert length(data) % resolution == 0\n",
    "    s = length(data) / resolution\n",
    "    \n",
    "    data_cs = zeros(resolution)\n",
    "    for i in 1:resolution\n",
    "        t = data[Int((i-1)*s+1):Int(i*s)]\n",
    "        data_cs[i] = mean(t)\n",
    "    end\n",
    "    \n",
    "    return data_cs\n",
    "end"
   ]
  },
  {
   "cell_type": "code",
   "execution_count": 71,
   "metadata": {},
   "outputs": [],
   "source": [
    "coarse_resolution = cr = 32\n",
    "\n",
    "T_cs = zeros(coarse_resolution+2, Nt)\n",
    "wT_cs = zeros(coarse_resolution+2, Nt)\n",
    "\n",
    "z_cs = coarse_grain(collect(z), cr)\n",
    "\n",
    "for n=1:Nt\n",
    "    T_cs[2:end-1, n] .= coarse_grain(T[n, :], coarse_resolution)\n",
    "    wT_cs[2:end-1, n] .= coarse_grain(wT[n, :], coarse_resolution)\n",
    "end\n",
    "\n",
    "# Fill halo regions to enforce boundary conditions.\n",
    "T_cs[1,   :] .= T_cs[2,     :]\n",
    "T_cs[end, :] .= T_cs[end-1, :]\n",
    "\n",
    "wT_cs[1,   :] .= wT_cs[2,     :]\n",
    "wT_cs[end, :] .= wT_cs[end-1, :];"
   ]
  },
  {
   "cell_type": "code",
   "execution_count": 6,
   "metadata": {},
   "outputs": [
    {
     "name": "stderr",
     "output_type": "stream",
     "text": [
      "┌ Info: Plotting coarse temperature profile...\n",
      "└ @ Main In[6]:5\n"
     ]
    },
    {
     "data": {
      "text/html": [
       "<img src=\"deepening_mixed_layer_T_coarse.gif\" />"
      ],
      "text/plain": [
       "Plots.AnimatedGif(\"/home/alir/6S898-climate-parameterization/notebooks/deepening_mixed_layer_T_coarse.gif\")"
      ]
     },
     "metadata": {},
     "output_type": "display_data"
    },
    {
     "name": "stderr",
     "output_type": "stream",
     "text": [
      "┌ Info: Saved animation to \n",
      "│   fn = /home/alir/6S898-climate-parameterization/notebooks/deepening_mixed_layer_T_coarse.gif\n",
      "└ @ Plots /home/alir/.julia/packages/Plots/Iuc9S/src/animation.jl:95\n",
      "┌ Info: Plotting coarse wT profile...\n",
      "└ @ Main In[6]:19\n"
     ]
    },
    {
     "data": {
      "text/html": [
       "<img src=\"deepening_mixed_layer_wT_coarse.gif\" />"
      ],
      "text/plain": [
       "Plots.AnimatedGif(\"/home/alir/6S898-climate-parameterization/notebooks/deepening_mixed_layer_wT_coarse.gif\")"
      ]
     },
     "metadata": {},
     "output_type": "display_data"
    },
    {
     "name": "stderr",
     "output_type": "stream",
     "text": [
      "┌ Info: Saved animation to \n",
      "│   fn = /home/alir/6S898-climate-parameterization/notebooks/deepening_mixed_layer_wT_coarse.gif\n",
      "└ @ Plots /home/alir/.julia/packages/Plots/Iuc9S/src/animation.jl:95\n"
     ]
    }
   ],
   "source": [
    "#####\n",
    "##### Plot coarse temperature and wT profiles\n",
    "#####\n",
    "\n",
    "@info \"Plotting coarse temperature profile...\"\n",
    "\n",
    "anim = @animate for n=1:10:Nt\n",
    "    t_str = @sprintf(\"%.2f\", t[n] / 86400)\n",
    "    plot(T_cs[2:cr+1, n], z_cs, linewidth=2,\n",
    "         xlim=(19, 20), ylim=(-100, 0), label=\"\",\n",
    "         xlabel=\"Temperature (C)\", ylabel=\"Depth (z)\",\n",
    "         title=\"Deepening mixed layer: $t_str days\", show=false)\n",
    "end\n",
    "\n",
    "gif_T = gif(anim, \"deepening_mixed_layer_T_coarse.gif\", fps=15)\n",
    "\n",
    "display(gif_T)\n",
    "\n",
    "@info \"Plotting coarse wT profile...\"\n",
    "\n",
    "anim = @animate for n=1:10:Nt\n",
    "    t_str = @sprintf(\"%.2f\", t[n] / 86400)\n",
    "    plot(wT_cs[2:cr+1, n], z_cs, linewidth=2,\n",
    "         xlim=(-1e-4, 1e-4), ylim=(-100, 0), label=\"\",\n",
    "         xlabel=\"Temperature (C)\", ylabel=\"Depth (z)\",\n",
    "         title=\"Deepening mixed layer: $t_str days\", show=false)\n",
    "end\n",
    "\n",
    "gif_wT = gif(anim, \"deepening_mixed_layer_wT_coarse.gif\", fps=15)\n",
    "\n",
    "display(gif_wT)"
   ]
  },
  {
   "cell_type": "code",
   "execution_count": 72,
   "metadata": {},
   "outputs": [
    {
     "data": {
      "text/plain": [
       "34×34 Tridiagonal{Float64,Array{Float64,1}}:\n",
       " -0.32   0.32    ⋅      ⋅      ⋅    …    ⋅      ⋅      ⋅      ⋅      ⋅  \n",
       "  0.0   -0.32   0.32    ⋅      ⋅         ⋅      ⋅      ⋅      ⋅      ⋅  \n",
       "   ⋅     0.0   -0.32   0.32    ⋅         ⋅      ⋅      ⋅      ⋅      ⋅  \n",
       "   ⋅      ⋅     0.0   -0.32   0.32       ⋅      ⋅      ⋅      ⋅      ⋅  \n",
       "   ⋅      ⋅      ⋅     0.0   -0.32       ⋅      ⋅      ⋅      ⋅      ⋅  \n",
       "   ⋅      ⋅      ⋅      ⋅     0.0   …    ⋅      ⋅      ⋅      ⋅      ⋅  \n",
       "   ⋅      ⋅      ⋅      ⋅      ⋅         ⋅      ⋅      ⋅      ⋅      ⋅  \n",
       "   ⋅      ⋅      ⋅      ⋅      ⋅         ⋅      ⋅      ⋅      ⋅      ⋅  \n",
       "   ⋅      ⋅      ⋅      ⋅      ⋅         ⋅      ⋅      ⋅      ⋅      ⋅  \n",
       "   ⋅      ⋅      ⋅      ⋅      ⋅         ⋅      ⋅      ⋅      ⋅      ⋅  \n",
       "   ⋅      ⋅      ⋅      ⋅      ⋅    …    ⋅      ⋅      ⋅      ⋅      ⋅  \n",
       "   ⋅      ⋅      ⋅      ⋅      ⋅         ⋅      ⋅      ⋅      ⋅      ⋅  \n",
       "   ⋅      ⋅      ⋅      ⋅      ⋅         ⋅      ⋅      ⋅      ⋅      ⋅  \n",
       "  ⋮                                 ⋱          ⋮                        \n",
       "   ⋅      ⋅      ⋅      ⋅      ⋅         ⋅      ⋅      ⋅      ⋅      ⋅  \n",
       "   ⋅      ⋅      ⋅      ⋅      ⋅         ⋅      ⋅      ⋅      ⋅      ⋅  \n",
       "   ⋅      ⋅      ⋅      ⋅      ⋅         ⋅      ⋅      ⋅      ⋅      ⋅  \n",
       "   ⋅      ⋅      ⋅      ⋅      ⋅    …    ⋅      ⋅      ⋅      ⋅      ⋅  \n",
       "   ⋅      ⋅      ⋅      ⋅      ⋅         ⋅      ⋅      ⋅      ⋅      ⋅  \n",
       "   ⋅      ⋅      ⋅      ⋅      ⋅         ⋅      ⋅      ⋅      ⋅      ⋅  \n",
       "   ⋅      ⋅      ⋅      ⋅      ⋅        0.32    ⋅      ⋅      ⋅      ⋅  \n",
       "   ⋅      ⋅      ⋅      ⋅      ⋅       -0.32   0.32    ⋅      ⋅      ⋅  \n",
       "   ⋅      ⋅      ⋅      ⋅      ⋅    …   0.0   -0.32   0.32    ⋅      ⋅  \n",
       "   ⋅      ⋅      ⋅      ⋅      ⋅         ⋅     0.0   -0.32   0.32    ⋅  \n",
       "   ⋅      ⋅      ⋅      ⋅      ⋅         ⋅      ⋅     0.0   -0.32   0.32\n",
       "   ⋅      ⋅      ⋅      ⋅      ⋅         ⋅      ⋅      ⋅     0.0   -0.32"
      ]
     },
     "execution_count": 72,
     "metadata": {},
     "output_type": "execute_result"
    }
   ],
   "source": [
    "#####\n",
    "##### Generate differentiation matrices\n",
    "#####\n",
    "\n",
    "cr_Δz = Lz / cr  # Coarse resolution Δz\n",
    "\n",
    "# Dzᶠ computes the derivative from cell center to cell (F)aces\n",
    "Dzᶠ = 1/cr_Δz * Tridiagonal(-ones(cr+1), ones(cr+2), zeros(cr+1))\n",
    "\n",
    "# Dzᶜ computes the derivative from cell faces to cell (C)enters\n",
    "Dzᶜ = 1/cr_Δz * Tridiagonal(zeros(cr+1), -ones(cr+2), ones(cr+1))"
   ]
  },
  {
   "cell_type": "code",
   "execution_count": 300,
   "metadata": {},
   "outputs": [],
   "source": [
    "#####\n",
    "##### Create training and pre-training data\n",
    "#####\n",
    "\n",
    "Tₙ    = zeros(cr+2, Nt-1)\n",
    "Tₙ₊₁  = zeros(cr+2, Nt-1)\n",
    "wTₙ   = zeros(cr+2, Nt-1)\n",
    "∂zTₙ  = zeros(cr+2, Nt-1)\n",
    "∂zwTₙ = zeros(cr+2, Nt-1)\n",
    "\n",
    "for i in 1:Nt-1\n",
    "       Tₙ[:, i] .=  T_cs[:,   i]\n",
    "     Tₙ₊₁[:, i] .=  T_cs[:, i+1]\n",
    "      wTₙ[:, i] .= wT_cs[:,   i]\n",
    "     ∂zTₙ[:, i] .= Dzᶠ * T_cs[:, i]\n",
    "    ∂zwTₙ[:, i] .= Dzᶜ * wT_cs[:, i]\n",
    "end\n",
    "\n",
    "N = 32  # Number of training data pairs.\n",
    "\n",
    "N_skip = 100  # Skip first N_skip iterations to avoid learning transients.\n",
    "Ns = N_skip:N+N_skip\n",
    "\n",
    "pre_training_data = [(Tₙ[:, i], -wTₙ[:, i]) for i in Ns]\n",
    "\n",
    "# training_data = [(Tₙ[:, i], Tₙ₊₁[:, i]) for i in Ns]\n",
    "\n",
    "N_postdata = 10\n",
    "training_data = [(Tₙ[:, i], Tₙ₊₁[:, i:i+N_postdata-1]) for i in Ns]\n",
    "\n",
    "# rinds = randperm(Nt)[1:N]\n",
    "# pre_training_data = [(Tₙ[:, i], -wTₙ[:, i]) for i in rinds]\n",
    "# training_data = [(Tₙ[:, i], Tₙ₊₁[:, i]) for i in rinds];"
   ]
  },
  {
   "cell_type": "code",
   "execution_count": 301,
   "metadata": {},
   "outputs": [
    {
     "data": {
      "text/plain": [
       "-7.789678675754626e-6"
      ]
     },
     "execution_count": 301,
     "metadata": {},
     "output_type": "execute_result"
    }
   ],
   "source": [
    "#####\n",
    "##### Create heat flux vector\n",
    "#####\n",
    "\n",
    "heat_flux = zeros(cr+2)\n",
    "\n",
    "Q  = -100\n",
    "ρ₀ = file[\"parameters/density\"]\n",
    "cₚ = file[\"parameters/specific_heat_capacity\"]\n",
    "\n",
    "heat_flux[cr+1] = Q / (ρ₀ * cₚ * cr_Δz)"
   ]
  },
  {
   "cell_type": "code",
   "execution_count": 302,
   "metadata": {},
   "outputs": [],
   "source": [
    "#####\n",
    "##### Create neural network\n",
    "#####\n",
    "\n",
    "# Complete black box right-hand-side.\n",
    "dTdt_NN = Chain(Dense(cr+2,  2cr, tanh),\n",
    "                Dense(2cr,  cr+2))\n",
    "\n",
    "# Use NN to parameterize the horizontally averaged buoyancy flux (wT).\n",
    "wT_NN = Chain(T -> Dzᶠ*T,\n",
    "              Dense(cr+2, 4cr, relu),\n",
    "              Dense(4cr,  4cr, relu),\n",
    "              Dense(4cr,  cr+2))\n",
    "\n",
    "dTdt_NN = Chain(wT_NN_copy,\n",
    "                x -> Dzᶜ * x .+ heat_flux)\n",
    "\n",
    "\n",
    "wT_NN_params = Flux.params(wT_NN);"
   ]
  },
  {
   "cell_type": "code",
   "execution_count": 303,
   "metadata": {},
   "outputs": [
    {
     "name": "stdout",
     "output_type": "stream",
     "text": [
      "loss = 1.281931322605036e11 (tracked)\n"
     ]
    },
    {
     "data": {
      "text/plain": [
       "1.281931322605036e11 (tracked)"
      ]
     },
     "execution_count": 303,
     "metadata": {},
     "output_type": "execute_result"
    }
   ],
   "source": [
    "#####\n",
    "##### Pre-train the neural network on (T, wT) data pairs\n",
    "#####\n",
    "\n",
    "pre_loss_function(Tₙ, wTₙ) = sum(abs2, wT_NN(Tₙ) .- wTₙ) ./ sum(abs2, wTₙ)\n",
    "\n",
    "popt = ADAM(0.01)\n",
    "\n",
    "function precb()\n",
    "    loss = sum([pre_loss_function(pre_training_data[i]...) for i in 1:N])\n",
    "    println(\"loss = $loss\")\n",
    "    return loss\n",
    "end\n",
    "\n",
    "precb()"
   ]
  },
  {
   "cell_type": "code",
   "execution_count": 304,
   "metadata": {},
   "outputs": [
    {
     "name": "stdout",
     "output_type": "stream",
     "text": [
      "loss = 5.503295470458842e10 (tracked)\n",
      "loss = 4.2621157887962125e7 (tracked)\n",
      "loss = 1.5683147621646323e6 (tracked)\n",
      "loss = 63213.492849262344 (tracked)\n",
      "loss = 1543.104135589055 (tracked)\n",
      "loss = 67.42251376491953 (tracked)\n",
      "loss = 1.6929434264218621 (tracked)\n",
      "loss = 0.4100937097697959 (tracked)\n",
      "loss = 0.3763383760088059 (tracked)\n",
      "loss = 0.37298366350715934 (tracked)\n",
      "loss = 0.3662492964003819 (tracked)\n",
      "loss = 0.3565557867821488 (tracked)\n",
      "loss = 0.34463079660328566 (tracked)\n",
      "loss = 0.33162941679993146 (tracked)\n",
      "loss = 0.3187932388995644 (tracked)\n",
      "loss = 0.3070463052353831 (tracked)\n",
      "loss = 0.2968151303366508 (tracked)\n",
      "loss = 0.2881410233738012 (tracked)\n",
      "loss = 0.2808866638928733 (tracked)\n",
      "loss = 0.2748839162252509 (tracked)\n"
     ]
    }
   ],
   "source": [
    "popt.eta = 0.01\n",
    "\n",
    "pre_train_epochs = 20\n",
    "for _ in 1:pre_train_epochs\n",
    "    Flux.train!(pre_loss_function, wT_NN_params, pre_training_data, popt, cb = Flux.throttle(precb, 5))\n",
    "end"
   ]
  },
  {
   "cell_type": "code",
   "execution_count": 307,
   "metadata": {},
   "outputs": [
    {
     "data": {
      "image/svg+xml": [
       "<?xml version=\"1.0\" encoding=\"utf-8\"?>\n",
       "<svg xmlns=\"http://www.w3.org/2000/svg\" xmlns:xlink=\"http://www.w3.org/1999/xlink\" width=\"600\" height=\"400\" viewBox=\"0 0 2400 1600\">\n",
       "<defs>\n",
       "  <clipPath id=\"clip8000\">\n",
       "    <rect x=\"0\" y=\"0\" width=\"2400\" height=\"1600\"/>\n",
       "  </clipPath>\n",
       "</defs>\n",
       "<path clip-path=\"url(#clip8000)\" d=\"\n",
       "M0 1600 L2400 1600 L2400 0 L0 0  Z\n",
       "  \" fill=\"#ffffff\" fill-rule=\"evenodd\" fill-opacity=\"1\"/>\n",
       "<defs>\n",
       "  <clipPath id=\"clip8001\">\n",
       "    <rect x=\"480\" y=\"0\" width=\"1681\" height=\"1600\"/>\n",
       "  </clipPath>\n",
       "</defs>\n",
       "<path clip-path=\"url(#clip8000)\" d=\"\n",
       "M195.389 1487.47 L2352.76 1487.47 L2352.76 47.2441 L195.389 47.2441  Z\n",
       "  \" fill=\"#ffffff\" fill-rule=\"evenodd\" fill-opacity=\"1\"/>\n",
       "<defs>\n",
       "  <clipPath id=\"clip8002\">\n",
       "    <rect x=\"195\" y=\"47\" width=\"2158\" height=\"1441\"/>\n",
       "  </clipPath>\n",
       "</defs>\n",
       "<polyline clip-path=\"url(#clip8002)\" style=\"stroke:#000000; stroke-width:2; stroke-opacity:0.1; fill:none\" points=\"\n",
       "  372.789,1487.47 372.789,47.2441 \n",
       "  \"/>\n",
       "<polyline clip-path=\"url(#clip8002)\" style=\"stroke:#000000; stroke-width:2; stroke-opacity:0.1; fill:none\" points=\"\n",
       "  804.461,1487.47 804.461,47.2441 \n",
       "  \"/>\n",
       "<polyline clip-path=\"url(#clip8002)\" style=\"stroke:#000000; stroke-width:2; stroke-opacity:0.1; fill:none\" points=\"\n",
       "  1236.13,1487.47 1236.13,47.2441 \n",
       "  \"/>\n",
       "<polyline clip-path=\"url(#clip8002)\" style=\"stroke:#000000; stroke-width:2; stroke-opacity:0.1; fill:none\" points=\"\n",
       "  1667.81,1487.47 1667.81,47.2441 \n",
       "  \"/>\n",
       "<polyline clip-path=\"url(#clip8002)\" style=\"stroke:#000000; stroke-width:2; stroke-opacity:0.1; fill:none\" points=\"\n",
       "  2099.48,1487.47 2099.48,47.2441 \n",
       "  \"/>\n",
       "<polyline clip-path=\"url(#clip8002)\" style=\"stroke:#000000; stroke-width:2; stroke-opacity:0.1; fill:none\" points=\"\n",
       "  195.389,1468.63 2352.76,1468.63 \n",
       "  \"/>\n",
       "<polyline clip-path=\"url(#clip8002)\" style=\"stroke:#000000; stroke-width:2; stroke-opacity:0.1; fill:none\" points=\"\n",
       "  195.389,1117.99 2352.76,1117.99 \n",
       "  \"/>\n",
       "<polyline clip-path=\"url(#clip8002)\" style=\"stroke:#000000; stroke-width:2; stroke-opacity:0.1; fill:none\" points=\"\n",
       "  195.389,767.359 2352.76,767.359 \n",
       "  \"/>\n",
       "<polyline clip-path=\"url(#clip8002)\" style=\"stroke:#000000; stroke-width:2; stroke-opacity:0.1; fill:none\" points=\"\n",
       "  195.389,416.725 2352.76,416.725 \n",
       "  \"/>\n",
       "<polyline clip-path=\"url(#clip8002)\" style=\"stroke:#000000; stroke-width:2; stroke-opacity:0.1; fill:none\" points=\"\n",
       "  195.389,66.0907 2352.76,66.0907 \n",
       "  \"/>\n",
       "<polyline clip-path=\"url(#clip8000)\" style=\"stroke:#000000; stroke-width:4; stroke-opacity:1; fill:none\" points=\"\n",
       "  195.389,1487.47 2352.76,1487.47 \n",
       "  \"/>\n",
       "<polyline clip-path=\"url(#clip8000)\" style=\"stroke:#000000; stroke-width:4; stroke-opacity:1; fill:none\" points=\"\n",
       "  195.389,1487.47 195.389,47.2441 \n",
       "  \"/>\n",
       "<polyline clip-path=\"url(#clip8000)\" style=\"stroke:#000000; stroke-width:4; stroke-opacity:1; fill:none\" points=\"\n",
       "  372.789,1487.47 372.789,1465.87 \n",
       "  \"/>\n",
       "<polyline clip-path=\"url(#clip8000)\" style=\"stroke:#000000; stroke-width:4; stroke-opacity:1; fill:none\" points=\"\n",
       "  804.461,1487.47 804.461,1465.87 \n",
       "  \"/>\n",
       "<polyline clip-path=\"url(#clip8000)\" style=\"stroke:#000000; stroke-width:4; stroke-opacity:1; fill:none\" points=\"\n",
       "  1236.13,1487.47 1236.13,1465.87 \n",
       "  \"/>\n",
       "<polyline clip-path=\"url(#clip8000)\" style=\"stroke:#000000; stroke-width:4; stroke-opacity:1; fill:none\" points=\"\n",
       "  1667.81,1487.47 1667.81,1465.87 \n",
       "  \"/>\n",
       "<polyline clip-path=\"url(#clip8000)\" style=\"stroke:#000000; stroke-width:4; stroke-opacity:1; fill:none\" points=\"\n",
       "  2099.48,1487.47 2099.48,1465.87 \n",
       "  \"/>\n",
       "<polyline clip-path=\"url(#clip8000)\" style=\"stroke:#000000; stroke-width:4; stroke-opacity:1; fill:none\" points=\"\n",
       "  195.389,1468.63 227.75,1468.63 \n",
       "  \"/>\n",
       "<polyline clip-path=\"url(#clip8000)\" style=\"stroke:#000000; stroke-width:4; stroke-opacity:1; fill:none\" points=\"\n",
       "  195.389,1117.99 227.75,1117.99 \n",
       "  \"/>\n",
       "<polyline clip-path=\"url(#clip8000)\" style=\"stroke:#000000; stroke-width:4; stroke-opacity:1; fill:none\" points=\"\n",
       "  195.389,767.359 227.75,767.359 \n",
       "  \"/>\n",
       "<polyline clip-path=\"url(#clip8000)\" style=\"stroke:#000000; stroke-width:4; stroke-opacity:1; fill:none\" points=\"\n",
       "  195.389,416.725 227.75,416.725 \n",
       "  \"/>\n",
       "<polyline clip-path=\"url(#clip8000)\" style=\"stroke:#000000; stroke-width:4; stroke-opacity:1; fill:none\" points=\"\n",
       "  195.389,66.0907 227.75,66.0907 \n",
       "  \"/>\n",
       "<g clip-path=\"url(#clip8000)\">\n",
       "<text style=\"fill:#000000; fill-opacity:1; font-family:Arial,Helvetica Neue,Helvetica,sans-serif; font-size:48px; text-anchor:start;\" transform=\"rotate(0, 262.171, 1562.48)\" x=\"262.171\" y=\"1562.48\">-</text>\n",
       "</g>\n",
       "<g clip-path=\"url(#clip8000)\">\n",
       "<text style=\"fill:#000000; fill-opacity:1; font-family:Arial,Helvetica Neue,Helvetica,sans-serif; font-size:48px; text-anchor:start;\" transform=\"rotate(0, 290.281, 1562.48)\" x=\"290.281\" y=\"1562.48\">2.0×10</text>\n",
       "</g>\n",
       "<g clip-path=\"url(#clip8000)\">\n",
       "<text style=\"fill:#000000; fill-opacity:1; font-family:Arial,Helvetica Neue,Helvetica,sans-serif; font-size:38px; text-anchor:start;\" transform=\"rotate(0, 438.822, 1535.07)\" x=\"438.822\" y=\"1535.07\">-</text>\n",
       "</g>\n",
       "<g clip-path=\"url(#clip8000)\">\n",
       "<text style=\"fill:#000000; fill-opacity:1; font-family:Arial,Helvetica Neue,Helvetica,sans-serif; font-size:38px; text-anchor:start;\" transform=\"rotate(0, 461.662, 1535.07)\" x=\"461.662\" y=\"1535.07\">5</text>\n",
       "</g>\n",
       "<g clip-path=\"url(#clip8000)\">\n",
       "<text style=\"fill:#000000; fill-opacity:1; font-family:Arial,Helvetica Neue,Helvetica,sans-serif; font-size:48px; text-anchor:start;\" transform=\"rotate(0, 693.844, 1562.48)\" x=\"693.844\" y=\"1562.48\">-</text>\n",
       "</g>\n",
       "<g clip-path=\"url(#clip8000)\">\n",
       "<text style=\"fill:#000000; fill-opacity:1; font-family:Arial,Helvetica Neue,Helvetica,sans-serif; font-size:48px; text-anchor:start;\" transform=\"rotate(0, 721.954, 1562.48)\" x=\"721.954\" y=\"1562.48\">1.5×10</text>\n",
       "</g>\n",
       "<g clip-path=\"url(#clip8000)\">\n",
       "<text style=\"fill:#000000; fill-opacity:1; font-family:Arial,Helvetica Neue,Helvetica,sans-serif; font-size:38px; text-anchor:start;\" transform=\"rotate(0, 870.495, 1535.07)\" x=\"870.495\" y=\"1535.07\">-</text>\n",
       "</g>\n",
       "<g clip-path=\"url(#clip8000)\">\n",
       "<text style=\"fill:#000000; fill-opacity:1; font-family:Arial,Helvetica Neue,Helvetica,sans-serif; font-size:38px; text-anchor:start;\" transform=\"rotate(0, 893.334, 1535.07)\" x=\"893.334\" y=\"1535.07\">5</text>\n",
       "</g>\n",
       "<g clip-path=\"url(#clip8000)\">\n",
       "<text style=\"fill:#000000; fill-opacity:1; font-family:Arial,Helvetica Neue,Helvetica,sans-serif; font-size:48px; text-anchor:start;\" transform=\"rotate(0, 1125.52, 1562.48)\" x=\"1125.52\" y=\"1562.48\">-</text>\n",
       "</g>\n",
       "<g clip-path=\"url(#clip8000)\">\n",
       "<text style=\"fill:#000000; fill-opacity:1; font-family:Arial,Helvetica Neue,Helvetica,sans-serif; font-size:48px; text-anchor:start;\" transform=\"rotate(0, 1153.63, 1562.48)\" x=\"1153.63\" y=\"1562.48\">1.0×10</text>\n",
       "</g>\n",
       "<g clip-path=\"url(#clip8000)\">\n",
       "<text style=\"fill:#000000; fill-opacity:1; font-family:Arial,Helvetica Neue,Helvetica,sans-serif; font-size:38px; text-anchor:start;\" transform=\"rotate(0, 1302.17, 1535.07)\" x=\"1302.17\" y=\"1535.07\">-</text>\n",
       "</g>\n",
       "<g clip-path=\"url(#clip8000)\">\n",
       "<text style=\"fill:#000000; fill-opacity:1; font-family:Arial,Helvetica Neue,Helvetica,sans-serif; font-size:38px; text-anchor:start;\" transform=\"rotate(0, 1325.01, 1535.07)\" x=\"1325.01\" y=\"1535.07\">5</text>\n",
       "</g>\n",
       "<g clip-path=\"url(#clip8000)\">\n",
       "<text style=\"fill:#000000; fill-opacity:1; font-family:Arial,Helvetica Neue,Helvetica,sans-serif; font-size:48px; text-anchor:start;\" transform=\"rotate(0, 1557.19, 1562.48)\" x=\"1557.19\" y=\"1562.48\">-</text>\n",
       "</g>\n",
       "<g clip-path=\"url(#clip8000)\">\n",
       "<text style=\"fill:#000000; fill-opacity:1; font-family:Arial,Helvetica Neue,Helvetica,sans-serif; font-size:48px; text-anchor:start;\" transform=\"rotate(0, 1585.3, 1562.48)\" x=\"1585.3\" y=\"1562.48\">5.0×10</text>\n",
       "</g>\n",
       "<g clip-path=\"url(#clip8000)\">\n",
       "<text style=\"fill:#000000; fill-opacity:1; font-family:Arial,Helvetica Neue,Helvetica,sans-serif; font-size:38px; text-anchor:start;\" transform=\"rotate(0, 1733.84, 1535.07)\" x=\"1733.84\" y=\"1535.07\">-</text>\n",
       "</g>\n",
       "<g clip-path=\"url(#clip8000)\">\n",
       "<text style=\"fill:#000000; fill-opacity:1; font-family:Arial,Helvetica Neue,Helvetica,sans-serif; font-size:38px; text-anchor:start;\" transform=\"rotate(0, 1756.68, 1535.07)\" x=\"1756.68\" y=\"1535.07\">6</text>\n",
       "</g>\n",
       "<g clip-path=\"url(#clip8000)\">\n",
       "<text style=\"fill:#000000; fill-opacity:1; font-family:Arial,Helvetica Neue,Helvetica,sans-serif; font-size:48px; text-anchor:middle;\" transform=\"rotate(0, 2099.48, 1541.47)\" x=\"2099.48\" y=\"1541.47\">0</text>\n",
       "</g>\n",
       "<g clip-path=\"url(#clip8000)\">\n",
       "<text style=\"fill:#000000; fill-opacity:1; font-family:Arial,Helvetica Neue,Helvetica,sans-serif; font-size:48px; text-anchor:end;\" transform=\"rotate(0, 171.389, 1486.13)\" x=\"171.389\" y=\"1486.13\">-100</text>\n",
       "</g>\n",
       "<g clip-path=\"url(#clip8000)\">\n",
       "<text style=\"fill:#000000; fill-opacity:1; font-family:Arial,Helvetica Neue,Helvetica,sans-serif; font-size:48px; text-anchor:end;\" transform=\"rotate(0, 171.389, 1135.49)\" x=\"171.389\" y=\"1135.49\">-75</text>\n",
       "</g>\n",
       "<g clip-path=\"url(#clip8000)\">\n",
       "<text style=\"fill:#000000; fill-opacity:1; font-family:Arial,Helvetica Neue,Helvetica,sans-serif; font-size:48px; text-anchor:end;\" transform=\"rotate(0, 171.389, 784.859)\" x=\"171.389\" y=\"784.859\">-50</text>\n",
       "</g>\n",
       "<g clip-path=\"url(#clip8000)\">\n",
       "<text style=\"fill:#000000; fill-opacity:1; font-family:Arial,Helvetica Neue,Helvetica,sans-serif; font-size:48px; text-anchor:end;\" transform=\"rotate(0, 171.389, 434.225)\" x=\"171.389\" y=\"434.225\">-25</text>\n",
       "</g>\n",
       "<g clip-path=\"url(#clip8000)\">\n",
       "<text style=\"fill:#000000; fill-opacity:1; font-family:Arial,Helvetica Neue,Helvetica,sans-serif; font-size:48px; text-anchor:end;\" transform=\"rotate(0, 171.389, 83.5907)\" x=\"171.389\" y=\"83.5907\">0</text>\n",
       "</g>\n",
       "<polyline clip-path=\"url(#clip8002)\" style=\"stroke:#009af9; stroke-width:4; stroke-opacity:1; fill:none\" points=\"\n",
       "  2098.85,1446.71 2099.22,1402.88 2100.32,1359.05 2100,1315.23 2102.6,1271.4 2101.91,1227.57 2104.58,1183.74 2101.28,1139.91 2099.62,1096.08 2099.52,1052.25 \n",
       "  2099.26,1008.42 2100.35,964.591 2100.88,920.762 2101.02,876.933 2101.1,833.103 2103.15,789.274 2101.94,745.445 2103.24,701.615 2103.39,657.786 2101.32,613.957 \n",
       "  2094.84,570.128 2100.51,526.298 2097.78,482.469 2098.71,438.64 2291.7,394.81 2239.47,350.981 1940.04,307.152 1643.5,263.323 1227.17,219.493 897.676,175.664 \n",
       "  634.398,131.835 259.3,88.0053 \n",
       "  \"/>\n",
       "<polyline clip-path=\"url(#clip8002)\" style=\"stroke:#e26f46; stroke-width:4; stroke-opacity:1; fill:none\" points=\"\n",
       "  2098.79,1446.71 2101.99,1402.88 2084.59,1359.05 2099.41,1315.23 2090.47,1271.4 2092.38,1227.57 2104.07,1183.74 2098.88,1139.91 2091.26,1096.08 2103.06,1052.25 \n",
       "  2101.89,1008.42 2113.78,964.591 2121.53,920.762 2101.76,876.933 2086.06,833.103 2096.96,789.274 2107.89,745.445 2108.21,701.615 2097.42,657.786 2083.33,613.957 \n",
       "  2092.6,570.128 2091.81,526.298 2111.11,482.469 2104.42,438.64 2100.46,394.81 2268.54,350.981 2159.16,307.152 1841.99,263.323 1409.22,219.493 939.429,175.664 \n",
       "  536.901,131.835 256.447,88.0053 \n",
       "  \"/>\n",
       "<path clip-path=\"url(#clip8000)\" d=\"\n",
       "M1947.09 312.204 L2280.76 312.204 L2280.76 130.764 L1947.09 130.764  Z\n",
       "  \" fill=\"#ffffff\" fill-rule=\"evenodd\" fill-opacity=\"1\"/>\n",
       "<polyline clip-path=\"url(#clip8000)\" style=\"stroke:#000000; stroke-width:4; stroke-opacity:1; fill:none\" points=\"\n",
       "  1947.09,312.204 2280.76,312.204 2280.76,130.764 1947.09,130.764 1947.09,312.204 \n",
       "  \"/>\n",
       "<polyline clip-path=\"url(#clip8000)\" style=\"stroke:#009af9; stroke-width:4; stroke-opacity:1; fill:none\" points=\"\n",
       "  1971.09,191.244 2115.09,191.244 \n",
       "  \"/>\n",
       "<g clip-path=\"url(#clip8000)\">\n",
       "<text style=\"fill:#000000; fill-opacity:1; font-family:Arial,Helvetica Neue,Helvetica,sans-serif; font-size:48px; text-anchor:start;\" transform=\"rotate(0, 2139.09, 208.744)\" x=\"2139.09\" y=\"208.744\">NN</text>\n",
       "</g>\n",
       "<polyline clip-path=\"url(#clip8000)\" style=\"stroke:#e26f46; stroke-width:4; stroke-opacity:1; fill:none\" points=\"\n",
       "  1971.09,251.724 2115.09,251.724 \n",
       "  \"/>\n",
       "<g clip-path=\"url(#clip8000)\">\n",
       "<text style=\"fill:#000000; fill-opacity:1; font-family:Arial,Helvetica Neue,Helvetica,sans-serif; font-size:48px; text-anchor:start;\" transform=\"rotate(0, 2139.09, 269.224)\" x=\"2139.09\" y=\"269.224\">data</text>\n",
       "</g>\n",
       "</svg>\n"
      ]
     },
     "execution_count": 307,
     "metadata": {},
     "output_type": "execute_result"
    }
   ],
   "source": [
    "#####\n",
    "##### Compare wT_NN output with wT data\n",
    "#####\n",
    "\n",
    "z_cs = coarse_grain(z, cr)\n",
    "\n",
    "n = 1\n",
    "\n",
    "wT = wT_NN(pre_training_data[n][1]) |> Flux.data\n",
    "\n",
    "plot(wT[2:cr+1], z_cs, label=\"NN\")\n",
    "plot!(pre_training_data[n][2][2:cr+1], z_cs, label=\"data\")"
   ]
  },
  {
   "cell_type": "code",
   "execution_count": 414,
   "metadata": {},
   "outputs": [],
   "source": [
    "#####\n",
    "##### Define neural network for dTdt RHS in terms of wT_NN\n",
    "#####\n",
    "\n",
    "wT_NN_copy = deepcopy(wT_NN)\n",
    "\n",
    "dTdt_NN = Chain(wT_NN_copy,\n",
    "                x -> Dzᶜ * x .+ heat_flux)\n",
    "\n",
    "dTdt_NN_params = Flux.params(dTdt_NN);"
   ]
  },
  {
   "cell_type": "code",
   "execution_count": 415,
   "metadata": {},
   "outputs": [
    {
     "data": {
      "image/svg+xml": [
       "<?xml version=\"1.0\" encoding=\"utf-8\"?>\n",
       "<svg xmlns=\"http://www.w3.org/2000/svg\" xmlns:xlink=\"http://www.w3.org/1999/xlink\" width=\"600\" height=\"400\" viewBox=\"0 0 2400 1600\">\n",
       "<defs>\n",
       "  <clipPath id=\"clip4000\">\n",
       "    <rect x=\"0\" y=\"0\" width=\"2400\" height=\"1600\"/>\n",
       "  </clipPath>\n",
       "</defs>\n",
       "<path clip-path=\"url(#clip4000)\" d=\"\n",
       "M0 1600 L2400 1600 L2400 0 L0 0  Z\n",
       "  \" fill=\"#ffffff\" fill-rule=\"evenodd\" fill-opacity=\"1\"/>\n",
       "<defs>\n",
       "  <clipPath id=\"clip4001\">\n",
       "    <rect x=\"480\" y=\"0\" width=\"1681\" height=\"1600\"/>\n",
       "  </clipPath>\n",
       "</defs>\n",
       "<path clip-path=\"url(#clip4000)\" d=\"\n",
       "M195.389 1487.47 L2352.76 1487.47 L2352.76 47.2441 L195.389 47.2441  Z\n",
       "  \" fill=\"#ffffff\" fill-rule=\"evenodd\" fill-opacity=\"1\"/>\n",
       "<defs>\n",
       "  <clipPath id=\"clip4002\">\n",
       "    <rect x=\"195\" y=\"47\" width=\"2158\" height=\"1441\"/>\n",
       "  </clipPath>\n",
       "</defs>\n",
       "<polyline clip-path=\"url(#clip4002)\" style=\"stroke:#000000; stroke-width:2; stroke-opacity:0.1; fill:none\" points=\"\n",
       "  370.095,1487.47 370.095,47.2441 \n",
       "  \"/>\n",
       "<polyline clip-path=\"url(#clip4002)\" style=\"stroke:#000000; stroke-width:2; stroke-opacity:0.1; fill:none\" points=\"\n",
       "  802.374,1487.47 802.374,47.2441 \n",
       "  \"/>\n",
       "<polyline clip-path=\"url(#clip4002)\" style=\"stroke:#000000; stroke-width:2; stroke-opacity:0.1; fill:none\" points=\"\n",
       "  1234.65,1487.47 1234.65,47.2441 \n",
       "  \"/>\n",
       "<polyline clip-path=\"url(#clip4002)\" style=\"stroke:#000000; stroke-width:2; stroke-opacity:0.1; fill:none\" points=\"\n",
       "  1666.93,1487.47 1666.93,47.2441 \n",
       "  \"/>\n",
       "<polyline clip-path=\"url(#clip4002)\" style=\"stroke:#000000; stroke-width:2; stroke-opacity:0.1; fill:none\" points=\"\n",
       "  2099.21,1487.47 2099.21,47.2441 \n",
       "  \"/>\n",
       "<polyline clip-path=\"url(#clip4002)\" style=\"stroke:#000000; stroke-width:2; stroke-opacity:0.1; fill:none\" points=\"\n",
       "  195.389,1468.63 2352.76,1468.63 \n",
       "  \"/>\n",
       "<polyline clip-path=\"url(#clip4002)\" style=\"stroke:#000000; stroke-width:2; stroke-opacity:0.1; fill:none\" points=\"\n",
       "  195.389,1117.99 2352.76,1117.99 \n",
       "  \"/>\n",
       "<polyline clip-path=\"url(#clip4002)\" style=\"stroke:#000000; stroke-width:2; stroke-opacity:0.1; fill:none\" points=\"\n",
       "  195.389,767.359 2352.76,767.359 \n",
       "  \"/>\n",
       "<polyline clip-path=\"url(#clip4002)\" style=\"stroke:#000000; stroke-width:2; stroke-opacity:0.1; fill:none\" points=\"\n",
       "  195.389,416.725 2352.76,416.725 \n",
       "  \"/>\n",
       "<polyline clip-path=\"url(#clip4002)\" style=\"stroke:#000000; stroke-width:2; stroke-opacity:0.1; fill:none\" points=\"\n",
       "  195.389,66.0907 2352.76,66.0907 \n",
       "  \"/>\n",
       "<polyline clip-path=\"url(#clip4000)\" style=\"stroke:#000000; stroke-width:4; stroke-opacity:1; fill:none\" points=\"\n",
       "  195.389,1487.47 2352.76,1487.47 \n",
       "  \"/>\n",
       "<polyline clip-path=\"url(#clip4000)\" style=\"stroke:#000000; stroke-width:4; stroke-opacity:1; fill:none\" points=\"\n",
       "  195.389,1487.47 195.389,47.2441 \n",
       "  \"/>\n",
       "<polyline clip-path=\"url(#clip4000)\" style=\"stroke:#000000; stroke-width:4; stroke-opacity:1; fill:none\" points=\"\n",
       "  370.095,1487.47 370.095,1465.87 \n",
       "  \"/>\n",
       "<polyline clip-path=\"url(#clip4000)\" style=\"stroke:#000000; stroke-width:4; stroke-opacity:1; fill:none\" points=\"\n",
       "  802.374,1487.47 802.374,1465.87 \n",
       "  \"/>\n",
       "<polyline clip-path=\"url(#clip4000)\" style=\"stroke:#000000; stroke-width:4; stroke-opacity:1; fill:none\" points=\"\n",
       "  1234.65,1487.47 1234.65,1465.87 \n",
       "  \"/>\n",
       "<polyline clip-path=\"url(#clip4000)\" style=\"stroke:#000000; stroke-width:4; stroke-opacity:1; fill:none\" points=\"\n",
       "  1666.93,1487.47 1666.93,1465.87 \n",
       "  \"/>\n",
       "<polyline clip-path=\"url(#clip4000)\" style=\"stroke:#000000; stroke-width:4; stroke-opacity:1; fill:none\" points=\"\n",
       "  2099.21,1487.47 2099.21,1465.87 \n",
       "  \"/>\n",
       "<polyline clip-path=\"url(#clip4000)\" style=\"stroke:#000000; stroke-width:4; stroke-opacity:1; fill:none\" points=\"\n",
       "  195.389,1468.63 227.75,1468.63 \n",
       "  \"/>\n",
       "<polyline clip-path=\"url(#clip4000)\" style=\"stroke:#000000; stroke-width:4; stroke-opacity:1; fill:none\" points=\"\n",
       "  195.389,1117.99 227.75,1117.99 \n",
       "  \"/>\n",
       "<polyline clip-path=\"url(#clip4000)\" style=\"stroke:#000000; stroke-width:4; stroke-opacity:1; fill:none\" points=\"\n",
       "  195.389,767.359 227.75,767.359 \n",
       "  \"/>\n",
       "<polyline clip-path=\"url(#clip4000)\" style=\"stroke:#000000; stroke-width:4; stroke-opacity:1; fill:none\" points=\"\n",
       "  195.389,416.725 227.75,416.725 \n",
       "  \"/>\n",
       "<polyline clip-path=\"url(#clip4000)\" style=\"stroke:#000000; stroke-width:4; stroke-opacity:1; fill:none\" points=\"\n",
       "  195.389,66.0907 227.75,66.0907 \n",
       "  \"/>\n",
       "<g clip-path=\"url(#clip4000)\">\n",
       "<text style=\"fill:#000000; fill-opacity:1; font-family:Arial,Helvetica Neue,Helvetica,sans-serif; font-size:48px; text-anchor:start;\" transform=\"rotate(0, 259.478, 1562.48)\" x=\"259.478\" y=\"1562.48\">-</text>\n",
       "</g>\n",
       "<g clip-path=\"url(#clip4000)\">\n",
       "<text style=\"fill:#000000; fill-opacity:1; font-family:Arial,Helvetica Neue,Helvetica,sans-serif; font-size:48px; text-anchor:start;\" transform=\"rotate(0, 287.588, 1562.48)\" x=\"287.588\" y=\"1562.48\">2.0×10</text>\n",
       "</g>\n",
       "<g clip-path=\"url(#clip4000)\">\n",
       "<text style=\"fill:#000000; fill-opacity:1; font-family:Arial,Helvetica Neue,Helvetica,sans-serif; font-size:38px; text-anchor:start;\" transform=\"rotate(0, 436.128, 1535.07)\" x=\"436.128\" y=\"1535.07\">-</text>\n",
       "</g>\n",
       "<g clip-path=\"url(#clip4000)\">\n",
       "<text style=\"fill:#000000; fill-opacity:1; font-family:Arial,Helvetica Neue,Helvetica,sans-serif; font-size:38px; text-anchor:start;\" transform=\"rotate(0, 458.968, 1535.07)\" x=\"458.968\" y=\"1535.07\">5</text>\n",
       "</g>\n",
       "<g clip-path=\"url(#clip4000)\">\n",
       "<text style=\"fill:#000000; fill-opacity:1; font-family:Arial,Helvetica Neue,Helvetica,sans-serif; font-size:48px; text-anchor:start;\" transform=\"rotate(0, 691.756, 1562.48)\" x=\"691.756\" y=\"1562.48\">-</text>\n",
       "</g>\n",
       "<g clip-path=\"url(#clip4000)\">\n",
       "<text style=\"fill:#000000; fill-opacity:1; font-family:Arial,Helvetica Neue,Helvetica,sans-serif; font-size:48px; text-anchor:start;\" transform=\"rotate(0, 719.867, 1562.48)\" x=\"719.867\" y=\"1562.48\">1.5×10</text>\n",
       "</g>\n",
       "<g clip-path=\"url(#clip4000)\">\n",
       "<text style=\"fill:#000000; fill-opacity:1; font-family:Arial,Helvetica Neue,Helvetica,sans-serif; font-size:38px; text-anchor:start;\" transform=\"rotate(0, 868.407, 1535.07)\" x=\"868.407\" y=\"1535.07\">-</text>\n",
       "</g>\n",
       "<g clip-path=\"url(#clip4000)\">\n",
       "<text style=\"fill:#000000; fill-opacity:1; font-family:Arial,Helvetica Neue,Helvetica,sans-serif; font-size:38px; text-anchor:start;\" transform=\"rotate(0, 891.247, 1535.07)\" x=\"891.247\" y=\"1535.07\">5</text>\n",
       "</g>\n",
       "<g clip-path=\"url(#clip4000)\">\n",
       "<text style=\"fill:#000000; fill-opacity:1; font-family:Arial,Helvetica Neue,Helvetica,sans-serif; font-size:48px; text-anchor:start;\" transform=\"rotate(0, 1124.04, 1562.48)\" x=\"1124.04\" y=\"1562.48\">-</text>\n",
       "</g>\n",
       "<g clip-path=\"url(#clip4000)\">\n",
       "<text style=\"fill:#000000; fill-opacity:1; font-family:Arial,Helvetica Neue,Helvetica,sans-serif; font-size:48px; text-anchor:start;\" transform=\"rotate(0, 1152.15, 1562.48)\" x=\"1152.15\" y=\"1562.48\">1.0×10</text>\n",
       "</g>\n",
       "<g clip-path=\"url(#clip4000)\">\n",
       "<text style=\"fill:#000000; fill-opacity:1; font-family:Arial,Helvetica Neue,Helvetica,sans-serif; font-size:38px; text-anchor:start;\" transform=\"rotate(0, 1300.69, 1535.07)\" x=\"1300.69\" y=\"1535.07\">-</text>\n",
       "</g>\n",
       "<g clip-path=\"url(#clip4000)\">\n",
       "<text style=\"fill:#000000; fill-opacity:1; font-family:Arial,Helvetica Neue,Helvetica,sans-serif; font-size:38px; text-anchor:start;\" transform=\"rotate(0, 1323.53, 1535.07)\" x=\"1323.53\" y=\"1535.07\">5</text>\n",
       "</g>\n",
       "<g clip-path=\"url(#clip4000)\">\n",
       "<text style=\"fill:#000000; fill-opacity:1; font-family:Arial,Helvetica Neue,Helvetica,sans-serif; font-size:48px; text-anchor:start;\" transform=\"rotate(0, 1556.31, 1562.48)\" x=\"1556.31\" y=\"1562.48\">-</text>\n",
       "</g>\n",
       "<g clip-path=\"url(#clip4000)\">\n",
       "<text style=\"fill:#000000; fill-opacity:1; font-family:Arial,Helvetica Neue,Helvetica,sans-serif; font-size:48px; text-anchor:start;\" transform=\"rotate(0, 1584.42, 1562.48)\" x=\"1584.42\" y=\"1562.48\">5.0×10</text>\n",
       "</g>\n",
       "<g clip-path=\"url(#clip4000)\">\n",
       "<text style=\"fill:#000000; fill-opacity:1; font-family:Arial,Helvetica Neue,Helvetica,sans-serif; font-size:38px; text-anchor:start;\" transform=\"rotate(0, 1732.96, 1535.07)\" x=\"1732.96\" y=\"1535.07\">-</text>\n",
       "</g>\n",
       "<g clip-path=\"url(#clip4000)\">\n",
       "<text style=\"fill:#000000; fill-opacity:1; font-family:Arial,Helvetica Neue,Helvetica,sans-serif; font-size:38px; text-anchor:start;\" transform=\"rotate(0, 1755.8, 1535.07)\" x=\"1755.8\" y=\"1535.07\">6</text>\n",
       "</g>\n",
       "<g clip-path=\"url(#clip4000)\">\n",
       "<text style=\"fill:#000000; fill-opacity:1; font-family:Arial,Helvetica Neue,Helvetica,sans-serif; font-size:48px; text-anchor:middle;\" transform=\"rotate(0, 2099.21, 1541.47)\" x=\"2099.21\" y=\"1541.47\">0</text>\n",
       "</g>\n",
       "<g clip-path=\"url(#clip4000)\">\n",
       "<text style=\"fill:#000000; fill-opacity:1; font-family:Arial,Helvetica Neue,Helvetica,sans-serif; font-size:48px; text-anchor:end;\" transform=\"rotate(0, 171.389, 1486.13)\" x=\"171.389\" y=\"1486.13\">-100</text>\n",
       "</g>\n",
       "<g clip-path=\"url(#clip4000)\">\n",
       "<text style=\"fill:#000000; fill-opacity:1; font-family:Arial,Helvetica Neue,Helvetica,sans-serif; font-size:48px; text-anchor:end;\" transform=\"rotate(0, 171.389, 1135.49)\" x=\"171.389\" y=\"1135.49\">-75</text>\n",
       "</g>\n",
       "<g clip-path=\"url(#clip4000)\">\n",
       "<text style=\"fill:#000000; fill-opacity:1; font-family:Arial,Helvetica Neue,Helvetica,sans-serif; font-size:48px; text-anchor:end;\" transform=\"rotate(0, 171.389, 784.859)\" x=\"171.389\" y=\"784.859\">-50</text>\n",
       "</g>\n",
       "<g clip-path=\"url(#clip4000)\">\n",
       "<text style=\"fill:#000000; fill-opacity:1; font-family:Arial,Helvetica Neue,Helvetica,sans-serif; font-size:48px; text-anchor:end;\" transform=\"rotate(0, 171.389, 434.225)\" x=\"171.389\" y=\"434.225\">-25</text>\n",
       "</g>\n",
       "<g clip-path=\"url(#clip4000)\">\n",
       "<text style=\"fill:#000000; fill-opacity:1; font-family:Arial,Helvetica Neue,Helvetica,sans-serif; font-size:48px; text-anchor:end;\" transform=\"rotate(0, 171.389, 83.5907)\" x=\"171.389\" y=\"83.5907\">0</text>\n",
       "</g>\n",
       "<polyline clip-path=\"url(#clip4002)\" style=\"stroke:#009af9; stroke-width:4; stroke-opacity:1; fill:none\" points=\"\n",
       "  2098.58,1446.71 2098.95,1402.88 2100.05,1359.05 2099.73,1315.23 2102.33,1271.4 2101.64,1227.57 2104.31,1183.74 2101.01,1139.91 2099.35,1096.08 2099.25,1052.25 \n",
       "  2098.99,1008.42 2100.08,964.591 2100.61,920.762 2100.76,876.933 2100.83,833.103 2102.89,789.274 2101.68,745.445 2102.98,701.615 2103.13,657.786 2101.05,613.957 \n",
       "  2094.57,570.128 2100.24,526.298 2097.5,482.469 2098.44,438.64 2291.7,394.81 2239.4,350.981 1939.55,307.152 1642.59,263.323 1225.68,219.493 895.719,175.664 \n",
       "  632.072,131.835 256.447,88.0053 \n",
       "  \"/>\n",
       "<polyline clip-path=\"url(#clip4002)\" style=\"stroke:#e26f46; stroke-width:4; stroke-opacity:1; fill:none\" points=\"\n",
       "  2099.33,1446.71 2099.56,1402.88 2099.11,1359.05 2100.04,1315.23 2098.99,1271.4 2100.07,1227.57 2098.15,1183.74 2098.68,1139.91 2099.18,1096.08 2099.13,1052.25 \n",
       "  2099.56,1008.42 2099.38,964.591 2099.26,920.762 2099.23,876.933 2099.87,833.103 2098.82,789.274 2099.63,745.445 2099.26,701.615 2098.54,657.786 2097.14,613.957 \n",
       "  2101.03,570.128 2098.33,526.298 2099.51,482.469 2161.05,438.64 2082.47,394.81 2003.26,350.981 2004.18,307.152 1965.8,263.323 1993.62,219.493 2014.84,175.664 \n",
       "  1979.01,131.835 1418.67,88.0053 \n",
       "  \"/>\n",
       "<path clip-path=\"url(#clip4000)\" d=\"\n",
       "M267.389 1343.47 L723.943 1343.47 L723.943 1162.03 L267.389 1162.03  Z\n",
       "  \" fill=\"#ffffff\" fill-rule=\"evenodd\" fill-opacity=\"1\"/>\n",
       "<polyline clip-path=\"url(#clip4000)\" style=\"stroke:#000000; stroke-width:4; stroke-opacity:1; fill:none\" points=\"\n",
       "  267.389,1343.47 723.943,1343.47 723.943,1162.03 267.389,1162.03 267.389,1343.47 \n",
       "  \"/>\n",
       "<polyline clip-path=\"url(#clip4000)\" style=\"stroke:#009af9; stroke-width:4; stroke-opacity:1; fill:none\" points=\"\n",
       "  291.389,1222.51 435.389,1222.51 \n",
       "  \"/>\n",
       "<g clip-path=\"url(#clip4000)\">\n",
       "<text style=\"fill:#000000; fill-opacity:1; font-family:Arial,Helvetica Neue,Helvetica,sans-serif; font-size:48px; text-anchor:start;\" transform=\"rotate(0, 459.389, 1240.01)\" x=\"459.389\" y=\"1240.01\">wT (NN)</text>\n",
       "</g>\n",
       "<polyline clip-path=\"url(#clip4000)\" style=\"stroke:#e26f46; stroke-width:4; stroke-opacity:1; fill:none\" points=\"\n",
       "  291.389,1282.99 435.389,1282.99 \n",
       "  \"/>\n",
       "<g clip-path=\"url(#clip4000)\">\n",
       "<text style=\"fill:#000000; fill-opacity:1; font-family:Arial,Helvetica Neue,Helvetica,sans-serif; font-size:48px; text-anchor:start;\" transform=\"rotate(0, 459.389, 1300.49)\" x=\"459.389\" y=\"1300.49\">RHS (NN)</text>\n",
       "</g>\n",
       "</svg>\n"
      ]
     },
     "execution_count": 415,
     "metadata": {},
     "output_type": "execute_result"
    }
   ],
   "source": [
    "#####\n",
    "##### Compare output of wT_NN and dTdt_NN\n",
    "#####\n",
    "\n",
    "wT = wT_NN(Tₙ[:, 150]) |> Flux.data\n",
    "RHS = dTdt_NN(Tₙ[:, 150]) |> Flux.data\n",
    "\n",
    "plot(wT[2:cr+1], z_cs, label=\"wT (NN)\", legend=:bottomleft)\n",
    "plot!(RHS[2:cr+1], z_cs, label=\"RHS (NN)\")"
   ]
  },
  {
   "cell_type": "code",
   "execution_count": 416,
   "metadata": {},
   "outputs": [
    {
     "data": {
      "text/plain": [
       "loss_function (generic function with 1 method)"
      ]
     },
     "execution_count": 416,
     "metadata": {},
     "output_type": "execute_result"
    }
   ],
   "source": [
    "#####\n",
    "##### Define loss function for neural ODE\n",
    "#####\n",
    "\n",
    "# tspan = (0.0, 600.0)  # 10 minutes\n",
    "# neural_pde_prediction(T₀) = neural_ode(dTdt_NN, T₀, tspan, Tsit5(), reltol=1e-4, save_start=false, saveat=tspan[2])\n",
    "\n",
    "tspan = (0.0, N_postdata*600.0)  # 10 minutes\n",
    "t_save = range(600.0, tspan[2], length=N_postdata)\n",
    "neural_pde_prediction(T₀) = neural_ode(dTdt_NN, T₀, tspan, Tsit5(), reltol=1e-4, save_start=false, saveat=t_save)\n",
    "\n",
    "loss_function(Tₙ, Tₙ₊₁) = sum(abs2, Tₙ₊₁ .- neural_pde_prediction(Tₙ))"
   ]
  },
  {
   "cell_type": "code",
   "execution_count": 425,
   "metadata": {},
   "outputs": [
    {
     "data": {
      "text/plain": [
       "ADAM(1.0e-8, (0.9, 0.999), IdDict{Any,Any}())"
      ]
     },
     "execution_count": 425,
     "metadata": {},
     "output_type": "execute_result"
    }
   ],
   "source": [
    "#####\n",
    "##### Choose optimization algorithm\n",
    "#####\n",
    "\n",
    "opt = ADAM(1e-8)\n",
    "# opt = Descent(0.00000001)"
   ]
  },
  {
   "cell_type": "code",
   "execution_count": 426,
   "metadata": {},
   "outputs": [
    {
     "name": "stdout",
     "output_type": "stream",
     "text": [
      "train_loss = 0.037935356382914266 (tracked)\n"
     ]
    },
    {
     "data": {
      "text/plain": [
       "0.037935356382914266 (tracked)"
      ]
     },
     "execution_count": 426,
     "metadata": {},
     "output_type": "execute_result"
    }
   ],
   "source": [
    "#####\n",
    "##### Callback function to observe training.\n",
    "#####\n",
    "\n",
    "N_test = 32\n",
    "\n",
    "function cb()\n",
    "    train_loss = sum([loss_function(Tₙ[:, i], Tₙ₊₁[:, i]) for i in Ns])\n",
    "    println(\"train_loss = $train_loss\")\n",
    "    \n",
    "    # nn_pred = neural_ode(dTdt_NN, Tₙ[:, N_skip+1], (t[1], t[N_test]), Tsit5(), saveat=t[1:N_test], reltol=1e-4) |> Flux.data\n",
    "    # test_loss = sum(abs2, T_cs[:, 1:N_test] .- nn_pred)\n",
    "    # println(\"train_loss = $train_loss, test_loss = $test_loss\")\n",
    "    \n",
    "    return train_loss\n",
    "end\n",
    "\n",
    "cb()"
   ]
  },
  {
   "cell_type": "code",
   "execution_count": 427,
   "metadata": {},
   "outputs": [
    {
     "name": "stderr",
     "output_type": "stream",
     "text": [
      "┌ Info: Epoch 1\n",
      "└ @ Main In[427]:13\n"
     ]
    },
    {
     "name": "stdout",
     "output_type": "stream",
     "text": [
      "train_loss = 0.03792993627647463 (tracked)\n",
      "train_loss = 0.03792454653794582 (tracked)\n",
      "train_loss = 0.03791920958057826 (tracked)\n",
      "train_loss = 0.03791395310331302 (tracked)\n",
      "train_loss = 0.03790879559759386 (tracked)\n",
      "train_loss = 0.037903817199065104 (tracked)\n",
      "train_loss = 0.03789909441191994 (tracked)\n",
      "train_loss = 0.03789477502314143 (tracked)\n",
      "train_loss = 0.03789078980555029 (tracked)\n",
      "train_loss = 0.03788732557253455 (tracked)\n",
      "train_loss = 0.037884392382523766 (tracked)\n",
      "train_loss = 0.037881936882668554 (tracked)\n",
      "train_loss = 0.037879921761509464 (tracked)\n",
      "train_loss = 0.037878306061848985 (tracked)\n",
      "train_loss = 0.03787708605738915 (tracked)\n",
      "train_loss = 0.03787626024243876 (tracked)\n",
      "train_loss = 0.03787577992318848 (tracked)\n",
      "train_loss = 0.03787556880151826 (tracked)\n",
      "train_loss = 0.03787564888887249 (tracked)\n",
      "train_loss = 0.037876028575583656 (tracked)\n",
      "train_loss = 0.03787674071723097 (tracked)\n",
      "train_loss = 0.037877771958062564 (tracked)\n",
      "train_loss = 0.03787905799259443 (tracked)\n",
      "train_loss = 0.037880543945413764 (tracked)\n",
      "train_loss = 0.03788216953078701 (tracked)\n",
      "train_loss = 0.03788385307094248 (tracked)\n",
      "train_loss = 0.037885445810994574 (tracked)\n",
      "train_loss = 0.0378868288807612 (tracked)\n",
      "train_loss = 0.037887906469948024 (tracked)\n",
      "train_loss = 0.037888644022133704 (tracked)\n",
      "train_loss = 0.03788897817926848 (tracked)\n",
      "train_loss = 0.037888835741023655 (tracked)\n",
      "train_loss = 0.037888262044886024 (tracked)\n",
      "train_loss = 0.037888262044886024 (tracked)\n"
     ]
    },
    {
     "name": "stderr",
     "output_type": "stream",
     "text": [
      "┌ Info: Record low loss! Saving neural network out to dTdt_NN.bson\n",
      "└ @ Main In[427]:19\n",
      "┌ Info: Epoch 2\n",
      "└ @ Main In[427]:13\n"
     ]
    },
    {
     "name": "stdout",
     "output_type": "stream",
     "text": [
      "train_loss = 0.037886744028109494 (tracked)\n",
      "train_loss = 0.03788454754583482 (tracked)\n",
      "train_loss = 0.03788182701419847 (tracked)\n",
      "train_loss = 0.03787873037177161 (tracked)\n",
      "train_loss = 0.0378753758303546 (tracked)\n",
      "train_loss = 0.03787186424598044 (tracked)\n",
      "train_loss = 0.03786829699572926 (tracked)\n",
      "train_loss = 0.037864807697751156 (tracked)\n",
      "train_loss = 0.037861421135355566 (tracked)\n",
      "train_loss = 0.03785823999362899 (tracked)\n",
      "train_loss = 0.03785535655175613 (tracked)\n",
      "train_loss = 0.037852802729129394 (tracked)\n",
      "train_loss = 0.037850622389671476 (tracked)\n",
      "train_loss = 0.037848840825231905 (tracked)\n",
      "train_loss = 0.037847477257355835 (tracked)\n",
      "train_loss = 0.03784651599389394 (tracked)\n",
      "train_loss = 0.037845900951547676 (tracked)\n",
      "train_loss = 0.03784556021727405 (tracked)\n",
      "train_loss = 0.03784553784863731 (tracked)\n",
      "train_loss = 0.037845807394767395 (tracked)\n",
      "train_loss = 0.03784642237396901 (tracked)\n",
      "train_loss = 0.037847352040536915 (tracked)\n",
      "train_loss = 0.03784854422952928 (tracked)\n",
      "train_loss = 0.037849933247867826 (tracked)\n",
      "train_loss = 0.03785146272144031 (tracked)\n",
      "train_loss = 0.03785305764631803 (tracked)\n",
      "train_loss = 0.03785457071471507 (tracked)\n",
      "train_loss = 0.037855901806603004 (tracked)\n",
      "train_loss = 0.03785696859992427 (tracked)\n",
      "train_loss = 0.03785774240340906 (tracked)\n",
      "train_loss = 0.0378581512008129 (tracked)\n",
      "train_loss = 0.03785810648720656 (tracked)\n",
      "train_loss = 0.03785761460082149 (tracked)\n",
      "train_loss = 0.03785761460082149 (tracked)\n"
     ]
    },
    {
     "name": "stderr",
     "output_type": "stream",
     "text": [
      "┌ Info: Record low loss! Saving neural network out to dTdt_NN.bson\n",
      "└ @ Main In[427]:19\n",
      "┌ Info: Epoch 3\n",
      "└ @ Main In[427]:13\n"
     ]
    },
    {
     "name": "stdout",
     "output_type": "stream",
     "text": [
      "train_loss = 0.03785619780556146 (tracked)\n",
      "train_loss = 0.03785408457116406 (tracked)\n",
      "train_loss = 0.03785141484100258 (tracked)\n",
      "train_loss = 0.037848339469380654 (tracked)\n",
      "train_loss = 0.037844976401015855 (tracked)\n",
      "train_loss = 0.03784143722137338 (tracked)\n",
      "train_loss = 0.037837832686993124 (tracked)\n",
      "train_loss = 0.037834310854084355 (tracked)\n",
      "train_loss = 0.037830898962321786 (tracked)\n",
      "train_loss = 0.03782769826392247 (tracked)\n",
      "train_loss = 0.0378248059761987 (tracked)\n",
      "train_loss = 0.03782225379493071 (tracked)\n",
      "train_loss = 0.03782008772804029 (tracked)\n",
      "train_loss = 0.03781833703794407 (tracked)\n",
      "train_loss = 0.037817018892149994 (tracked)\n",
      "train_loss = 0.037816114062807014 (tracked)\n",
      "train_loss = 0.037815560619973654 (tracked)\n",
      "train_loss = 0.03781528785922326 (tracked)\n",
      "train_loss = 0.03781534350192566 (tracked)\n",
      "train_loss = 0.037815699477066304 (tracked)\n",
      "train_loss = 0.03781640746227041 (tracked)\n",
      "train_loss = 0.03781743072531975 (tracked)\n",
      "train_loss = 0.03781871734760004 (tracked)\n",
      "train_loss = 0.03782020062912092 (tracked)\n",
      "train_loss = 0.0378218197210387 (tracked)\n",
      "train_loss = 0.037823498306170274 (tracked)\n",
      "train_loss = 0.037825087276245256 (tracked)\n",
      "train_loss = 0.03782648911347825 (tracked)\n",
      "train_loss = 0.03782762552034292 (tracked)\n",
      "train_loss = 0.03782846727816761 (tracked)\n",
      "train_loss = 0.03782894719992152 (tracked)\n",
      "train_loss = 0.03782896904624523 (tracked)\n",
      "train_loss = 0.037828529982186644 (tracked)\n",
      "train_loss = 0.037828529982186644 (tracked)\n"
     ]
    },
    {
     "name": "stderr",
     "output_type": "stream",
     "text": [
      "┌ Info: Record low loss! Saving neural network out to dTdt_NN.bson\n",
      "└ @ Main In[427]:19\n",
      "┌ Info: Epoch 4\n",
      "└ @ Main In[427]:13\n"
     ]
    },
    {
     "name": "stdout",
     "output_type": "stream",
     "text": [
      "train_loss = 0.03782717125955796 (tracked)\n",
      "train_loss = 0.03782511045885796 (tracked)\n",
      "train_loss = 0.037822483116079976 (tracked)\n",
      "train_loss = 0.03781943954828933 (tracked)\n",
      "train_loss = 0.03781609564132721 (tracked)\n",
      "train_loss = 0.03781256872632456 (tracked)\n",
      "train_loss = 0.03780897476869742 (tracked)\n",
      "train_loss = 0.03780546979570579 (tracked)\n",
      "train_loss = 0.03780207780243079 (tracked)\n",
      "train_loss = 0.03779890354033347 (tracked)\n",
      "train_loss = 0.03779604485867631 (tracked)\n",
      "train_loss = 0.03779353428422356 (tracked)\n",
      "train_loss = 0.037791417185247644 (tracked)\n",
      "train_loss = 0.03778972194662474 (tracked)\n",
      "train_loss = 0.0377884682631311 (tracked)\n",
      "train_loss = 0.03778763211699201 (tracked)\n",
      "train_loss = 0.0377871472014163 (tracked)\n",
      "train_loss = 0.03778694588222105 (tracked)\n",
      "train_loss = 0.037787075038299194 (tracked)\n",
      "train_loss = 0.03778750978165286 (tracked)\n",
      "train_loss = 0.03778829779680737 (tracked)\n",
      "train_loss = 0.037789402093578756 (tracked)\n",
      "train_loss = 0.03779076916687229 (tracked)\n",
      "train_loss = 0.037792332519049426 (tracked)\n",
      "train_loss = 0.037794028895772276 (tracked)\n",
      "train_loss = 0.037795779271044626 (tracked)\n",
      "train_loss = 0.03779743584332837 (tracked)\n",
      "train_loss = 0.03779890261734468 (tracked)\n",
      "train_loss = 0.037800097434987044 (tracked)\n",
      "train_loss = 0.037800996463020486 (tracked)\n",
      "train_loss = 0.03780153066609343 (tracked)\n",
      "train_loss = 0.0378016033503399 (tracked)\n",
      "train_loss = 0.03780120191928828 (tracked)\n",
      "train_loss = 0.03780120191928828 (tracked)\n"
     ]
    },
    {
     "name": "stderr",
     "output_type": "stream",
     "text": [
      "┌ Info: Record low loss! Saving neural network out to dTdt_NN.bson\n",
      "└ @ Main In[427]:19\n",
      "┌ Info: Epoch 5\n",
      "└ @ Main In[427]:13\n"
     ]
    },
    {
     "name": "stdout",
     "output_type": "stream",
     "text": [
      "train_loss = 0.0377998924505803 (tracked)\n",
      "train_loss = 0.03779788266425603 (tracked)\n",
      "train_loss = 0.03779530462347125 (tracked)\n",
      "train_loss = 0.037792304582368194 (tracked)\n",
      "train_loss = 0.0377889979899203 (tracked)\n",
      "train_loss = 0.03778550574135342 (tracked)\n",
      "train_loss = 0.037781947755985146 (tracked)\n",
      "train_loss = 0.03777848009270652 (tracked)\n",
      "train_loss = 0.037775129979778055 (tracked)\n",
      "train_loss = 0.03777200017544001 (tracked)\n",
      "train_loss = 0.03776919107254829 (tracked)\n",
      "train_loss = 0.03776673252864361 (tracked)\n",
      "train_loss = 0.03776467289214464 (tracked)\n",
      "train_loss = 0.03776303979745668 (tracked)\n",
      "train_loss = 0.03776185228010928 (tracked)\n",
      "train_loss = 0.03776108216083299 (tracked)\n",
      "train_loss = 0.037760664553344876 (tracked)\n",
      "train_loss = 0.03776052943089403 (tracked)\n",
      "train_loss = 0.037760727657072536 (tracked)\n",
      "train_loss = 0.03776123332799097 (tracked)\n",
      "train_loss = 0.03776209272771389 (tracked)\n",
      "train_loss = 0.037763268313619903 (tracked)\n",
      "train_loss = 0.0377647051725087 (tracked)\n",
      "train_loss = 0.03776633692300072 (tracked)\n",
      "train_loss = 0.037768097768339635 (tracked)\n",
      "train_loss = 0.037769911033970906 (tracked)\n",
      "train_loss = 0.03777162424201989 (tracked)\n",
      "train_loss = 0.0377731429865988 (tracked)\n",
      "train_loss = 0.037774386976197984 (tracked)\n",
      "train_loss = 0.03777533258508833 (tracked)\n",
      "train_loss = 0.037775909436235704 (tracked)\n",
      "train_loss = 0.03777602127314991 (tracked)\n",
      "train_loss = 0.0377756515148668 (tracked)\n",
      "train_loss = 0.0377756515148668 (tracked)\n"
     ]
    },
    {
     "name": "stderr",
     "output_type": "stream",
     "text": [
      "┌ Info: Record low loss! Saving neural network out to dTdt_NN.bson\n",
      "└ @ Main In[427]:19\n"
     ]
    }
   ],
   "source": [
    "#####\n",
    "##### Train!\n",
    "#####\n",
    "opt.eta = 1e-9\n",
    "\n",
    "epochs = 5\n",
    "best_loss = Inf\n",
    "last_improvement = 0\n",
    "\n",
    "for epoch_idx in 1:epochs\n",
    "    global best_loss, last_improvement\n",
    "\n",
    "    @info \"Epoch $epoch_idx\"\n",
    "    Flux.train!(loss_function, dTdt_NN_params, training_data, opt, cb=cb)\n",
    "    \n",
    "    loss = cb()\n",
    "\n",
    "    if loss <= best_loss\n",
    "        @info(\"Record low loss! Saving neural network out to dTdt_NN.bson\")\n",
    "        BSON.@save \"dTdt_NN.bson\" dTdt_NN\n",
    "        best_loss = loss\n",
    "        last_improvement = epoch_idx\n",
    "    end\n",
    "   \n",
    "    # If we haven't seen improvement in 2 epochs, drop our learning rate:\n",
    "    if epoch_idx - last_improvement >= 2 && opt.eta > 1e-6\n",
    "        opt.eta /= 2.0\n",
    "        @warn(\"Haven't improved in a while, dropping learning rate to $(opt.eta)\")\n",
    "\n",
    "        # After dropping learning rate, give it a few epochs to improve\n",
    "        last_improvement = epoch_idx\n",
    "    end\n",
    "end"
   ]
  },
  {
   "cell_type": "code",
   "execution_count": 424,
   "metadata": {},
   "outputs": [
    {
     "name": "stderr",
     "output_type": "stream",
     "text": [
      "┌ Info: Saved animation to \n",
      "│   fn = /home/alir/6S898-climate-parameterization/notebooks/deepening_mixed_layer_neural_PDE.gif\n",
      "└ @ Plots /home/alir/.julia/packages/Plots/Iuc9S/src/animation.jl:95\n"
     ]
    },
    {
     "data": {
      "text/html": [
       "<img src=\"deepening_mixed_layer_neural_PDE.gif\" />"
      ],
      "text/plain": [
       "Plots.AnimatedGif(\"/home/alir/6S898-climate-parameterization/notebooks/deepening_mixed_layer_neural_PDE.gif\")"
      ]
     },
     "execution_count": 424,
     "metadata": {},
     "output_type": "execute_result"
    }
   ],
   "source": [
    "#####\n",
    "##### Run the neural PDE forward to see how well it performs just by itself.\n",
    "#####\n",
    "\n",
    "N_plot = 500\n",
    "\n",
    "nn_pred = neural_ode(dTdt_NN, Tₙ[:, 1], (t[1], t[N_plot]), Tsit5(), saveat=t[1:N_plot], reltol=1e-4) |> Flux.data\n",
    "\n",
    "anim = @animate for n=1:10:N_plot\n",
    "    t_str = @sprintf(\"%.2f\", t[n] / 86400)\n",
    "    plot(T_cs[2:end-1, n], z_cs, linewidth=2,\n",
    "         xlim=(19, 20), ylim=(-100, 0), label=\"Data\",\n",
    "         xlabel=\"Temperature (C)\", ylabel=\"Depth (z)\",\n",
    "         title=\"Deepening mixed layer: $t_str days\",\n",
    "         legend=:bottomright, show=false)\n",
    "    plot!(nn_pred[2:end-1, n], z_cs, linewidth=2, label=\"Neural PDE\", show=false)\n",
    "end\n",
    "\n",
    "gif(anim, \"deepening_mixed_layer_neural_PDE.gif\", fps=15)"
   ]
  },
  {
   "cell_type": "code",
   "execution_count": null,
   "metadata": {},
   "outputs": [],
   "source": []
  }
 ],
 "metadata": {
  "kernelspec": {
   "display_name": "Julia 1.3.0",
   "language": "julia",
   "name": "julia-1.3"
  },
  "language_info": {
   "file_extension": ".jl",
   "mimetype": "application/julia",
   "name": "julia",
   "version": "1.3.0"
  }
 },
 "nbformat": 4,
 "nbformat_minor": 4
}
