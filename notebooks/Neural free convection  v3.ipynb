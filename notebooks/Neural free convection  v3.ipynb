{
 "cells": [
  {
   "cell_type": "code",
   "execution_count": 66,
   "metadata": {},
   "outputs": [],
   "source": [
    "using Printf\n",
    "using Random\n",
    "using Statistics\n",
    "using LinearAlgebra\n",
    "\n",
    "using Flux\n",
    "using DifferentialEquations\n",
    "using DiffEqFlux\n",
    "\n",
    "using JLD2\n",
    "using BSON\n",
    "using Plots\n",
    "\n",
    "using Flux: @epochs"
   ]
  },
  {
   "cell_type": "code",
   "execution_count": 67,
   "metadata": {},
   "outputs": [],
   "source": [
    "#####\n",
    "##### Load data from JLD2 file\n",
    "#####\n",
    "\n",
    "file = jldopen(\"../data/ocean_convection_profiles.jld2\")\n",
    "\n",
    "Is = keys(file[\"timeseries/t\"])\n",
    "\n",
    "Nz = file[\"grid/Nz\"]\n",
    "Lz = file[\"grid/Lz\"]\n",
    "Nt = length(Is)\n",
    "\n",
    "t = zeros(Nt)\n",
    "T = T_data = zeros(Nt, Nz)\n",
    "wT = zeros(Nt, Nz)\n",
    "\n",
    "for (i, I) in enumerate(Is)\n",
    "    t[i] = file[\"timeseries/t/$I\"]\n",
    "    T[i, :] = file[\"timeseries/T/$I\"][1, 1, 2:Nz+1]\n",
    "    wT[i, :] = file[\"timeseries/wT/$I\"][1, 1, 2:Nz+1]\n",
    "end"
   ]
  },
  {
   "cell_type": "code",
   "execution_count": 68,
   "metadata": {},
   "outputs": [
    {
     "name": "stderr",
     "output_type": "stream",
     "text": [
      "┌ Info: Saved animation to \n",
      "│   fn = /home/alir/6S898-climate-parameterization/notebooks/deepening_mixed_layer.gif\n",
      "└ @ Plots /home/alir/.julia/packages/Plots/Iuc9S/src/animation.jl:95\n"
     ]
    },
    {
     "data": {
      "text/html": [
       "<img src=\"deepening_mixed_layer.gif\" />"
      ],
      "text/plain": [
       "Plots.AnimatedGif(\"/home/alir/6S898-climate-parameterization/notebooks/deepening_mixed_layer.gif\")"
      ]
     },
     "execution_count": 68,
     "metadata": {},
     "output_type": "execute_result"
    }
   ],
   "source": [
    "#####\n",
    "##### Plot animation of T(z,t) from data\n",
    "#####\n",
    "\n",
    "z = file[\"grid/zC\"]\n",
    "\n",
    "anim = @animate for n=1:10:Nt\n",
    "    t_str = @sprintf(\"%.2f\", t[n] / 86400)\n",
    "    plot(T[n, :], z, linewidth=2,\n",
    "         xlim=(19, 20), ylim=(-100, 0), label=\"\",\n",
    "         xlabel=\"Temperature (C)\", ylabel=\"Depth (z)\",\n",
    "         title=\"Deepening mixed layer: $t_str days\", show=false)\n",
    "end\n",
    "\n",
    "gif(anim, \"deepening_mixed_layer.gif\", fps=15)"
   ]
  },
  {
   "cell_type": "code",
   "execution_count": 69,
   "metadata": {},
   "outputs": [
    {
     "data": {
      "text/plain": [
       "coarse_grain (generic function with 1 method)"
      ]
     },
     "execution_count": 69,
     "metadata": {},
     "output_type": "execute_result"
    }
   ],
   "source": [
    "#####\n",
    "##### Coarse grain data to 32 vertical levels (plus halo regions)\n",
    "#####\n",
    "\n",
    "function coarse_grain(data, resolution)\n",
    "    @assert length(data) % resolution == 0\n",
    "    s = length(data) / resolution\n",
    "    \n",
    "    data_cs = zeros(resolution)\n",
    "    for i in 1:resolution\n",
    "        t = data[Int((i-1)*s+1):Int(i*s)]\n",
    "        data_cs[i] = mean(t)\n",
    "    end\n",
    "    \n",
    "    return data_cs\n",
    "end"
   ]
  },
  {
   "cell_type": "code",
   "execution_count": 71,
   "metadata": {},
   "outputs": [],
   "source": [
    "coarse_resolution = cr = 32\n",
    "\n",
    "T_cs = zeros(coarse_resolution+2, Nt)\n",
    "wT_cs = zeros(coarse_resolution+2, Nt)\n",
    "\n",
    "z_cs = coarse_grain(collect(z), cr)\n",
    "\n",
    "for n=1:Nt\n",
    "    T_cs[2:end-1, n] .= coarse_grain(T[n, :], coarse_resolution)\n",
    "    wT_cs[2:end-1, n] .= coarse_grain(wT[n, :], coarse_resolution)\n",
    "end\n",
    "\n",
    "# Fill halo regions to enforce boundary conditions.\n",
    "T_cs[1,   :] .= T_cs[2,     :]\n",
    "T_cs[end, :] .= T_cs[end-1, :]\n",
    "\n",
    "wT_cs[1,   :] .= wT_cs[2,     :]\n",
    "wT_cs[end, :] .= wT_cs[end-1, :];"
   ]
  },
  {
   "cell_type": "code",
   "execution_count": 6,
   "metadata": {},
   "outputs": [
    {
     "name": "stderr",
     "output_type": "stream",
     "text": [
      "┌ Info: Plotting coarse temperature profile...\n",
      "└ @ Main In[6]:5\n"
     ]
    },
    {
     "data": {
      "text/html": [
       "<img src=\"deepening_mixed_layer_T_coarse.gif\" />"
      ],
      "text/plain": [
       "Plots.AnimatedGif(\"/home/alir/6S898-climate-parameterization/notebooks/deepening_mixed_layer_T_coarse.gif\")"
      ]
     },
     "metadata": {},
     "output_type": "display_data"
    },
    {
     "name": "stderr",
     "output_type": "stream",
     "text": [
      "┌ Info: Saved animation to \n",
      "│   fn = /home/alir/6S898-climate-parameterization/notebooks/deepening_mixed_layer_T_coarse.gif\n",
      "└ @ Plots /home/alir/.julia/packages/Plots/Iuc9S/src/animation.jl:95\n",
      "┌ Info: Plotting coarse wT profile...\n",
      "└ @ Main In[6]:19\n"
     ]
    },
    {
     "data": {
      "text/html": [
       "<img src=\"deepening_mixed_layer_wT_coarse.gif\" />"
      ],
      "text/plain": [
       "Plots.AnimatedGif(\"/home/alir/6S898-climate-parameterization/notebooks/deepening_mixed_layer_wT_coarse.gif\")"
      ]
     },
     "metadata": {},
     "output_type": "display_data"
    },
    {
     "name": "stderr",
     "output_type": "stream",
     "text": [
      "┌ Info: Saved animation to \n",
      "│   fn = /home/alir/6S898-climate-parameterization/notebooks/deepening_mixed_layer_wT_coarse.gif\n",
      "└ @ Plots /home/alir/.julia/packages/Plots/Iuc9S/src/animation.jl:95\n"
     ]
    }
   ],
   "source": [
    "#####\n",
    "##### Plot coarse temperature and wT profiles\n",
    "#####\n",
    "\n",
    "@info \"Plotting coarse temperature profile...\"\n",
    "\n",
    "anim = @animate for n=1:10:Nt\n",
    "    t_str = @sprintf(\"%.2f\", t[n] / 86400)\n",
    "    plot(T_cs[2:cr+1, n], z_cs, linewidth=2,\n",
    "         xlim=(19, 20), ylim=(-100, 0), label=\"\",\n",
    "         xlabel=\"Temperature (C)\", ylabel=\"Depth (z)\",\n",
    "         title=\"Deepening mixed layer: $t_str days\", show=false)\n",
    "end\n",
    "\n",
    "gif_T = gif(anim, \"deepening_mixed_layer_T_coarse.gif\", fps=15)\n",
    "\n",
    "display(gif_T)\n",
    "\n",
    "@info \"Plotting coarse wT profile...\"\n",
    "\n",
    "anim = @animate for n=1:10:Nt\n",
    "    t_str = @sprintf(\"%.2f\", t[n] / 86400)\n",
    "    plot(wT_cs[2:cr+1, n], z_cs, linewidth=2,\n",
    "         xlim=(-1e-4, 1e-4), ylim=(-100, 0), label=\"\",\n",
    "         xlabel=\"Temperature (C)\", ylabel=\"Depth (z)\",\n",
    "         title=\"Deepening mixed layer: $t_str days\", show=false)\n",
    "end\n",
    "\n",
    "gif_wT = gif(anim, \"deepening_mixed_layer_wT_coarse.gif\", fps=15)\n",
    "\n",
    "display(gif_wT)"
   ]
  },
  {
   "cell_type": "code",
   "execution_count": 72,
   "metadata": {},
   "outputs": [
    {
     "data": {
      "text/plain": [
       "34×34 Tridiagonal{Float64,Array{Float64,1}}:\n",
       " -0.32   0.32    ⋅      ⋅      ⋅    …    ⋅      ⋅      ⋅      ⋅      ⋅  \n",
       "  0.0   -0.32   0.32    ⋅      ⋅         ⋅      ⋅      ⋅      ⋅      ⋅  \n",
       "   ⋅     0.0   -0.32   0.32    ⋅         ⋅      ⋅      ⋅      ⋅      ⋅  \n",
       "   ⋅      ⋅     0.0   -0.32   0.32       ⋅      ⋅      ⋅      ⋅      ⋅  \n",
       "   ⋅      ⋅      ⋅     0.0   -0.32       ⋅      ⋅      ⋅      ⋅      ⋅  \n",
       "   ⋅      ⋅      ⋅      ⋅     0.0   …    ⋅      ⋅      ⋅      ⋅      ⋅  \n",
       "   ⋅      ⋅      ⋅      ⋅      ⋅         ⋅      ⋅      ⋅      ⋅      ⋅  \n",
       "   ⋅      ⋅      ⋅      ⋅      ⋅         ⋅      ⋅      ⋅      ⋅      ⋅  \n",
       "   ⋅      ⋅      ⋅      ⋅      ⋅         ⋅      ⋅      ⋅      ⋅      ⋅  \n",
       "   ⋅      ⋅      ⋅      ⋅      ⋅         ⋅      ⋅      ⋅      ⋅      ⋅  \n",
       "   ⋅      ⋅      ⋅      ⋅      ⋅    …    ⋅      ⋅      ⋅      ⋅      ⋅  \n",
       "   ⋅      ⋅      ⋅      ⋅      ⋅         ⋅      ⋅      ⋅      ⋅      ⋅  \n",
       "   ⋅      ⋅      ⋅      ⋅      ⋅         ⋅      ⋅      ⋅      ⋅      ⋅  \n",
       "  ⋮                                 ⋱          ⋮                        \n",
       "   ⋅      ⋅      ⋅      ⋅      ⋅         ⋅      ⋅      ⋅      ⋅      ⋅  \n",
       "   ⋅      ⋅      ⋅      ⋅      ⋅         ⋅      ⋅      ⋅      ⋅      ⋅  \n",
       "   ⋅      ⋅      ⋅      ⋅      ⋅         ⋅      ⋅      ⋅      ⋅      ⋅  \n",
       "   ⋅      ⋅      ⋅      ⋅      ⋅    …    ⋅      ⋅      ⋅      ⋅      ⋅  \n",
       "   ⋅      ⋅      ⋅      ⋅      ⋅         ⋅      ⋅      ⋅      ⋅      ⋅  \n",
       "   ⋅      ⋅      ⋅      ⋅      ⋅         ⋅      ⋅      ⋅      ⋅      ⋅  \n",
       "   ⋅      ⋅      ⋅      ⋅      ⋅        0.32    ⋅      ⋅      ⋅      ⋅  \n",
       "   ⋅      ⋅      ⋅      ⋅      ⋅       -0.32   0.32    ⋅      ⋅      ⋅  \n",
       "   ⋅      ⋅      ⋅      ⋅      ⋅    …   0.0   -0.32   0.32    ⋅      ⋅  \n",
       "   ⋅      ⋅      ⋅      ⋅      ⋅         ⋅     0.0   -0.32   0.32    ⋅  \n",
       "   ⋅      ⋅      ⋅      ⋅      ⋅         ⋅      ⋅     0.0   -0.32   0.32\n",
       "   ⋅      ⋅      ⋅      ⋅      ⋅         ⋅      ⋅      ⋅     0.0   -0.32"
      ]
     },
     "execution_count": 72,
     "metadata": {},
     "output_type": "execute_result"
    }
   ],
   "source": [
    "#####\n",
    "##### Generate differentiation matrices\n",
    "#####\n",
    "\n",
    "cr_Δz = Lz / cr  # Coarse resolution Δz\n",
    "\n",
    "# Dzᶠ computes the derivative from cell center to cell (F)aces\n",
    "Dzᶠ = 1/cr_Δz * Tridiagonal(-ones(cr+1), ones(cr+2), zeros(cr+1))\n",
    "\n",
    "# Dzᶜ computes the derivative from cell faces to cell (C)enters\n",
    "Dzᶜ = 1/cr_Δz * Tridiagonal(zeros(cr+1), -ones(cr+2), ones(cr+1))"
   ]
  },
  {
   "cell_type": "code",
   "execution_count": 73,
   "metadata": {},
   "outputs": [],
   "source": [
    "#####\n",
    "##### Create training and pre-training data\n",
    "#####\n",
    "\n",
    "Tₙ    = zeros(cr+2, Nt-1)\n",
    "Tₙ₊₁  = zeros(cr+2, Nt-1)\n",
    "wTₙ   = zeros(cr+2, Nt-1)\n",
    "∂zTₙ  = zeros(cr+2, Nt-1)\n",
    "∂zwTₙ = zeros(cr+2, Nt-1)\n",
    "\n",
    "for i in 1:Nt-1\n",
    "       Tₙ[:, i] .=  T_cs[:,   i]\n",
    "     Tₙ₊₁[:, i] .=  T_cs[:, i+1]\n",
    "      wTₙ[:, i] .= wT_cs[:,   i]\n",
    "     ∂zTₙ[:, i] .= Dzᶠ * T_cs[:, i]\n",
    "    ∂zwTₙ[:, i] .= Dzᶜ * wT_cs[:, i]\n",
    "end\n",
    "\n",
    "N = 32  # Number of training data pairs.\n",
    "\n",
    "N_skip = 100  # Skip first N_skip iterations to avoid learning transients.\n",
    "Ns = N_skip:N+N_skip\n",
    "\n",
    "pre_training_data = [(Tₙ[:, i], -wTₙ[:, i]) for i in Ns]\n",
    "training_data = [(Tₙ[:, i], Tₙ₊₁[:, i]) for i in Ns]\n",
    "\n",
    "rinds = randperm(Nt)[1:N]\n"
   ]
  },
  {
   "cell_type": "code",
   "execution_count": 74,
   "metadata": {},
   "outputs": [
    {
     "data": {
      "text/plain": [
       "-7.789678675754626e-6"
      ]
     },
     "execution_count": 74,
     "metadata": {},
     "output_type": "execute_result"
    }
   ],
   "source": [
    "#####\n",
    "##### Create heat flux vector\n",
    "#####\n",
    "\n",
    "heat_flux = zeros(cr+2)\n",
    "\n",
    "Q  = -100\n",
    "ρ₀ = file[\"parameters/density\"]\n",
    "cₚ = file[\"parameters/specific_heat_capacity\"]\n",
    "\n",
    "heat_flux[cr+1] = Q / (ρ₀ * cₚ * cr_Δz)"
   ]
  },
  {
   "cell_type": "code",
   "execution_count": 128,
   "metadata": {},
   "outputs": [],
   "source": [
    "#####\n",
    "##### Create neural network\n",
    "#####\n",
    "\n",
    "# Complete black box right-hand-side.\n",
    "# dTdt_NN = Chain(Dense(cr+2,  2cr, tanh),\n",
    "#                 Dense(2cr,  cr+2))\n",
    "\n",
    "# Use NN to parameterize the horizontally averaged buoyancy flux (wT).\n",
    "wT_NN = Chain(T -> Dzᶠ*T,\n",
    "                Dense(cr+2, 4cr, relu),\n",
    "                Dense(4cr,  4cr, relu),\n",
    "                Dense(4cr,  cr+2))\n",
    "\n",
    "wT_NN_params = Flux.params(wT_NN);"
   ]
  },
  {
   "cell_type": "code",
   "execution_count": 136,
   "metadata": {},
   "outputs": [
    {
     "name": "stdout",
     "output_type": "stream",
     "text": [
      "loss = 1552.3549396700103 (tracked)\n"
     ]
    },
    {
     "data": {
      "text/plain": [
       "1552.3549396700103 (tracked)"
      ]
     },
     "execution_count": 136,
     "metadata": {},
     "output_type": "execute_result"
    }
   ],
   "source": [
    "#####\n",
    "##### Pre-train the neural network on (T, wT) data pairs\n",
    "#####\n",
    "\n",
    "pre_loss_function(Tₙ, wTₙ) = sum(abs2, wT_NN(Tₙ) .- wTₙ) ./ sum(abs2, wTₙ)\n",
    "\n",
    "popt = ADAM(0.01)\n",
    "\n",
    "function precb()\n",
    "    loss = sum([pre_loss_function(pre_training_data[i]...) for i in 1:N])\n",
    "    println(\"loss = $loss\")\n",
    "    return loss\n",
    "end\n",
    "\n",
    "precb()"
   ]
  },
  {
   "cell_type": "code",
   "execution_count": 140,
   "metadata": {},
   "outputs": [
    {
     "name": "stdout",
     "output_type": "stream",
     "text": [
      "loss = 0.9473493092543508 (tracked)\n",
      "loss = 0.3026277502866552 (tracked)\n",
      "loss = 0.23137071032673073 (tracked)\n",
      "loss = 0.24223222236226902 (tracked)\n",
      "loss = 0.24613675949692151 (tracked)\n",
      "loss = 0.25042438355140473 (tracked)\n",
      "loss = 0.2545218931047366 (tracked)\n",
      "loss = 0.25830863535334553 (tracked)\n",
      "loss = 0.2617319607206116 (tracked)\n",
      "loss = 0.2648006531215796 (tracked)\n",
      "loss = 0.26754198026346204 (tracked)\n",
      "loss = 0.2699972946605971 (tracked)\n",
      "loss = 0.27221169361072334 (tracked)\n",
      "loss = 0.2742297267483547 (tracked)\n",
      "loss = 0.2760958209758809 (tracked)\n",
      "loss = 0.2778615626295451 (tracked)\n",
      "loss = 0.2795960184253897 (tracked)\n",
      "loss = 0.2813994370056341 (tracked)\n",
      "loss = 0.2834176938845093 (tracked)\n",
      "loss = 0.28585356578766596 (tracked)\n"
     ]
    }
   ],
   "source": [
    "popt.eta = 0.001\n",
    "\n",
    "pre_train_epochs = 20\n",
    "for _ in 1:pre_train_epochs\n",
    "    Flux.train!(pre_loss_function, wT_NN_params, pre_training_data, popt, cb = Flux.throttle(precb, 5))\n",
    "end"
   ]
  },
  {
   "cell_type": "code",
   "execution_count": 141,
   "metadata": {},
   "outputs": [
    {
     "data": {
      "image/svg+xml": [
       "<?xml version=\"1.0\" encoding=\"utf-8\"?>\n",
       "<svg xmlns=\"http://www.w3.org/2000/svg\" xmlns:xlink=\"http://www.w3.org/1999/xlink\" width=\"600\" height=\"400\" viewBox=\"0 0 2400 1600\">\n",
       "<defs>\n",
       "  <clipPath id=\"clip9600\">\n",
       "    <rect x=\"0\" y=\"0\" width=\"2400\" height=\"1600\"/>\n",
       "  </clipPath>\n",
       "</defs>\n",
       "<path clip-path=\"url(#clip9600)\" d=\"\n",
       "M0 1600 L2400 1600 L2400 0 L0 0  Z\n",
       "  \" fill=\"#ffffff\" fill-rule=\"evenodd\" fill-opacity=\"1\"/>\n",
       "<defs>\n",
       "  <clipPath id=\"clip9601\">\n",
       "    <rect x=\"480\" y=\"0\" width=\"1681\" height=\"1600\"/>\n",
       "  </clipPath>\n",
       "</defs>\n",
       "<path clip-path=\"url(#clip9600)\" d=\"\n",
       "M195.389 1487.47 L2352.76 1487.47 L2352.76 47.2441 L195.389 47.2441  Z\n",
       "  \" fill=\"#ffffff\" fill-rule=\"evenodd\" fill-opacity=\"1\"/>\n",
       "<defs>\n",
       "  <clipPath id=\"clip9602\">\n",
       "    <rect x=\"195\" y=\"47\" width=\"2158\" height=\"1441\"/>\n",
       "  </clipPath>\n",
       "</defs>\n",
       "<polyline clip-path=\"url(#clip9602)\" style=\"stroke:#000000; stroke-width:2; stroke-opacity:0.1; fill:none\" points=\"\n",
       "  349.75,1487.47 349.75,47.2441 \n",
       "  \"/>\n",
       "<polyline clip-path=\"url(#clip9602)\" style=\"stroke:#000000; stroke-width:2; stroke-opacity:0.1; fill:none\" points=\"\n",
       "  781.702,1487.47 781.702,47.2441 \n",
       "  \"/>\n",
       "<polyline clip-path=\"url(#clip9602)\" style=\"stroke:#000000; stroke-width:2; stroke-opacity:0.1; fill:none\" points=\"\n",
       "  1213.65,1487.47 1213.65,47.2441 \n",
       "  \"/>\n",
       "<polyline clip-path=\"url(#clip9602)\" style=\"stroke:#000000; stroke-width:2; stroke-opacity:0.1; fill:none\" points=\"\n",
       "  1645.61,1487.47 1645.61,47.2441 \n",
       "  \"/>\n",
       "<polyline clip-path=\"url(#clip9602)\" style=\"stroke:#000000; stroke-width:2; stroke-opacity:0.1; fill:none\" points=\"\n",
       "  2077.56,1487.47 2077.56,47.2441 \n",
       "  \"/>\n",
       "<polyline clip-path=\"url(#clip9602)\" style=\"stroke:#000000; stroke-width:2; stroke-opacity:0.1; fill:none\" points=\"\n",
       "  195.389,1468.63 2352.76,1468.63 \n",
       "  \"/>\n",
       "<polyline clip-path=\"url(#clip9602)\" style=\"stroke:#000000; stroke-width:2; stroke-opacity:0.1; fill:none\" points=\"\n",
       "  195.389,1117.99 2352.76,1117.99 \n",
       "  \"/>\n",
       "<polyline clip-path=\"url(#clip9602)\" style=\"stroke:#000000; stroke-width:2; stroke-opacity:0.1; fill:none\" points=\"\n",
       "  195.389,767.359 2352.76,767.359 \n",
       "  \"/>\n",
       "<polyline clip-path=\"url(#clip9602)\" style=\"stroke:#000000; stroke-width:2; stroke-opacity:0.1; fill:none\" points=\"\n",
       "  195.389,416.725 2352.76,416.725 \n",
       "  \"/>\n",
       "<polyline clip-path=\"url(#clip9602)\" style=\"stroke:#000000; stroke-width:2; stroke-opacity:0.1; fill:none\" points=\"\n",
       "  195.389,66.0907 2352.76,66.0907 \n",
       "  \"/>\n",
       "<polyline clip-path=\"url(#clip9600)\" style=\"stroke:#000000; stroke-width:4; stroke-opacity:1; fill:none\" points=\"\n",
       "  195.389,1487.47 2352.76,1487.47 \n",
       "  \"/>\n",
       "<polyline clip-path=\"url(#clip9600)\" style=\"stroke:#000000; stroke-width:4; stroke-opacity:1; fill:none\" points=\"\n",
       "  195.389,1487.47 195.389,47.2441 \n",
       "  \"/>\n",
       "<polyline clip-path=\"url(#clip9600)\" style=\"stroke:#000000; stroke-width:4; stroke-opacity:1; fill:none\" points=\"\n",
       "  349.75,1487.47 349.75,1465.87 \n",
       "  \"/>\n",
       "<polyline clip-path=\"url(#clip9600)\" style=\"stroke:#000000; stroke-width:4; stroke-opacity:1; fill:none\" points=\"\n",
       "  781.702,1487.47 781.702,1465.87 \n",
       "  \"/>\n",
       "<polyline clip-path=\"url(#clip9600)\" style=\"stroke:#000000; stroke-width:4; stroke-opacity:1; fill:none\" points=\"\n",
       "  1213.65,1487.47 1213.65,1465.87 \n",
       "  \"/>\n",
       "<polyline clip-path=\"url(#clip9600)\" style=\"stroke:#000000; stroke-width:4; stroke-opacity:1; fill:none\" points=\"\n",
       "  1645.61,1487.47 1645.61,1465.87 \n",
       "  \"/>\n",
       "<polyline clip-path=\"url(#clip9600)\" style=\"stroke:#000000; stroke-width:4; stroke-opacity:1; fill:none\" points=\"\n",
       "  2077.56,1487.47 2077.56,1465.87 \n",
       "  \"/>\n",
       "<polyline clip-path=\"url(#clip9600)\" style=\"stroke:#000000; stroke-width:4; stroke-opacity:1; fill:none\" points=\"\n",
       "  195.389,1468.63 227.75,1468.63 \n",
       "  \"/>\n",
       "<polyline clip-path=\"url(#clip9600)\" style=\"stroke:#000000; stroke-width:4; stroke-opacity:1; fill:none\" points=\"\n",
       "  195.389,1117.99 227.75,1117.99 \n",
       "  \"/>\n",
       "<polyline clip-path=\"url(#clip9600)\" style=\"stroke:#000000; stroke-width:4; stroke-opacity:1; fill:none\" points=\"\n",
       "  195.389,767.359 227.75,767.359 \n",
       "  \"/>\n",
       "<polyline clip-path=\"url(#clip9600)\" style=\"stroke:#000000; stroke-width:4; stroke-opacity:1; fill:none\" points=\"\n",
       "  195.389,416.725 227.75,416.725 \n",
       "  \"/>\n",
       "<polyline clip-path=\"url(#clip9600)\" style=\"stroke:#000000; stroke-width:4; stroke-opacity:1; fill:none\" points=\"\n",
       "  195.389,66.0907 227.75,66.0907 \n",
       "  \"/>\n",
       "<g clip-path=\"url(#clip9600)\">\n",
       "<text style=\"fill:#000000; fill-opacity:1; font-family:Arial,Helvetica Neue,Helvetica,sans-serif; font-size:48px; text-anchor:start;\" transform=\"rotate(0, 239.133, 1562.48)\" x=\"239.133\" y=\"1562.48\">-</text>\n",
       "</g>\n",
       "<g clip-path=\"url(#clip9600)\">\n",
       "<text style=\"fill:#000000; fill-opacity:1; font-family:Arial,Helvetica Neue,Helvetica,sans-serif; font-size:48px; text-anchor:start;\" transform=\"rotate(0, 267.243, 1562.48)\" x=\"267.243\" y=\"1562.48\">2.0×10</text>\n",
       "</g>\n",
       "<g clip-path=\"url(#clip9600)\">\n",
       "<text style=\"fill:#000000; fill-opacity:1; font-family:Arial,Helvetica Neue,Helvetica,sans-serif; font-size:38px; text-anchor:start;\" transform=\"rotate(0, 415.783, 1535.07)\" x=\"415.783\" y=\"1535.07\">-</text>\n",
       "</g>\n",
       "<g clip-path=\"url(#clip9600)\">\n",
       "<text style=\"fill:#000000; fill-opacity:1; font-family:Arial,Helvetica Neue,Helvetica,sans-serif; font-size:38px; text-anchor:start;\" transform=\"rotate(0, 438.623, 1535.07)\" x=\"438.623\" y=\"1535.07\">5</text>\n",
       "</g>\n",
       "<g clip-path=\"url(#clip9600)\">\n",
       "<text style=\"fill:#000000; fill-opacity:1; font-family:Arial,Helvetica Neue,Helvetica,sans-serif; font-size:48px; text-anchor:start;\" transform=\"rotate(0, 671.085, 1562.48)\" x=\"671.085\" y=\"1562.48\">-</text>\n",
       "</g>\n",
       "<g clip-path=\"url(#clip9600)\">\n",
       "<text style=\"fill:#000000; fill-opacity:1; font-family:Arial,Helvetica Neue,Helvetica,sans-serif; font-size:48px; text-anchor:start;\" transform=\"rotate(0, 699.195, 1562.48)\" x=\"699.195\" y=\"1562.48\">1.5×10</text>\n",
       "</g>\n",
       "<g clip-path=\"url(#clip9600)\">\n",
       "<text style=\"fill:#000000; fill-opacity:1; font-family:Arial,Helvetica Neue,Helvetica,sans-serif; font-size:38px; text-anchor:start;\" transform=\"rotate(0, 847.736, 1535.07)\" x=\"847.736\" y=\"1535.07\">-</text>\n",
       "</g>\n",
       "<g clip-path=\"url(#clip9600)\">\n",
       "<text style=\"fill:#000000; fill-opacity:1; font-family:Arial,Helvetica Neue,Helvetica,sans-serif; font-size:38px; text-anchor:start;\" transform=\"rotate(0, 870.575, 1535.07)\" x=\"870.575\" y=\"1535.07\">5</text>\n",
       "</g>\n",
       "<g clip-path=\"url(#clip9600)\">\n",
       "<text style=\"fill:#000000; fill-opacity:1; font-family:Arial,Helvetica Neue,Helvetica,sans-serif; font-size:48px; text-anchor:start;\" transform=\"rotate(0, 1103.04, 1562.48)\" x=\"1103.04\" y=\"1562.48\">-</text>\n",
       "</g>\n",
       "<g clip-path=\"url(#clip9600)\">\n",
       "<text style=\"fill:#000000; fill-opacity:1; font-family:Arial,Helvetica Neue,Helvetica,sans-serif; font-size:48px; text-anchor:start;\" transform=\"rotate(0, 1131.15, 1562.48)\" x=\"1131.15\" y=\"1562.48\">1.0×10</text>\n",
       "</g>\n",
       "<g clip-path=\"url(#clip9600)\">\n",
       "<text style=\"fill:#000000; fill-opacity:1; font-family:Arial,Helvetica Neue,Helvetica,sans-serif; font-size:38px; text-anchor:start;\" transform=\"rotate(0, 1279.69, 1535.07)\" x=\"1279.69\" y=\"1535.07\">-</text>\n",
       "</g>\n",
       "<g clip-path=\"url(#clip9600)\">\n",
       "<text style=\"fill:#000000; fill-opacity:1; font-family:Arial,Helvetica Neue,Helvetica,sans-serif; font-size:38px; text-anchor:start;\" transform=\"rotate(0, 1302.53, 1535.07)\" x=\"1302.53\" y=\"1535.07\">5</text>\n",
       "</g>\n",
       "<g clip-path=\"url(#clip9600)\">\n",
       "<text style=\"fill:#000000; fill-opacity:1; font-family:Arial,Helvetica Neue,Helvetica,sans-serif; font-size:48px; text-anchor:start;\" transform=\"rotate(0, 1534.99, 1562.48)\" x=\"1534.99\" y=\"1562.48\">-</text>\n",
       "</g>\n",
       "<g clip-path=\"url(#clip9600)\">\n",
       "<text style=\"fill:#000000; fill-opacity:1; font-family:Arial,Helvetica Neue,Helvetica,sans-serif; font-size:48px; text-anchor:start;\" transform=\"rotate(0, 1563.1, 1562.48)\" x=\"1563.1\" y=\"1562.48\">5.0×10</text>\n",
       "</g>\n",
       "<g clip-path=\"url(#clip9600)\">\n",
       "<text style=\"fill:#000000; fill-opacity:1; font-family:Arial,Helvetica Neue,Helvetica,sans-serif; font-size:38px; text-anchor:start;\" transform=\"rotate(0, 1711.64, 1535.07)\" x=\"1711.64\" y=\"1535.07\">-</text>\n",
       "</g>\n",
       "<g clip-path=\"url(#clip9600)\">\n",
       "<text style=\"fill:#000000; fill-opacity:1; font-family:Arial,Helvetica Neue,Helvetica,sans-serif; font-size:38px; text-anchor:start;\" transform=\"rotate(0, 1734.48, 1535.07)\" x=\"1734.48\" y=\"1535.07\">6</text>\n",
       "</g>\n",
       "<g clip-path=\"url(#clip9600)\">\n",
       "<text style=\"fill:#000000; fill-opacity:1; font-family:Arial,Helvetica Neue,Helvetica,sans-serif; font-size:48px; text-anchor:middle;\" transform=\"rotate(0, 2077.56, 1541.47)\" x=\"2077.56\" y=\"1541.47\">0</text>\n",
       "</g>\n",
       "<g clip-path=\"url(#clip9600)\">\n",
       "<text style=\"fill:#000000; fill-opacity:1; font-family:Arial,Helvetica Neue,Helvetica,sans-serif; font-size:48px; text-anchor:end;\" transform=\"rotate(0, 171.389, 1486.13)\" x=\"171.389\" y=\"1486.13\">-100</text>\n",
       "</g>\n",
       "<g clip-path=\"url(#clip9600)\">\n",
       "<text style=\"fill:#000000; fill-opacity:1; font-family:Arial,Helvetica Neue,Helvetica,sans-serif; font-size:48px; text-anchor:end;\" transform=\"rotate(0, 171.389, 1135.49)\" x=\"171.389\" y=\"1135.49\">-75</text>\n",
       "</g>\n",
       "<g clip-path=\"url(#clip9600)\">\n",
       "<text style=\"fill:#000000; fill-opacity:1; font-family:Arial,Helvetica Neue,Helvetica,sans-serif; font-size:48px; text-anchor:end;\" transform=\"rotate(0, 171.389, 784.859)\" x=\"171.389\" y=\"784.859\">-50</text>\n",
       "</g>\n",
       "<g clip-path=\"url(#clip9600)\">\n",
       "<text style=\"fill:#000000; fill-opacity:1; font-family:Arial,Helvetica Neue,Helvetica,sans-serif; font-size:48px; text-anchor:end;\" transform=\"rotate(0, 171.389, 434.225)\" x=\"171.389\" y=\"434.225\">-25</text>\n",
       "</g>\n",
       "<g clip-path=\"url(#clip9600)\">\n",
       "<text style=\"fill:#000000; fill-opacity:1; font-family:Arial,Helvetica Neue,Helvetica,sans-serif; font-size:48px; text-anchor:end;\" transform=\"rotate(0, 171.389, 83.5907)\" x=\"171.389\" y=\"83.5907\">0</text>\n",
       "</g>\n",
       "<polyline clip-path=\"url(#clip9602)\" style=\"stroke:#009af9; stroke-width:4; stroke-opacity:1; fill:none\" points=\"\n",
       "  2080.31,1446.71 2077.16,1402.88 2080.62,1359.05 2074.72,1315.23 2073.85,1271.4 2079.78,1227.57 2080.66,1183.74 2076.88,1139.91 2075.05,1096.08 2076.86,1052.25 \n",
       "  2085.06,1008.42 2084.18,964.591 2077.17,920.762 2072.33,876.933 2079.73,833.103 2075.28,789.274 2083.16,745.445 2081.08,701.615 2083.36,657.786 2076.29,613.957 \n",
       "  2080.64,570.128 2073.86,526.298 2083.08,482.469 2078.9,438.64 2188.89,394.81 2224.65,350.981 2096.39,307.152 1849.16,263.323 1434.01,219.493 1011.09,175.664 \n",
       "  631.335,131.835 264.166,88.0053 \n",
       "  \"/>\n",
       "<polyline clip-path=\"url(#clip9602)\" style=\"stroke:#e26f46; stroke-width:4; stroke-opacity:1; fill:none\" points=\"\n",
       "  2085.68,1446.71 2084.68,1402.88 2082.63,1359.05 2084.6,1315.23 2055.63,1271.4 2071.27,1227.57 2068.65,1183.74 2066.61,1139.91 2050.18,1096.08 2057.65,1052.25 \n",
       "  2076.25,1008.42 2057.78,964.591 2082.96,920.762 2092.82,876.933 2084.12,833.103 2047.68,789.274 2079.97,745.445 2058.74,701.615 2073.66,657.786 2100.5,613.957 \n",
       "  2096.66,570.128 2058.94,526.298 2077.89,482.469 2089.6,438.64 2109.84,394.81 2291.7,350.981 1947.67,307.152 1603.62,263.323 1306.72,219.493 982.031,175.664 \n",
       "  654.209,131.835 256.447,88.0053 \n",
       "  \"/>\n",
       "<path clip-path=\"url(#clip9600)\" d=\"\n",
       "M1947.09 312.204 L2280.76 312.204 L2280.76 130.764 L1947.09 130.764  Z\n",
       "  \" fill=\"#ffffff\" fill-rule=\"evenodd\" fill-opacity=\"1\"/>\n",
       "<polyline clip-path=\"url(#clip9600)\" style=\"stroke:#000000; stroke-width:4; stroke-opacity:1; fill:none\" points=\"\n",
       "  1947.09,312.204 2280.76,312.204 2280.76,130.764 1947.09,130.764 1947.09,312.204 \n",
       "  \"/>\n",
       "<polyline clip-path=\"url(#clip9600)\" style=\"stroke:#009af9; stroke-width:4; stroke-opacity:1; fill:none\" points=\"\n",
       "  1971.09,191.244 2115.09,191.244 \n",
       "  \"/>\n",
       "<g clip-path=\"url(#clip9600)\">\n",
       "<text style=\"fill:#000000; fill-opacity:1; font-family:Arial,Helvetica Neue,Helvetica,sans-serif; font-size:48px; text-anchor:start;\" transform=\"rotate(0, 2139.09, 208.744)\" x=\"2139.09\" y=\"208.744\">NN</text>\n",
       "</g>\n",
       "<polyline clip-path=\"url(#clip9600)\" style=\"stroke:#e26f46; stroke-width:4; stroke-opacity:1; fill:none\" points=\"\n",
       "  1971.09,251.724 2115.09,251.724 \n",
       "  \"/>\n",
       "<g clip-path=\"url(#clip9600)\">\n",
       "<text style=\"fill:#000000; fill-opacity:1; font-family:Arial,Helvetica Neue,Helvetica,sans-serif; font-size:48px; text-anchor:start;\" transform=\"rotate(0, 2139.09, 269.224)\" x=\"2139.09\" y=\"269.224\">data</text>\n",
       "</g>\n",
       "</svg>\n"
      ]
     },
     "execution_count": 141,
     "metadata": {},
     "output_type": "execute_result"
    }
   ],
   "source": [
    "#####\n",
    "##### Compare wT_NN output with wT data\n",
    "#####\n",
    "\n",
    "z_cs = coarse_grain(z, cr)\n",
    "\n",
    "n = 16\n",
    "\n",
    "wT = wT_NN(pre_training_data[n][1]) |> Flux.data\n",
    "\n",
    "plot(wT[2:cr+1], z_cs, label=\"NN\")\n",
    "plot!(pre_training_data[n][2][2:cr+1], z_cs, label=\"data\")"
   ]
  },
  {
   "cell_type": "code",
   "execution_count": 142,
   "metadata": {},
   "outputs": [],
   "source": [
    "#####\n",
    "##### Define neural network for dTdt RHS in terms of wT_NN\n",
    "#####\n",
    "\n",
    "wT_NN_copy = deepcopy(wT_NN)\n",
    "\n",
    "dTdt_NN = Chain(wT_NN_copy,\n",
    "                x -> Dzᶜ * x .+ heat_flux)\n",
    "\n",
    "dTdt_NN_params = Flux.params(dTdt_NN);"
   ]
  },
  {
   "cell_type": "code",
   "execution_count": 143,
   "metadata": {},
   "outputs": [
    {
     "data": {
      "image/svg+xml": [
       "<?xml version=\"1.0\" encoding=\"utf-8\"?>\n",
       "<svg xmlns=\"http://www.w3.org/2000/svg\" xmlns:xlink=\"http://www.w3.org/1999/xlink\" width=\"600\" height=\"400\" viewBox=\"0 0 2400 1600\">\n",
       "<defs>\n",
       "  <clipPath id=\"clip0000\">\n",
       "    <rect x=\"0\" y=\"0\" width=\"2400\" height=\"1600\"/>\n",
       "  </clipPath>\n",
       "</defs>\n",
       "<path clip-path=\"url(#clip0000)\" d=\"\n",
       "M0 1600 L2400 1600 L2400 0 L0 0  Z\n",
       "  \" fill=\"#ffffff\" fill-rule=\"evenodd\" fill-opacity=\"1\"/>\n",
       "<defs>\n",
       "  <clipPath id=\"clip0001\">\n",
       "    <rect x=\"480\" y=\"0\" width=\"1681\" height=\"1600\"/>\n",
       "  </clipPath>\n",
       "</defs>\n",
       "<path clip-path=\"url(#clip0000)\" d=\"\n",
       "M195.389 1487.47 L2352.76 1487.47 L2352.76 47.2441 L195.389 47.2441  Z\n",
       "  \" fill=\"#ffffff\" fill-rule=\"evenodd\" fill-opacity=\"1\"/>\n",
       "<defs>\n",
       "  <clipPath id=\"clip0002\">\n",
       "    <rect x=\"195\" y=\"47\" width=\"2158\" height=\"1441\"/>\n",
       "  </clipPath>\n",
       "</defs>\n",
       "<polyline clip-path=\"url(#clip0002)\" style=\"stroke:#000000; stroke-width:2; stroke-opacity:0.1; fill:none\" points=\"\n",
       "  345.295,1487.47 345.295,47.2441 \n",
       "  \"/>\n",
       "<polyline clip-path=\"url(#clip0002)\" style=\"stroke:#000000; stroke-width:2; stroke-opacity:0.1; fill:none\" points=\"\n",
       "  793.721,1487.47 793.721,47.2441 \n",
       "  \"/>\n",
       "<polyline clip-path=\"url(#clip0002)\" style=\"stroke:#000000; stroke-width:2; stroke-opacity:0.1; fill:none\" points=\"\n",
       "  1242.15,1487.47 1242.15,47.2441 \n",
       "  \"/>\n",
       "<polyline clip-path=\"url(#clip0002)\" style=\"stroke:#000000; stroke-width:2; stroke-opacity:0.1; fill:none\" points=\"\n",
       "  1690.57,1487.47 1690.57,47.2441 \n",
       "  \"/>\n",
       "<polyline clip-path=\"url(#clip0002)\" style=\"stroke:#000000; stroke-width:2; stroke-opacity:0.1; fill:none\" points=\"\n",
       "  2139,1487.47 2139,47.2441 \n",
       "  \"/>\n",
       "<polyline clip-path=\"url(#clip0002)\" style=\"stroke:#000000; stroke-width:2; stroke-opacity:0.1; fill:none\" points=\"\n",
       "  195.389,1468.63 2352.76,1468.63 \n",
       "  \"/>\n",
       "<polyline clip-path=\"url(#clip0002)\" style=\"stroke:#000000; stroke-width:2; stroke-opacity:0.1; fill:none\" points=\"\n",
       "  195.389,1117.99 2352.76,1117.99 \n",
       "  \"/>\n",
       "<polyline clip-path=\"url(#clip0002)\" style=\"stroke:#000000; stroke-width:2; stroke-opacity:0.1; fill:none\" points=\"\n",
       "  195.389,767.359 2352.76,767.359 \n",
       "  \"/>\n",
       "<polyline clip-path=\"url(#clip0002)\" style=\"stroke:#000000; stroke-width:2; stroke-opacity:0.1; fill:none\" points=\"\n",
       "  195.389,416.725 2352.76,416.725 \n",
       "  \"/>\n",
       "<polyline clip-path=\"url(#clip0002)\" style=\"stroke:#000000; stroke-width:2; stroke-opacity:0.1; fill:none\" points=\"\n",
       "  195.389,66.0907 2352.76,66.0907 \n",
       "  \"/>\n",
       "<polyline clip-path=\"url(#clip0000)\" style=\"stroke:#000000; stroke-width:4; stroke-opacity:1; fill:none\" points=\"\n",
       "  195.389,1487.47 2352.76,1487.47 \n",
       "  \"/>\n",
       "<polyline clip-path=\"url(#clip0000)\" style=\"stroke:#000000; stroke-width:4; stroke-opacity:1; fill:none\" points=\"\n",
       "  195.389,1487.47 195.389,47.2441 \n",
       "  \"/>\n",
       "<polyline clip-path=\"url(#clip0000)\" style=\"stroke:#000000; stroke-width:4; stroke-opacity:1; fill:none\" points=\"\n",
       "  345.295,1487.47 345.295,1465.87 \n",
       "  \"/>\n",
       "<polyline clip-path=\"url(#clip0000)\" style=\"stroke:#000000; stroke-width:4; stroke-opacity:1; fill:none\" points=\"\n",
       "  793.721,1487.47 793.721,1465.87 \n",
       "  \"/>\n",
       "<polyline clip-path=\"url(#clip0000)\" style=\"stroke:#000000; stroke-width:4; stroke-opacity:1; fill:none\" points=\"\n",
       "  1242.15,1487.47 1242.15,1465.87 \n",
       "  \"/>\n",
       "<polyline clip-path=\"url(#clip0000)\" style=\"stroke:#000000; stroke-width:4; stroke-opacity:1; fill:none\" points=\"\n",
       "  1690.57,1487.47 1690.57,1465.87 \n",
       "  \"/>\n",
       "<polyline clip-path=\"url(#clip0000)\" style=\"stroke:#000000; stroke-width:4; stroke-opacity:1; fill:none\" points=\"\n",
       "  2139,1487.47 2139,1465.87 \n",
       "  \"/>\n",
       "<polyline clip-path=\"url(#clip0000)\" style=\"stroke:#000000; stroke-width:4; stroke-opacity:1; fill:none\" points=\"\n",
       "  195.389,1468.63 227.75,1468.63 \n",
       "  \"/>\n",
       "<polyline clip-path=\"url(#clip0000)\" style=\"stroke:#000000; stroke-width:4; stroke-opacity:1; fill:none\" points=\"\n",
       "  195.389,1117.99 227.75,1117.99 \n",
       "  \"/>\n",
       "<polyline clip-path=\"url(#clip0000)\" style=\"stroke:#000000; stroke-width:4; stroke-opacity:1; fill:none\" points=\"\n",
       "  195.389,767.359 227.75,767.359 \n",
       "  \"/>\n",
       "<polyline clip-path=\"url(#clip0000)\" style=\"stroke:#000000; stroke-width:4; stroke-opacity:1; fill:none\" points=\"\n",
       "  195.389,416.725 227.75,416.725 \n",
       "  \"/>\n",
       "<polyline clip-path=\"url(#clip0000)\" style=\"stroke:#000000; stroke-width:4; stroke-opacity:1; fill:none\" points=\"\n",
       "  195.389,66.0907 227.75,66.0907 \n",
       "  \"/>\n",
       "<g clip-path=\"url(#clip0000)\">\n",
       "<text style=\"fill:#000000; fill-opacity:1; font-family:Arial,Helvetica Neue,Helvetica,sans-serif; font-size:48px; text-anchor:start;\" transform=\"rotate(0, 234.678, 1562.48)\" x=\"234.678\" y=\"1562.48\">-</text>\n",
       "</g>\n",
       "<g clip-path=\"url(#clip0000)\">\n",
       "<text style=\"fill:#000000; fill-opacity:1; font-family:Arial,Helvetica Neue,Helvetica,sans-serif; font-size:48px; text-anchor:start;\" transform=\"rotate(0, 262.788, 1562.48)\" x=\"262.788\" y=\"1562.48\">2.0×10</text>\n",
       "</g>\n",
       "<g clip-path=\"url(#clip0000)\">\n",
       "<text style=\"fill:#000000; fill-opacity:1; font-family:Arial,Helvetica Neue,Helvetica,sans-serif; font-size:38px; text-anchor:start;\" transform=\"rotate(0, 411.328, 1535.07)\" x=\"411.328\" y=\"1535.07\">-</text>\n",
       "</g>\n",
       "<g clip-path=\"url(#clip0000)\">\n",
       "<text style=\"fill:#000000; fill-opacity:1; font-family:Arial,Helvetica Neue,Helvetica,sans-serif; font-size:38px; text-anchor:start;\" transform=\"rotate(0, 434.168, 1535.07)\" x=\"434.168\" y=\"1535.07\">5</text>\n",
       "</g>\n",
       "<g clip-path=\"url(#clip0000)\">\n",
       "<text style=\"fill:#000000; fill-opacity:1; font-family:Arial,Helvetica Neue,Helvetica,sans-serif; font-size:48px; text-anchor:start;\" transform=\"rotate(0, 683.104, 1562.48)\" x=\"683.104\" y=\"1562.48\">-</text>\n",
       "</g>\n",
       "<g clip-path=\"url(#clip0000)\">\n",
       "<text style=\"fill:#000000; fill-opacity:1; font-family:Arial,Helvetica Neue,Helvetica,sans-serif; font-size:48px; text-anchor:start;\" transform=\"rotate(0, 711.214, 1562.48)\" x=\"711.214\" y=\"1562.48\">1.5×10</text>\n",
       "</g>\n",
       "<g clip-path=\"url(#clip0000)\">\n",
       "<text style=\"fill:#000000; fill-opacity:1; font-family:Arial,Helvetica Neue,Helvetica,sans-serif; font-size:38px; text-anchor:start;\" transform=\"rotate(0, 859.755, 1535.07)\" x=\"859.755\" y=\"1535.07\">-</text>\n",
       "</g>\n",
       "<g clip-path=\"url(#clip0000)\">\n",
       "<text style=\"fill:#000000; fill-opacity:1; font-family:Arial,Helvetica Neue,Helvetica,sans-serif; font-size:38px; text-anchor:start;\" transform=\"rotate(0, 882.594, 1535.07)\" x=\"882.594\" y=\"1535.07\">5</text>\n",
       "</g>\n",
       "<g clip-path=\"url(#clip0000)\">\n",
       "<text style=\"fill:#000000; fill-opacity:1; font-family:Arial,Helvetica Neue,Helvetica,sans-serif; font-size:48px; text-anchor:start;\" transform=\"rotate(0, 1131.53, 1562.48)\" x=\"1131.53\" y=\"1562.48\">-</text>\n",
       "</g>\n",
       "<g clip-path=\"url(#clip0000)\">\n",
       "<text style=\"fill:#000000; fill-opacity:1; font-family:Arial,Helvetica Neue,Helvetica,sans-serif; font-size:48px; text-anchor:start;\" transform=\"rotate(0, 1159.64, 1562.48)\" x=\"1159.64\" y=\"1562.48\">1.0×10</text>\n",
       "</g>\n",
       "<g clip-path=\"url(#clip0000)\">\n",
       "<text style=\"fill:#000000; fill-opacity:1; font-family:Arial,Helvetica Neue,Helvetica,sans-serif; font-size:38px; text-anchor:start;\" transform=\"rotate(0, 1308.18, 1535.07)\" x=\"1308.18\" y=\"1535.07\">-</text>\n",
       "</g>\n",
       "<g clip-path=\"url(#clip0000)\">\n",
       "<text style=\"fill:#000000; fill-opacity:1; font-family:Arial,Helvetica Neue,Helvetica,sans-serif; font-size:38px; text-anchor:start;\" transform=\"rotate(0, 1331.02, 1535.07)\" x=\"1331.02\" y=\"1535.07\">5</text>\n",
       "</g>\n",
       "<g clip-path=\"url(#clip0000)\">\n",
       "<text style=\"fill:#000000; fill-opacity:1; font-family:Arial,Helvetica Neue,Helvetica,sans-serif; font-size:48px; text-anchor:start;\" transform=\"rotate(0, 1579.96, 1562.48)\" x=\"1579.96\" y=\"1562.48\">-</text>\n",
       "</g>\n",
       "<g clip-path=\"url(#clip0000)\">\n",
       "<text style=\"fill:#000000; fill-opacity:1; font-family:Arial,Helvetica Neue,Helvetica,sans-serif; font-size:48px; text-anchor:start;\" transform=\"rotate(0, 1608.07, 1562.48)\" x=\"1608.07\" y=\"1562.48\">5.0×10</text>\n",
       "</g>\n",
       "<g clip-path=\"url(#clip0000)\">\n",
       "<text style=\"fill:#000000; fill-opacity:1; font-family:Arial,Helvetica Neue,Helvetica,sans-serif; font-size:38px; text-anchor:start;\" transform=\"rotate(0, 1756.61, 1535.07)\" x=\"1756.61\" y=\"1535.07\">-</text>\n",
       "</g>\n",
       "<g clip-path=\"url(#clip0000)\">\n",
       "<text style=\"fill:#000000; fill-opacity:1; font-family:Arial,Helvetica Neue,Helvetica,sans-serif; font-size:38px; text-anchor:start;\" transform=\"rotate(0, 1779.45, 1535.07)\" x=\"1779.45\" y=\"1535.07\">6</text>\n",
       "</g>\n",
       "<g clip-path=\"url(#clip0000)\">\n",
       "<text style=\"fill:#000000; fill-opacity:1; font-family:Arial,Helvetica Neue,Helvetica,sans-serif; font-size:48px; text-anchor:middle;\" transform=\"rotate(0, 2139, 1541.47)\" x=\"2139\" y=\"1541.47\">0</text>\n",
       "</g>\n",
       "<g clip-path=\"url(#clip0000)\">\n",
       "<text style=\"fill:#000000; fill-opacity:1; font-family:Arial,Helvetica Neue,Helvetica,sans-serif; font-size:48px; text-anchor:end;\" transform=\"rotate(0, 171.389, 1486.13)\" x=\"171.389\" y=\"1486.13\">-100</text>\n",
       "</g>\n",
       "<g clip-path=\"url(#clip0000)\">\n",
       "<text style=\"fill:#000000; fill-opacity:1; font-family:Arial,Helvetica Neue,Helvetica,sans-serif; font-size:48px; text-anchor:end;\" transform=\"rotate(0, 171.389, 1135.49)\" x=\"171.389\" y=\"1135.49\">-75</text>\n",
       "</g>\n",
       "<g clip-path=\"url(#clip0000)\">\n",
       "<text style=\"fill:#000000; fill-opacity:1; font-family:Arial,Helvetica Neue,Helvetica,sans-serif; font-size:48px; text-anchor:end;\" transform=\"rotate(0, 171.389, 784.859)\" x=\"171.389\" y=\"784.859\">-50</text>\n",
       "</g>\n",
       "<g clip-path=\"url(#clip0000)\">\n",
       "<text style=\"fill:#000000; fill-opacity:1; font-family:Arial,Helvetica Neue,Helvetica,sans-serif; font-size:48px; text-anchor:end;\" transform=\"rotate(0, 171.389, 434.225)\" x=\"171.389\" y=\"434.225\">-25</text>\n",
       "</g>\n",
       "<g clip-path=\"url(#clip0000)\">\n",
       "<text style=\"fill:#000000; fill-opacity:1; font-family:Arial,Helvetica Neue,Helvetica,sans-serif; font-size:48px; text-anchor:end;\" transform=\"rotate(0, 171.389, 83.5907)\" x=\"171.389\" y=\"83.5907\">0</text>\n",
       "</g>\n",
       "<polyline clip-path=\"url(#clip0002)\" style=\"stroke:#009af9; stroke-width:4; stroke-opacity:1; fill:none\" points=\"\n",
       "  2141.85,1446.71 2138.58,1402.88 2142.18,1359.05 2136.05,1315.23 2135.15,1271.4 2141.31,1227.57 2142.21,1183.74 2138.29,1139.91 2136.39,1096.08 2138.28,1052.25 \n",
       "  2146.78,1008.42 2145.87,964.591 2138.59,920.762 2133.57,876.933 2141.25,833.103 2136.63,789.274 2144.81,745.445 2142.65,701.615 2145.02,657.786 2137.69,613.957 \n",
       "  2142.19,570.128 2135.16,526.298 2144.73,482.469 2140.39,438.64 2254.58,394.81 2291.7,350.981 2158.54,307.152 1901.88,263.323 1470.91,219.493 1031.85,175.664 \n",
       "  637.619,131.835 256.447,88.0053 \n",
       "  \"/>\n",
       "<polyline clip-path=\"url(#clip0002)\" style=\"stroke:#e26f46; stroke-width:4; stroke-opacity:1; fill:none\" points=\"\n",
       "  2137.95,1446.71 2140.15,1402.88 2137.04,1359.05 2138.71,1315.23 2140.97,1271.4 2139.29,1227.57 2137.74,1183.74 2138.39,1139.91 2139.6,1096.08 2141.72,1052.25 \n",
       "  2138.71,1008.42 2136.67,964.591 2137.39,920.762 2141.46,876.933 2137.52,833.103 2141.62,789.274 2138.31,745.445 2139.76,701.615 2136.65,657.786 2140.44,613.957 \n",
       "  2136.75,570.128 2142.06,526.298 2137.61,482.469 2175.54,438.64 2150.88,394.81 2096.39,350.981 2056.87,307.152 2001.09,263.323 1998.5,219.493 2012.84,175.664 \n",
       "  2017.02,131.835 1431.49,88.0053 \n",
       "  \"/>\n",
       "<path clip-path=\"url(#clip0000)\" d=\"\n",
       "M267.389 1343.47 L723.943 1343.47 L723.943 1162.03 L267.389 1162.03  Z\n",
       "  \" fill=\"#ffffff\" fill-rule=\"evenodd\" fill-opacity=\"1\"/>\n",
       "<polyline clip-path=\"url(#clip0000)\" style=\"stroke:#000000; stroke-width:4; stroke-opacity:1; fill:none\" points=\"\n",
       "  267.389,1343.47 723.943,1343.47 723.943,1162.03 267.389,1162.03 267.389,1343.47 \n",
       "  \"/>\n",
       "<polyline clip-path=\"url(#clip0000)\" style=\"stroke:#009af9; stroke-width:4; stroke-opacity:1; fill:none\" points=\"\n",
       "  291.389,1222.51 435.389,1222.51 \n",
       "  \"/>\n",
       "<g clip-path=\"url(#clip0000)\">\n",
       "<text style=\"fill:#000000; fill-opacity:1; font-family:Arial,Helvetica Neue,Helvetica,sans-serif; font-size:48px; text-anchor:start;\" transform=\"rotate(0, 459.389, 1240.01)\" x=\"459.389\" y=\"1240.01\">wT (NN)</text>\n",
       "</g>\n",
       "<polyline clip-path=\"url(#clip0000)\" style=\"stroke:#e26f46; stroke-width:4; stroke-opacity:1; fill:none\" points=\"\n",
       "  291.389,1282.99 435.389,1282.99 \n",
       "  \"/>\n",
       "<g clip-path=\"url(#clip0000)\">\n",
       "<text style=\"fill:#000000; fill-opacity:1; font-family:Arial,Helvetica Neue,Helvetica,sans-serif; font-size:48px; text-anchor:start;\" transform=\"rotate(0, 459.389, 1300.49)\" x=\"459.389\" y=\"1300.49\">RHS (NN)</text>\n",
       "</g>\n",
       "</svg>\n"
      ]
     },
     "execution_count": 143,
     "metadata": {},
     "output_type": "execute_result"
    }
   ],
   "source": [
    "#####\n",
    "##### Compare output of wT_NN and dTdt_NN\n",
    "#####\n",
    "\n",
    "wT = wT_NN(Tₙ[:, 150]) |> Flux.data\n",
    "RHS = dTdt_NN(Tₙ[:, 150]) |> Flux.data\n",
    "\n",
    "plot(wT[2:cr+1], z_cs, label=\"wT (NN)\", legend=:bottomleft)\n",
    "plot!(RHS[2:cr+1], z_cs, label=\"RHS (NN)\")"
   ]
  },
  {
   "cell_type": "code",
   "execution_count": 144,
   "metadata": {},
   "outputs": [
    {
     "data": {
      "text/plain": [
       "loss_function (generic function with 1 method)"
      ]
     },
     "execution_count": 144,
     "metadata": {},
     "output_type": "execute_result"
    }
   ],
   "source": [
    "#####\n",
    "##### Define loss function for neural ODE\n",
    "#####\n",
    "\n",
    "tspan = (0.0, 600.0)  # 10 minutes\n",
    "neural_pde_prediction(T₀) = neural_ode(dTdt_NN, T₀, tspan, Tsit5(), reltol=1e-4, save_start=false, saveat=tspan[2])\n",
    "\n",
    "loss_function(Tₙ, Tₙ₊₁) = sum(abs2, Tₙ₊₁ .- neural_pde_prediction(Tₙ))"
   ]
  },
  {
   "cell_type": "code",
   "execution_count": 145,
   "metadata": {},
   "outputs": [
    {
     "data": {
      "text/plain": [
       "ADAM(0.1, (0.9, 0.999), IdDict{Any,Any}())"
      ]
     },
     "execution_count": 145,
     "metadata": {},
     "output_type": "execute_result"
    }
   ],
   "source": [
    "#####\n",
    "##### Choose optimization algorithm\n",
    "#####\n",
    "\n",
    "opt = ADAM(0.1)"
   ]
  },
  {
   "cell_type": "code",
   "execution_count": 147,
   "metadata": {},
   "outputs": [
    {
     "name": "stdout",
     "output_type": "stream",
     "text": [
      "train_loss = 0.001317229068283163 (tracked), test_loss = 0.5919061607977687\n"
     ]
    },
    {
     "data": {
      "text/plain": [
       "0.001317229068283163 (tracked)"
      ]
     },
     "execution_count": 147,
     "metadata": {},
     "output_type": "execute_result"
    }
   ],
   "source": [
    "#####\n",
    "##### Callback function to observe training.\n",
    "#####\n",
    "\n",
    "N_test = 32\n",
    "\n",
    "function cb()\n",
    "    train_loss = sum([loss_function(Tₙ[:, i], Tₙ₊₁[:, i]) for i in Ns])\n",
    "\n",
    "    nn_pred = neural_ode(dTdt_NN, Tₙ[:, 1], (t[1], t[N_test]), Tsit5(), saveat=t[1:N_test], reltol=1e-4) |> Flux.data\n",
    "    test_loss = sum(abs2, T_cs[:, 1:N_test] .- nn_pred)\n",
    "    \n",
    "    println(\"train_loss = $train_loss, test_loss = $test_loss\")\n",
    "    return train_loss\n",
    "end\n",
    "\n",
    "cb()"
   ]
  },
  {
   "cell_type": "code",
   "execution_count": 148,
   "metadata": {},
   "outputs": [
    {
     "name": "stderr",
     "output_type": "stream",
     "text": [
      "┌ Info: Epoch 1\n",
      "└ @ Main In[148]:12\n",
      "┌ Warning: Instability detected. Aborting\n",
      "└ @ DiffEqBase /home/alir/.julia/packages/DiffEqBase/E16PL/src/integrator_interface.jl:176\n"
     ]
    },
    {
     "ename": "DimensionMismatch",
     "evalue": "DimensionMismatch(\"arrays could not be broadcast to a common size; got a dimension with lengths 32 and 4\")",
     "output_type": "error",
     "traceback": [
      "DimensionMismatch(\"arrays could not be broadcast to a common size; got a dimension with lengths 32 and 4\")",
      "",
      "Stacktrace:",
      " [1] _bcs1 at ./broadcast.jl:490 [inlined]",
      " [2] _bcs at ./broadcast.jl:484 [inlined] (repeats 2 times)",
      " [3] broadcast_shape at ./broadcast.jl:478 [inlined]",
      " [4] combine_axes at /home/alir/.julia/packages/DiffEqBase/E16PL/src/diffeqfastbc.jl:18 [inlined]",
      " [5] instantiate at ./broadcast.jl:256 [inlined]",
      " [6] materialize(::Base.Broadcast.Broadcasted{Base.Broadcast.DefaultArrayStyle{2},Nothing,typeof(-),Tuple{Array{Float64,2},Array{Float64,2}}}) at ./broadcast.jl:819",
      " [7] cb() at ./In[147]:11",
      " [8] macro expansion at /home/alir/.julia/packages/Flux/dkJUV/src/optimise/train.jl:75 [inlined]",
      " [9] macro expansion at /home/alir/.julia/packages/Juno/oLB1d/src/progress.jl:134 [inlined]",
      " [10] #train!#12(::typeof(cb), ::typeof(Flux.Optimise.train!), ::Function, ::Tracker.Params, ::Array{Tuple{Array{Float64,1},Array{Float64,1}},1}, ::ADAM) at /home/alir/.julia/packages/Flux/dkJUV/src/optimise/train.jl:69",
      " [11] (::Flux.Optimise.var\"#kw##train!\")(::NamedTuple{(:cb,),Tuple{typeof(cb)}}, ::typeof(Flux.Optimise.train!), ::Function, ::Tracker.Params, ::Array{Tuple{Array{Float64,1},Array{Float64,1}},1}, ::ADAM) at ./none:0",
      " [12] top-level scope at ./In[148]:13"
     ]
    }
   ],
   "source": [
    "#####\n",
    "##### Train!\n",
    "#####\n",
    "\n",
    "epochs = 5\n",
    "best_loss = Inf\n",
    "last_improvement = 0\n",
    "\n",
    "for epoch_idx in 1:epochs\n",
    "    global best_loss, last_improvement\n",
    "\n",
    "    @info \"Epoch $epoch_idx\"\n",
    "    Flux.train!(loss_function, dTdt_NN_params, training_data, opt, cb=cb) # cb=Flux.throttle(cb, 10))\n",
    "    \n",
    "    loss = cb()\n",
    "\n",
    "    if loss <= best_loss\n",
    "        @info(\"Record low loss! Saving neural network out to dTdt_NN.bson\")\n",
    "        BSON.@save \"dTdt_NN.bson\" dTdt_NN\n",
    "        best_loss = loss\n",
    "        last_improvement = epoch_idx\n",
    "    end\n",
    "   \n",
    "    # If we haven't seen improvement in 2 epochs, drop our learning rate:\n",
    "    if epoch_idx - last_improvement >= 2 && opt.eta > 1e-6\n",
    "        opt.eta /= 2.0\n",
    "        @warn(\"Haven't improved in a while, dropping learning rate to $(opt.eta)\")\n",
    "\n",
    "        # After dropping learning rate, give it a few epochs to improve\n",
    "        last_improvement = epoch_idx\n",
    "    end\n",
    "end"
   ]
  },
  {
   "cell_type": "code",
   "execution_count": 106,
   "metadata": {},
   "outputs": [
    {
     "name": "stderr",
     "output_type": "stream",
     "text": [
      "┌ Info: Saved animation to \n",
      "│   fn = /home/alir/6S898-climate-parameterization/notebooks/deepening_mixed_layer_neural_PDE.gif\n",
      "└ @ Plots /home/alir/.julia/packages/Plots/Iuc9S/src/animation.jl:95\n"
     ]
    },
    {
     "data": {
      "text/html": [
       "<img src=\"deepening_mixed_layer_neural_PDE.gif\" />"
      ],
      "text/plain": [
       "Plots.AnimatedGif(\"/home/alir/6S898-climate-parameterization/notebooks/deepening_mixed_layer_neural_PDE.gif\")"
      ]
     },
     "execution_count": 106,
     "metadata": {},
     "output_type": "execute_result"
    }
   ],
   "source": [
    "#####\n",
    "##### Run the neural PDE forward to see how well it performs just by itself.\n",
    "#####\n",
    "\n",
    "nn_pred = neural_ode(dTdt_NN, Tₙ[:, 1], (t[1], t[N_test]), Tsit5(), saveat=t[1:N_test], reltol=1e-4) |> Flux.data\n",
    "\n",
    "anim = @animate for n=1:N_test\n",
    "    t_str = @sprintf(\"%.2f\", t[n] / 86400)\n",
    "    plot(T_cs[2:end-1, n], z_cs, linewidth=2,\n",
    "         xlim=(19, 20), ylim=(-100, 0), label=\"Data\",\n",
    "         xlabel=\"Temperature (C)\", ylabel=\"Depth (z)\",\n",
    "         title=\"Deepening mixed layer: $t_str days\",\n",
    "         legend=:bottomright, show=false)\n",
    "    plot!(nn_pred[2:end-1, n], z_cs, linewidth=2, label=\"Neural PDE\", show=false)\n",
    "end\n",
    "\n",
    "gif(anim, \"deepening_mixed_layer_neural_PDE.gif\", fps=15)"
   ]
  },
  {
   "cell_type": "code",
   "execution_count": null,
   "metadata": {},
   "outputs": [],
   "source": []
  }
 ],
 "metadata": {
  "kernelspec": {
   "display_name": "Julia 1.3.0",
   "language": "julia",
   "name": "julia-1.3"
  },
  "language_info": {
   "file_extension": ".jl",
   "mimetype": "application/julia",
   "name": "julia",
   "version": "1.3.0"
  }
 },
 "nbformat": 4,
 "nbformat_minor": 4
}
