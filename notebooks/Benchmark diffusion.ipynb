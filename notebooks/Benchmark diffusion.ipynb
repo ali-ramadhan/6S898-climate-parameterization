{
 "cells": [
  {
   "cell_type": "code",
   "execution_count": 1,
   "metadata": {},
   "outputs": [],
   "source": [
    "using LinearAlgebra\n",
    "using DifferentialEquations"
   ]
  },
  {
   "cell_type": "code",
   "execution_count": 59,
   "metadata": {},
   "outputs": [
    {
     "data": {
      "text/plain": [
       "0.0:0.0034482758620689655:0.1"
      ]
     },
     "execution_count": 59,
     "metadata": {},
     "output_type": "execute_result"
    }
   ],
   "source": [
    "N = 64\n",
    "L = 2\n",
    "Δx = L / N\n",
    "κ = 1\n",
    "\n",
    "x = range(-L/2, L/2, length=N)\n",
    "\n",
    "datasize = 30\n",
    "tspan = (0.0, 0.1)\n",
    "t = range(tspan[1], tspan[2], length=datasize)"
   ]
  },
  {
   "cell_type": "code",
   "execution_count": 60,
   "metadata": {},
   "outputs": [
    {
     "data": {
      "text/plain": [
       "diffusion! (generic function with 1 method)"
      ]
     },
     "execution_count": 60,
     "metadata": {},
     "output_type": "execute_result"
    }
   ],
   "source": [
    " d = -2 * ones(N)\n",
    "sd = ones(N-1)\n",
    "A = Array(Tridiagonal(sd, d, sd))\n",
    "A[1, N] = 1\n",
    "A[N, 1] = 1\n",
    "A_diffusion = (κ/Δx^2) .* A\n",
    "\n",
    "function diffusion!(∂u∂t, u, p, t)\n",
    "    ∂u∂t .= A_diffusion * u\n",
    "    return\n",
    "end"
   ]
  },
  {
   "cell_type": "code",
   "execution_count": 61,
   "metadata": {},
   "outputs": [],
   "source": [
    "u₀_ic = (@. exp(-50x^2));"
   ]
  },
  {
   "cell_type": "code",
   "execution_count": 62,
   "metadata": {},
   "outputs": [
    {
     "data": {
      "text/plain": [
       "\u001b[36mODEProblem\u001b[0m with uType \u001b[36mArray{Float64,1}\u001b[0m and tType \u001b[36mFloat64\u001b[0m. In-place: \u001b[36mtrue\u001b[0m\n",
       "timespan: (0.0, 0.1)\n",
       "u0: [1.92875e-22, 4.38636e-21, 9.01911e-20, 1.6767e-18, 2.81824e-17, 4.28283e-16, 5.88459e-15, 7.31025e-14, 8.2107e-13, 8.33795e-12  …  8.33795e-12, 8.2107e-13, 7.31025e-14, 5.88459e-15, 4.28283e-16, 2.81824e-17, 1.6767e-18, 9.01911e-20, 4.38636e-21, 1.92875e-22]"
      ]
     },
     "execution_count": 62,
     "metadata": {},
     "output_type": "execute_result"
    }
   ],
   "source": [
    "prob = ODEProblem(diffusion!, u₀_ic, tspan)"
   ]
  },
  {
   "cell_type": "code",
   "execution_count": 65,
   "metadata": {},
   "outputs": [
    {
     "name": "stdout",
     "output_type": "stream",
     "text": [
      "  0.002447 seconds (2.14 k allocations: 470.180 KiB)\n"
     ]
    }
   ],
   "source": [
    "@time solution = solve(prob, Tsit5(), saveat=t);"
   ]
  },
  {
   "cell_type": "code",
   "execution_count": null,
   "metadata": {},
   "outputs": [],
   "source": []
  }
 ],
 "metadata": {
  "kernelspec": {
   "display_name": "Julia latest",
   "language": "julia",
   "name": "julia-latest"
  },
  "language_info": {
   "file_extension": ".jl",
   "mimetype": "application/julia",
   "name": "julia",
   "version": "1.1.1"
  }
 },
 "nbformat": 4,
 "nbformat_minor": 2
}
