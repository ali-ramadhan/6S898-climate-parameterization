{
 "cells": [
  {
   "cell_type": "code",
   "execution_count": 123,
   "metadata": {},
   "outputs": [
    {
     "name": "stdout",
     "output_type": "stream",
     "text": [
      "loss(X, Y) = 709.12354f0 (tracked)\n"
     ]
    }
   ],
   "source": [
    "using JLD2, FileIO\n",
    "using Flux, Statistics\n",
    "using Flux: onehotbatch, onecold, crossentropy, throttle\n",
    "using Base.Iterators: repeated\n",
    "\n",
    "f = jldopen(\"../data/mixed_layer_simulation_Q-100_dTdz0.010_tau0.00_profiles.jld2\",\"r+\")\n",
    "timeseries_keys = keys(f[\"timeseries\"])\n",
    "\n",
    "temp_horizantal_averages = length(f[\"timeseries\"][\"T\"][\"0\"][:])\n",
    "\n",
    "X = zeros(length(keys(f[\"timeseries\"][\"w\"])),2,256)\n",
    "Y = rand(Float32,(256,length(keys(f[\"timeseries\"][\"w\"]))))\n",
    "\n",
    "count = 1\n",
    "for t_stamp in keys(f[\"timeseries\"][\"w\"])\n",
    "    X[count,1,:]=  f[\"timeseries\"][\"w\"][t_stamp][:]   #aren't you supposed to append or iterate on X????\n",
    "    X[count,2,:] = f[\"timeseries\"][\"wT\"][t_stamp][:]\n",
    "end\n",
    "\n",
    "X = reshape(X,(length(keys(f[\"timeseries\"][\"w\"])),512))'\n",
    "\n",
    "m = Chain(\n",
    "  Dense(256*2, 32, relu),\n",
    "  Dense(32, 256),\n",
    "  softmax)\n",
    "\n",
    "loss(x, y) = Flux.mse(m(x), y)\n",
    "opt = ADAM(); \n",
    "accuracy(x, y) = mean(Flux.mse(m(x), y))\n",
    "\n",
    "dataset = repeated((X,Y),200) \n",
    "evalcb = () -> @show(loss(X, Y)) \n",
    "Flux.train!(loss, params(m), dataset, opt, cb = throttle(evalcb, 10)); "
   ]
  },
  {
   "cell_type": "code",
   "execution_count": 124,
   "metadata": {},
   "outputs": [
    {
     "data": {
      "text/plain": [
       "0.005203816131830009"
      ]
     },
     "execution_count": 124,
     "metadata": {},
     "output_type": "execute_result"
    }
   ],
   "source": [
    "# Training set accuracy\n",
    "accuracy(X, Y)"
   ]
  },
  {
   "cell_type": "code",
   "execution_count": null,
   "metadata": {},
   "outputs": [],
   "source": []
  },
  {
   "cell_type": "code",
   "execution_count": null,
   "metadata": {},
   "outputs": [],
   "source": []
  }
 ],
 "metadata": {
  "kernelspec": {
   "display_name": "Julia 1.2.0",
   "language": "julia",
   "name": "julia-1.2"
  },
  "language_info": {
   "file_extension": ".jl",
   "mimetype": "application/julia",
   "name": "julia",
   "version": "1.2.0"
  }
 },
 "nbformat": 4,
 "nbformat_minor": 2
}
