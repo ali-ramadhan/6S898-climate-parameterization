{
 "cells": [
  {
   "cell_type": "code",
   "execution_count": 1,
   "metadata": {},
   "outputs": [],
   "source": [
    "using Printf\n",
    "using Statistics\n",
    "\n",
    "using Flux\n",
    "using DifferentialEquations\n",
    "using DiffEqFlux\n",
    "using LinearAlgebra\n",
    "using JLD2\n",
    "using Plots\n",
    "using Pkg\n",
    "\n",
    "using Flux: @epochs\n",
    "#ENV[\"GRDIR\"]=\"\"\n",
    "#Pkg.build(\"GR\")"
   ]
  },
  {
   "cell_type": "code",
   "execution_count": 2,
   "metadata": {},
   "outputs": [],
   "source": [
    "file = jldopen(\"../data/ocean_convection_profiles.jld2\");"
   ]
  },
  {
   "cell_type": "code",
   "execution_count": 3,
   "metadata": {},
   "outputs": [],
   "source": [
    "Is = keys(file[\"timeseries/t\"])\n",
    "\n",
    "Nz = file[\"grid/Nz\"]\n",
    "Nt = length(Is)\n",
    "\n",
    "t = zeros(Nt)\n",
    "T = T_data = zeros(Nt, Nz)\n",
    "\n",
    "for (i, I) in enumerate(Is)\n",
    "    t[i] = file[\"timeseries/t/$I\"]\n",
    "    T[i, :] = file[\"timeseries/T/$I\"][1, 1, 2:Nz+1]\n",
    "end"
   ]
  },
  {
   "cell_type": "code",
   "execution_count": 4,
   "metadata": {},
   "outputs": [
    {
     "data": {
      "text/plain": [
       "1×1×258 CartesianIndices{3,Tuple{Base.OneTo{Int64},Base.OneTo{Int64},Base.OneTo{Int64}}}:\n",
       "[:, :, 1] =\n",
       " CartesianIndex(1, 1, 1)\n",
       "\n",
       "[:, :, 2] =\n",
       " CartesianIndex(1, 1, 2)\n",
       "\n",
       "[:, :, 3] =\n",
       " CartesianIndex(1, 1, 3)\n",
       "\n",
       "...\n",
       "\n",
       "[:, :, 256] =\n",
       " CartesianIndex(1, 1, 256)\n",
       "\n",
       "[:, :, 257] =\n",
       " CartesianIndex(1, 1, 257)\n",
       "\n",
       "[:, :, 258] =\n",
       " CartesianIndex(1, 1, 258)"
      ]
     },
     "execution_count": 4,
     "metadata": {},
     "output_type": "execute_result"
    }
   ],
   "source": [
    "keys(file[\"timeseries/T/0\"])"
   ]
  },
  {
   "cell_type": "code",
   "execution_count": 5,
   "metadata": {},
   "outputs": [
    {
     "data": {
      "text/plain": [
       "256-element Array{Float64,1}:\n",
       " -99.8046875\n",
       " -99.4140625\n",
       " -99.0234375\n",
       " -98.6328125\n",
       " -98.2421875\n",
       " -97.8515625\n",
       " -97.4609375\n",
       " -97.0703125\n",
       " -96.6796875\n",
       " -96.2890625\n",
       " -95.8984375\n",
       " -95.5078125\n",
       " -95.1171875\n",
       "   ⋮        \n",
       "  -4.4921875\n",
       "  -4.1015625\n",
       "  -3.7109375\n",
       "  -3.3203125\n",
       "  -2.9296875\n",
       "  -2.5390625\n",
       "  -2.1484375\n",
       "  -1.7578125\n",
       "  -1.3671875\n",
       "  -0.9765625\n",
       "  -0.5859375\n",
       "  -0.1953125"
      ]
     },
     "execution_count": 5,
     "metadata": {},
     "output_type": "execute_result"
    }
   ],
   "source": [
    "z = file[\"grid/zC\"]"
   ]
  },
  {
   "cell_type": "code",
   "execution_count": 6,
   "metadata": {},
   "outputs": [
    {
     "data": {
      "text/html": [
       "<img src=\"tmp.gif\" />"
      ],
      "text/plain": [
       "Plots.AnimatedGif(\"C:\\\\Users\\\\daddyj\\\\Documents\\\\6S898-climate-parameterization\\\\notebooks\\\\tmp.gif\")"
      ]
     },
     "metadata": {},
     "output_type": "display_data"
    },
    {
     "name": "stderr",
     "output_type": "stream",
     "text": [
      "┌ Info: Saved animation to \n",
      "│   fn = C:\\Users\\daddyj\\Documents\\6S898-climate-parameterization\\notebooks\\tmp.gif\n",
      "└ @ Plots C:\\Users\\daddyj\\.julia\\packages\\Plots\\Iuc9S\\src\\animation.jl:95\n"
     ]
    }
   ],
   "source": [
    "\n",
    "anim = @gif for n=1:10:Nt\n",
    "    t_str = @sprintf(\"%.2f\", t[n] / 86400)\n",
    "    plot(T[n, :], z, linewidth=2,\n",
    "         xlim=(19, 20), ylim=(-100, 0), label=\"\",\n",
    "         xlabel=\"Temperature (C)\", ylabel=\"Depth (z)\",\n",
    "         title=\"Free convection: $t_str days\", show=false)\n",
    "end\n",
    "\n",
    "display(anim)"
   ]
  },
  {
   "cell_type": "code",
   "execution_count": 7,
   "metadata": {},
   "outputs": [
    {
     "data": {
      "text/plain": [
       "coarse_grain (generic function with 1 method)"
      ]
     },
     "execution_count": 7,
     "metadata": {},
     "output_type": "execute_result"
    }
   ],
   "source": [
    "function coarse_grain(data, resolution)\n",
    "    @assert length(data) % resolution == 0\n",
    "    s = length(data) / resolution\n",
    "    \n",
    "    data_cs = zeros(resolution)\n",
    "    for i in 1:resolution\n",
    "        t = data[Int((i-1)*s+1):Int(i*s)]\n",
    "        data_cs[i] = mean(t)\n",
    "    end\n",
    "    \n",
    "    return data_cs\n",
    "end"
   ]
  },
  {
   "cell_type": "code",
   "execution_count": 8,
   "metadata": {},
   "outputs": [],
   "source": [
    "coarse_resolution = cr = 32\n",
    "T_cs = zeros(Nt, coarse_resolution)\n",
    "for n=1:Nt\n",
    "    T_cs[n, :] = coarse_grain(T[n, :], coarse_resolution)\n",
    "end\n",
    "\n",
    "T_cs = transpose(T_cs) |> Array;\n",
    "\n",
    "w_cs = zeros(Nt, coarse_resolution)\n",
    "for n=1:Nt\n",
    "    w_cs[n,:] = coarse_grain(T[n,:],coarse_resolution)\n",
    "end\n",
    "w_cs = transpose(w_cs) |> Array;"
   ]
  },
  {
   "cell_type": "code",
   "execution_count": 9,
   "metadata": {},
   "outputs": [
    {
     "data": {
      "text/plain": [
       "0"
      ]
     },
     "execution_count": 9,
     "metadata": {},
     "output_type": "execute_result"
    }
   ],
   "source": [
    "cr_z = Nt/cr\n",
    "Dzᶠ = 1/cr_z * Tridiagonal(-ones(cr-1), ones(cr), zeros(cr-1))\n",
    "Dzᶜ = 1/cr_z * Tridiagonal(zeros(cr-1), -ones(cr), ones(cr-1))\n",
    "Dzᶠ[1, 1] = 0\n",
    "Dzᶜ[cr, cr] = 0"
   ]
  },
  {
   "cell_type": "code",
   "execution_count": 10,
   "metadata": {},
   "outputs": [
    {
     "data": {
      "text/plain": [
       "8352"
      ]
     },
     "execution_count": 10,
     "metadata": {},
     "output_type": "execute_result"
    }
   ],
   "source": [
    "ann = Chain(Dense(cr, 2cr, tanh),\n",
    "            Dense(2cr, 2cr, tanh),\n",
    "                Dense(2cr, cr))\n",
    "\n",
    "n_ann = 2*cr^2 + 2cr + 4*cr^2+2cr+2*cr^2+cr\n"
   ]
  },
  {
   "cell_type": "code",
   "execution_count": 14,
   "metadata": {},
   "outputs": [
    {
     "data": {
      "text/plain": [
       "(0.0, 3.993078849612772)"
      ]
     },
     "execution_count": 14,
     "metadata": {},
     "output_type": "execute_result"
    }
   ],
   "source": [
    "function dTdt_NN(du,u,p,t)\n",
    "    T = u\n",
    "    du = DiffEqFlux.restructure(ann,p[1:n_ann])(u)\n",
    "end\n",
    "\n",
    "foretold(u::Array{Float64,1},p::Array{Float64,1},t) = Dzᶜ*(ann(u).*(Dzᶠ*u))\n",
    "\n",
    "p1 = Flux.data(DiffEqFlux.destructure(ann))\n",
    "T₀ = T_cs[:, 1]\n",
    "ps = Flux.params(ann,T₀)\n",
    "\n",
    "n_train = round(Int, Nt/2)\n",
    "t_train = t[1:n_train] ./ 86400\n",
    "tspan_train = (t_train[1], t_train[end])"
   ]
  },
  {
   "cell_type": "code",
   "execution_count": 15,
   "metadata": {},
   "outputs": [
    {
     "data": {
      "text/plain": [
       "32-element Array{Float64,1}:\n",
       " 0.0                  \n",
       " 0.0008673026886383273\n",
       " 0.0008673026886383273\n",
       " 0.0008673026886383273\n",
       " 0.0008673026886383273\n",
       " 0.0008673026886382162\n",
       " 0.0008673026886383273\n",
       " 0.0008673026886385493\n",
       " 0.0008673026886383273\n",
       " 0.0008673026886387714\n",
       " 0.0008673026886374391\n",
       " 0.0008673026886383273\n",
       " 0.0008673026886387714\n",
       " ⋮                    \n",
       " 0.0008673026886386603\n",
       " 0.0008673026886384383\n",
       " 0.0008673026886377722\n",
       " 0.000867302688637106 \n",
       " 0.0008673026886377722\n",
       " 0.0008673026886364399\n",
       " 0.0008673026886432122\n",
       " 0.0008673026886376611\n",
       " 0.0008673026886394375\n",
       " 0.000867302688637106 \n",
       " 0.0008673026886423241\n",
       " 0.0008673026886402146"
      ]
     },
     "execution_count": 15,
     "metadata": {},
     "output_type": "execute_result"
    }
   ],
   "source": [
    "u = T₀\n",
    "Dzᶠ*u"
   ]
  },
  {
   "cell_type": "code",
   "execution_count": 16,
   "metadata": {},
   "outputs": [
    {
     "data": {
      "text/plain": [
       "Params([Float32[0.20073187 0.1302979 … -0.038915932 0.010187089; -0.076903105 -0.005175829 … -0.16207802 0.05962795; … ; 0.21402717 -0.21143895 … -0.075412035 -0.18205726; 0.046816707 -0.110325396 … 0.20571941 -0.24642944] (tracked), Float32[0.0, 0.0, 0.0, 0.0, 0.0, 0.0, 0.0, 0.0, 0.0, 0.0  …  0.0, 0.0, 0.0, 0.0, 0.0, 0.0, 0.0, 0.0, 0.0, 0.0] (tracked), Float32[-0.03536685 0.00016931076 … 0.19197507 0.05285273; -0.062483467 -0.11126711 … 0.08967395 -0.052125726; … ; -0.08816853 -0.13742511 … 0.0010865312 -0.1627027; -0.13865845 -0.105989985 … 0.06403664 -0.14208084] (tracked), Float32[0.0, 0.0, 0.0, 0.0, 0.0, 0.0, 0.0, 0.0, 0.0, 0.0  …  0.0, 0.0, 0.0, 0.0, 0.0, 0.0, 0.0, 0.0, 0.0, 0.0] (tracked), Float32[-0.12380403 0.21538436 … 0.20699781 0.19908774; -0.15590972 -0.100210786 … -0.1958363 -0.09916198; … ; 0.1042552 -0.19593686 … 0.21571916 -0.1138947; -0.0094794035 -0.2467292 … -0.07204455 -0.24131268] (tracked), Float32[0.0, 0.0, 0.0, 0.0, 0.0, 0.0, 0.0, 0.0, 0.0, 0.0  …  0.0, 0.0, 0.0, 0.0, 0.0, 0.0, 0.0, 0.0, 0.0, 0.0] (tracked)])"
      ]
     },
     "execution_count": 16,
     "metadata": {},
     "output_type": "execute_result"
    }
   ],
   "source": [
    "ps"
   ]
  },
  {
   "cell_type": "code",
   "execution_count": 19,
   "metadata": {},
   "outputs": [
    {
     "ename": "MethodError",
     "evalue": "MethodError: no method matching promote_tspan(::Array{Float32,1})\nClosest candidates are:\n  promote_tspan(!Matched::Nothing) at C:\\Users\\daddyj\\.julia\\packages\\DiffEqBase\\E16PL\\src\\problems\\problem_utils.jl:13\n  promote_tspan(!Matched::Tuple{T,T}) where T at C:\\Users\\daddyj\\.julia\\packages\\DiffEqBase\\E16PL\\src\\problems\\problem_utils.jl:7\n  promote_tspan(!Matched::Tuple{T1,T2}) where {T1, T2} at C:\\Users\\daddyj\\.julia\\packages\\DiffEqBase\\E16PL\\src\\problems\\problem_utils.jl:9\n  ...",
     "output_type": "error",
     "traceback": [
      "MethodError: no method matching promote_tspan(::Array{Float32,1})\nClosest candidates are:\n  promote_tspan(!Matched::Nothing) at C:\\Users\\daddyj\\.julia\\packages\\DiffEqBase\\E16PL\\src\\problems\\problem_utils.jl:13\n  promote_tspan(!Matched::Tuple{T,T}) where T at C:\\Users\\daddyj\\.julia\\packages\\DiffEqBase\\E16PL\\src\\problems\\problem_utils.jl:7\n  promote_tspan(!Matched::Tuple{T1,T2}) where {T1, T2} at C:\\Users\\daddyj\\.julia\\packages\\DiffEqBase\\E16PL\\src\\problems\\problem_utils.jl:9\n  ...",
      "",
      "Stacktrace:",
      " [1] (::getfield(DiffEqBase, Symbol(\"##call#203#208\")))(::Base.Iterators.Pairs{Symbol,Array{Int64,1},Tuple{Symbol},NamedTuple{(:saveat,),Tuple{Array{Int64,1}}}}, ::Type{ODEProblem{true,tType,isinplace,P,F,K,PT} where PT where K where F where P where isinplace where tType}, ::ODEFunction{true,typeof(dTdt_NN),UniformScaling{Bool},Nothing,Nothing,Nothing,Nothing,Nothing,Nothing,Nothing,Nothing,Nothing}, ::Array{Float64,1}, ::Array{Float32,1}, ::DiffEqBase.NullParameters, ::DiffEqBase.StandardODEProblem) at C:\\Users\\daddyj\\.julia\\packages\\DiffEqBase\\E16PL\\src\\problems\\ode_problems.jl:34",
      " [2] (::getfield(Core, Symbol(\"#kw#Type\")))(::NamedTuple{(:saveat,),Tuple{Array{Int64,1}}}, ::Type{ODEProblem{true,tType,isinplace,P,F,K,PT} where PT where K where F where P where isinplace where tType}, ::ODEFunction{true,typeof(dTdt_NN),UniformScaling{Bool},Nothing,Nothing,Nothing,Nothing,Nothing,Nothing,Nothing,Nothing,Nothing}, ::Array{Float64,1}, ::Array{Float32,1}, ::DiffEqBase.NullParameters, ::DiffEqBase.StandardODEProblem) at .\\none:0 (repeats 2 times)",
      " [3] #ODEProblem#213(::Base.Iterators.Pairs{Symbol,Array{Int64,1},Tuple{Symbol},NamedTuple{(:saveat,),Tuple{Array{Int64,1}}}}, ::Type{ODEProblem}, ::ODEFunction{true,typeof(dTdt_NN),UniformScaling{Bool},Nothing,Nothing,Nothing,Nothing,Nothing,Nothing,Nothing,Nothing,Nothing}, ::Array{Float64,1}, ::Array{Float32,1}, ::DiffEqBase.NullParameters) at C:\\Users\\daddyj\\.julia\\packages\\DiffEqBase\\E16PL\\src\\problems\\ode_problems.jl:72",
      " [4] (::getfield(Core, Symbol(\"#kw#Type\")))(::NamedTuple{(:saveat,),Tuple{Array{Int64,1}}}, ::Type{ODEProblem}, ::ODEFunction{true,typeof(dTdt_NN),UniformScaling{Bool},Nothing,Nothing,Nothing,Nothing,Nothing,Nothing,Nothing,Nothing,Nothing}, ::Array{Float64,1}, ::Array{Float32,1}, ::DiffEqBase.NullParameters) at .\\none:0",
      " [5] #ODEProblem#214(::Base.Iterators.Pairs{Symbol,Array{Int64,1},Tuple{Symbol},NamedTuple{(:saveat,),Tuple{Array{Int64,1}}}}, ::Type{ODEProblem}, ::Function, ::Array{Float64,1}, ::Array{Float32,1}, ::DiffEqBase.NullParameters) at C:\\Users\\daddyj\\.julia\\packages\\DiffEqBase\\E16PL\\src\\problems\\ode_problems.jl:76",
      " [6] (::getfield(Core, Symbol(\"#kw#Type\")))(::NamedTuple{(:saveat,),Tuple{Array{Int64,1}}}, ::Type{ODEProblem}, ::Function, ::Array{Float64,1}, ::Array{Float32,1}, ::DiffEqBase.NullParameters) at .\\none:0 (repeats 2 times)",
      " [7] top-level scope at In[19]:1"
     ]
    }
   ],
   "source": [
    "prob = ODEProblem(dTdt_NN,T₀,saveat = [1,100],p1)\n",
    "#prob2 = ODEProblem(f,T₀,tspan_train,p1)\n",
    "s = diffeq_adjoint(p1,prob,Tsit5(),u0=T₀,abstol=1e-8,reltol=1e-6)\n",
    "println(s[1:5])\n",
    "Flux.Tracker.collect(s)"
   ]
  },
  {
   "cell_type": "code",
   "execution_count": 84,
   "metadata": {},
   "outputs": [
    {
     "data": {
      "text/plain": [
       "predict_adjoint (generic function with 2 methods)"
      ]
     },
     "execution_count": 84,
     "metadata": {},
     "output_type": "execute_result"
    }
   ],
   "source": [
    "function predict_adjoint(T₀)\n",
    "  Flux.Tracker.collect(diffeq_adjoint(p1,prob,Tsit5(),u0=T₀,saveat=t_train,reltol=1e-6, abstol=1e-8))\n",
    "end\n",
    "\n",
    "#neural_pde_prediction(T₀) = neural_ode(dTdt_NN, T₀, tspan_train, Tsit5(), saveat=t_train, reltol=1e-7, abstol=1e-9)"
   ]
  },
  {
   "cell_type": "code",
   "execution_count": 90,
   "metadata": {},
   "outputs": [
    {
     "data": {
      "text/plain": [
       "loss_function (generic function with 1 method)"
      ]
     },
     "execution_count": 90,
     "metadata": {},
     "output_type": "execute_result"
    }
   ],
   "source": [
    "opt = ADAM(0.1)\n",
    "\n",
    "data = Iterators.repeated((T₀, T_cs[:, 1:n_train]), 1000)\n",
    "data = [(T₀, T_cs[:, 1:n_train])]\n",
    "\n",
    "loss_function(T₀, T_da) = sum(abs2, T_da .- predict_adjoint(T₀))"
   ]
  },
  {
   "cell_type": "code",
   "execution_count": 93,
   "metadata": {},
   "outputs": [
    {
     "data": {
      "text/plain": [
       "#33 (generic function with 1 method)"
      ]
     },
     "execution_count": 93,
     "metadata": {},
     "output_type": "execute_result"
    }
   ],
   "source": [
    "# Callback function to observe training.\n",
    "cb = function ()\n",
    "    #println(ps)\n",
    "    println(DiffEqFlux.destructure(ann)[1:10])\n",
    "    loss = loss_function(T₀, T_cs[:, 1:n_train]) # Not very generalizable...\n",
    "    println(\"loss = $loss\")\n",
    "    loss < 10 && Flux.stop()\n",
    "end"
   ]
  },
  {
   "cell_type": "code",
   "execution_count": 1,
   "metadata": {},
   "outputs": [
    {
     "ename": "UndefVarError",
     "evalue": "UndefVarError: cb not defined",
     "output_type": "error",
     "traceback": [
      "UndefVarError: cb not defined",
      "",
      "Stacktrace:",
      " [1] top-level scope at .\\In[1]:2"
     ]
    }
   ],
   "source": [
    "for i in 1:20\n",
    "    Flux.train!(loss_function, ps, data, opt, cb = cb)\n",
    "end"
   ]
  },
  {
   "cell_type": "code",
   "execution_count": 19,
   "metadata": {},
   "outputs": [
    {
     "name": "stdout",
     "output_type": "stream",
     "text": [
      "loss = 180.21361539083918 (tracked)\n",
      "loss = 180.21361539083918 (tracked)\n",
      "loss = 180.21361539083918 (tracked)\n",
      "loss = 180.21361539083918 (tracked)\n",
      "loss = 180.21361539083918 (tracked)\n",
      "loss = 180.21361539083918 (tracked)\n",
      "loss = 180.21361539083918 (tracked)\n",
      "loss = 180.21361539083918 (tracked)\n",
      "loss = 180.21361539083918 (tracked)\n",
      "loss = 180.21361539083918 (tracked)\n",
      "loss = 180.21361539083918 (tracked)\n",
      "loss = 180.21361539083918 (tracked)\n",
      "loss = 180.21361539083918 (tracked)\n",
      "loss = 180.21361539083918 (tracked)\n",
      "loss = 180.21361539083918 (tracked)\n",
      "loss = 180.21361539083918 (tracked)\n",
      "loss = 180.21361539083918 (tracked)\n",
      "loss = 180.21361539083918 (tracked)\n",
      "loss = 180.21361539083918 (tracked)\n",
      "loss = 180.21361539083918 (tracked)\n",
      "loss = 180.21361539083918 (tracked)\n",
      "loss = 180.21361539083918 (tracked)\n",
      "loss = 180.21361539083918 (tracked)\n",
      "loss = 180.21361539083918 (tracked)\n",
      "loss = 180.21361539083918 (tracked)\n",
      "loss = 180.21361539083918 (tracked)\n",
      "loss = 180.21361539083918 (tracked)\n",
      "loss = 180.21361539083918 (tracked)\n",
      "loss = 180.21361539083918 (tracked)\n",
      "loss = 180.21361539083918 (tracked)\n",
      "loss = 180.21361539083918 (tracked)\n",
      "loss = 180.21361539083918 (tracked)\n",
      "loss = 180.21361539083918 (tracked)\n",
      "loss = 180.21361539083918 (tracked)\n",
      "loss = 180.21361539083918 (tracked)\n",
      "loss = 180.21361539083918 (tracked)\n",
      "loss = 180.21361539083918 (tracked)\n",
      "loss = 180.21361539083918 (tracked)\n",
      "loss = 180.21361539083918 (tracked)\n",
      "loss = 180.21361539083918 (tracked)\n",
      "loss = 180.21361539083918 (tracked)\n",
      "loss = 180.21361539083918 (tracked)\n",
      "loss = 180.21361539083918 (tracked)\n",
      "loss = 180.21361539083918 (tracked)\n",
      "loss = 180.21361539083918 (tracked)\n",
      "loss = 180.21361539083918 (tracked)\n",
      "loss = 180.21361539083918 (tracked)\n",
      "loss = 180.21361539083918 (tracked)\n",
      "loss = 180.21361539083918 (tracked)\n",
      "loss = 180.21361539083918 (tracked)\n",
      "loss = 180.21361539083918 (tracked)\n",
      "loss = 180.21361539083918 (tracked)\n",
      "loss = 180.21361539083918 (tracked)\n",
      "loss = 180.21361539083918 (tracked)\n",
      "loss = 180.21361539083918 (tracked)\n",
      "loss = 180.21361539083918 (tracked)\n",
      "loss = 180.21361539083918 (tracked)\n",
      "loss = 180.21361539083918 (tracked)\n",
      "loss = 180.21361539083918 (tracked)\n",
      "loss = 180.21361539083918 (tracked)\n",
      "loss = 180.21361539083918 (tracked)\n",
      "loss = 180.21361539083918 (tracked)\n",
      "loss = 180.21361539083918 (tracked)\n",
      "loss = 180.21361539083918 (tracked)\n",
      "loss = 180.21361539083918 (tracked)\n",
      "loss = 180.21361539083918 (tracked)\n",
      "loss = 180.21361539083918 (tracked)\n",
      "loss = 180.21361539083918 (tracked)\n",
      "loss = 180.21361539083918 (tracked)\n",
      "loss = 180.21361539083918 (tracked)\n",
      "loss = 180.21361539083918 (tracked)\n",
      "loss = 180.21361539083918 (tracked)\n",
      "loss = 180.21361539083918 (tracked)\n",
      "loss = 180.21361539083918 (tracked)\n",
      "loss = 180.21361539083918 (tracked)\n",
      "loss = 180.21361539083918 (tracked)\n",
      "loss = 180.21361539083918 (tracked)\n",
      "loss = 180.21361539083918 (tracked)\n",
      "loss = 180.21361539083918 (tracked)\n",
      "loss = 180.21361539083918 (tracked)\n",
      "loss = 180.21361539083918 (tracked)\n",
      "loss = 180.21361539083918 (tracked)\n",
      "loss = 180.21361539083918 (tracked)\n",
      "loss = 180.21361539083918 (tracked)\n",
      "loss = 180.21361539083918 (tracked)\n",
      "loss = 180.21361539083918 (tracked)\n",
      "loss = 180.21361539083918 (tracked)\n",
      "loss = 180.21361539083918 (tracked)\n",
      "loss = 180.21361539083918 (tracked)\n",
      "loss = 180.21361539083918 (tracked)\n",
      "loss = 180.21361539083918 (tracked)\n",
      "loss = 180.21361539083918 (tracked)\n",
      "loss = 180.21361539083918 (tracked)\n",
      "loss = 180.21361539083918 (tracked)\n",
      "loss = 180.21361539083918 (tracked)\n",
      "loss = 180.21361539083918 (tracked)\n",
      "loss = 180.21361539083918 (tracked)\n",
      "loss = 180.21361539083918 (tracked)\n",
      "loss = 180.21361539083918 (tracked)\n",
      "loss = 180.21361539083918 (tracked)\n",
      "loss = 180.21361539083918 (tracked)\n",
      "loss = 180.21361539083918 (tracked)\n",
      "loss = 180.21361539083918 (tracked)\n",
      "loss = 180.21361539083918 (tracked)\n",
      "loss = 180.21361539083918 (tracked)\n",
      "loss = 180.21361539083918 (tracked)\n",
      "loss = 180.21361539083918 (tracked)\n",
      "loss = 180.21361539083918 (tracked)\n",
      "loss = 180.21361539083918 (tracked)\n",
      "loss = 180.21361539083918 (tracked)\n",
      "loss = 180.21361539083918 (tracked)\n",
      "loss = 180.21361539083918 (tracked)\n",
      "loss = 180.21361539083918 (tracked)\n",
      "loss = 180.21361539083918 (tracked)\n",
      "loss = 180.21361539083918 (tracked)\n",
      "loss = 180.21361539083918 (tracked)\n",
      "loss = 180.21361539083918 (tracked)\n",
      "loss = 180.21361539083918 (tracked)\n",
      "loss = 180.21361539083918 (tracked)\n",
      "loss = 180.21361539083918 (tracked)\n",
      "loss = 180.21361539083918 (tracked)\n",
      "loss = 180.21361539083918 (tracked)\n",
      "loss = 180.21361539083918 (tracked)\n",
      "loss = 180.21361539083918 (tracked)\n",
      "loss = 180.21361539083918 (tracked)\n",
      "loss = 180.21361539083918 (tracked)\n",
      "loss = 180.21361539083918 (tracked)\n",
      "loss = 180.21361539083918 (tracked)\n",
      "loss = 180.21361539083918 (tracked)\n",
      "loss = 180.21361539083918 (tracked)\n",
      "loss = 180.21361539083918 (tracked)\n",
      "loss = 180.21361539083918 (tracked)\n",
      "loss = 180.21361539083918 (tracked)\n",
      "loss = 180.21361539083918 (tracked)\n",
      "loss = 180.21361539083918 (tracked)\n",
      "loss = 180.21361539083918 (tracked)\n",
      "loss = 180.21361539083918 (tracked)\n",
      "loss = 180.21361539083918 (tracked)\n",
      "loss = 180.21361539083918 (tracked)\n",
      "loss = 180.21361539083918 (tracked)\n",
      "loss = 180.21361539083918 (tracked)\n",
      "loss = 180.21361539083918 (tracked)\n",
      "loss = 180.21361539083918 (tracked)\n",
      "loss = 180.21361539083918 (tracked)\n",
      "loss = 180.21361539083918 (tracked)\n",
      "loss = 180.21361539083918 (tracked)\n",
      "loss = 180.21361539083918 (tracked)\n",
      "loss = 180.21361539083918 (tracked)\n",
      "loss = 180.21361539083918 (tracked)\n",
      "loss = 180.21361539083918 (tracked)\n",
      "loss = 180.21361539083918 (tracked)\n",
      "loss = 180.21361539083918 (tracked)\n",
      "loss = 180.21361539083918 (tracked)\n",
      "loss = 180.21361539083918 (tracked)\n",
      "loss = 180.21361539083918 (tracked)\n",
      "loss = 180.21361539083918 (tracked)\n",
      "loss = 180.21361539083918 (tracked)\n",
      "loss = 180.21361539083918 (tracked)\n",
      "loss = 180.21361539083918 (tracked)\n",
      "loss = 180.21361539083918 (tracked)\n",
      "loss = 180.21361539083918 (tracked)\n",
      "loss = 180.21361539083918 (tracked)\n",
      "loss = 180.21361539083918 (tracked)\n",
      "loss = 180.21361539083918 (tracked)\n",
      "loss = 180.21361539083918 (tracked)\n",
      "loss = 180.21361539083918 (tracked)\n",
      "loss = 180.21361539083918 (tracked)\n",
      "loss = 180.21361539083918 (tracked)\n",
      "loss = 180.21361539083918 (tracked)\n",
      "loss = 180.21361539083918 (tracked)\n",
      "loss = 180.21361539083918 (tracked)\n",
      "loss = 180.21361539083918 (tracked)\n",
      "loss = 180.21361539083918 (tracked)\n",
      "loss = 180.21361539083918 (tracked)\n",
      "loss = 180.21361539083918 (tracked)\n",
      "loss = 180.21361539083918 (tracked)\n",
      "loss = 180.21361539083918 (tracked)\n",
      "loss = 180.21361539083918 (tracked)\n",
      "loss = 180.21361539083918 (tracked)\n",
      "loss = 180.21361539083918 (tracked)\n",
      "loss = 180.21361539083918 (tracked)\n",
      "loss = 180.21361539083918 (tracked)\n",
      "loss = 180.21361539083918 (tracked)\n",
      "loss = 180.21361539083918 (tracked)\n",
      "loss = 180.21361539083918 (tracked)\n",
      "loss = 180.21361539083918 (tracked)\n",
      "loss = 180.21361539083918 (tracked)\n",
      "loss = 180.21361539083918 (tracked)\n",
      "loss = 180.21361539083918 (tracked)\n",
      "loss = 180.21361539083918 (tracked)\n",
      "loss = 180.21361539083918 (tracked)\n",
      "loss = 180.21361539083918 (tracked)\n",
      "loss = 180.21361539083918 (tracked)\n",
      "loss = 180.21361539083918 (tracked)\n",
      "loss = 180.21361539083918 (tracked)\n",
      "loss = 180.21361539083918 (tracked)\n",
      "loss = 180.21361539083918 (tracked)\n",
      "loss = 180.21361539083918 (tracked)\n",
      "loss = 180.21361539083918 (tracked)\n",
      "loss = 180.21361539083918 (tracked)\n",
      "loss = 180.21361539083918 (tracked)\n",
      "loss = 180.21361539083918 (tracked)\n",
      "loss = 180.21361539083918 (tracked)\n",
      "loss = 180.21361539083918 (tracked)\n",
      "loss = 180.21361539083918 (tracked)\n",
      "loss = 180.21361539083918 (tracked)\n",
      "loss = 180.21361539083918 (tracked)\n",
      "loss = 180.21361539083918 (tracked)\n",
      "loss = 180.21361539083918 (tracked)\n",
      "loss = 180.21361539083918 (tracked)\n",
      "loss = 180.21361539083918 (tracked)\n",
      "loss = 180.21361539083918 (tracked)\n",
      "loss = 180.21361539083918 (tracked)\n",
      "loss = 180.21361539083918 (tracked)\n",
      "loss = 180.21361539083918 (tracked)\n",
      "loss = 180.21361539083918 (tracked)\n",
      "loss = 180.21361539083918 (tracked)\n",
      "loss = 180.21361539083918 (tracked)\n",
      "loss = 180.21361539083918 (tracked)\n",
      "loss = 180.21361539083918 (tracked)\n",
      "loss = 180.21361539083918 (tracked)\n",
      "loss = 180.21361539083918 (tracked)\n",
      "loss = 180.21361539083918 (tracked)\n",
      "loss = 180.21361539083918 (tracked)\n",
      "loss = 180.21361539083918 (tracked)\n",
      "loss = 180.21361539083918 (tracked)\n",
      "loss = 180.21361539083918 (tracked)\n",
      "loss = 180.21361539083918 (tracked)\n",
      "loss = 180.21361539083918 (tracked)\n",
      "loss = 180.21361539083918 (tracked)\n",
      "loss = 180.21361539083918 (tracked)\n",
      "loss = 180.21361539083918 (tracked)\n",
      "loss = 180.21361539083918 (tracked)\n",
      "loss = 180.21361539083918 (tracked)\n",
      "loss = 180.21361539083918 (tracked)\n",
      "loss = 180.21361539083918 (tracked)\n",
      "loss = 180.21361539083918 (tracked)\n",
      "loss = 180.21361539083918 (tracked)\n",
      "loss = 180.21361539083918 (tracked)\n",
      "loss = 180.21361539083918 (tracked)\n",
      "loss = 180.21361539083918 (tracked)\n",
      "loss = 180.21361539083918 (tracked)\n",
      "loss = 180.21361539083918 (tracked)\n",
      "loss = 180.21361539083918 (tracked)\n",
      "loss = 180.21361539083918 (tracked)\n",
      "loss = 180.21361539083918 (tracked)\n",
      "loss = 180.21361539083918 (tracked)\n",
      "loss = 180.21361539083918 (tracked)\n",
      "loss = 180.21361539083918 (tracked)\n",
      "loss = 180.21361539083918 (tracked)\n",
      "loss = 180.21361539083918 (tracked)\n",
      "loss = 180.21361539083918 (tracked)\n",
      "loss = 180.21361539083918 (tracked)\n",
      "loss = 180.21361539083918 (tracked)\n",
      "loss = 180.21361539083918 (tracked)\n",
      "loss = 180.21361539083918 (tracked)\n",
      "loss = 180.21361539083918 (tracked)\n",
      "loss = 180.21361539083918 (tracked)\n",
      "loss = 180.21361539083918 (tracked)\n",
      "loss = 180.21361539083918 (tracked)\n",
      "loss = 180.21361539083918 (tracked)\n",
      "loss = 180.21361539083918 (tracked)\n",
      "loss = 180.21361539083918 (tracked)\n",
      "loss = 180.21361539083918 (tracked)\n",
      "loss = 180.21361539083918 (tracked)\n",
      "loss = 180.21361539083918 (tracked)\n",
      "loss = 180.21361539083918 (tracked)\n",
      "loss = 180.21361539083918 (tracked)\n",
      "loss = 180.21361539083918 (tracked)\n",
      "loss = 180.21361539083918 (tracked)\n",
      "loss = 180.21361539083918 (tracked)\n",
      "loss = 180.21361539083918 (tracked)\n",
      "loss = 180.21361539083918 (tracked)\n",
      "loss = 180.21361539083918 (tracked)\n",
      "loss = 180.21361539083918 (tracked)\n",
      "loss = 180.21361539083918 (tracked)\n",
      "loss = 180.21361539083918 (tracked)\n",
      "loss = 180.21361539083918 (tracked)\n",
      "loss = 180.21361539083918 (tracked)\n",
      "loss = 180.21361539083918 (tracked)\n",
      "loss = 180.21361539083918 (tracked)\n",
      "loss = 180.21361539083918 (tracked)\n",
      "loss = 180.21361539083918 (tracked)\n",
      "loss = 180.21361539083918 (tracked)\n",
      "loss = 180.21361539083918 (tracked)\n",
      "loss = 180.21361539083918 (tracked)\n",
      "loss = 180.21361539083918 (tracked)\n",
      "loss = 180.21361539083918 (tracked)\n",
      "loss = 180.21361539083918 (tracked)\n",
      "loss = 180.21361539083918 (tracked)\n",
      "loss = 180.21361539083918 (tracked)\n",
      "loss = 180.21361539083918 (tracked)\n",
      "loss = 180.21361539083918 (tracked)\n",
      "loss = 180.21361539083918 (tracked)\n",
      "loss = 180.21361539083918 (tracked)\n",
      "loss = 180.21361539083918 (tracked)\n",
      "loss = 180.21361539083918 (tracked)\n",
      "loss = 180.21361539083918 (tracked)\n",
      "loss = 180.21361539083918 (tracked)\n",
      "loss = 180.21361539083918 (tracked)\n",
      "loss = 180.21361539083918 (tracked)\n",
      "loss = 180.21361539083918 (tracked)\n",
      "loss = 180.21361539083918 (tracked)\n",
      "loss = 180.21361539083918 (tracked)\n",
      "loss = 180.21361539083918 (tracked)\n",
      "loss = 180.21361539083918 (tracked)\n",
      "loss = 180.21361539083918 (tracked)\n",
      "loss = 180.21361539083918 (tracked)\n",
      "loss = 180.21361539083918 (tracked)\n",
      "loss = 180.21361539083918 (tracked)\n",
      "loss = 180.21361539083918 (tracked)\n",
      "loss = 180.21361539083918 (tracked)\n",
      "loss = 180.21361539083918 (tracked)\n",
      "loss = 180.21361539083918 (tracked)\n",
      "loss = 180.21361539083918 (tracked)\n",
      "loss = 180.21361539083918 (tracked)\n",
      "loss = 180.21361539083918 (tracked)\n",
      "loss = 180.21361539083918 (tracked)\n",
      "loss = 180.21361539083918 (tracked)\n",
      "loss = 180.21361539083918 (tracked)\n",
      "loss = 180.21361539083918 (tracked)\n",
      "loss = 180.21361539083918 (tracked)\n",
      "loss = 180.21361539083918 (tracked)\n",
      "loss = 180.21361539083918 (tracked)\n",
      "loss = 180.21361539083918 (tracked)\n"
     ]
    },
    {
     "ename": "InterruptException",
     "evalue": "InterruptException:",
     "output_type": "error",
     "traceback": [
      "InterruptException:",
      "",
      "Stacktrace:",
      " [1] try_yieldto(::typeof(Base.ensure_rescheduled), ::Base.RefValue{Task}) at .\\task.jl:517",
      " [2] wait() at .\\task.jl:592",
      " [3] uv_write(::Base.PipeEndpoint, ::Ptr{UInt8}, ::UInt64) at .\\stream.jl:883",
      " [4] unsafe_write(::Base.PipeEndpoint, ::Ptr{UInt8}, ::UInt64) at .\\stream.jl:931",
      " [5] unsafe_write at .\\io.jl:522 [inlined]",
      " [6] unsafe_write(::Base.PipeEndpoint, ::Base.RefValue{UInt8}, ::Int64) at .\\io.jl:520",
      " [7] write at .\\io.jl:523 [inlined]",
      " [8] write(::Base.PipeEndpoint, ::UInt8) at .\\stream.jl:973",
      " [9] write at .\\io.jl:237 [inlined]",
      " [10] write at .\\io.jl:576 [inlined]",
      " [11] print at .\\char.jl:229 [inlined]",
      " [12] print(::IJulia.IJuliaStdio{Base.PipeEndpoint}, ::String, ::Char) at .\\strings\\io.jl:48",
      " [13] println(::IJulia.IJuliaStdio{Base.PipeEndpoint}, ::String) at .\\strings\\io.jl:75",
      " [14] println(::String) at .\\coreio.jl:4",
      " [15] (::getfield(Main, Symbol(\"##5#6\")))() at .\\In[18]:4",
      " [16] macro expansion at C:\\Users\\daddyj\\.julia\\packages\\Flux\\dkJUV\\src\\optimise\\train.jl:75 [inlined]",
      " [17] macro expansion at C:\\Users\\daddyj\\.julia\\packages\\Juno\\oLB1d\\src\\progress.jl:134 [inlined]",
      " [18] #train!#12(::getfield(Main, Symbol(\"##5#6\")), ::typeof(Flux.Optimise.train!), ::Function, ::Tracker.Params, ::Base.Iterators.Take{Base.Iterators.Repeated{Tuple{Array{Float64,1},Array{Float64,2}}}}, ::ADAM) at C:\\Users\\daddyj\\.julia\\packages\\Flux\\dkJUV\\src\\optimise\\train.jl:69",
      " [19] (::getfield(Flux.Optimise, Symbol(\"#kw##train!\")))(::NamedTuple{(:cb,),Tuple{getfield(Main, Symbol(\"##5#6\"))}}, ::typeof(Flux.Optimise.train!), ::Function, ::Tracker.Params, ::Base.Iterators.Take{Base.Iterators.Repeated{Tuple{Array{Float64,1},Array{Float64,2}}}}, ::ADAM) at .\\none:0",
      " [20] top-level scope at In[19]:1"
     ]
    }
   ],
   "source": [
    "Flux.train!(loss_function, ps, data, opt, cb = cb)"
   ]
  },
  {
   "cell_type": "code",
   "execution_count": 96,
   "metadata": {},
   "outputs": [
    {
     "ename": "BoundsError",
     "evalue": "BoundsError: attempt to access 576-element Array{Array{Float64,1},1} at index [581]",
     "output_type": "error",
     "traceback": [
      "BoundsError: attempt to access 576-element Array{Array{Float64,1},1} at index [581]",
      "",
      "Stacktrace:",
      " [1] getindex at .\\array.jl:728 [inlined]",
      " [2] getindex(::ODESolution{Float64,2,Array{Array{Float64,1},1},Nothing,Nothing,Array{Float64,1},Array{Array{Array{Float64,1},1},1},ODEProblem{Array{Float64,1},Tuple{Float64,Float64},true,Array{Float32,1},ODEFunction{true,typeof(dTdt_NN),UniformScaling{Bool},Nothing,Nothing,Nothing,Nothing,Nothing,Nothing,Nothing,Nothing,Nothing},Base.Iterators.Pairs{Union{},Union{},Tuple{},NamedTuple{,Tuple{}}},DiffEqBase.StandardODEProblem},Tsit5,OrdinaryDiffEq.InterpolationData{ODEFunction{true,typeof(dTdt_NN),UniformScaling{Bool},Nothing,Nothing,Nothing,Nothing,Nothing,Nothing,Nothing,Nothing,Nothing},Array{Array{Float64,1},1},Array{Float64,1},Array{Array{Array{Float64,1},1},1},OrdinaryDiffEq.Tsit5Cache{Array{Float64,1},Array{Float64,1},Array{Float64,1},OrdinaryDiffEq.Tsit5ConstantCache{Float64,Float64}}},DiffEqBase.DEStats}, ::Colon, ::Int64) at C:\\Users\\daddyj\\.julia\\packages\\RecursiveArrayTools\\kOAyM\\src\\vector_of_array.jl:46",
      " [3] macro expansion at .\\In[96]:0 [inlined]",
      " [4] top-level scope at .\\In[96]:4"
     ]
    }
   ],
   "source": [
    "tspan = (t[1], t[end]) ./ 86400\n",
    "nn_pred = diffeq_adjoint(p1,prob,Tsit5(),u0=T₀,abstol=1e-8,reltol=1e-6,saveat=t ./86400) |> Flux.data\n",
    "z_cs = coarse_grain(z, cr)\n",
    "\n",
    "anim = @gif for n=1:10:Nt\n",
    "    t_str = @sprintf(\"%.2f\", t[n] / 86400)\n",
    "    plot(T_cs[:, n], z_cs, linewidth=2,\n",
    "         xlim=(19, 20), ylim=(-100, 0), label=\"Data\",\n",
    "         xlabel=\"Temperature (C)\", ylabel=\"Depth (z)\",\n",
    "         title=\"Free convection: $t_str days\",\n",
    "         legend=:bottomright, show=false)\n",
    "    if n <= n_train\n",
    "        plot!(nn_pred[:, n], z_cs, linewidth=2, label=\"Neural ODE (train)\", show=false)\n",
    "    else\n",
    "        plot!(nn_pred[:, n], z_cs, linewidth=2, linestyle=:dash, label=\"Neural ODE (test)\", show=false)\n",
    "    end\n",
    "end"
   ]
  },
  {
   "cell_type": "code",
   "execution_count": null,
   "metadata": {},
   "outputs": [],
   "source": []
  }
 ],
 "metadata": {
  "kernelspec": {
   "display_name": "Julia 1.2.0",
   "language": "julia",
   "name": "julia-1.2"
  },
  "language_info": {
   "file_extension": ".jl",
   "mimetype": "application/julia",
   "name": "julia",
   "version": "1.2.0"
  }
 },
 "nbformat": 4,
 "nbformat_minor": 4
}
