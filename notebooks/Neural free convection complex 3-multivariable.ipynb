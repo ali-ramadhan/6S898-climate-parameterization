{
 "cells": [
  {
   "cell_type": "code",
   "execution_count": 1,
   "metadata": {},
   "outputs": [],
   "source": [
    "using Statistics\n",
    "using Printf\n",
    "using Flux\n",
    "using DifferentialEquations\n",
    "using DiffEqFlux\n",
    "using LinearAlgebra\n",
    "using JLD2\n",
    "using Plots\n",
    "\n",
    "using Flux: @epochs"
   ]
  },
  {
   "cell_type": "code",
   "execution_count": 2,
   "metadata": {},
   "outputs": [],
   "source": [
    "file = jldopen(\"../data/ocean_convection_profiles.jld2\");"
   ]
  },
  {
   "cell_type": "code",
   "execution_count": 3,
   "metadata": {},
   "outputs": [
    {
     "name": "stdout",
     "output_type": "stream",
     "text": [
      "[\"t\", \"vv\", \"w\", \"nu\", \"kappaT\", \"kappaS\", \"S\", \"dTdt\", \"v\", \"uv\", \"ww\", \"u\", \"uw\", \"T\", \"wT\", \"uu\", \"wS\", \"vw\"]\n",
      "[256.0, 100.0, 1153.0]\n"
     ]
    }
   ],
   "source": [
    "Is = keys(file[\"timeseries/t\"])\n",
    "println(keys(file[\"timeseries\"]))\n",
    "\n",
    "Nz = file[\"grid/Nz\"]\n",
    "Lz = file[\"grid/Lz\"]\n",
    "Nt = length(Is)\n",
    "println([Nz,Lz,Nt])\n",
    "\n",
    "t = zeros(Nt)\n",
    "T = T_data = zeros(Nt, Nz)\n",
    "wT = zeros(Nt, Nz)\n",
    "v = zeros(Nt,Nz)\n",
    "S = zeros(Nt,Nz)\n",
    "\n",
    "\n",
    "for (i, I) in enumerate(Is)\n",
    "    t[i] = file[\"timeseries/t/$I\"]\n",
    "    T[i, :] = file[\"timeseries/T/$I\"][1, 1, 2:Nz+1]\n",
    "    wT[i, :] = file[\"timeseries/wT/$I\"][1, 1, 2:Nz+1]\n",
    "    v[i, :] = file[\"timeseries/v/$I\"][1, 1, 2:Nz+1]\n",
    "    S[i, :] = file[\"timeseries/S/$I\"][1, 1, 2:Nz+1]\n",
    "end"
   ]
  },
  {
   "cell_type": "code",
   "execution_count": 5,
   "metadata": {},
   "outputs": [
    {
     "data": {
      "text/plain": [
       "256-element Array{Float64,1}:\n",
       " -99.8046875\n",
       " -99.4140625\n",
       " -99.0234375\n",
       " -98.6328125\n",
       " -98.2421875\n",
       " -97.8515625\n",
       " -97.4609375\n",
       " -97.0703125\n",
       " -96.6796875\n",
       " -96.2890625\n",
       " -95.8984375\n",
       " -95.5078125\n",
       " -95.1171875\n",
       "   ⋮        \n",
       "  -4.4921875\n",
       "  -4.1015625\n",
       "  -3.7109375\n",
       "  -3.3203125\n",
       "  -2.9296875\n",
       "  -2.5390625\n",
       "  -2.1484375\n",
       "  -1.7578125\n",
       "  -1.3671875\n",
       "  -0.9765625\n",
       "  -0.5859375\n",
       "  -0.1953125"
      ]
     },
     "execution_count": 5,
     "metadata": {},
     "output_type": "execute_result"
    }
   ],
   "source": [
    "z = file[\"grid/zC\"]"
   ]
  },
  {
   "cell_type": "code",
   "execution_count": 6,
   "metadata": {},
   "outputs": [
    {
     "data": {
      "text/plain": [
       "coarse_grain (generic function with 1 method)"
      ]
     },
     "execution_count": 6,
     "metadata": {},
     "output_type": "execute_result"
    }
   ],
   "source": [
    "function coarse_grain(data, resolution)\n",
    "    @assert length(data) % resolution == 0\n",
    "    s = length(data) / resolution\n",
    "    \n",
    "    data_cs = zeros(resolution)\n",
    "    for i in 1:resolution\n",
    "        t = data[Int((i-1)*s+1):Int(i*s)]\n",
    "        data_cs[i] = mean(t)\n",
    "    end\n",
    "    \n",
    "    return data_cs\n",
    "end"
   ]
  },
  {
   "cell_type": "code",
   "execution_count": 7,
   "metadata": {},
   "outputs": [
    {
     "data": {
      "text/plain": [
       "1153-element view(::Array{Float64,2}, 34, :) with eltype Float64:\n",
       " 19.98437500000003 \n",
       " 19.98437471826549 \n",
       " 19.984374436636237\n",
       " 19.984374157576745\n",
       " 19.984371277247593\n",
       " 19.981201908710993\n",
       " 19.978617505303095\n",
       " 19.977228637085094\n",
       " 19.97579463937481 \n",
       " 19.973957230666027\n",
       " 19.971742666169227\n",
       " 19.96971476370894 \n",
       " 19.96810126206183 \n",
       "  ⋮                \n",
       " 19.65204807845557 \n",
       " 19.65187701843649 \n",
       " 19.651724194934523\n",
       " 19.651607789308834\n",
       " 19.651502852581864\n",
       " 19.651348799710888\n",
       " 19.651191505681844\n",
       " 19.651055146609114\n",
       " 19.650895899712605\n",
       " 19.65073316242373 \n",
       " 19.65058084340377 \n",
       " 19.650321221853364"
      ]
     },
     "execution_count": 7,
     "metadata": {},
     "output_type": "execute_result"
    }
   ],
   "source": [
    "coarse_resolution = cr = 32\n",
    "\n",
    "T_cs = zeros(coarse_resolution+2,Nt)\n",
    "wT_cs = zeros(coarse_resolution+2, Nt)\n",
    "v_cs = zeros(coarse_resolution+2, Nt)\n",
    "S_cs =zeros(coarse_resolution+2, Nt)\n",
    "for n=1:Nt\n",
    "    T_cs[2:end-1, n] .= coarse_grain(T[n, :], coarse_resolution)\n",
    "    wT_cs[2:end-1, n] .= coarse_grain(wT[n, :], coarse_resolution)\n",
    "    v_cs[2:end-1, n] .= coarse_grain(v[n, :], coarse_resolution)\n",
    "    S_cs[2:end-1, n] .= coarse_grain(S[n, :], coarse_resolution)    \n",
    "end\n",
    "\n",
    "T_cs[1,   :] .= T_cs[2,     :]\n",
    "T_cs[end, :] .= T_cs[end-1, :]\n",
    "\n",
    "wT_cs[1,   :] .= wT_cs[2,     :]\n",
    "wT_cs[end, :] .= wT_cs[end-1, :]\n",
    "\n",
    "v_cs[1,   :] .= v_cs[2,     :]\n",
    "v_cs[end, :] .= v_cs[end-1, :]\n",
    "\n",
    "S_cs[1,   :] .= S_cs[2,     :]\n",
    "S_cs[end, :] .= S_cs[end-1, :]"
   ]
  },
  {
   "cell_type": "code",
   "execution_count": 8,
   "metadata": {},
   "outputs": [
    {
     "data": {
      "text/plain": [
       "(0.0, 6.395836659960485)"
      ]
     },
     "execution_count": 8,
     "metadata": {},
     "output_type": "execute_result"
    }
   ],
   "source": [
    "T₀ = T_cs[:, 1]\n",
    "wT₀ = wT_cs[:,1]\n",
    "n_train = round(Int, 4*Nt/5)\n",
    "t_train = t[1:n_train] ./ 86400\n",
    "tspan_train = (t_train[1], t_train[end])"
   ]
  },
  {
   "cell_type": "code",
   "execution_count": 9,
   "metadata": {},
   "outputs": [
    {
     "data": {
      "text/plain": [
       "4726"
      ]
     },
     "execution_count": 9,
     "metadata": {},
     "output_type": "execute_result"
    }
   ],
   "source": [
    "#dTdt_NN = Chain(Dense(cr, 2cr, tanh),\n",
    "#                Dense(2cr, cr))\n",
    "#cr = 33\n",
    "cr = 34\n",
    "ann = Chain(Dense(2cr, 4cr, tanh),\n",
    "            Dense(4cr, 3cr, tanh),\n",
    "            Dense(3cr, 3cr, tanh),\n",
    "            Dense(3cr, 2cr, tanh),\n",
    "            #Dense(8cr, 4cr, tanh),\n",
    "            #Dense(4cr, 4cr, tanh),\n",
    "            #Dense(4cr, 2cr, tanh),\n",
    "                Dense(2cr, cr))\n",
    "\n",
    "n_ann = 2*cr^2 + 2cr + 2*cr^2+cr\n",
    "\n",
    "#function dTdt_NN(du,u,p,t)\n",
    "#    du = DiffEqFlux.restructure(ann,p[1:n_ann])(u)\n",
    "#end"
   ]
  },
  {
   "cell_type": "code",
   "execution_count": 10,
   "metadata": {},
   "outputs": [
    {
     "data": {
      "text/plain": [
       "Params([[-0.13226325809955597, -0.03209342435002327, -0.015049483627080917, -0.14694732427597046, 0.12121245265007019, 0.15782110393047333, 0.035167377442121506, -0.1462775617837906, 0.07006002217531204, -0.032177653163671494  …  0.0, 0.0, 0.0, 0.0, 0.0, 0.0, 0.0, 0.0, 0.0, 0.0] (tracked)])"
      ]
     },
     "execution_count": 10,
     "metadata": {},
     "output_type": "execute_result"
    }
   ],
   "source": [
    "p1 = Flux.data(DiffEqFlux.destructure(ann)) |> Array{Float64}\n",
    "p2 = i -> wT_cs[:,i]\n",
    "p3 = param(p1)\n",
    "ps = Flux.params(p3,T₀)"
   ]
  },
  {
   "cell_type": "code",
   "execution_count": 11,
   "metadata": {},
   "outputs": [
    {
     "data": {
      "text/plain": [
       "34×34 Tridiagonal{Float64,Array{Float64,1}}:\n",
       " -1.0   1.0    ⋅     ⋅     ⋅     ⋅   …    ⋅     ⋅     ⋅     ⋅     ⋅    ⋅ \n",
       "  0.0  -1.0   1.0    ⋅     ⋅     ⋅        ⋅     ⋅     ⋅     ⋅     ⋅    ⋅ \n",
       "   ⋅    0.0  -1.0   1.0    ⋅     ⋅        ⋅     ⋅     ⋅     ⋅     ⋅    ⋅ \n",
       "   ⋅     ⋅    0.0  -1.0   1.0    ⋅        ⋅     ⋅     ⋅     ⋅     ⋅    ⋅ \n",
       "   ⋅     ⋅     ⋅    0.0  -1.0   1.0       ⋅     ⋅     ⋅     ⋅     ⋅    ⋅ \n",
       "   ⋅     ⋅     ⋅     ⋅    0.0  -1.0  …    ⋅     ⋅     ⋅     ⋅     ⋅    ⋅ \n",
       "   ⋅     ⋅     ⋅     ⋅     ⋅    0.0       ⋅     ⋅     ⋅     ⋅     ⋅    ⋅ \n",
       "   ⋅     ⋅     ⋅     ⋅     ⋅     ⋅        ⋅     ⋅     ⋅     ⋅     ⋅    ⋅ \n",
       "   ⋅     ⋅     ⋅     ⋅     ⋅     ⋅        ⋅     ⋅     ⋅     ⋅     ⋅    ⋅ \n",
       "   ⋅     ⋅     ⋅     ⋅     ⋅     ⋅        ⋅     ⋅     ⋅     ⋅     ⋅    ⋅ \n",
       "   ⋅     ⋅     ⋅     ⋅     ⋅     ⋅   …    ⋅     ⋅     ⋅     ⋅     ⋅    ⋅ \n",
       "   ⋅     ⋅     ⋅     ⋅     ⋅     ⋅        ⋅     ⋅     ⋅     ⋅     ⋅    ⋅ \n",
       "   ⋅     ⋅     ⋅     ⋅     ⋅     ⋅        ⋅     ⋅     ⋅     ⋅     ⋅    ⋅ \n",
       "  ⋮                             ⋮    ⋱               ⋮                   \n",
       "   ⋅     ⋅     ⋅     ⋅     ⋅     ⋅        ⋅     ⋅     ⋅     ⋅     ⋅    ⋅ \n",
       "   ⋅     ⋅     ⋅     ⋅     ⋅     ⋅        ⋅     ⋅     ⋅     ⋅     ⋅    ⋅ \n",
       "   ⋅     ⋅     ⋅     ⋅     ⋅     ⋅        ⋅     ⋅     ⋅     ⋅     ⋅    ⋅ \n",
       "   ⋅     ⋅     ⋅     ⋅     ⋅     ⋅   …    ⋅     ⋅     ⋅     ⋅     ⋅    ⋅ \n",
       "   ⋅     ⋅     ⋅     ⋅     ⋅     ⋅        ⋅     ⋅     ⋅     ⋅     ⋅    ⋅ \n",
       "   ⋅     ⋅     ⋅     ⋅     ⋅     ⋅       1.0    ⋅     ⋅     ⋅     ⋅    ⋅ \n",
       "   ⋅     ⋅     ⋅     ⋅     ⋅     ⋅      -1.0   1.0    ⋅     ⋅     ⋅    ⋅ \n",
       "   ⋅     ⋅     ⋅     ⋅     ⋅     ⋅       0.0  -1.0   1.0    ⋅     ⋅    ⋅ \n",
       "   ⋅     ⋅     ⋅     ⋅     ⋅     ⋅   …    ⋅    0.0  -1.0   1.0    ⋅    ⋅ \n",
       "   ⋅     ⋅     ⋅     ⋅     ⋅     ⋅        ⋅     ⋅    0.0  -1.0   1.0   ⋅ \n",
       "   ⋅     ⋅     ⋅     ⋅     ⋅     ⋅        ⋅     ⋅     ⋅    0.0  -1.0  1.0\n",
       "   ⋅     ⋅     ⋅     ⋅     ⋅     ⋅        ⋅     ⋅     ⋅     ⋅    0.0  0.0"
      ]
     },
     "execution_count": 11,
     "metadata": {},
     "output_type": "execute_result"
    }
   ],
   "source": [
    "cr_z = Nt/cr\n",
    "#Dzᶠ = 1/cr_z * Tridiagonal(zeros(cr-1), -ones(cr),ones(cr-1))\n",
    "#Dzᶜ = 1/cr_z * Tridiagonal( -ones(cr-1), ones(cr),zeros(cr-1))\n",
    "Dzᶠ = Tridiagonal(zeros(cr-1), -ones(cr),ones(cr-1))\n",
    "Dzᶜ = 1/cr_z*Tridiagonal( -ones(cr-1), ones(cr),zeros(cr-1))\n",
    "Dzᶠ[cr, cr] = 0\n",
    "Dzᶜ[1, 1] = 0\n",
    "Dzᶠ"
   ]
  },
  {
   "cell_type": "code",
   "execution_count": 14,
   "metadata": {},
   "outputs": [
    {
     "data": {
      "text/plain": [
       "curry (generic function with 1 method)"
      ]
     },
     "execution_count": 14,
     "metadata": {},
     "output_type": "execute_result"
    }
   ],
   "source": [
    "#neural_pde_prediction(T₀) = neural_ode(dudt_, T₀, tspan_train, Tsit5(), saveat=t_train, reltol=1e-7, abstol=1e-9)\n",
    "function curry(wT,v,S)\n",
    "    function dudt_(du,u,p,t)\n",
    "        #du .= (Dzᶜ*(DiffEqFlux.restructure(ann,p[1:length(p)])(u).*(Dzᶠ*u)))\n",
    "        i = findmin(abs.(t_train.-t))[2]\n",
    "        w = @view wT[:,i]\n",
    "        #vi = v[:,i]\n",
    "        #si = S[:,i]\n",
    "        #println(size(w))\n",
    "        du .= DiffEqFlux.restructure(ann,p[1:length(p)])([u;w])\n",
    "        #println(findall(x->abs(x-t)<0.0035,t_train))\n",
    "        \n",
    "    end\n",
    "end"
   ]
  },
  {
   "cell_type": "code",
   "execution_count": 15,
   "metadata": {},
   "outputs": [
    {
     "data": {
      "text/plain": [
       "Tracked 34×922 Array{Float64,2}:\n",
       " 19.0156  19.0223  19.0289  19.0355  …  24.5072  24.512   24.5168  24.5216\n",
       " 19.0156  19.0171  19.0187  19.0201     19.3338  19.3326  19.3313  19.3301\n",
       " 19.0469  19.046   19.0451  19.0442     18.4979  18.4974  18.4968  18.4962\n",
       " 19.0781  19.0826  19.087   19.0914     22.1151  22.1172  22.1192  22.1212\n",
       " 19.1094  19.1012  19.093   19.085      11.4994  11.4907  11.482   11.4734\n",
       " 19.1406  19.1395  19.1383  19.1372  …  18.6746  18.6757  18.6768  18.678 \n",
       " 19.1719  19.1718  19.1717  19.1716     19.2616  19.2616  19.2616  19.2617\n",
       " 19.2031  19.1991  19.1952  19.1912     14.9791  14.9737  14.9683  14.9629\n",
       " 19.2344  19.2316  19.2288  19.226      16.3397  16.3365  16.3333  16.3301\n",
       " 19.2656  19.2652  19.2648  19.2644     18.4855  18.4843  18.4831  18.482 \n",
       " 19.2969  19.2998  19.3027  19.3056  …  21.9954  21.9977  21.9999  22.0021\n",
       " 19.3281  19.3241  19.32    19.316      15.895   15.8914  15.888   15.8845\n",
       " 19.3594  19.3569  19.3544  19.352      16.3264  16.3221  16.3179  16.3136\n",
       "  ⋮                                  ⋱                     ⋮              \n",
       " 19.6719  19.672   19.6721  19.6722     19.7069  19.7065  19.7062  19.7058\n",
       " 19.7031  19.6982  19.6933  19.6884     15.7544  15.7516  15.7487  15.7459\n",
       " 19.7344  19.7381  19.7417  19.7454     24.052   24.0579  24.0638  24.0697\n",
       " 19.7656  19.7646  19.7636  19.7626  …  19.0945  19.0948  19.0951  19.0955\n",
       " 19.7969  19.797   19.7971  19.7972     20.58    20.582   20.584   20.5859\n",
       " 19.8281  19.8245  19.821   19.8174     16.3847  16.3809  16.377   16.3732\n",
       " 19.8594  19.8599  19.8605  19.8611     20.457   20.458   20.4589  20.4599\n",
       " 19.8906  19.8911  19.8916  19.892      19.8193  19.8192  19.819   19.8189\n",
       " 19.9219  19.9222  19.9226  19.9229  …  19.163   19.1611  19.1592  19.1573\n",
       " 19.9531  19.9475  19.9419  19.9364     14.5717  14.5659  14.56    14.5542\n",
       " 19.9844  19.9893  19.9942  19.9991     25.6302  25.6376  25.645   25.6524\n",
       " 19.9844  19.9839  19.9835  19.983      18.2476  18.2442  18.2409  18.2376"
      ]
     },
     "execution_count": 15,
     "metadata": {},
     "output_type": "execute_result"
    }
   ],
   "source": [
    "prob = ODEProblem(curry(wT_cs,v_cs,S_cs),T₀,tspan_train,p3)\n",
    "diffeq_adjoint(p3,prob,Tsit5(),u0=T₀,abstol=1e-8,reltol=1e-6,saveat=t_train)\n",
    "#solve(prob)"
   ]
  },
  {
   "cell_type": "code",
   "execution_count": 16,
   "metadata": {},
   "outputs": [
    {
     "data": {
      "text/plain": [
       "predict_adjoint (generic function with 1 method)"
      ]
     },
     "execution_count": 16,
     "metadata": {},
     "output_type": "execute_result"
    }
   ],
   "source": [
    "function predict_adjoint()\n",
    "  diffeq_adjoint(p3,prob,Tsit5(),u0=T₀,saveat=t_train,reltol=1e-6, abstol=1e-8)\n",
    "end"
   ]
  },
  {
   "cell_type": "code",
   "execution_count": 17,
   "metadata": {},
   "outputs": [
    {
     "data": {
      "text/plain": [
       "loss_function (generic function with 1 method)"
      ]
     },
     "execution_count": 17,
     "metadata": {},
     "output_type": "execute_result"
    }
   ],
   "source": [
    "opt = ADAM(0.1)\n",
    "\n",
    "#data = [(T₀, T_cs[:, 1:n_train])]\n",
    "data = Iterators.repeated((T₀, T_cs[:, 1:n_train]), 1000)\n",
    "\n",
    "loss_function(T₀, T_data) = sum(abs2, T_data .- predict_adjoint())"
   ]
  },
  {
   "cell_type": "code",
   "execution_count": 18,
   "metadata": {},
   "outputs": [
    {
     "data": {
      "text/plain": [
       "#7 (generic function with 1 method)"
      ]
     },
     "execution_count": 18,
     "metadata": {},
     "output_type": "execute_result"
    }
   ],
   "source": [
    "# Callback function to observe training.\n",
    "cb = function ()\n",
    "    #println(DiffEqFlux.destructure(ann)[1:10])\n",
    "    loss = loss_function(T₀, T_cs[:, 1:n_train]) # Not very generalizable...\n",
    "    println(\"loss = $loss\")\n",
    "    loss < 2 && Flux.stop()\n",
    "end"
   ]
  },
  {
   "cell_type": "code",
   "execution_count": 19,
   "metadata": {},
   "outputs": [
    {
     "name": "stdout",
     "output_type": "stream",
     "text": [
      "loss = 975766.369701097 (tracked)\n",
      "loss = 7.686857793021376e6 (tracked)\n",
      "loss = 1.8358624466933676e6 (tracked)\n",
      "loss = 510044.5908239147 (tracked)\n",
      "loss = 1.2737700267459005e6 (tracked)\n",
      "loss = 922069.578914303 (tracked)\n",
      "loss = 319198.1721096053 (tracked)\n",
      "loss = 567877.4484396947 (tracked)\n",
      "loss = 693489.5430116712 (tracked)\n",
      "loss = 422137.7516481764 (tracked)\n",
      "loss = 282559.53883173334 (tracked)\n",
      "loss = 361146.1964000608 (tracked)\n",
      "loss = 395070.07368244603 (tracked)\n",
      "loss = 301478.93742253917 (tracked)\n",
      "loss = 208794.00532481534 (tracked)\n",
      "loss = 205809.9071887528 (tracked)\n",
      "loss = 243854.4695541676 (tracked)\n",
      "loss = 221785.91934523598 (tracked)\n",
      "loss = 151160.18661132656 (tracked)\n",
      "loss = 122291.6860885652 (tracked)\n",
      "loss = 149228.7648392668 (tracked)\n",
      "loss = 158188.61204204286 (tracked)\n",
      "loss = 114484.46094263333 (tracked)\n",
      "loss = 74655.77563140343 (tracked)\n",
      "loss = 89113.92098752529 (tracked)\n",
      "loss = 111366.63730077802 (tracked)\n",
      "loss = 84271.95684976016 (tracked)\n",
      "loss = 47571.91523891278 (tracked)\n",
      "loss = 56168.51465286268 (tracked)\n",
      "loss = 75360.57059916682 (tracked)\n",
      "loss = 58260.33110961927 (tracked)\n",
      "loss = 33346.48809110315 (tracked)\n",
      "loss = 37625.75173263254 (tracked)\n",
      "loss = 48750.38575305744 (tracked)\n",
      "loss = 38914.10317159713 (tracked)\n",
      "loss = 24718.30237604497 (tracked)\n",
      "loss = 25817.512752034698 (tracked)\n",
      "loss = 30914.925795934872 (tracked)\n",
      "loss = 25950.085287671835 (tracked)\n",
      "loss = 17764.15776011361 (tracked)\n",
      "loss = 17993.5411834931 (tracked)\n",
      "loss = 20393.77385151324 (tracked)\n",
      "loss = 15958.33503693211 (tracked)\n",
      "loss = 12977.12788510053 (tracked)\n",
      "loss = 13816.859269567529 (tracked)\n",
      "loss = 11549.777705456427 (tracked)\n",
      "loss = 10355.9364170888 (tracked)\n",
      "loss = 11016.02513543084 (tracked)\n",
      "loss = 8094.479193623242 (tracked)\n",
      "loss = 6718.350055748616 (tracked)\n",
      "loss = 8702.854659684039 (tracked)\n",
      "loss = 7010.684043688681 (tracked)\n",
      "loss = 4290.930474490421 (tracked)\n",
      "loss = 5669.311871839305 (tracked)\n",
      "loss = 6057.630597966003 (tracked)\n",
      "loss = 3595.4514717470734 (tracked)\n",
      "loss = 3377.6343284192053 (tracked)\n",
      "loss = 4510.262128919388 (tracked)\n",
      "loss = 3227.85434736659 (tracked)\n",
      "loss = 2271.190814426791 (tracked)\n",
      "loss = 3167.20030431325 (tracked)\n",
      "loss = 2527.557444543637 (tracked)\n",
      "loss = 1736.958178438043 (tracked)\n",
      "loss = 2320.30173673333 (tracked)\n",
      "loss = 1837.5343791093264 (tracked)\n",
      "loss = 1308.5728782969948 (tracked)\n",
      "loss = 1713.4138002559666 (tracked)\n",
      "loss = 1424.5136714107157 (tracked)\n",
      "loss = 937.9007543650999 (tracked)\n",
      "loss = 1199.9493838921094 (tracked)\n",
      "loss = 1160.7338777738055 (tracked)\n",
      "loss = 711.5357575347498 (tracked)\n",
      "loss = 790.4031780048235 (tracked)\n",
      "loss = 905.7705839303064 (tracked)\n",
      "loss = 604.0013408653824 (tracked)\n",
      "loss = 511.06699543640156 (tracked)\n",
      "loss = 664.8188747574719 (tracked)\n",
      "loss = 513.0222074501482 (tracked)\n",
      "loss = 364.37621196689895 (tracked)\n",
      "loss = 461.8649110965623 (tracked)\n",
      "loss = 412.4922599151936 (tracked)\n",
      "loss = 290.53642554170335 (tracked)\n",
      "loss = 318.44230450406485 (tracked)\n",
      "loss = 311.7316892372704 (tracked)\n",
      "loss = 244.26428296876014 (tracked)\n",
      "loss = 222.2632528335547 (tracked)\n",
      "loss = 234.50827409661048 (tracked)\n",
      "loss = 197.81111130736963 (tracked)\n",
      "loss = 162.47804207192365 (tracked)\n",
      "loss = 179.6495537002236 (tracked)\n",
      "loss = 154.56686734379582 (tracked)\n",
      "loss = 121.1872438296708 (tracked)\n",
      "loss = 144.45160512175758 (tracked)\n",
      "loss = 116.6506426322351 (tracked)\n",
      "loss = 91.55133129744857 (tracked)\n",
      "loss = 122.45011836280935 (tracked)\n",
      "loss = 82.02591937104253 (tracked)\n",
      "loss = 78.21765721359307 (tracked)\n",
      "loss = 96.79931334598523 (tracked)\n",
      "loss = 63.80429881693492 (tracked)\n"
     ]
    },
    {
     "ename": "InterruptException",
     "evalue": "InterruptException:",
     "output_type": "error",
     "traceback": [
      "InterruptException:",
      "",
      "Stacktrace:",
      " [1] try_yieldto(::typeof(Base.ensure_rescheduled), ::Base.RefValue{Task}) at .\\task.jl:517",
      " [2] wait() at .\\task.jl:592",
      " [3] uv_write(::Base.PipeEndpoint, ::Ptr{UInt8}, ::UInt64) at .\\stream.jl:883",
      " [4] unsafe_write(::Base.PipeEndpoint, ::Ptr{UInt8}, ::UInt64) at .\\stream.jl:931",
      " [5] unsafe_write at .\\io.jl:522 [inlined]",
      " [6] unsafe_write(::Base.PipeEndpoint, ::Base.RefValue{UInt8}, ::Int64) at .\\io.jl:520",
      " [7] write at .\\io.jl:523 [inlined]",
      " [8] write(::Base.PipeEndpoint, ::UInt8) at .\\stream.jl:973",
      " [9] write at .\\io.jl:237 [inlined]",
      " [10] write at .\\io.jl:576 [inlined]",
      " [11] print at .\\char.jl:229 [inlined]",
      " [12] print(::IJulia.IJuliaStdio{Base.PipeEndpoint}, ::String, ::Char) at .\\strings\\io.jl:48",
      " [13] println(::IJulia.IJuliaStdio{Base.PipeEndpoint}, ::String) at .\\strings\\io.jl:75",
      " [14] println(::String) at .\\coreio.jl:4",
      " [15] (::getfield(Main, Symbol(\"##7#8\")))() at .\\In[18]:5",
      " [16] macro expansion at C:\\Users\\daddyj\\.julia\\packages\\Flux\\dkJUV\\src\\optimise\\train.jl:75 [inlined]",
      " [17] macro expansion at C:\\Users\\daddyj\\.julia\\packages\\Juno\\oLB1d\\src\\progress.jl:134 [inlined]",
      " [18] #train!#12(::getfield(Main, Symbol(\"##7#8\")), ::typeof(Flux.Optimise.train!), ::Function, ::Tracker.Params, ::Base.Iterators.Take{Base.Iterators.Repeated{Tuple{Array{Float64,1},Array{Float64,2}}}}, ::ADAM) at C:\\Users\\daddyj\\.julia\\packages\\Flux\\dkJUV\\src\\optimise\\train.jl:69",
      " [19] (::getfield(Flux.Optimise, Symbol(\"#kw##train!\")))(::NamedTuple{(:cb,),Tuple{getfield(Main, Symbol(\"##7#8\"))}}, ::typeof(Flux.Optimise.train!), ::Function, ::Tracker.Params, ::Base.Iterators.Take{Base.Iterators.Repeated{Tuple{Array{Float64,1},Array{Float64,2}}}}, ::ADAM) at .\\none:0",
      " [20] top-level scope at In[19]:1"
     ]
    }
   ],
   "source": [
    "Flux.train!(loss_function, ps, data, opt, cb = cb)"
   ]
  },
  {
   "cell_type": "code",
   "execution_count": 20,
   "metadata": {},
   "outputs": [
    {
     "data": {
      "text/plain": [
       "32"
      ]
     },
     "execution_count": 20,
     "metadata": {},
     "output_type": "execute_result"
    }
   ],
   "source": [
    "#for _ in 1:20\n",
    "#    Flux.train!(loss_function, ps, data, opt, cb = cb)\n",
    "#end\n",
    "cr =32"
   ]
  },
  {
   "cell_type": "code",
   "execution_count": 23,
   "metadata": {},
   "outputs": [
    {
     "ename": "BoundsError",
     "evalue": "BoundsError: attempt to access 32-element Array{Float64,1} at index [1:34]",
     "output_type": "error",
     "traceback": [
      "BoundsError: attempt to access 32-element Array{Float64,1} at index [1:34]",
      "",
      "Stacktrace:",
      " [1] throw_boundserror(::Array{Float64,1}, ::Tuple{UnitRange{Int64}}) at .\\abstractarray.jl:538",
      " [2] checkbounds at .\\abstractarray.jl:503 [inlined]",
      " [3] getindex(::Array{Float64,1}, ::UnitRange{Int64}) at .\\array.jl:734",
      " [4] gr_display(::Plots.Subplot{Plots.GRBackend}, ::Measures.Length{:mm,Float64}, ::Measures.Length{:mm,Float64}, ::Array{Float64,1}) at C:\\Users\\daddyj\\.julia\\packages\\Plots\\Iuc9S\\src\\backends\\gr.jl:1288",
      " [5] gr_display(::Plots.Plot{Plots.GRBackend}, ::String) at C:\\Users\\daddyj\\.julia\\packages\\Plots\\Iuc9S\\src\\backends\\gr.jl:685",
      " [6] _show(::IOStream, ::MIME{Symbol(\"image/png\")}, ::Plots.Plot{Plots.GRBackend}) at C:\\Users\\daddyj\\.julia\\packages\\Plots\\Iuc9S\\src\\backends\\gr.jl:1601",
      " [7] show(::IOStream, ::MIME{Symbol(\"image/png\")}, ::Plots.Plot{Plots.GRBackend}) at C:\\Users\\daddyj\\.julia\\packages\\Plots\\Iuc9S\\src\\output.jl:199",
      " [8] png(::Plots.Plot{Plots.GRBackend}, ::String) at C:\\Users\\daddyj\\.julia\\packages\\Plots\\Iuc9S\\src\\output.jl:8",
      " [9] frame(::Animation, ::Plots.Plot{Plots.GRBackend}) at C:\\Users\\daddyj\\.julia\\packages\\Plots\\Iuc9S\\src\\animation.jl:20",
      " [10] frame(::Animation) at C:\\Users\\daddyj\\.julia\\packages\\Plots\\Iuc9S\\src\\animation.jl:18",
      " [11] macro expansion at C:\\Users\\daddyj\\.julia\\packages\\Plots\\Iuc9S\\src\\animation.jl:158 [inlined]",
      " [12] macro expansion at .\\In[23]:19 [inlined]",
      " [13] macro expansion at C:\\Users\\daddyj\\.julia\\packages\\Plots\\Iuc9S\\src\\animation.jl:169 [inlined]",
      " [14] top-level scope at .\\In[23]:6"
     ]
    }
   ],
   "source": [
    "tspan = (t[1], t[end]) ./ 86400\n",
    "#nn_pred = neural_ode(dudt_, T₀, tspan, Tsit5(), saveat=t ./86400, reltol=1e-7, abstol=1e-9) |> Flux.data\n",
    "prob2 = ODEProblem(curry(wT_cs,v_cs,S_cs),T₀,tspan,p1)\n",
    "nn_pred = diffeq_adjoint(p1,prob2,Tsit5(),u0=T₀,abstol=1e-8,reltol=1e-6,saveat=t ./86400) |> Flux.data\n",
    "z_cs = coarse_grain(z, cr)\n",
    "\n",
    "anim = @gif for n=1:10:Nt\n",
    "    t_str = @sprintf(\"%.2f\", t[n] / 86400)\n",
    "    #println(\"here1\")\n",
    "    plot(T_cs[2:end-1, n], z_cs, linewidth=2,\n",
    "         xlim=(19, 20), ylim=(-100, 0), label=\"Data\",\n",
    "         xlabel=\"Temperature (C)\", ylabel=\"Depth (z)\",\n",
    "         title=\"Free convection: $t_str days\",\n",
    "         legend=:bottomright, show=false)\n",
    "    #println(\"here2\")\n",
    "    if n <= n_train\n",
    "        plot!(nn_pred[2:end-1, n], z_cs, linewidth=2, label=\"Neural ODE (train)\", show=false)\n",
    "    else\n",
    "        plot!(nn_pred[2:end-1, n], z_cs, linewidth=2, linestyle=:dash, label=\"Neural ODE (test)\", show=false)\n",
    "    end\n",
    "end"
   ]
  },
  {
   "cell_type": "code",
   "execution_count": 135,
   "metadata": {},
   "outputs": [
    {
     "data": {
      "text/plain": [
       "32×1153 Array{Float64,2}:\n",
       " 19.0156  19.0153  19.015   19.0147  …  18.6447  18.6444  18.6441  18.6438\n",
       " 19.0469  19.0471  19.0472  19.0474     19.2497  19.2498  19.25    19.2502\n",
       " 19.0781  19.0776  19.0771  19.0766     18.512   18.5115  18.511   18.5106\n",
       " 19.1094  19.1084  19.1074  19.1065     17.9969  17.9959  17.9949  17.994 \n",
       " 19.1406  19.1412  19.1418  19.1423     19.7957  19.7962  19.7968  19.7974\n",
       " 19.1719  19.1724  19.1729  19.1734  …  19.7699  19.7704  19.7709  19.7714\n",
       " 19.2031  19.2022  19.2013  19.2004     18.166   18.1651  18.1642  18.1633\n",
       " 19.2344  19.2343  19.2343  19.2342     19.1856  19.1856  19.1856  19.1855\n",
       " 19.2656  19.2656  19.2655  19.2655     19.1993  19.1992  19.1992  19.1991\n",
       " 19.2969  19.2973  19.2978  19.2982     19.7993  19.7997  19.8002  19.8006\n",
       " 19.3281  19.3284  19.3287  19.3289  …  19.6353  19.6356  19.6358  19.6361\n",
       " 19.3594  19.3586  19.3579  19.3572     18.5278  18.5271  18.5264  18.5256\n",
       " 19.3906  19.3911  19.3917  19.3922     19.984   19.9845  19.985   19.9856\n",
       "  ⋮                                  ⋱            ⋮                       \n",
       " 19.6406  19.6412  19.6418  19.6424  …  20.3043  20.3049  20.3054  20.306 \n",
       " 19.6719  19.6725  19.6732  19.6739     20.4372  20.4379  20.4386  20.4392\n",
       " 19.7031  19.7029  19.7027  19.7026     19.4881  19.4879  19.4877  19.4875\n",
       " 19.7344  19.7348  19.7351  19.7355     20.1664  20.1668  20.1671  20.1675\n",
       " 19.7656  19.765   19.7643  19.7636     18.9993  18.9986  18.998   18.9973\n",
       " 19.7969  19.7963  19.7958  19.7953  …  19.1939  19.1933  19.1928  19.1923\n",
       " 19.8281  19.8268  19.8255  19.8242     18.3196  18.3183  18.317   18.3157\n",
       " 19.8594  19.8587  19.858   19.8574     19.0961  19.0954  19.0947  19.0941\n",
       " 19.8906  19.8904  19.8902  19.89       19.6562  19.656   19.6558  19.6556\n",
       " 19.9219  19.921   19.9201  19.9192     18.913   18.9121  18.9113  18.9104\n",
       " 19.9531  19.9528  19.9524  19.9521  …  19.5552  19.5548  19.5545  19.5541\n",
       " 19.9844  19.9839  19.9834  19.9829     19.4254  19.4249  19.4244  19.424 "
      ]
     },
     "execution_count": 135,
     "metadata": {},
     "output_type": "execute_result"
    }
   ],
   "source": [
    "nn_pred = diffeq_adjoint(p3,prob2,Tsit5(),u0=T₀,abstol=1e-8,reltol=1e-6,saveat=t ./86400) |> Flux.data\n"
   ]
  },
  {
   "cell_type": "code",
   "execution_count": null,
   "metadata": {},
   "outputs": [],
   "source": []
  }
 ],
 "metadata": {
  "kernelspec": {
   "display_name": "Julia 1.2.0",
   "language": "julia",
   "name": "julia-1.2"
  },
  "language_info": {
   "file_extension": ".jl",
   "mimetype": "application/julia",
   "name": "julia",
   "version": "1.2.0"
  }
 },
 "nbformat": 4,
 "nbformat_minor": 4
}
