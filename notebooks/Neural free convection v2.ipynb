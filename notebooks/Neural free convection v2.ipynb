{
 "cells": [
  {
   "cell_type": "code",
   "execution_count": 1,
   "metadata": {},
   "outputs": [],
   "source": [
    "using Printf\n",
    "using Statistics\n",
    "using LinearAlgebra\n",
    "\n",
    "using Flux\n",
    "using DifferentialEquations\n",
    "using DiffEqFlux\n",
    "\n",
    "using JLD2\n",
    "using Plots\n",
    "\n",
    "using Flux: @epochs"
   ]
  },
  {
   "cell_type": "code",
   "execution_count": 2,
   "metadata": {},
   "outputs": [],
   "source": [
    "file = jldopen(\"../data/ocean_convection_profiles.jld2\");"
   ]
  },
  {
   "cell_type": "code",
   "execution_count": 57,
   "metadata": {},
   "outputs": [],
   "source": [
    "Is = keys(file[\"timeseries/t\"])\n",
    "\n",
    "Nz = file[\"grid/Nz\"]\n",
    "Lz = file[\"grid/Lz\"]\n",
    "Nt = length(Is)\n",
    "\n",
    "t = zeros(Nt)\n",
    "T = T_data = zeros(Nt, Nz)\n",
    "wT = zeros(Nt, Nz)\n",
    "\n",
    "for (i, I) in enumerate(Is)\n",
    "    t[i] = file[\"timeseries/t/$I\"]\n",
    "    T[i, :] = file[\"timeseries/T/$I\"][1, 1, 2:Nz+1]\n",
    "    wT[i, :] = file[\"timeseries/wT/$I\"][1, 1, 2:Nz+1]\n",
    "end"
   ]
  },
  {
   "cell_type": "code",
   "execution_count": 4,
   "metadata": {},
   "outputs": [
    {
     "name": "stderr",
     "output_type": "stream",
     "text": [
      "┌ Info: Saved animation to \n",
      "│   fn = /home/alir/6S898-climate-parameterization/notebooks/deepening_mixed_layer.gif\n",
      "└ @ Plots /home/alir/.julia/packages/Plots/Iuc9S/src/animation.jl:95\n"
     ]
    },
    {
     "data": {
      "text/html": [
       "<img src=\"deepening_mixed_layer.gif\" />"
      ],
      "text/plain": [
       "Plots.AnimatedGif(\"/home/alir/6S898-climate-parameterization/notebooks/deepening_mixed_layer.gif\")"
      ]
     },
     "execution_count": 4,
     "metadata": {},
     "output_type": "execute_result"
    }
   ],
   "source": [
    "z = file[\"grid/zC\"]\n",
    "\n",
    "anim = @animate for n=1:10:Nt\n",
    "    t_str = @sprintf(\"%.2f\", t[n] / 86400)\n",
    "    plot(T[n, :], z, linewidth=2,\n",
    "         xlim=(19, 20), ylim=(-100, 0), label=\"\",\n",
    "         xlabel=\"Temperature (C)\", ylabel=\"Depth (z)\",\n",
    "         title=\"Deepening mixed layer: $t_str days\", show=false)\n",
    "end\n",
    "\n",
    "gif(anim, \"deepening_mixed_layer.gif\", fps=15)"
   ]
  },
  {
   "cell_type": "code",
   "execution_count": 58,
   "metadata": {},
   "outputs": [
    {
     "data": {
      "text/plain": [
       "coarse_grain (generic function with 1 method)"
      ]
     },
     "execution_count": 58,
     "metadata": {},
     "output_type": "execute_result"
    }
   ],
   "source": [
    "function coarse_grain(data, resolution)\n",
    "    @assert length(data) % resolution == 0\n",
    "    s = length(data) / resolution\n",
    "    \n",
    "    data_cs = zeros(resolution)\n",
    "    for i in 1:resolution\n",
    "        t = data[Int((i-1)*s+1):Int(i*s)]\n",
    "        data_cs[i] = mean(t)\n",
    "    end\n",
    "    \n",
    "    return data_cs\n",
    "end"
   ]
  },
  {
   "cell_type": "code",
   "execution_count": 60,
   "metadata": {},
   "outputs": [
    {
     "data": {
      "text/plain": [
       "34×1153 Array{Float64,2}:\n",
       " 0.0  -2.30125e-26  8.71449e-26   9.19177e-26  …   6.32709e-8   3.07046e-8\n",
       " 0.0  -2.30125e-26  8.71449e-26   9.19177e-26      6.32709e-8   3.07046e-8\n",
       " 0.0  -6.18334e-26  1.07636e-25   1.55799e-25      9.17763e-7   1.3074e-7 \n",
       " 0.0  -7.8825e-26   1.35601e-25   2.0034e-25       1.83954e-6  -1.31288e-6\n",
       " 0.0  -9.93663e-26  1.74263e-25   2.55798e-25      2.16761e-6   7.44881e-7\n",
       " 0.0  -1.31238e-25  2.30056e-25   3.23143e-25  …   4.87671e-7   1.16325e-6\n",
       " 0.0  -1.69133e-25  2.94401e-25   4.12384e-25      1.82237e-6  -4.41882e-7\n",
       " 0.0  -2.16432e-25  3.72444e-25   5.35574e-25      7.72243e-7  -2.58858e-6\n",
       " 0.0  -2.8043e-25   4.82045e-25   6.81883e-25     -4.281e-7    -1.68256e-6\n",
       " 0.0  -3.5289e-25   6.09157e-25   8.65815e-25     -6.44661e-7  -1.21975e-7\n",
       " 0.0  -4.49962e-25  7.89255e-25   1.08192e-24  …   1.70495e-6  -2.21358e-6\n",
       " 0.0  -5.88042e-25  1.0169e-24    1.38808e-24     -1.10878e-6  -6.40545e-7\n",
       " 0.0  -7.46524e-25  1.29864e-24   1.73614e-24     -1.78399e-6  -1.38452e-6\n",
       " ⋮                                             ⋱                          \n",
       " 0.0  -9.19188e-24  1.59614e-23  -1.91746e-23      1.02882e-5   9.71365e-6\n",
       " 0.0  -1.14401e-23  2.01804e-23  -4.93677e-23      1.17076e-5   1.04056e-5\n",
       " 0.0  -1.4419e-23   2.57933e-23  -1.13476e-22      1.29988e-5   1.08022e-5\n",
       " 0.0  -1.89859e-23  3.38498e-23  -2.51873e-22  …   1.34942e-5   1.19377e-5\n",
       " 0.0  -2.4544e-23   4.3202e-23   -5.97693e-22      1.42795e-5   1.47883e-5\n",
       " 0.0  -3.15676e-23  5.56924e-23  -1.56384e-21      1.50552e-5   1.63741e-5\n",
       " 0.0  -4.0333e-23   7.15154e-23  -4.95641e-21      1.7482e-5    1.69894e-5\n",
       " 0.0  -5.08784e-23  9.22432e-23  -2.19421e-20      2.11231e-5   1.83614e-5\n",
       " 0.0  -6.67574e-23  1.1834e-22   -1.83718e-19  …   2.1906e-5    2.09258e-5\n",
       " 0.0  -8.63283e-23  1.4719e-22   -6.7972e-18       2.26455e-5   2.2701e-5 \n",
       " 0.0   1.53311e-20  7.91127e-16   1.23041e-9       2.32108e-5   2.33517e-5\n",
       " 0.0   1.53311e-20  7.91127e-16   1.23041e-9       2.32108e-5   2.33517e-5"
      ]
     },
     "execution_count": 60,
     "metadata": {},
     "output_type": "execute_result"
    }
   ],
   "source": [
    "coarse_resolution = cr = 32\n",
    "\n",
    "T_cs = zeros(coarse_resolution+2, Nt)\n",
    "wT_cs = zeros(coarse_resolution+2, Nt)\n",
    "\n",
    "for n=1:Nt\n",
    "    T_cs[2:end-1, n] .= coarse_grain(T[n, :], coarse_resolution)\n",
    "    wT_cs[2:end-1, n] .= coarse_grain(wT[n, :], coarse_resolution)\n",
    "end\n",
    "\n",
    "\n",
    "T_cs[1,   :] .= T_cs[2,     :]\n",
    "T_cs[end, :] .= T_cs[end-1, :]\n",
    "\n",
    "wT_cs[1,   :] .= wT_cs[2,     :]\n",
    "wT_cs[end, :] .= wT_cs[end-1, :]"
   ]
  },
  {
   "cell_type": "code",
   "execution_count": 61,
   "metadata": {},
   "outputs": [],
   "source": [
    "Tₙ   = zeros(coarse_resolution+2, Nt-1)\n",
    "wTₙ  = zeros(coarse_resolution+2, Nt-1)\n",
    "Tₙ₊₁ = zeros(coarse_resolution+2, Nt-1)\n",
    "\n",
    "for i in 1:Nt-1\n",
    "      Tₙ[:, i] .= T_cs[:,   i]\n",
    "     wTₙ[:, i] .= wT_cs[:,   i]\n",
    "    Tₙ₊₁[:, i] .= T_cs[:, i+1]\n",
    "end"
   ]
  },
  {
   "cell_type": "code",
   "execution_count": 62,
   "metadata": {},
   "outputs": [],
   "source": [
    "# Generate differentiation matrices\n",
    "cr_Δz = Lz / cr  # Coarse resolution Δz\n",
    "\n",
    "# Dzᶠ computes the derivative from cell center to cell (F)aces\n",
    "Dzᶠ = 1/cr_Δz * Tridiagonal(-ones(cr+1), ones(cr+2), zeros(cr+1))\n",
    "\n",
    "# Dzᶜ computes the derivative from cell faces to cell (C)enters\n",
    "Dzᶜ = 1/cr_Δz * Tridiagonal(zeros(cr+1), -ones(cr+2), ones(cr+1))\n",
    "\n",
    "# Impose boundary condition that derivative goes to zero at top and bottom.\n",
    "Dzᶠ[1, 1] = 0\n",
    "Dzᶜ[cr, cr] = 0;"
   ]
  },
  {
   "cell_type": "code",
   "execution_count": 63,
   "metadata": {},
   "outputs": [
    {
     "data": {
      "text/plain": [
       "neural_pde_prediction (generic function with 1 method)"
      ]
     },
     "execution_count": 63,
     "metadata": {},
     "output_type": "execute_result"
    }
   ],
   "source": [
    "dTdt_NN = Chain(Dense(cr+2,  2cr, tanh),\n",
    "                Dense(2cr,  cr+2))\n",
    "# dTdt_NN = Chain(T -> Dzᶠ*T,\n",
    "#                 Dense(cr+2,  2cr, tanh),\n",
    "#                 Dense(2cr,  cr+2),\n",
    "#                 NNDzT -> Dzᶜ * NNDzT)\n",
    "\n",
    "NN_params = Flux.params(dTdt_NN)\n",
    "\n",
    "tspan = (0.0, 600.0)  # 10 minutes\n",
    "neural_pde_prediction(T₀) = neural_ode(dTdt_NN, T₀, tspan, Tsit5(), reltol=1e-4, save_start=false, saveat=tspan[2])"
   ]
  },
  {
   "cell_type": "code",
   "execution_count": 101,
   "metadata": {},
   "outputs": [
    {
     "data": {
      "text/plain": [
       "ADAM(0.01, (0.9, 0.999), IdDict{Any,Any}())"
      ]
     },
     "execution_count": 101,
     "metadata": {},
     "output_type": "execute_result"
    }
   ],
   "source": [
    "N = 100\n",
    "pre_training_data = [(Tₙ[:, i], wTₙ[:, i]) for i in 5:N+5]\n",
    "pre_loss_function(Tₙ, wTₙ) = sum(abs2, dTdt_NN(Tₙ) .- wTₙ)\n",
    "popt = ADAM(0.01)"
   ]
  },
  {
   "cell_type": "code",
   "execution_count": 103,
   "metadata": {},
   "outputs": [
    {
     "name": "stdout",
     "output_type": "stream",
     "text": [
      "loss = 0.001050726170451445 (tracked)\n"
     ]
    }
   ],
   "source": [
    "function precb()\n",
    "    loss = sum(abs2, [pre_loss_function(pre_training_data[i]...) for i in 1:N-1])\n",
    "    println(\"loss = $loss\")\n",
    "end\n",
    "\n",
    "precb()"
   ]
  },
  {
   "cell_type": "code",
   "execution_count": 104,
   "metadata": {},
   "outputs": [
    {
     "name": "stdout",
     "output_type": "stream",
     "text": [
      "loss = 19441.526925437374 (tracked)\n",
      "loss = 82.43273897664903 (tracked)\n",
      "loss = 890.7500012397583 (tracked)\n",
      "loss = 6427.454689818436 (tracked)\n",
      "loss = 3643.4587697000975 (tracked)\n",
      "loss = 291.6611854109149 (tracked)\n",
      "loss = 0.015156221095973825 (tracked)\n",
      "loss = 298.20051651815743 (tracked)\n",
      "loss = 1449.8994643600556 (tracked)\n",
      "loss = 1356.6842617207976 (tracked)\n",
      "loss = 338.19445523903846 (tracked)\n",
      "loss = 5.8585415123809845 (tracked)\n",
      "loss = 3.3051187331028045 (tracked)\n",
      "loss = 163.2637168144713 (tracked)\n",
      "loss = 447.0136345896831 (tracked)\n",
      "loss = 335.57739758404034 (tracked)\n",
      "loss = 67.83323198001965 (tracked)\n",
      "loss = 0.539355046660905 (tracked)\n",
      "loss = 2.3871967429099303 (tracked)\n",
      "loss = 59.48885849337132 (tracked)\n",
      "loss = 136.8708385903774 (tracked)\n",
      "loss = 89.88745217276015 (tracked)\n",
      "loss = 14.242353850556823 (tracked)\n",
      "loss = 0.030499012937749793 (tracked)\n",
      "loss = 1.855291727856702 (tracked)\n",
      "loss = 24.432446195459665 (tracked)\n",
      "loss = 43.15165203510688 (tracked)\n",
      "loss = 21.335359358937215 (tracked)\n",
      "loss = 1.8634829833522466 (tracked)\n",
      "loss = 0.0014379155343265785 (tracked)\n",
      "loss = 1.985514797373537 (tracked)\n",
      "loss = 11.295930411022324 (tracked)\n",
      "loss = 12.492802087132391 (tracked)\n",
      "loss = 3.4495502819615265 (tracked)\n",
      "loss = 0.06143290680529555 (tracked)\n",
      "loss = 0.06452570657209943 (tracked)\n",
      "loss = 2.0777505328351267 (tracked)\n",
      "loss = 4.696969942650172 (tracked)\n",
      "loss = 2.5038682306595197 (tracked)\n",
      "loss = 0.2021801979712264 (tracked)\n",
      "loss = 0.0009482286291927471 (tracked)\n",
      "loss = 0.33786462618944973 (tracked)\n",
      "loss = 1.4725104230421282 (tracked)\n",
      "loss = 1.2114446848012508 (tracked)\n",
      "loss = 0.18519367596176212 (tracked)\n",
      "loss = 0.00042360845551950077 (tracked)\n",
      "loss = 0.06277837525987041 (tracked)\n",
      "loss = 0.45774382053057017 (tracked)\n",
      "loss = 0.48701689421894107 (tracked)\n",
      "loss = 0.09769158625646827 (tracked)\n",
      "loss = 0.0004971510222302591 (tracked)\n",
      "loss = 0.0170259789950306 (tracked)\n",
      "loss = 0.15677545568035742 (tracked)\n",
      "loss = 0.1798095396562816 (tracked)\n",
      "loss = 0.03663168337108923 (tracked)\n",
      "loss = 0.00020775976179702448 (tracked)\n",
      "loss = 0.007451052359080408 (tracked)\n",
      "loss = 0.06093599981576472 (tracked)\n",
      "loss = 0.06233106837150346 (tracked)\n",
      "loss = 0.010092504272998041 (tracked)\n",
      "loss = 5.253280610355105e-5 (tracked)\n",
      "loss = 0.004746839289482804 (tracked)\n",
      "loss = 0.02573437818842379 (tracked)\n",
      "loss = 0.019457179664871305 (tracked)\n",
      "loss = 0.0018613304986681463 (tracked)\n",
      "loss = 4.292287142629172e-5 (tracked)\n",
      "loss = 0.0035646721486407426 (tracked)\n",
      "loss = 0.010708786551535135 (tracked)\n",
      "loss = 0.004925816266973834 (tracked)\n",
      "loss = 0.00017891680340928432 (tracked)\n",
      "loss = 0.00012513709593626898 (tracked)\n",
      "loss = 0.0025683215108880278 (tracked)\n",
      "loss = 0.0038434085105344636 (tracked)\n",
      "loss = 0.0008352495295391873 (tracked)\n",
      "loss = 9.116216178069e-6 (tracked)\n",
      "loss = 0.0002780170918677302 (tracked)\n",
      "loss = 0.0015005954780517178 (tracked)\n",
      "loss = 0.0009986960577516527 (tracked)\n",
      "loss = 6.595280278133165e-5 (tracked)\n",
      "loss = 1.267246817907874e-5 (tracked)\n",
      "loss = 0.00034927304730846486 (tracked)\n",
      "loss = 0.0006077233532313116 (tracked)\n",
      "loss = 0.00014287945928876246 (tracked)\n",
      "loss = 2.274582223103555e-6 (tracked)\n",
      "loss = 5.140817873073076e-5 (tracked)\n",
      "loss = 0.0002435330035817314 (tracked)\n",
      "loss = 0.00013837446725851842 (tracked)\n",
      "loss = 6.778139998273549e-6 (tracked)\n",
      "loss = 5.150097962611661e-6 (tracked)\n",
      "loss = 7.308150210938425e-5 (tracked)\n",
      "loss = 8.618769436997689e-5 (tracked)\n",
      "loss = 1.1905000175800874e-5 (tracked)\n",
      "loss = 6.13959032913537e-7 (tracked)\n",
      "loss = 1.7882813344377718e-5 (tracked)\n",
      "loss = 4.114433573901298e-5 (tracked)\n",
      "loss = 1.1781216566357664e-5 (tracked)\n",
      "loss = 3.104135208925238e-7 (tracked)\n",
      "loss = 3.86406246563539e-6 (tracked)\n",
      "loss = 1.66736711332081e-5 (tracked)\n",
      "loss = 8.263671632178079e-6 (tracked)\n",
      "loss = 3.5775445755288737e-7 (tracked)\n"
     ]
    }
   ],
   "source": [
    "Flux.train!(pre_loss_function, NN_params, pre_training_data, popt, cb = precb)"
   ]
  },
  {
   "cell_type": "code",
   "execution_count": 105,
   "metadata": {},
   "outputs": [
    {
     "data": {
      "text/plain": [
       "loss_function (generic function with 1 method)"
      ]
     },
     "execution_count": 105,
     "metadata": {},
     "output_type": "execute_result"
    }
   ],
   "source": [
    "opt = ADAM(0.1)\n",
    "\n",
    "N = 10\n",
    "training_data = [(Tₙ[:, i], Tₙ₊₁[:, i]) for i in 1:N]\n",
    "\n",
    "loss_function(Tₙ, Tₙ₊₁) = sum(abs2, Tₙ₊₁ .- neural_pde_prediction(Tₙ))"
   ]
  },
  {
   "cell_type": "code",
   "execution_count": 106,
   "metadata": {},
   "outputs": [
    {
     "name": "stdout",
     "output_type": "stream",
     "text": [
      "total loss = 6826.981446915973\n"
     ]
    }
   ],
   "source": [
    "# Callback function to observe training.\n",
    "cb = function ()\n",
    "    nn_pred = neural_ode(dTdt_NN, Tₙ[:, 1], (t[1], t[N]), Tsit5(), saveat=t[1:N], reltol=1e-4) |> Flux.data\n",
    "    loss = sum(abs2, T_cs[:, 1:N] .- nn_pred)\n",
    "    println(\"total loss = $loss\")\n",
    "end\n",
    "\n",
    "cb()"
   ]
  },
  {
   "cell_type": "code",
   "execution_count": 108,
   "metadata": {},
   "outputs": [
    {
     "name": "stderr",
     "output_type": "stream",
     "text": [
      "┌ Info: Epoch 1\n",
      "└ @ Main /home/alir/.julia/packages/Flux/dkJUV/src/optimise/train.jl:105\n"
     ]
    },
    {
     "name": "stdout",
     "output_type": "stream",
     "text": [
      "total loss = 6826.981446915973\n",
      "total loss = 6826.981446915973\n",
      "total loss = 6826.981446915973\n",
      "total loss = 6826.981446915973\n",
      "total loss = 6826.981446915973\n",
      "total loss = 6826.981446915973\n",
      "total loss = 6826.981446915973\n",
      "total loss = 6826.981446915973\n",
      "total loss = 6826.981446915973\n",
      "total loss = 6826.981446915973\n"
     ]
    }
   ],
   "source": [
    "@epochs 1 Flux.train!(loss_function, NN_params, training_data, opt, cb=cb) # cb=Flux.throttle(cb, 20))"
   ]
  },
  {
   "cell_type": "code",
   "execution_count": 13,
   "metadata": {},
   "outputs": [
    {
     "name": "stderr",
     "output_type": "stream",
     "text": [
      "┌ Info: Saved animation to \n",
      "│   fn = /home/alir/6S898-climate-parameterization/notebooks/deepening_mixed_layer_neural_PDE.gif\n",
      "└ @ Plots /home/alir/.julia/packages/Plots/Iuc9S/src/animation.jl:95\n"
     ]
    },
    {
     "data": {
      "text/html": [
       "<img src=\"deepening_mixed_layer_neural_PDE.gif\" />"
      ],
      "text/plain": [
       "Plots.AnimatedGif(\"/home/alir/6S898-climate-parameterization/notebooks/deepening_mixed_layer_neural_PDE.gif\")"
      ]
     },
     "execution_count": 13,
     "metadata": {},
     "output_type": "execute_result"
    }
   ],
   "source": [
    "tspan2 = (t[1], t[end])\n",
    "nn_pred = neural_ode(dTdt_NN, Tₙ[:, 1], tspan2, Tsit5(), saveat=t, reltol=1e-4) |> Flux.data\n",
    "\n",
    "z_cs = coarse_grain(z, cr)\n",
    "\n",
    "anim = @animate for n=1:10:Nt\n",
    "    t_str = @sprintf(\"%.2f\", t[n] / 86400)\n",
    "    plot(T_cs[2:end-1, n], z_cs, linewidth=2,\n",
    "         xlim=(19, 20), ylim=(-100, 0), label=\"Data\",\n",
    "         xlabel=\"Temperature (C)\", ylabel=\"Depth (z)\",\n",
    "         title=\"Deepening mixed layer: $t_str days\",\n",
    "         legend=:bottomright, show=false)\n",
    "    plot!(nn_pred[2:end-1, n], z_cs, linewidth=2, label=\"Neural PDE\", show=false)\n",
    "end\n",
    "\n",
    "gif(anim, \"deepening_mixed_layer_neural_PDE.gif\", fps=15)"
   ]
  },
  {
   "cell_type": "code",
   "execution_count": null,
   "metadata": {},
   "outputs": [],
   "source": []
  }
 ],
 "metadata": {
  "kernelspec": {
   "display_name": "Julia 1.3.0",
   "language": "julia",
   "name": "julia-1.3"
  },
  "language_info": {
   "file_extension": ".jl",
   "mimetype": "application/julia",
   "name": "julia",
   "version": "1.3.0"
  }
 },
 "nbformat": 4,
 "nbformat_minor": 4
}
