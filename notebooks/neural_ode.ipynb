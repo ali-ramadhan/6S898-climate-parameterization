{
 "cells": [
  {
   "cell_type": "code",
   "execution_count": 1,
   "metadata": {},
   "outputs": [],
   "source": [
    "#IJulia.load(\"../neural_odes/neural_ode.jl\")"
   ]
  },
  {
   "cell_type": "code",
   "execution_count": 2,
   "metadata": {},
   "outputs": [
    {
     "data": {
      "text/plain": [
       "2×30 Array{Float32,2}:\n",
       " 2.0  1.9465    1.74178  1.23837  0.577126  …  1.40688   1.37022   1.29214 \n",
       " 0.0  0.798831  1.46473  1.80877  1.86465      0.451381  0.728698  0.972098"
      ]
     },
     "execution_count": 2,
     "metadata": {},
     "output_type": "execute_result"
    }
   ],
   "source": [
    "using Flux, DiffEqFlux, DifferentialEquations, Plots\n",
    "\n",
    "u0 = Float32[2.0; 0.0]\n",
    "datasize = 30\n",
    "tspan = (0.0f0, 1.5f0)\n",
    "\n",
    "function trueODEfunc(du, u, p, t)\n",
    "    true_A = [-0.1 2.0; -2.0 -0.1]\n",
    "    du .= ((u.^3)'true_A)'\n",
    "end\n",
    "\n",
    "t = range(tspan[1], tspan[2], length=datasize)\n",
    "prob = ODEProblem(trueODEfunc, u0, tspan)\n",
    "ode_data = Array(solve(prob, Tsit5(), saveat=t))"
   ]
  },
  {
   "cell_type": "code",
   "execution_count": null,
   "metadata": {},
   "outputs": [],
   "source": [
    "dudt = Chain(x -> x.^3,\n",
    "             Dense(2, 50, tanh),\n",
    "             Dense(50, 2))\n",
    "\n",
    "ps = Flux.params(dudt)\n",
    "n_ode = x -> neural_ode(dudt, x, tspan, Tsit5(), saveat=t, reltol=1e-7, abstol=1e-9)\n",
    "\n",
    "pred = n_ode(u0) # Get the prediction using the correct initial condition\n",
    "scatter(t, ode_data[1,:], label=\"data\")\n",
    "scatter!(t, Flux.data(pred[1,:]), label=\"prediction\")\n",
    "\n",
    "function predict_n_ode()\n",
    "  n_ode(u0)\n",
    "end\n",
    "\n",
    "loss_n_ode() = sum(abs2,ode_data .- predict_n_ode())\n",
    "\n",
    "data = Iterators.repeated((), 1000)\n",
    "opt = ADAM(0.1)\n",
    "\n",
    "cb = function ()  # callback function to observe training\n",
    "  display(loss_n_ode())\n",
    "\n",
    "  # plot current prediction against data\n",
    "  cur_pred = Flux.data(predict_n_ode())\n",
    "  pl = scatter(t,ode_data[1,:],label=\"data\")\n",
    "  scatter!(pl,t,cur_pred[1,:],label=\"prediction\")\n",
    "  display(plot(pl))\n",
    "end\n",
    "\n",
    "# Display the ODE with the initial parameter values.\n",
    "cb()\n",
    "\n",
    "Flux.train!(loss_n_ode, ps, data, opt, cb = cb)"
   ]
  },
  {
   "cell_type": "code",
   "execution_count": null,
   "metadata": {},
   "outputs": [],
   "source": []
  }
 ],
 "metadata": {
  "kernelspec": {
   "display_name": "Julia 1.2.0",
   "language": "julia",
   "name": "julia-1.2"
  },
  "language_info": {
   "file_extension": ".jl",
   "mimetype": "application/julia",
   "name": "julia",
   "version": "1.2.0"
  }
 },
 "nbformat": 4,
 "nbformat_minor": 2
}
