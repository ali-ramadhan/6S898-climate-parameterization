{
 "cells": [
  {
   "cell_type": "code",
   "execution_count": 84,
   "metadata": {},
   "outputs": [],
   "source": [
    "using Printf\n",
    "using Statistics\n",
    "\n",
    "using Flux\n",
    "using DifferentialEquations\n",
    "using DiffEqFlux\n",
    "\n",
    "using JLD2\n",
    "using Plots"
   ]
  },
  {
   "cell_type": "code",
   "execution_count": 176,
   "metadata": {},
   "outputs": [],
   "source": [
    "file = jldopen(\"/home/gridsan/aramadhan/ocean_convection_profiles.jld2\");"
   ]
  },
  {
   "cell_type": "code",
   "execution_count": 177,
   "metadata": {},
   "outputs": [],
   "source": [
    "Is = keys(file[\"timeseries/t\"])\n",
    "\n",
    "Nz = file[\"grid/Nz\"]\n",
    "Nt = length(Is)\n",
    "\n",
    "t = zeros(Nt)\n",
    "T = T_data = zeros(Nt, Nz)\n",
    "\n",
    "for (i, I) in enumerate(Is)\n",
    "    t[i] = file[\"timeseries/t/$I\"]\n",
    "    T[i, :] = file[\"timeseries/T/$I\"][1, 1, 2:Nz+1]\n",
    "end"
   ]
  },
  {
   "cell_type": "code",
   "execution_count": 179,
   "metadata": {},
   "outputs": [
    {
     "data": {
      "text/html": [
       "<img src=\"tmp.gif\" />"
      ],
      "text/plain": [
       "Plots.AnimatedGif(\"/home/gridsan/aramadhan/6S898-climate-parameterization/notebooks/tmp.gif\")"
      ]
     },
     "metadata": {},
     "output_type": "display_data"
    },
    {
     "name": "stderr",
     "output_type": "stream",
     "text": [
      "┌ Info: Saved animation to \n",
      "│   fn = /home/gridsan/aramadhan/6S898-climate-parameterization/notebooks/tmp.gif\n",
      "└ @ Plots /home/gridsan/aramadhan/.julia/packages/Plots/Iuc9S/src/animation.jl:95\n"
     ]
    }
   ],
   "source": [
    "z = file[\"grid/zC\"]\n",
    "\n",
    "anim = @gif for n=1:Nt\n",
    "    t_str = @sprintf(\"%.2f\", t[n] / 86400)\n",
    "    plot(T[n, :], z, linewidth=2,\n",
    "         xlim=(19, 20), ylim=(-100, 0), label=\"\",\n",
    "         xlabel=\"Temperature (C)\", ylabel=\"Depth (z)\",\n",
    "         title=\"Free convection: $t_str days\", show=false)\n",
    "end\n",
    "\n",
    "display(anim)"
   ]
  },
  {
   "cell_type": "code",
   "execution_count": 180,
   "metadata": {},
   "outputs": [
    {
     "data": {
      "text/plain": [
       "coarse_grain (generic function with 1 method)"
      ]
     },
     "execution_count": 180,
     "metadata": {},
     "output_type": "execute_result"
    }
   ],
   "source": [
    "function coarse_grain(data, resolution)\n",
    "    @assert length(data) % resolution == 0\n",
    "    s = length(data) / resolution\n",
    "    \n",
    "    data_cs = zeros(resolution)\n",
    "    for i in 1:resolution\n",
    "        t = data[Int((i-1)*s+1):Int(i*s)]\n",
    "        data_cs[i] = mean(t)\n",
    "    end\n",
    "    \n",
    "    return data_cs\n",
    "end"
   ]
  },
  {
   "cell_type": "code",
   "execution_count": 210,
   "metadata": {},
   "outputs": [],
   "source": [
    "coarse_resolution = cr = 32\n",
    "T_cs = zeros(Nt, coarse_resolution)\n",
    "for n=1:Nt\n",
    "    T_cs[n, :] = coarse_grain(T[n, :], coarse_resolution)\n",
    "end\n",
    "\n",
    "T_cs = transpose(T_cs) |> Array;"
   ]
  },
  {
   "cell_type": "code",
   "execution_count": 211,
   "metadata": {},
   "outputs": [
    {
     "data": {
      "text/plain": [
       "#67 (generic function with 1 method)"
      ]
     },
     "execution_count": 211,
     "metadata": {},
     "output_type": "execute_result"
    }
   ],
   "source": [
    "dTdt_NN = Chain(Dense(cr, 2cr, tanh),\n",
    "             Dense(2cr, cr))\n",
    "\n",
    "ps = Flux.params(dTdt_NN)\n",
    "\n",
    "n_subset = round(Int, Nt/2)\n",
    "t_subset = t[1:n_subset] ./ 86400\n",
    "tspan = (t[1], t_subset[end])\n",
    "neural_pde_prediction = T₀ -> neural_ode(dTdt_NN, T₀, tspan, Tsit5(), saveat=t_subset, reltol=1e-7, abstol=1e-9)"
   ]
  },
  {
   "cell_type": "code",
   "execution_count": 212,
   "metadata": {},
   "outputs": [
    {
     "data": {
      "text/plain": [
       "loss_function (generic function with 1 method)"
      ]
     },
     "execution_count": 212,
     "metadata": {},
     "output_type": "execute_result"
    }
   ],
   "source": [
    "data = Iterators.repeated((), 1000)\n",
    "opt = ADAM(0.1)\n",
    "\n",
    "loss_function() = sum(abs2, T_cs[:, 1:n_subset] .- neural_pde_prediction(T₀))"
   ]
  },
  {
   "cell_type": "code",
   "execution_count": 213,
   "metadata": {},
   "outputs": [
    {
     "data": {
      "text/plain": [
       "#69 (generic function with 1 method)"
      ]
     },
     "execution_count": 213,
     "metadata": {},
     "output_type": "execute_result"
    }
   ],
   "source": [
    "# Callback function to observe training.\n",
    "cb = function ()\n",
    "    loss = loss_function()\n",
    "    println(\"loss = $loss\")\n",
    "    loss < 1 && Flux.stop()\n",
    "end"
   ]
  },
  {
   "cell_type": "code",
   "execution_count": 214,
   "metadata": {},
   "outputs": [
    {
     "name": "stdout",
     "output_type": "stream",
     "text": [
      "loss = 2706.062446357436 (tracked)\n",
      "loss = 1863.1633467202562 (tracked)\n",
      "loss = 1874.8052247614066 (tracked)\n",
      "loss = 1202.1088080301847 (tracked)\n",
      "loss = 1031.3071229922414 (tracked)\n",
      "loss = 899.2494160246133 (tracked)\n",
      "loss = 883.4858394121286 (tracked)\n",
      "loss = 818.7412086991643 (tracked)\n",
      "loss = 615.3740432987674 (tracked)\n",
      "loss = 488.32069426488954 (tracked)\n",
      "loss = 510.75277191941296 (tracked)\n",
      "loss = 546.4132893686234 (tracked)\n",
      "loss = 440.36415616240976 (tracked)\n",
      "loss = 319.13154066725747 (tracked)\n",
      "loss = 299.75532367359057 (tracked)\n",
      "loss = 334.4120427365194 (tracked)\n",
      "loss = 300.9550825976251 (tracked)\n",
      "loss = 242.0129499731759 (tracked)\n",
      "loss = 212.84985526778138 (tracked)\n",
      "loss = 198.35093825480388 (tracked)\n",
      "loss = 177.7582885116287 (tracked)\n",
      "loss = 172.46137484756642 (tracked)\n",
      "loss = 172.57270369640378 (tracked)\n",
      "loss = 134.6569214197189 (tracked)\n",
      "loss = 96.90622106546068 (tracked)\n",
      "loss = 109.56138860822719 (tracked)\n",
      "loss = 131.28849376146394 (tracked)\n",
      "loss = 100.74868996784267 (tracked)\n",
      "loss = 61.62036392709226 (tracked)\n",
      "loss = 66.6564785610203 (tracked)\n",
      "loss = 87.59244042558998 (tracked)\n",
      "loss = 74.85520460603797 (tracked)\n",
      "loss = 47.479483846940994 (tracked)\n",
      "loss = 43.07471721386507 (tracked)\n",
      "loss = 53.97157511552494 (tracked)\n",
      "loss = 53.09621500917971 (tracked)\n",
      "loss = 37.39257645843695 (tracked)\n",
      "loss = 30.612364509468684 (tracked)\n",
      "loss = 34.44506154897819 (tracked)\n",
      "loss = 34.95177572502671 (tracked)\n",
      "loss = 28.831239497026942 (tracked)\n",
      "loss = 22.705786698621328 (tracked)\n",
      "loss = 23.690270560806862 (tracked)\n",
      "loss = 23.468096055797755 (tracked)\n",
      "loss = 19.144107569060473 (tracked)\n",
      "loss = 19.152506809564688 (tracked)\n",
      "loss = 17.72181115079866 (tracked)\n",
      "loss = 13.5083418015459 (tracked)\n",
      "loss = 14.55717353096359 (tracked)\n",
      "loss = 16.609220789321427 (tracked)\n",
      "loss = 11.377617249203078 (tracked)\n",
      "loss = 8.535192089561443 (tracked)\n",
      "loss = 13.236159958867795 (tracked)\n",
      "loss = 11.969113974261436 (tracked)\n",
      "loss = 6.850920686654893 (tracked)\n",
      "loss = 8.4086496357556 (tracked)\n",
      "loss = 10.278751294901316 (tracked)\n",
      "loss = 7.603986249811585 (tracked)\n",
      "loss = 6.330208125086325 (tracked)\n",
      "loss = 7.482390363308546 (tracked)\n",
      "loss = 7.002764925570913 (tracked)\n",
      "loss = 6.153984390873797 (tracked)\n",
      "loss = 5.9839573396284464 (tracked)\n",
      "loss = 5.683047737253629 (tracked)\n",
      "loss = 5.664837121429807 (tracked)\n",
      "loss = 5.353658458804252 (tracked)\n",
      "loss = 5.135891428190828 (tracked)\n",
      "loss = 4.768519553138464 (tracked)\n",
      "loss = 4.792397980720454 (tracked)\n",
      "loss = 4.864687175215037 (tracked)\n",
      "loss = 4.4244666089945435 (tracked)\n",
      "loss = 4.0877456714918425 (tracked)\n",
      "loss = 4.5367394233801335 (tracked)\n",
      "loss = 4.306009321128625 (tracked)\n",
      "loss = 3.7721074994060944 (tracked)\n",
      "loss = 4.0577862264739775 (tracked)\n",
      "loss = 4.144154877930215 (tracked)\n",
      "loss = 3.719216677352373 (tracked)\n",
      "loss = 3.7371895276564464 (tracked)\n",
      "loss = 3.865708064005052 (tracked)\n",
      "loss = 3.698762248558081 (tracked)\n",
      "loss = 3.6105165452572896 (tracked)\n",
      "loss = 3.61929487499724 (tracked)\n",
      "loss = 3.623660365805071 (tracked)\n",
      "loss = 3.532887005706371 (tracked)\n",
      "loss = 3.517780724011115 (tracked)\n",
      "loss = 3.4937810021340643 (tracked)\n",
      "loss = 3.4713288344464175 (tracked)\n",
      "loss = 3.472741565285377 (tracked)\n",
      "loss = 3.407767225460737 (tracked)\n",
      "loss = 3.394387030368136 (tracked)\n",
      "loss = 3.4460809528913767 (tracked)\n",
      "loss = 3.3549846055369024 (tracked)\n",
      "loss = 3.3478449883011034 (tracked)\n",
      "loss = 3.3931725678584512 (tracked)\n",
      "loss = 3.338606958479563 (tracked)\n",
      "loss = 3.31706685086632 (tracked)\n",
      "loss = 3.343730058071004 (tracked)\n",
      "loss = 3.3245759832541406 (tracked)\n",
      "loss = 3.302656358189654 (tracked)\n",
      "loss = 3.3066106582331756 (tracked)\n",
      "loss = 3.3085778699719484 (tracked)\n",
      "loss = 3.292341919733374 (tracked)\n",
      "loss = 3.286673776488322 (tracked)\n",
      "loss = 3.290858157555963 (tracked)\n",
      "loss = 3.2824735985939815 (tracked)\n",
      "loss = 3.2785583497461164 (tracked)\n",
      "loss = 3.2736452662620543 (tracked)\n",
      "loss = 3.2762928178834616 (tracked)\n",
      "loss = 3.27057878847941 (tracked)\n",
      "loss = 3.2652902555038614 (tracked)\n"
     ]
    },
    {
     "ename": "InterruptException",
     "evalue": "InterruptException:",
     "output_type": "error",
     "traceback": [
      "InterruptException:",
      "",
      "Stacktrace:",
      " [1] gradient_(::getfield(Flux.Optimise, Symbol(\"##15#21\")){typeof(loss_function),Tuple{}}, ::Tracker.Params) at /home/gridsan/aramadhan/.julia/packages/Tracker/JhqMQ/src/back.jl:7",
      " [2] #gradient#24(::Bool, ::Function, ::Function, ::Tracker.Params) at /home/gridsan/aramadhan/.julia/packages/Tracker/JhqMQ/src/back.jl:164",
      " [3] gradient at /home/gridsan/aramadhan/.julia/packages/Tracker/JhqMQ/src/back.jl:164 [inlined]",
      " [4] macro expansion at /home/gridsan/aramadhan/.julia/packages/Flux/dkJUV/src/optimise/train.jl:71 [inlined]",
      " [5] macro expansion at /home/gridsan/aramadhan/.julia/packages/Juno/oLB1d/src/progress.jl:134 [inlined]",
      " [6] #train!#12(::getfield(Main, Symbol(\"##69#70\")), ::Function, ::Function, ::Tracker.Params, ::Base.Iterators.Take{Base.Iterators.Repeated{Tuple{}}}, ::ADAM) at /home/gridsan/aramadhan/.julia/packages/Flux/dkJUV/src/optimise/train.jl:69",
      " [7] (::getfield(Flux.Optimise, Symbol(\"#kw##train!\")))(::NamedTuple{(:cb,),Tuple{getfield(Main, Symbol(\"##69#70\"))}}, ::typeof(Flux.Optimise.train!), ::Function, ::Tracker.Params, ::Base.Iterators.Take{Base.Iterators.Repeated{Tuple{}}}, ::ADAM) at ./none:0",
      " [8] top-level scope at In[214]:1"
     ]
    }
   ],
   "source": [
    "Flux.train!(loss_function, ps, data, opt, cb = cb)"
   ]
  },
  {
   "cell_type": "code",
   "execution_count": 215,
   "metadata": {},
   "outputs": [
    {
     "name": "stderr",
     "output_type": "stream",
     "text": [
      "┌ Info: Saved animation to \n",
      "│   fn = /home/gridsan/aramadhan/6S898-climate-parameterization/notebooks/tmp.gif\n",
      "└ @ Plots /home/gridsan/aramadhan/.julia/packages/Plots/Iuc9S/src/animation.jl:95\n"
     ]
    },
    {
     "data": {
      "text/html": [
       "<img src=\"tmp.gif\" />"
      ],
      "text/plain": [
       "Plots.AnimatedGif(\"/home/gridsan/aramadhan/6S898-climate-parameterization/notebooks/tmp.gif\")"
      ]
     },
     "execution_count": 215,
     "metadata": {},
     "output_type": "execute_result"
    }
   ],
   "source": [
    "tspan = (t[1], t[end]) ./ 86400\n",
    "nn_pred = neural_ode(dTdt_NN, T₀, tspan, Tsit5(), saveat=t ./86400, reltol=1e-7, abstol=1e-9) |> Flux.data\n",
    "\n",
    "z_cs = coarse_grain(z, cr)\n",
    "\n",
    "anim = @gif for n=1:Nt\n",
    "    t_str = @sprintf(\"%.2f\", t[n] / 86400)\n",
    "    plot(T_cs[:, n], z_cs, linewidth=2,\n",
    "         xlim=(19, 20), ylim=(-100, 0), label=\"Data\",\n",
    "         xlabel=\"Temperature (C)\", ylabel=\"Depth (z)\",\n",
    "         title=\"Free convection: $t_str days\",\n",
    "         legend=:bottomright, show=false)\n",
    "    if n <= n_subset\n",
    "        plot!(nn_pred[:, n], z_cs, linewidth=2, label=\"Neural ODE\", show=false)\n",
    "    else\n",
    "        plot!(nn_pred[:, n], z_cs, linewidth=2, linestyle=:dash, label=\"Neural ODE\", show=false)\n",
    "    end\n",
    "end"
   ]
  },
  {
   "cell_type": "code",
   "execution_count": null,
   "metadata": {},
   "outputs": [],
   "source": []
  }
 ],
 "metadata": {
  "kernelspec": {
   "display_name": "Julia latest",
   "language": "julia",
   "name": "julia-latest"
  },
  "language_info": {
   "file_extension": ".jl",
   "mimetype": "application/julia",
   "name": "julia",
   "version": "1.1.1"
  }
 },
 "nbformat": 4,
 "nbformat_minor": 2
}
