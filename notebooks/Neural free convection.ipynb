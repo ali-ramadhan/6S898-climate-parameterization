{
 "cells": [
  {
   "cell_type": "code",
   "execution_count": 1,
   "metadata": {},
   "outputs": [],
   "source": [
    "using Printf\n",
    "using Statistics\n",
    "\n",
    "using Flux\n",
    "using DifferentialEquations\n",
    "using DiffEqFlux\n",
    "\n",
    "using JLD2\n",
    "using Plots"
   ]
  },
  {
   "cell_type": "code",
   "execution_count": 2,
   "metadata": {},
   "outputs": [],
   "source": [
    "file = jldopen(\"/home/gridsan/aramadhan/ocean_convection_profiles.jld2\");"
   ]
  },
  {
   "cell_type": "code",
   "execution_count": 3,
   "metadata": {},
   "outputs": [],
   "source": [
    "Is = keys(file[\"timeseries/t\"])\n",
    "\n",
    "Nz = file[\"grid/Nz\"]\n",
    "Nt = length(Is)\n",
    "\n",
    "t = zeros(Nt)\n",
    "T = T_data = zeros(Nt, Nz)\n",
    "\n",
    "for (i, I) in enumerate(Is)\n",
    "    t[i] = file[\"timeseries/t/$I\"]\n",
    "    T[i, :] = file[\"timeseries/T/$I\"][1, 1, 2:Nz+1]\n",
    "end"
   ]
  },
  {
   "cell_type": "code",
   "execution_count": 4,
   "metadata": {},
   "outputs": [
    {
     "data": {
      "text/html": [
       "<img src=\"tmp.gif\" />"
      ],
      "text/plain": [
       "Plots.AnimatedGif(\"/home/gridsan/aramadhan/6S898-climate-parameterization/notebooks/tmp.gif\")"
      ]
     },
     "metadata": {},
     "output_type": "display_data"
    },
    {
     "name": "stderr",
     "output_type": "stream",
     "text": [
      "┌ Info: Saved animation to \n",
      "│   fn = /home/gridsan/aramadhan/6S898-climate-parameterization/notebooks/tmp.gif\n",
      "└ @ Plots /home/gridsan/aramadhan/.julia/packages/Plots/Iuc9S/src/animation.jl:95\n"
     ]
    }
   ],
   "source": [
    "z = file[\"grid/zC\"]\n",
    "\n",
    "anim = @gif for n=1:Nt\n",
    "    t_str = @sprintf(\"%.2f\", t[n] / 86400)\n",
    "    plot(T[n, :], z, linewidth=2,\n",
    "         xlim=(19, 20), ylim=(-100, 0), label=\"\",\n",
    "         xlabel=\"Temperature (C)\", ylabel=\"Depth (z)\",\n",
    "         title=\"Free convection: $t_str days\", show=false)\n",
    "end\n",
    "\n",
    "display(anim)"
   ]
  },
  {
   "cell_type": "code",
   "execution_count": 5,
   "metadata": {},
   "outputs": [
    {
     "data": {
      "text/plain": [
       "coarse_grain (generic function with 1 method)"
      ]
     },
     "execution_count": 5,
     "metadata": {},
     "output_type": "execute_result"
    }
   ],
   "source": [
    "function coarse_grain(data, resolution)\n",
    "    @assert length(data) % resolution == 0\n",
    "    s = length(data) / resolution\n",
    "    \n",
    "    data_cs = zeros(resolution)\n",
    "    for i in 1:resolution\n",
    "        t = data[Int((i-1)*s+1):Int(i*s)]\n",
    "        data_cs[i] = mean(t)\n",
    "    end\n",
    "    \n",
    "    return data_cs\n",
    "end"
   ]
  },
  {
   "cell_type": "code",
   "execution_count": 6,
   "metadata": {},
   "outputs": [],
   "source": [
    "coarse_resolution = cr = 32\n",
    "T_cs = zeros(Nt, coarse_resolution)\n",
    "for n=1:Nt\n",
    "    T_cs[n, :] = coarse_grain(T[n, :], coarse_resolution)\n",
    "end\n",
    "\n",
    "T_cs = transpose(T_cs) |> Array;"
   ]
  },
  {
   "cell_type": "code",
   "execution_count": 7,
   "metadata": {},
   "outputs": [
    {
     "data": {
      "text/plain": [
       "#3 (generic function with 1 method)"
      ]
     },
     "execution_count": 7,
     "metadata": {},
     "output_type": "execute_result"
    }
   ],
   "source": [
    "dTdt_NN = Chain(Dense(cr, 2cr, tanh),\n",
    "             Dense(2cr, cr))\n",
    "\n",
    "ps = Flux.params(dTdt_NN)\n",
    "\n",
    "# n_subset = round(Int, Nt/2)\n",
    "# t_subset = t[6:n_subset] ./ 86400\n",
    "# tspan = (t_subset[1], t_subset[end])\n",
    "# neural_pde_prediction = T₀ -> neural_ode(dTdt_NN, T₀, tspan, Tsit5(), saveat=t_subset, reltol=1e-7, abstol=1e-9)\n",
    "\n",
    "T₀ = T_cs[:, 1]\n",
    "n_train = round(Int, Nt/2)\n",
    "t_train = t[1:n_train] ./ 86400\n",
    "tspan_train = (t_train[1], t_train[end])\n",
    "neural_pde_prediction = T₀ -> neural_ode(dTdt_NN, T₀, tspan_train, Tsit5(), saveat=t_train, reltol=1e-7, abstol=1e-9)"
   ]
  },
  {
   "cell_type": "code",
   "execution_count": 8,
   "metadata": {},
   "outputs": [
    {
     "data": {
      "text/plain": [
       "loss_function (generic function with 1 method)"
      ]
     },
     "execution_count": 8,
     "metadata": {},
     "output_type": "execute_result"
    }
   ],
   "source": [
    "data = Iterators.repeated((), 1000)\n",
    "opt = ADAM(0.1)\n",
    "\n",
    "loss_function() = sum(abs2, T_cs[:, 1:n_train] .- neural_pde_prediction(T₀))"
   ]
  },
  {
   "cell_type": "code",
   "execution_count": 9,
   "metadata": {},
   "outputs": [
    {
     "data": {
      "text/plain": [
       "#5 (generic function with 1 method)"
      ]
     },
     "execution_count": 9,
     "metadata": {},
     "output_type": "execute_result"
    }
   ],
   "source": [
    "# Callback function to observe training.\n",
    "cb = function ()\n",
    "    loss = loss_function()\n",
    "    println(\"loss = $loss\")\n",
    "    loss < 500 && Flux.stop()\n",
    "end"
   ]
  },
  {
   "cell_type": "code",
   "execution_count": 10,
   "metadata": {},
   "outputs": [
    {
     "name": "stdout",
     "output_type": "stream",
     "text": [
      "loss = 679988.9808831854 (tracked)\n",
      "loss = 513885.556727988 (tracked)\n",
      "loss = 205270.06166129094 (tracked)\n",
      "loss = 195461.9027166017 (tracked)\n",
      "loss = 210649.71658004256 (tracked)\n",
      "loss = 110673.94389786883 (tracked)\n",
      "loss = 93012.42439102547 (tracked)\n",
      "loss = 99172.39695962367 (tracked)\n",
      "loss = 95073.65019254299 (tracked)\n",
      "loss = 75136.38505421471 (tracked)\n",
      "loss = 55971.448537842145 (tracked)\n",
      "loss = 57039.38978936615 (tracked)\n",
      "loss = 64298.248046931796 (tracked)\n",
      "loss = 51644.37034981651 (tracked)\n",
      "loss = 33937.94493673736 (tracked)\n",
      "loss = 37059.70172364954 (tracked)\n",
      "loss = 43706.57975807752 (tracked)\n",
      "loss = 33054.74965167249 (tracked)\n",
      "loss = 22389.15239496138 (tracked)\n",
      "loss = 26066.405687523544 (tracked)\n",
      "loss = 28658.32782595946 (tracked)\n",
      "loss = 21237.677016090012 (tracked)\n",
      "loss = 15876.013731373678 (tracked)\n",
      "loss = 17564.955276368873 (tracked)\n",
      "loss = 18365.835083502276 (tracked)\n",
      "loss = 14898.858847902591 (tracked)\n",
      "loss = 11377.12166946548 (tracked)\n",
      "loss = 10896.525798237057 (tracked)\n",
      "loss = 11934.0795666561 (tracked)\n",
      "loss = 10960.63757816376 (tracked)\n",
      "loss = 7899.433744733297 (tracked)\n",
      "loss = 6653.955097911605 (tracked)\n",
      "loss = 7971.785721156305 (tracked)\n",
      "loss = 7804.32461213499 (tracked)\n",
      "loss = 5298.168113998502 (tracked)\n",
      "loss = 4377.730808114981 (tracked)\n",
      "loss = 5468.7391183464715 (tracked)\n",
      "loss = 5082.929656174514 (tracked)\n",
      "loss = 3538.2785263379083 (tracked)\n",
      "loss = 3350.295609417361 (tracked)\n",
      "loss = 3534.9973408117885 (tracked)\n",
      "loss = 3006.2110936952286 (tracked)\n",
      "loss = 2754.855914486752 (tracked)\n",
      "loss = 2473.8083693467765 (tracked)\n",
      "loss = 1953.4895826909517 (tracked)\n",
      "loss = 2106.5312375850767 (tracked)\n",
      "loss = 2102.4600272518096 (tracked)\n",
      "loss = 1436.5834227656553 (tracked)\n",
      "loss = 1359.5586538665284 (tracked)\n",
      "loss = 1534.5215650716973 (tracked)\n",
      "loss = 1232.5100836119764 (tracked)\n",
      "loss = 1082.9723573385202 (tracked)\n",
      "loss = 971.642939240709 (tracked)\n",
      "loss = 847.6113294963725 (tracked)\n",
      "loss = 983.1286062404171 (tracked)\n",
      "loss = 735.8578721440306 (tracked)\n",
      "loss = 495.7560340004838 (tracked)\n"
     ]
    }
   ],
   "source": [
    "Flux.train!(loss_function, ps, data, opt, cb = cb)"
   ]
  },
  {
   "cell_type": "code",
   "execution_count": 11,
   "metadata": {},
   "outputs": [
    {
     "ename": "UndefVarError",
     "evalue": "UndefVarError: n_subset not defined",
     "output_type": "error",
     "traceback": [
      "UndefVarError: n_subset not defined",
      "",
      "Stacktrace:",
      " [1] macro expansion at ./In[11]:13 [inlined]",
      " [2] macro expansion at /home/gridsan/aramadhan/.julia/packages/Plots/Iuc9S/src/animation.jl:169 [inlined]",
      " [3] top-level scope at ./In[11]:5"
     ]
    }
   ],
   "source": [
    "tspan = (t[1], t[end]) ./ 86400\n",
    "nn_pred = neural_ode(dTdt_NN, T₀, tspan, Tsit5(), saveat=t ./86400, reltol=1e-7, abstol=1e-9) |> Flux.data\n",
    "\n",
    "z_cs = coarse_grain(z, cr)\n",
    "\n",
    "anim = @gif for n=1:Nt\n",
    "    t_str = @sprintf(\"%.2f\", t[n] / 86400)\n",
    "    plot(T_cs[:, n], z_cs, linewidth=2,\n",
    "         xlim=(19, 20), ylim=(-100, 0), label=\"Data\",\n",
    "         xlabel=\"Temperature (C)\", ylabel=\"Depth (z)\",\n",
    "         title=\"Free convection: $t_str days\",\n",
    "         legend=:bottomright, show=false)\n",
    "    if n <= n_subset\n",
    "        plot!(nn_pred[:, n], z_cs, linewidth=2, label=\"Neural ODE (train)\", show=false)\n",
    "    else\n",
    "        plot!(nn_pred[:, n], z_cs, linewidth=2, linestyle=:dash, label=\"Neural ODE (test)\", show=false)\n",
    "    end\n",
    "end"
   ]
  },
  {
   "cell_type": "code",
   "execution_count": null,
   "metadata": {},
   "outputs": [],
   "source": []
  }
 ],
 "metadata": {
  "kernelspec": {
   "display_name": "Julia latest",
   "language": "julia",
   "name": "julia-latest"
  },
  "language_info": {
   "file_extension": ".jl",
   "mimetype": "application/julia",
   "name": "julia",
   "version": "1.1.1"
  }
 },
 "nbformat": 4,
 "nbformat_minor": 2
}
