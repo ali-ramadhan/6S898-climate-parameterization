{
 "cells": [
  {
   "cell_type": "code",
   "execution_count": 5,
   "metadata": {},
   "outputs": [
    {
     "name": "stdout",
     "output_type": "stream",
     "text": [
      "\u001b[36m\u001b[1mProject \u001b[22m\u001b[39mClimateParameterization v0.1.0\n",
      "\u001b[32m\u001b[1m    Status\u001b[22m\u001b[39m `~/6S898-climate-parameterization/Project.toml`\n",
      " \u001b[90m [aae7a2af]\u001b[39m\u001b[37m DiffEqFlux v0.7.0\u001b[39m\n",
      " \u001b[90m [0c46a032]\u001b[39m\u001b[37m DifferentialEquations v6.8.0\u001b[39m\n",
      " \u001b[90m [587475ba]\u001b[39m\u001b[37m Flux v0.9.0\u001b[39m\n",
      " \u001b[90m [033835bb]\u001b[39m\u001b[37m JLD2 v0.1.3\u001b[39m\n",
      " \u001b[90m [9e8cae18]\u001b[39m\u001b[37m Oceananigans v0.14.1\u001b[39m\n",
      " \u001b[90m [91a5bcdd]\u001b[39m\u001b[37m Plots v0.27.0\u001b[39m\n"
     ]
    }
   ],
   "source": [
    "using Pkg\n",
    "pkg\"st\"\n",
    "pkg\"instantiate\""
   ]
  },
  {
   "cell_type": "code",
   "execution_count": 7,
   "metadata": {},
   "outputs": [],
   "source": [
    "using Printf\n",
    "using Statistics\n",
    "\n",
    "using Flux\n",
    "using DifferentialEquations\n",
    "using DiffEqFlux\n",
    "\n",
    "using JLD2\n",
    "using Plots"
   ]
  },
  {
   "cell_type": "code",
   "execution_count": 8,
   "metadata": {},
   "outputs": [],
   "source": [
    "file = jldopen(\"../data/ocean_convection_profiles.jld2\");"
   ]
  },
  {
   "cell_type": "code",
   "execution_count": 9,
   "metadata": {},
   "outputs": [],
   "source": [
    "Is = keys(file[\"timeseries/t\"])\n",
    "\n",
    "Nz = file[\"grid/Nz\"]\n",
    "Nt = length(Is)\n",
    "\n",
    "t = zeros(Nt)\n",
    "T = T_data = zeros(Nt, Nz)\n",
    "\n",
    "for (i, I) in enumerate(Is)\n",
    "    t[i] = file[\"timeseries/t/$I\"]\n",
    "    T[i, :] = file[\"timeseries/T/$I\"][1, 1, 2:Nz+1]\n",
    "end"
   ]
  },
  {
   "cell_type": "code",
   "execution_count": 18,
   "metadata": {},
   "outputs": [
    {
     "data": {
      "text/html": [
       "<img src=\"tmp.gif\" />"
      ],
      "text/plain": [
       "Plots.AnimatedGif(\"/home/alir/6S898-climate-parameterization/notebooks/tmp.gif\")"
      ]
     },
     "metadata": {},
     "output_type": "display_data"
    },
    {
     "name": "stderr",
     "output_type": "stream",
     "text": [
      "┌ Info: Saved animation to \n",
      "│   fn = /home/alir/6S898-climate-parameterization/notebooks/tmp.gif\n",
      "└ @ Plots /home/alir/.julia/packages/Plots/Iuc9S/src/animation.jl:95\n"
     ]
    }
   ],
   "source": [
    "z = file[\"grid/zC\"]\n",
    "\n",
    "anim = @gif for n=1:10:Nt\n",
    "    t_str = @sprintf(\"%.2f\", t[n] / 86400)\n",
    "    plot(T[n, :], z, linewidth=2,\n",
    "         xlim=(19, 20), ylim=(-100, 0), label=\"\",\n",
    "         xlabel=\"Temperature (C)\", ylabel=\"Depth (z)\",\n",
    "         title=\"Free convection: $t_str days\", show=false)\n",
    "end\n",
    "\n",
    "display(anim)"
   ]
  },
  {
   "cell_type": "code",
   "execution_count": 19,
   "metadata": {},
   "outputs": [
    {
     "data": {
      "text/plain": [
       "coarse_grain (generic function with 1 method)"
      ]
     },
     "execution_count": 19,
     "metadata": {},
     "output_type": "execute_result"
    }
   ],
   "source": [
    "function coarse_grain(data, resolution)\n",
    "    @assert length(data) % resolution == 0\n",
    "    s = length(data) / resolution\n",
    "    \n",
    "    data_cs = zeros(resolution)\n",
    "    for i in 1:resolution\n",
    "        t = data[Int((i-1)*s+1):Int(i*s)]\n",
    "        data_cs[i] = mean(t)\n",
    "    end\n",
    "    \n",
    "    return data_cs\n",
    "end"
   ]
  },
  {
   "cell_type": "code",
   "execution_count": 20,
   "metadata": {},
   "outputs": [],
   "source": [
    "coarse_resolution = cr = 32\n",
    "T_cs = zeros(Nt, coarse_resolution)\n",
    "for n=1:Nt\n",
    "    T_cs[n, :] = coarse_grain(T[n, :], coarse_resolution)\n",
    "end\n",
    "\n",
    "T_cs = transpose(T_cs) |> Array;"
   ]
  },
  {
   "cell_type": "code",
   "execution_count": 21,
   "metadata": {},
   "outputs": [
    {
     "data": {
      "text/plain": [
       "#7 (generic function with 1 method)"
      ]
     },
     "execution_count": 21,
     "metadata": {},
     "output_type": "execute_result"
    }
   ],
   "source": [
    "dTdt_NN = Chain(Dense(cr, 2cr, tanh),\n",
    "                Dense(2cr, cr))\n",
    "\n",
    "ps = Flux.params(dTdt_NN)\n",
    "\n",
    "T₀ = T_cs[:, 1]\n",
    "n_train = round(Int, Nt/2)\n",
    "t_train = t[1:n_train] ./ 86400\n",
    "tspan_train = (t_train[1], t_train[end])\n",
    "neural_pde_prediction = T₀ -> neural_ode(dTdt_NN, T₀, tspan_train, Tsit5(), saveat=t_train, reltol=1e-7, abstol=1e-9)"
   ]
  },
  {
   "cell_type": "code",
   "execution_count": 22,
   "metadata": {},
   "outputs": [
    {
     "data": {
      "text/plain": [
       "loss_function (generic function with 1 method)"
      ]
     },
     "execution_count": 22,
     "metadata": {},
     "output_type": "execute_result"
    }
   ],
   "source": [
    "data = Iterators.repeated((), 1000)\n",
    "opt = ADAM(0.1)\n",
    "\n",
    "loss_function() = sum(abs2, T_cs[:, 1:n_train] .- neural_pde_prediction(T₀))"
   ]
  },
  {
   "cell_type": "code",
   "execution_count": 35,
   "metadata": {},
   "outputs": [
    {
     "data": {
      "text/plain": [
       "#17 (generic function with 1 method)"
      ]
     },
     "execution_count": 35,
     "metadata": {},
     "output_type": "execute_result"
    }
   ],
   "source": [
    "# Callback function to observe training.\n",
    "cb = function ()\n",
    "    loss = loss_function()\n",
    "    println(\"loss = $loss\")\n",
    "    loss < 5 && Flux.stop()\n",
    "end"
   ]
  },
  {
   "cell_type": "code",
   "execution_count": 36,
   "metadata": {},
   "outputs": [
    {
     "name": "stdout",
     "output_type": "stream",
     "text": [
      "loss = 10.466750298014475 (tracked)\n",
      "loss = 9.460028443511291 (tracked)\n",
      "loss = 9.101091559783775 (tracked)\n",
      "loss = 8.786542533428557 (tracked)\n",
      "loss = 8.467523758659178 (tracked)\n",
      "loss = 8.42651734262251 (tracked)\n",
      "loss = 7.691266135421882 (tracked)\n",
      "loss = 7.708739061527556 (tracked)\n",
      "loss = 7.781001504802827 (tracked)\n",
      "loss = 7.026281444136295 (tracked)\n",
      "loss = 7.1946710118797865 (tracked)\n",
      "loss = 7.111724173159896 (tracked)\n",
      "loss = 6.708637722931412 (tracked)\n",
      "loss = 6.764039451760459 (tracked)\n",
      "loss = 6.5863768793894675 (tracked)\n",
      "loss = 6.525112712848079 (tracked)\n",
      "loss = 6.392718291377726 (tracked)\n",
      "loss = 6.271094376333861 (tracked)\n",
      "loss = 6.318695909266896 (tracked)\n",
      "loss = 6.149306210717498 (tracked)\n",
      "loss = 6.065484472347909 (tracked)\n",
      "loss = 6.113724328763357 (tracked)\n",
      "loss = 6.0125371248927575 (tracked)\n",
      "loss = 5.888194072623142 (tracked)\n",
      "loss = 5.994350040221017 (tracked)\n",
      "loss = 5.8591100833629195 (tracked)\n",
      "loss = 5.822981129311834 (tracked)\n",
      "loss = 5.850880308049506 (tracked)\n",
      "loss = 5.778584990001994 (tracked)\n",
      "loss = 5.765035617499395 (tracked)\n",
      "loss = 5.739516704523556 (tracked)\n",
      "loss = 5.736669697289599 (tracked)\n",
      "loss = 5.6966048767108 (tracked)\n",
      "loss = 5.686247124039882 (tracked)\n",
      "loss = 5.681314842384852 (tracked)\n",
      "loss = 5.663418239147738 (tracked)\n",
      "loss = 5.6346767740705275 (tracked)\n",
      "loss = 5.653393577271169 (tracked)\n",
      "loss = 5.623641997409981 (tracked)\n",
      "loss = 5.612501448070407 (tracked)\n",
      "loss = 5.620554423966661 (tracked)\n",
      "loss = 5.601517302800689 (tracked)\n",
      "loss = 5.592994708741717 (tracked)\n",
      "loss = 5.598057736466087 (tracked)\n",
      "loss = 5.583771734904458 (tracked)\n",
      "loss = 5.579798604421721 (tracked)\n",
      "loss = 5.581469262882431 (tracked)\n",
      "loss = 5.569218671106791 (tracked)\n",
      "loss = 5.573178009446194 (tracked)\n",
      "loss = 5.564911813009936 (tracked)\n",
      "loss = 5.563581748837798 (tracked)\n",
      "loss = 5.5638093400000965 (tracked)\n",
      "loss = 5.554977318105314 (tracked)\n",
      "loss = 5.560772745033711 (tracked)\n",
      "loss = 5.552075829238625 (tracked)\n",
      "loss = 5.554590072747883 (tracked)\n",
      "loss = 5.5516133302873225 (tracked)\n",
      "loss = 5.549278228297402 (tracked)\n",
      "loss = 5.550635515683393 (tracked)\n",
      "loss = 5.545923575509572 (tracked)\n",
      "loss = 5.548721528404932 (tracked)\n",
      "loss = 5.5444709339138925 (tracked)\n",
      "loss = 5.545618882613142 (tracked)\n",
      "loss = 5.544633901428197 (tracked)\n",
      "loss = 5.543050211506095 (tracked)\n",
      "loss = 5.543067518113125 (tracked)\n",
      "loss = 5.543078949413523 (tracked)\n",
      "loss = 5.541214017743558 (tracked)\n",
      "loss = 5.541731363727507 (tracked)\n"
     ]
    },
    {
     "ename": "InterruptException",
     "evalue": "InterruptException:",
     "output_type": "error",
     "traceback": [
      "InterruptException:",
      "",
      "Stacktrace:",
      " [1] gradient_(::Flux.Optimise.var\"#15#21\"{typeof(loss_function),Tuple{}}, ::Tracker.Params) at /home/alir/.julia/packages/Tracker/JhqMQ/src/back.jl:7",
      " [2] #gradient#24(::Bool, ::typeof(Tracker.gradient), ::Function, ::Tracker.Params) at /home/alir/.julia/packages/Tracker/JhqMQ/src/back.jl:164",
      " [3] gradient at /home/alir/.julia/packages/Tracker/JhqMQ/src/back.jl:164 [inlined]",
      " [4] macro expansion at /home/alir/.julia/packages/Flux/dkJUV/src/optimise/train.jl:71 [inlined]",
      " [5] macro expansion at /home/alir/.julia/packages/Juno/oLB1d/src/progress.jl:134 [inlined]",
      " [6] #train!#12(::var\"#17#18\", ::typeof(Flux.Optimise.train!), ::Function, ::Tracker.Params, ::Base.Iterators.Take{Base.Iterators.Repeated{Tuple{}}}, ::ADAM) at /home/alir/.julia/packages/Flux/dkJUV/src/optimise/train.jl:69",
      " [7] (::Flux.Optimise.var\"#kw##train!\")(::NamedTuple{(:cb,),Tuple{var\"#17#18\"}}, ::typeof(Flux.Optimise.train!), ::Function, ::Tracker.Params, ::Base.Iterators.Take{Base.Iterators.Repeated{Tuple{}}}, ::ADAM) at ./none:0",
      " [8] top-level scope at In[36]:1"
     ]
    }
   ],
   "source": [
    "Flux.train!(loss_function, ps, data, opt, cb = cb)"
   ]
  },
  {
   "cell_type": "code",
   "execution_count": 37,
   "metadata": {},
   "outputs": [
    {
     "name": "stderr",
     "output_type": "stream",
     "text": [
      "┌ Info: Saved animation to \n",
      "│   fn = /home/alir/6S898-climate-parameterization/notebooks/tmp.gif\n",
      "└ @ Plots /home/alir/.julia/packages/Plots/Iuc9S/src/animation.jl:95\n"
     ]
    },
    {
     "data": {
      "text/html": [
       "<img src=\"tmp.gif\" />"
      ],
      "text/plain": [
       "Plots.AnimatedGif(\"/home/alir/6S898-climate-parameterization/notebooks/tmp.gif\")"
      ]
     },
     "execution_count": 37,
     "metadata": {},
     "output_type": "execute_result"
    }
   ],
   "source": [
    "tspan = (t[1], t[end]) ./ 86400\n",
    "nn_pred = neural_ode(dTdt_NN, T₀, tspan, Tsit5(), saveat=t ./86400, reltol=1e-7, abstol=1e-9) |> Flux.data\n",
    "\n",
    "z_cs = coarse_grain(z, cr)\n",
    "\n",
    "anim = @gif for n=1:10:Nt\n",
    "    t_str = @sprintf(\"%.2f\", t[n] / 86400)\n",
    "    plot(T_cs[:, n], z_cs, linewidth=2,\n",
    "         xlim=(19, 20), ylim=(-100, 0), label=\"Data\",\n",
    "         xlabel=\"Temperature (C)\", ylabel=\"Depth (z)\",\n",
    "         title=\"Free convection: $t_str days\",\n",
    "         legend=:bottomright, show=false)\n",
    "    if n <= n_train\n",
    "        plot!(nn_pred[:, n], z_cs, linewidth=2, label=\"Neural ODE (train)\", show=false)\n",
    "    else\n",
    "        plot!(nn_pred[:, n], z_cs, linewidth=2, linestyle=:dash, label=\"Neural ODE (test)\", show=false)\n",
    "    end\n",
    "end"
   ]
  },
  {
   "cell_type": "code",
   "execution_count": null,
   "metadata": {},
   "outputs": [],
   "source": []
  }
 ],
 "metadata": {
  "kernelspec": {
   "display_name": "Julia 1.3.0",
   "language": "julia",
   "name": "julia-1.3"
  },
  "language_info": {
   "file_extension": ".jl",
   "mimetype": "application/julia",
   "name": "julia",
   "version": "1.3.0"
  }
 },
 "nbformat": 4,
 "nbformat_minor": 4
}
